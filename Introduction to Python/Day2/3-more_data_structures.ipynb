{
  "nbformat": 4,
  "nbformat_minor": 0,
  "metadata": {
    "celltoolbar": "Slideshow",
    "kernelspec": {
      "display_name": "Python 3",
      "language": "python",
      "name": "python3"
    },
    "language_info": {
      "codemirror_mode": {
        "name": "ipython",
        "version": 3
      },
      "file_extension": ".py",
      "mimetype": "text/x-python",
      "name": "python",
      "nbconvert_exporter": "python",
      "pygments_lexer": "ipython3",
      "version": "3.8.8"
    },
    "colab": {
      "name": "CwC-Intro2Python-1.5-more_data_structures.ipynb",
      "provenance": []
    }
  },
  "cells": [
    {
      "cell_type": "markdown",
      "metadata": {
        "id": "zpcQUHca_vjM"
      },
      "source": [
        "<p style=\"text-align: center;\"><font size=\"8\"><b>Section 1.5: More Data Structures</b></font><br>"
      ]
    },
    {
      "cell_type": "markdown",
      "metadata": {
        "id": "zy7YQ-jq_vjM"
      },
      "source": [
        "As we've discussed, Python Lists are ways to represent a collection of objects. *Data structure* is the generic term for such collections, of which Lists is an example. \n",
        "\n",
        "We will next look at different data structures, including the range object, tuples and dictionaries."
      ]
    },
    {
      "cell_type": "markdown",
      "metadata": {
        "id": "uQMz3RL8_vjM"
      },
      "source": [
        "# The Range Class\n",
        "\n",
        "Often we need a sequence of integers. Python has a built-in type called `range` to help construct such sequences. There are 3 different ways to construct one.  \n",
        "\n",
        "In Python 2,`range` is a function that returns a `list`. In Python 3 `range` is its own type, however you can convert it to a `list` if you like by passing it as an argument to the `list` constructor."
      ]
    },
    {
      "cell_type": "markdown",
      "metadata": {
        "id": "QxLrlqZ2_vjN"
      },
      "source": [
        "`range(stop)` constructs a sequence of integers starting at 0 and going up to but not including the integer represented by stop"
      ]
    },
    {
      "cell_type": "code",
      "metadata": {
        "id": "6KROLbIY_vjN",
        "outputId": "db235714-5570-4271-f41f-6b8f7a826987"
      },
      "source": [
        "range(5)"
      ],
      "execution_count": null,
      "outputs": [
        {
          "output_type": "execute_result",
          "data": {
            "text/plain": [
              "range(0, 5)"
            ]
          },
          "metadata": {
            "tags": []
          },
          "execution_count": 1
        }
      ]
    },
    {
      "cell_type": "code",
      "metadata": {
        "id": "h6_Gq49X_vjN",
        "outputId": "aa3c0122-9218-400a-aa40-c8a8faf3ecc4"
      },
      "source": [
        "list(range(5))"
      ],
      "execution_count": null,
      "outputs": [
        {
          "output_type": "execute_result",
          "data": {
            "text/plain": [
              "[0, 1, 2, 3, 4]"
            ]
          },
          "metadata": {
            "tags": []
          },
          "execution_count": 2
        }
      ]
    },
    {
      "cell_type": "markdown",
      "metadata": {
        "id": "FPL7e-R8_vjO"
      },
      "source": [
        "2 . `range(start, stop)` constructs a sequence of integers starting at \"start\" and going up to but not including \"stop\""
      ]
    },
    {
      "cell_type": "code",
      "metadata": {
        "id": "AoR_VjMQ_vjO",
        "outputId": "969e6b21-254e-454e-ff57-56435a2f2d94"
      },
      "source": [
        "range(5,8)"
      ],
      "execution_count": null,
      "outputs": [
        {
          "output_type": "execute_result",
          "data": {
            "text/plain": [
              "range(5, 8)"
            ]
          },
          "metadata": {
            "tags": []
          },
          "execution_count": 3
        }
      ]
    },
    {
      "cell_type": "code",
      "metadata": {
        "id": "mnzxn8nA_vjO",
        "outputId": "ad787e74-d7a2-4a8b-e4bb-3492caa30e48"
      },
      "source": [
        "list(range(5,8))"
      ],
      "execution_count": null,
      "outputs": [
        {
          "output_type": "execute_result",
          "data": {
            "text/plain": [
              "[5, 6, 7]"
            ]
          },
          "metadata": {
            "tags": []
          },
          "execution_count": 4
        }
      ]
    },
    {
      "cell_type": "markdown",
      "metadata": {
        "id": "PRxAL-ts_vjO"
      },
      "source": [
        "3 . `range(start, stop, step)` constructs a sequence of integers starting at \"start\" and advancing by \"step\" so long as it does not reach or pass \"stop\""
      ]
    },
    {
      "cell_type": "code",
      "metadata": {
        "id": "74AKJw_n_vjP",
        "outputId": "ed2c26d2-9ed5-4942-c592-0df2e436c2bd"
      },
      "source": [
        "range(5,10,2)"
      ],
      "execution_count": null,
      "outputs": [
        {
          "output_type": "execute_result",
          "data": {
            "text/plain": [
              "range(5, 10, 2)"
            ]
          },
          "metadata": {
            "tags": []
          },
          "execution_count": 5
        }
      ]
    },
    {
      "cell_type": "code",
      "metadata": {
        "id": "FyJB8Y2X_vjP",
        "outputId": "c0bf6bd8-1803-4e61-9394-6d5f8aed43b0"
      },
      "source": [
        "list(range(5,10,2))"
      ],
      "execution_count": null,
      "outputs": [
        {
          "output_type": "execute_result",
          "data": {
            "text/plain": [
              "[5, 7, 9]"
            ]
          },
          "metadata": {
            "tags": []
          },
          "execution_count": 6
        }
      ]
    },
    {
      "cell_type": "markdown",
      "metadata": {
        "id": "SsSN8Fv7_vjP"
      },
      "source": [
        "Note that \"step\" can be negative"
      ]
    },
    {
      "cell_type": "code",
      "metadata": {
        "id": "EwKcc01D_vjP",
        "outputId": "db906baa-f2b2-445f-cb98-1a983774b5cc"
      },
      "source": [
        "list(range(10,5,-1))\n"
      ],
      "execution_count": null,
      "outputs": [
        {
          "output_type": "execute_result",
          "data": {
            "text/plain": [
              "[10, 9, 8, 7, 6]"
            ]
          },
          "metadata": {
            "tags": []
          },
          "execution_count": 7
        }
      ]
    },
    {
      "cell_type": "markdown",
      "metadata": {
        "id": "yO6LmpaR_vjQ"
      },
      "source": [
        "## Exercise\n",
        "\n",
        "Construct and print a range of integers from 3 to 98, in steps of 5."
      ]
    },
    {
      "cell_type": "code",
      "metadata": {
        "id": "SHitPeaypdi9"
      },
      "source": [
        ""
      ],
      "execution_count": null,
      "outputs": []
    },
    {
      "cell_type": "markdown",
      "metadata": {
        "id": "s5ppebYS_vjQ"
      },
      "source": [
        "# Tuples\n",
        "\n",
        "Lists are a mutable collection of objects. A *tuple* is used to represent an immutable sequence of objects. Immutable objects can be stored more efficiently than mutable objects, however they are obviously more limited.\n",
        "\n",
        "The primary purpose of a tuple is to encapsulate multiple pieces of information into a single object. For example, it is common to represent colors by  3 separate values that describe the intesity of red, blue and green. We could store all this information separately, but a better way is to store this information as a single tuple."
      ]
    },
    {
      "cell_type": "code",
      "metadata": {
        "id": "JgjGn82d_vjQ",
        "outputId": "07db26b5-c4b5-4068-f6ed-3befd45faae4"
      },
      "source": [
        "skyBlue = tuple((136, 207, 236))\n",
        "type(skyBlue)"
      ],
      "execution_count": null,
      "outputs": [
        {
          "output_type": "execute_result",
          "data": {
            "text/plain": [
              "tuple"
            ]
          },
          "metadata": {
            "tags": []
          },
          "execution_count": 2
        }
      ]
    },
    {
      "cell_type": "markdown",
      "metadata": {
        "id": "m0y3eNZh_vjQ"
      },
      "source": [
        "As with lists, we can construct a tuple without using the tuple constructor."
      ]
    },
    {
      "cell_type": "code",
      "metadata": {
        "collapsed": true,
        "id": "sLgpiJ9w_vjQ"
      },
      "source": [
        "skyBlue = (136, 207, 236)"
      ],
      "execution_count": null,
      "outputs": []
    },
    {
      "cell_type": "markdown",
      "metadata": {
        "id": "9qnxyquS_vjR"
      },
      "source": [
        "Tuples support all of the nonmutating behaviors of lists, with the exception of `count` and `index`, and they *do* support indexing."
      ]
    },
    {
      "cell_type": "markdown",
      "metadata": {
        "id": "N2Nc3Gec_vjR"
      },
      "source": [
        "## Exercise\n",
        "\n",
        "Unpack the `skyBlue` tuple above. Store the first entry in a variable called `red`, the second in a variable called `green` and the third in a variable called `blue`."
      ]
    },
    {
      "cell_type": "code",
      "metadata": {
        "id": "ih7EUkmVp_eI"
      },
      "source": [
        ""
      ],
      "execution_count": null,
      "outputs": []
    },
    {
      "cell_type": "markdown",
      "metadata": {
        "id": "0QQ67d9C_vjR"
      },
      "source": [
        "Tuples can be concatenated with the \"+\" operator."
      ]
    },
    {
      "cell_type": "code",
      "metadata": {
        "id": "WxDTEIQe_vjR",
        "outputId": "bf17713c-5f4b-4e00-bc5c-1b5b199d49e4"
      },
      "source": [
        "tuple_1 = (\"hello\", \"hi\")\n",
        "tuple_2 = (0, 255, 0)\n",
        "\n",
        "print(tuple_1 + tuple_2)"
      ],
      "execution_count": null,
      "outputs": [
        {
          "output_type": "stream",
          "text": [
            "('hello', 'hi', 0, 255, 0)\n"
          ],
          "name": "stdout"
        }
      ]
    },
    {
      "cell_type": "markdown",
      "metadata": {
        "id": "sxCFG2fC_vjR"
      },
      "source": [
        "Tuples can also be converted to a list by passing them in to the `list` constructor."
      ]
    },
    {
      "cell_type": "code",
      "metadata": {
        "id": "sU4IDI0v_vjR",
        "outputId": "c35022e2-2c30-4faa-ecf6-5294daa835fa"
      },
      "source": [
        "tuple_list = list(tuple_2)\n",
        "print(tuple_list)"
      ],
      "execution_count": null,
      "outputs": [
        {
          "output_type": "stream",
          "text": [
            "[0, 255, 0]\n"
          ],
          "name": "stdout"
        }
      ]
    },
    {
      "cell_type": "markdown",
      "metadata": {
        "id": "_R8RuTyU_vjS"
      },
      "source": [
        "Lists can be converted to tuples using the `tuple` constructor."
      ]
    },
    {
      "cell_type": "code",
      "metadata": {
        "id": "emmsZYuR_vjS",
        "outputId": "3d412520-87af-4213-ddbc-6657f10ca7a7"
      },
      "source": [
        "print(tuple(tuple_list))"
      ],
      "execution_count": null,
      "outputs": [
        {
          "output_type": "stream",
          "text": [
            "(0, 255, 0)\n"
          ],
          "name": "stdout"
        }
      ]
    },
    {
      "cell_type": "markdown",
      "metadata": {
        "id": "tz8tGn42_vjS"
      },
      "source": [
        "## Exercise\n",
        "\n",
        "Tuples are immutable. However by converting back and forth to lists we can remove objects from tuples. \n",
        "\n",
        "Write a code fragment that removes the number 7 from the tuple (16, 17, 9, 10, 7, 8)."
      ]
    },
    {
      "cell_type": "code",
      "metadata": {
        "id": "E1jW5pemqlgH"
      },
      "source": [
        ""
      ],
      "execution_count": null,
      "outputs": []
    },
    {
      "cell_type": "markdown",
      "metadata": {
        "collapsed": true,
        "id": "M-oPrbe5_vjS"
      },
      "source": [
        "# Dictionaries\n",
        "\n",
        "As a final example of built-in data structures, we will look at *dictionaries*. Dictionaries represent a mapping from a set of objects known as *keys* to associated objects known as *values*. For example, we may want to store the latitude and longitude of a collection of cities.\n",
        "\n",
        "- Auckland: (-36.52,174.45)\n",
        "- Berlin: (52.30, 13.25)\n",
        "- Cairo: (30.20, 31.21)\n",
        "- Havanna: (23.80,-82.23)\n",
        "- New York: (40.47, -73.58)\n",
        "\n",
        "Dictionaries provide a convenient way to store this information. Here, the name of the city acts as the key and a tuple representing the latitude and longitude is the corresponding value."
      ]
    },
    {
      "cell_type": "markdown",
      "metadata": {
        "id": "TW_S70fP_vjS"
      },
      "source": [
        "As with lists and tuples, there are two ways to initialize a dictionary. The first is to use the standard constuctor syntax:"
      ]
    },
    {
      "cell_type": "code",
      "metadata": {
        "id": "JYWGfbwr_vjT",
        "outputId": "78d5a399-901b-4088-f447-8e0be8eacac4"
      },
      "source": [
        "latLong = dict()\n",
        "type(latLong)"
      ],
      "execution_count": null,
      "outputs": [
        {
          "output_type": "execute_result",
          "data": {
            "text/plain": [
              "dict"
            ]
          },
          "metadata": {
            "tags": []
          },
          "execution_count": 9
        }
      ]
    },
    {
      "cell_type": "markdown",
      "metadata": {
        "id": "B1HItsFi_vjT"
      },
      "source": [
        "This results in a new dictionary object that initially contains zero entries."
      ]
    },
    {
      "cell_type": "markdown",
      "metadata": {
        "id": "me5AYwKk_vjT"
      },
      "source": [
        "We can add key-value pairs to our dictionary using an assignement syntax."
      ]
    },
    {
      "cell_type": "code",
      "metadata": {
        "id": "z2nC0U_A_vjT",
        "outputId": "6260e4f1-ab60-439a-a5d2-fa20d4c8831c"
      },
      "source": [
        "latLong[\"Auckland\"] = (-36.52,174.45)\n",
        "latLong[\"Berlin\"] = (52.30, 13.25)\n",
        "latLong[\"Cairo\"] = (30.20, 31.21)\n",
        "latLong[\"Havanna\"] = (23.80,-82.23)\n",
        "latLong[\"New York\"] = (40.47,-73.58)\n",
        "\n",
        "print(latLong)"
      ],
      "execution_count": null,
      "outputs": [
        {
          "output_type": "stream",
          "text": [
            "{'Auckland': (-36.52, 174.45), 'Havanna': (23.8, -82.23), 'Cairo': (30.2, 31.21), 'New York': (40.47, -73.58), 'Berlin': (52.3, 13.25)}\n"
          ],
          "name": "stdout"
        }
      ]
    },
    {
      "cell_type": "markdown",
      "metadata": {
        "id": "H83bbsNA_vjT"
      },
      "source": [
        "Once we've added items to the dictionary, we can retrieve them:"
      ]
    },
    {
      "cell_type": "code",
      "metadata": {
        "id": "5zJVY87Y_vjT",
        "outputId": "cd8bdadc-24f2-4626-c5bc-2e44cdc747e0"
      },
      "source": [
        "latLong[\"Havanna\"]"
      ],
      "execution_count": null,
      "outputs": [
        {
          "output_type": "execute_result",
          "data": {
            "text/plain": [
              "(23.8, -82.23)"
            ]
          },
          "metadata": {
            "tags": []
          },
          "execution_count": 11
        }
      ]
    },
    {
      "cell_type": "markdown",
      "metadata": {
        "id": "a2DC5s3I_vjU"
      },
      "source": [
        "If we ask for a key that is not in the dictionary we get an error. "
      ]
    },
    {
      "cell_type": "code",
      "metadata": {
        "id": "vQIpeLAj_vjU",
        "outputId": "122b80de-9ae6-4a85-af45-a6171348f10c"
      },
      "source": [
        "latLong[\"Tallahassee\"]"
      ],
      "execution_count": null,
      "outputs": [
        {
          "output_type": "error",
          "ename": "KeyError",
          "evalue": "'Tallahassee'",
          "traceback": [
            "\u001b[1;31m---------------------------------------------------------------------------\u001b[0m",
            "\u001b[1;31mKeyError\u001b[0m                                  Traceback (most recent call last)",
            "\u001b[1;32m<ipython-input-12-c38ce1ab1d96>\u001b[0m in \u001b[0;36m<module>\u001b[1;34m()\u001b[0m\n\u001b[1;32m----> 1\u001b[1;33m \u001b[0mlatLong\u001b[0m\u001b[1;33m[\u001b[0m\u001b[1;34m\"Tallahassee\"\u001b[0m\u001b[1;33m]\u001b[0m\u001b[1;33m\u001b[0m\u001b[0m\n\u001b[0m",
            "\u001b[1;31mKeyError\u001b[0m: 'Tallahassee'"
          ]
        }
      ]
    },
    {
      "cell_type": "markdown",
      "metadata": {
        "id": "jvXsxpie_vjU"
      },
      "source": [
        "Another way to initialize and populate a dictionary is through the literal form. The literal form uses curly braces, in contrast to the square braces [ ... ] used by lists or the round braces ( ... ) used by tuples."
      ]
    },
    {
      "cell_type": "code",
      "metadata": {
        "id": "7NOjU_fh_vjU",
        "outputId": "7b8f1b45-a6a4-4e1b-c111-756a70c2f1fa"
      },
      "source": [
        "latLong = {\"Auckland\":(-36.52,174.45),\"Havanna\":(23.8,-82.23),\"Berlin\":(52.3,13.25),\\\n",
        "               \"New York\":(40.47,-73.58),\"Cairo\":(30.2,31.21)}\n",
        "print(latLong)"
      ],
      "execution_count": null,
      "outputs": [
        {
          "output_type": "stream",
          "text": [
            "{'Auckland': (-36.52, 174.45), 'Havanna': (23.8, -82.23), 'New York': (40.47, -73.58), 'Cairo': (30.2, 31.21), 'Berlin': (52.3, 13.25)}\n"
          ],
          "name": "stdout"
        }
      ]
    },
    {
      "cell_type": "markdown",
      "metadata": {
        "id": "q2lJl8h6_vjU"
      },
      "source": [
        "## Keys and Values\n",
        "\n",
        "The keys in a dictionary must be unique. If we attempt to add a duplicate key, it updates the value already stored for that key."
      ]
    },
    {
      "cell_type": "code",
      "metadata": {
        "id": "uu-EfIgL_vjV",
        "outputId": "1bae7801-80ae-4673-b0d7-2d0ca4e1b467"
      },
      "source": [
        "latLong[\"New York\"] = (23.7,-82.23)\n",
        "print(latLong)"
      ],
      "execution_count": null,
      "outputs": [
        {
          "output_type": "stream",
          "text": [
            "{'Auckland': (-36.52, 174.45), 'Havanna': (23.8, -82.23), 'New York': (23.7, -82.23), 'Cairo': (30.2, 31.21), 'Berlin': (52.3, 13.25)}\n"
          ],
          "name": "stdout"
        }
      ]
    },
    {
      "cell_type": "markdown",
      "metadata": {
        "id": "XCOjiBz6_vjV"
      },
      "source": [
        "Keys must also be immutable, for example ints, strings or tuples would make accpetable keys, but lists would not."
      ]
    },
    {
      "cell_type": "code",
      "metadata": {
        "id": "l4q1BS_n_vjV",
        "outputId": "2d5978a3-7342-4b24-976b-c483429cadfe"
      },
      "source": [
        "latLong[[\"Havanna\",\"New York\"]] = (23.7, -52.4)"
      ],
      "execution_count": null,
      "outputs": [
        {
          "output_type": "error",
          "ename": "TypeError",
          "evalue": "unhashable type: 'list'",
          "traceback": [
            "\u001b[1;31m---------------------------------------------------------------------------\u001b[0m",
            "\u001b[1;31mTypeError\u001b[0m                                 Traceback (most recent call last)",
            "\u001b[1;32m<ipython-input-15-7b52dc2ae449>\u001b[0m in \u001b[0;36m<module>\u001b[1;34m()\u001b[0m\n\u001b[1;32m----> 1\u001b[1;33m \u001b[0mlatLong\u001b[0m\u001b[1;33m[\u001b[0m\u001b[1;33m[\u001b[0m\u001b[1;34m\"Havanna\"\u001b[0m\u001b[1;33m,\u001b[0m\u001b[1;34m\"New York\"\u001b[0m\u001b[1;33m]\u001b[0m\u001b[1;33m]\u001b[0m \u001b[1;33m=\u001b[0m \u001b[1;33m(\u001b[0m\u001b[1;36m23.7\u001b[0m\u001b[1;33m,\u001b[0m \u001b[1;33m-\u001b[0m\u001b[1;36m52.4\u001b[0m\u001b[1;33m)\u001b[0m\u001b[1;33m\u001b[0m\u001b[0m\n\u001b[0m",
            "\u001b[1;31mTypeError\u001b[0m: unhashable type: 'list'"
          ]
        }
      ]
    },
    {
      "cell_type": "markdown",
      "metadata": {
        "id": "dijzNCBE_vjV"
      },
      "source": [
        "Values on the other hand can be of any type (mutable or immutable) and can be repeated as often as you like."
      ]
    },
    {
      "cell_type": "markdown",
      "metadata": {
        "id": "DztjhsiH_vjV"
      },
      "source": [
        "## Summary\n",
        "\n",
        "![dictionary methods](https://github.com/lukasbystricky/ISC-3313/blob/master/lectures/chapter2/images/dictionary.png?raw=true)"
      ]
    },
    {
      "cell_type": "markdown",
      "metadata": {
        "id": "1RJ0sZiO_vjV"
      },
      "source": [
        "## Exercise\n",
        "\n",
        "Create a dictionary with the following keys:\n",
        "- \"Florida\"\n",
        "- \"Georgia\"\n",
        "- \"Texas\"\n",
        "- \"New York\"\n",
        "\n",
        "Assign to each key a list of at least two cities in the corresponding state."
      ]
    }
  ]
}