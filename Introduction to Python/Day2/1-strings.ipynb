{
  "nbformat": 4,
  "nbformat_minor": 0,
  "metadata": {
    "anaconda-cloud": {},
    "celltoolbar": "Slideshow",
    "kernelspec": {
      "display_name": "Python 3",
      "language": "python",
      "name": "python3"
    },
    "language_info": {
      "codemirror_mode": {
        "name": "ipython",
        "version": 3
      },
      "file_extension": ".py",
      "mimetype": "text/x-python",
      "name": "python",
      "nbconvert_exporter": "python",
      "pygments_lexer": "ipython3",
      "version": "3.8.8"
    },
    "colab": {
      "name": "CwC-Intro2Python-1.3-strings.ipynb",
      "provenance": [],
      "collapsed_sections": []
    }
  },
  "cells": [
    {
      "cell_type": "markdown",
      "metadata": {
        "id": "wuxh6wQ9gDUN"
      },
      "source": [
        "<p style=\"text-align: center;\"><font size=\"8\"><b>Section 1.3: Strings</b></font><br>"
      ]
    },
    {
      "cell_type": "markdown",
      "metadata": {
        "id": "kBtNxLzngDU4"
      },
      "source": [
        "Now that we've introduced the `list` class, lists are an example of a *mutable* object. Once it is created, we can interact with it and change its state.  \n",
        "\n",
        "*Immutable* objects on the other hand cannot be modified after they are created. Immutable objects can be implemented more efficiently than mutable objects. The `str` class (\"string\") is an example of an immutable object."
      ]
    },
    {
      "cell_type": "markdown",
      "metadata": {
        "id": "sPjFd2wcgDVC"
      },
      "source": [
        "* the string class is designed to store a sequence of characters.\n",
        "* supports many methods that make sense only when dealing with characters"
      ]
    },
    {
      "cell_type": "code",
      "metadata": {
        "id": "0YYzZ17kgDVE",
        "outputId": "a464cab2-a301-4343-ee29-1684c6879050"
      },
      "source": [
        "a = \"this is a string\"\n",
        "type(a)"
      ],
      "execution_count": null,
      "outputs": [
        {
          "output_type": "execute_result",
          "data": {
            "text/plain": [
              "str"
            ]
          },
          "metadata": {
            "tags": []
          },
          "execution_count": 1
        }
      ]
    },
    {
      "cell_type": "code",
      "metadata": {
        "id": "NpaeQjXegDVO",
        "outputId": "83da0c67-3a44-4bb3-f089-4fcd2565298d"
      },
      "source": [
        "a.capitalize()"
      ],
      "execution_count": null,
      "outputs": [
        {
          "output_type": "execute_result",
          "data": {
            "text/plain": [
              "'This is a string'"
            ]
          },
          "metadata": {
            "tags": []
          },
          "execution_count": 2
        }
      ]
    },
    {
      "cell_type": "markdown",
      "metadata": {
        "id": "3dgjuyvjgDVQ"
      },
      "source": [
        "Recall that strings are immutable. Therefore calling `a.capitalize()` returns a new string, but does not change `a`."
      ]
    },
    {
      "cell_type": "code",
      "metadata": {
        "id": "f8dHKfe7gDVR",
        "outputId": "13a4df6e-5473-4296-942c-56195ac8d5c6"
      },
      "source": [
        "a"
      ],
      "execution_count": null,
      "outputs": [
        {
          "output_type": "execute_result",
          "data": {
            "text/plain": [
              "'this is a string'"
            ]
          },
          "metadata": {
            "tags": []
          },
          "execution_count": 3
        }
      ]
    },
    {
      "cell_type": "markdown",
      "metadata": {
        "id": "NRb0l-vGgDVT"
      },
      "source": [
        "To initialize strings we can use either single quotes or double quotes."
      ]
    },
    {
      "cell_type": "code",
      "metadata": {
        "id": "RQAYI5E2gDVZ",
        "outputId": "c458e14b-2dd3-451e-9506-e7b0ccd49110"
      },
      "source": [
        "a = 'this is a string'\n",
        "a"
      ],
      "execution_count": null,
      "outputs": [
        {
          "output_type": "execute_result",
          "data": {
            "text/plain": [
              "'this is a string'"
            ]
          },
          "metadata": {
            "tags": []
          },
          "execution_count": 4
        }
      ]
    },
    {
      "cell_type": "code",
      "metadata": {
        "id": "YIH1yc-OgDVc",
        "outputId": "ddc02b4e-091a-4a3b-b27f-c4bad08d0dbe"
      },
      "source": [
        "b = \"this is a string\"\n",
        "b"
      ],
      "execution_count": null,
      "outputs": [
        {
          "output_type": "execute_result",
          "data": {
            "text/plain": [
              "'this is a string'"
            ]
          },
          "metadata": {
            "tags": []
          },
          "execution_count": 5
        }
      ]
    },
    {
      "cell_type": "markdown",
      "metadata": {
        "id": "E9xxo5ZvgDVf"
      },
      "source": [
        "Strings cannot span multiple lines, however we can introduce new lines by using the symbol `\\n`."
      ]
    },
    {
      "cell_type": "code",
      "metadata": {
        "id": "CZUaUBREgDVh",
        "outputId": "3eec3ccd-1d4d-4549-802b-a4463ffe71e4"
      },
      "source": [
        "a =\"this is a string\\non multiple lines\"\n",
        "print(a)"
      ],
      "execution_count": null,
      "outputs": [
        {
          "output_type": "stream",
          "text": [
            "this is a string\n",
            "on multiple lines\n"
          ],
          "name": "stdout"
        }
      ]
    },
    {
      "cell_type": "markdown",
      "metadata": {
        "id": "Ko_ZLCWlgDVl"
      },
      "source": [
        "The backslash character is called an *escape character*. Escape characters allow us to specify a character that cannot otherwise be expressed naturally. For example, if we wish to include a quote in a string, we can use `\\\"`. "
      ]
    },
    {
      "cell_type": "code",
      "metadata": {
        "id": "gVZizGIJgDVm",
        "outputId": "f7161ea2-d907-4b25-fbb0-cf5503539850"
      },
      "source": [
        "a = \"this is a \\\"quote\\\" \"\n",
        "print(a)"
      ],
      "execution_count": null,
      "outputs": [
        {
          "output_type": "stream",
          "text": [
            "this is a \"quote\" \n"
          ],
          "name": "stdout"
        }
      ]
    },
    {
      "cell_type": "markdown",
      "metadata": {
        "id": "Oazowiz9gDVo"
      },
      "source": [
        "## Behaviors Common to Strings and Lists\n",
        "\n",
        "Strings use zero-indexing, just like lists. They also support many of the same accessors."
      ]
    },
    {
      "cell_type": "code",
      "metadata": {
        "id": "UyYBroS5gDVp",
        "outputId": "816bed19-9aab-4962-a6b9-a78494f7694d"
      },
      "source": [
        "a = \"this is a string\"\n",
        "len(a)"
      ],
      "execution_count": null,
      "outputs": [
        {
          "output_type": "execute_result",
          "data": {
            "text/plain": [
              "16"
            ]
          },
          "metadata": {
            "tags": []
          },
          "execution_count": 8
        }
      ]
    },
    {
      "cell_type": "code",
      "metadata": {
        "id": "yk8ycD1_gDVq",
        "outputId": "983deb40-6791-4035-dc34-2fe067e04965"
      },
      "source": [
        "a[1]"
      ],
      "execution_count": null,
      "outputs": [
        {
          "output_type": "execute_result",
          "data": {
            "text/plain": [
              "'h'"
            ]
          },
          "metadata": {
            "tags": []
          },
          "execution_count": 9
        }
      ]
    },
    {
      "cell_type": "markdown",
      "metadata": {
        "id": "Y9eajdYQgDVs"
      },
      "source": [
        "However because strings are immutable, we cannot do something like:"
      ]
    },
    {
      "cell_type": "code",
      "metadata": {
        "id": "qRp5b2-CgDVt",
        "outputId": "8e75193e-f555-41de-811a-7995c0402470"
      },
      "source": [
        "a[2] = \"a\""
      ],
      "execution_count": null,
      "outputs": [
        {
          "output_type": "error",
          "ename": "TypeError",
          "evalue": "'str' object does not support item assignment",
          "traceback": [
            "\u001b[1;31m---------------------------------------------------------------------------\u001b[0m",
            "\u001b[1;31mTypeError\u001b[0m                                 Traceback (most recent call last)",
            "\u001b[1;32m<ipython-input-10-9265f6d7f028>\u001b[0m in \u001b[0;36m<module>\u001b[1;34m()\u001b[0m\n\u001b[1;32m----> 1\u001b[1;33m \u001b[0ma\u001b[0m\u001b[1;33m[\u001b[0m\u001b[1;36m2\u001b[0m\u001b[1;33m]\u001b[0m \u001b[1;33m=\u001b[0m \u001b[1;34m\"a\"\u001b[0m\u001b[1;33m\u001b[0m\u001b[0m\n\u001b[0m",
            "\u001b[1;31mTypeError\u001b[0m: 'str' object does not support item assignment"
          ]
        }
      ]
    },
    {
      "cell_type": "markdown",
      "metadata": {
        "id": "MkM9-X7vgDVv"
      },
      "source": [
        "Like lists, strings support slicing."
      ]
    },
    {
      "cell_type": "code",
      "metadata": {
        "id": "Z66u8zBFgDVw",
        "outputId": "1ae2da67-5720-4c77-8749-2c9236e7220b"
      },
      "source": [
        "alphabet = \"abcdefghijklmnopqrstuvwxyz\"\n",
        "alphabet[4:10]"
      ],
      "execution_count": null,
      "outputs": [
        {
          "output_type": "execute_result",
          "data": {
            "text/plain": [
              "'efghij'"
            ]
          },
          "metadata": {
            "tags": []
          },
          "execution_count": 11
        }
      ]
    },
    {
      "cell_type": "markdown",
      "metadata": {
        "id": "x_P8OHlL4Qp4"
      },
      "source": [
        "Try it out! \n",
        "\n",
        "Use slicing to extract 'stuvw'."
      ]
    },
    {
      "cell_type": "code",
      "metadata": {
        "id": "M66Oy8cY4PwI"
      },
      "source": [
        ""
      ],
      "execution_count": null,
      "outputs": []
    },
    {
      "cell_type": "markdown",
      "metadata": {
        "id": "SsqKta7b4pBM"
      },
      "source": [
        "To get a value at the end of a string, we leave the second value blank. "
      ]
    },
    {
      "cell_type": "code",
      "metadata": {
        "id": "MPuAVr1WgDVy",
        "outputId": "5bb9e4bc-94fa-4778-f375-220b8c346838"
      },
      "source": [
        "alphabet[23:]"
      ],
      "execution_count": null,
      "outputs": [
        {
          "output_type": "execute_result",
          "data": {
            "text/plain": [
              "'xyz'"
            ]
          },
          "metadata": {
            "tags": []
          },
          "execution_count": 12
        }
      ]
    },
    {
      "cell_type": "markdown",
      "metadata": {
        "id": "_N8JV3evgDVz"
      },
      "source": [
        "As with lists, string slicing can also support step sizes by inputting a third argument in the slice syntax. For example with a step size of $k$, the slice begins at the first index, takes each $k$-th character and continues so long as it does not reach or pass the second index (this also works for lists).\n",
        "\n",
        "In short, the syntax is: string[start:end:step size]"
      ]
    },
    {
      "cell_type": "code",
      "metadata": {
        "id": "BiarJnH56fIS"
      },
      "source": [
        "alphabet"
      ],
      "execution_count": null,
      "outputs": []
    },
    {
      "cell_type": "code",
      "metadata": {
        "id": "xewo_x3PgDV0",
        "outputId": "cad744a0-103b-4ec4-ce2e-8b8601ed12dc"
      },
      "source": [
        "alphabet[9:20:3]"
      ],
      "execution_count": null,
      "outputs": [
        {
          "output_type": "execute_result",
          "data": {
            "text/plain": [
              "'jmps'"
            ]
          },
          "metadata": {
            "tags": []
          },
          "execution_count": 13
        }
      ]
    },
    {
      "cell_type": "markdown",
      "metadata": {
        "id": "IhTfet-KgDV1"
      },
      "source": [
        "The step size can also be negative. "
      ]
    },
    {
      "cell_type": "code",
      "metadata": {
        "id": "69V3DI8LgDV2",
        "outputId": "8ffb5bf2-2226-4333-bb08-f08151317edf"
      },
      "source": [
        "alphabet[17:5:-3]"
      ],
      "execution_count": null,
      "outputs": [
        {
          "output_type": "execute_result",
          "data": {
            "text/plain": [
              "'roli'"
            ]
          },
          "metadata": {
            "tags": []
          },
          "execution_count": 14
        }
      ]
    },
    {
      "cell_type": "markdown",
      "metadata": {
        "id": "g_zdHBjrgDV4"
      },
      "source": [
        "Taking a step size of `-1` reverses the string.\n",
        "\n"
      ]
    },
    {
      "cell_type": "code",
      "metadata": {
        "id": "WVWmNQSJgDV4",
        "outputId": "99c181f9-9f20-4977-ed62-bca4bd5e1964"
      },
      "source": [
        "alphabet[::-1]"
      ],
      "execution_count": null,
      "outputs": [
        {
          "output_type": "execute_result",
          "data": {
            "text/plain": [
              "'zyxwvutsrqponmlkjihgfedcba'"
            ]
          },
          "metadata": {
            "tags": []
          },
          "execution_count": 15
        }
      ]
    },
    {
      "cell_type": "markdown",
      "metadata": {
        "id": "zz-LH-6ggDV6"
      },
      "source": [
        "## Other Useful Methods\n",
        "\n",
        "The `in` function checks whether a particular pattern is contained in a string."
      ]
    },
    {
      "cell_type": "code",
      "metadata": {
        "id": "WKw5EXLCgDV7",
        "outputId": "5903c74a-a0c4-4f82-e174-3274346b46e9"
      },
      "source": [
        "a = \"This is a string\"\n",
        "\"T\" in a"
      ],
      "execution_count": null,
      "outputs": [
        {
          "output_type": "execute_result",
          "data": {
            "text/plain": [
              "True"
            ]
          },
          "metadata": {
            "tags": []
          },
          "execution_count": 16
        }
      ]
    },
    {
      "cell_type": "code",
      "metadata": {
        "id": "XbyIVJj7gDV8",
        "outputId": "2ca16055-ff39-485b-dab8-04543e5418cc"
      },
      "source": [
        "\"s i\" in a"
      ],
      "execution_count": null,
      "outputs": [
        {
          "output_type": "execute_result",
          "data": {
            "text/plain": [
              "True"
            ]
          },
          "metadata": {
            "tags": []
          },
          "execution_count": 17
        }
      ]
    },
    {
      "cell_type": "markdown",
      "metadata": {
        "id": "ula3mUvYgDV9"
      },
      "source": [
        "The `count` function can be used to count the number of occurrences of a pattern."
      ]
    },
    {
      "cell_type": "code",
      "metadata": {
        "id": "tQ7xTta2gDV-",
        "outputId": "8000f225-4223-4fef-e953-fc699f4ea82f"
      },
      "source": [
        "a.count(\"is\")"
      ],
      "execution_count": null,
      "outputs": [
        {
          "output_type": "execute_result",
          "data": {
            "text/plain": [
              "2"
            ]
          },
          "metadata": {
            "tags": []
          },
          "execution_count": 18
        }
      ]
    },
    {
      "cell_type": "markdown",
      "metadata": {
        "id": "jgASfMIxgDWD"
      },
      "source": [
        "# Overloading\n",
        "\n",
        "The \"+\" operator and \"\\*\" operator are overloaded for strings."
      ]
    },
    {
      "cell_type": "code",
      "metadata": {
        "id": "82w2rjQpgDWE",
        "outputId": "53725194-147b-4628-e8a7-93c93bb30c1e"
      },
      "source": [
        "a = \"This\"\n",
        "a = a + \" is a string\"\n",
        "print(a)"
      ],
      "execution_count": null,
      "outputs": [
        {
          "output_type": "stream",
          "text": [
            "This is a string\n"
          ],
          "name": "stdout"
        }
      ]
    },
    {
      "cell_type": "code",
      "metadata": {
        "id": "kQQfwnI3gDWF",
        "outputId": "cee43dfc-7f5e-445f-ee06-0a2b605fcd40"
      },
      "source": [
        "print(a*3)"
      ],
      "execution_count": null,
      "outputs": [
        {
          "output_type": "stream",
          "text": [
            "This is a stringThis is a stringThis is a string\n"
          ],
          "name": "stdout"
        }
      ]
    },
    {
      "cell_type": "markdown",
      "metadata": {
        "id": "29I-WY8LgDWG"
      },
      "source": [
        "# Summary\n",
        "\n",
        "![string information](https://github.com/lukasbystricky/ISC-3313/blob/master/lectures/chapter2/images/string_information1.png?raw=true)"
      ]
    },
    {
      "cell_type": "markdown",
      "metadata": {
        "id": "xR5-f8FugDWH"
      },
      "source": [
        "![string information](https://github.com/lukasbystricky/ISC-3313/blob/master/lectures/chapter2/images/string_information2.png?raw=true)"
      ]
    },
    {
      "cell_type": "markdown",
      "metadata": {
        "id": "T8UceZQjgDWH"
      },
      "source": [
        "![new string](https://github.com/lukasbystricky/ISC-3313/blob/master/lectures/chapter2/images/string_new1.png?raw=true)"
      ]
    },
    {
      "cell_type": "markdown",
      "metadata": {
        "id": "O4fkosz4gDWI"
      },
      "source": [
        "![new string](https://github.com/lukasbystricky/ISC-3313/blob/master/lectures/chapter2/images/string_new2.png?raw=true)"
      ]
    },
    {
      "cell_type": "markdown",
      "metadata": {
        "id": "ZlbP4N-YgDWJ"
      },
      "source": [
        "![string conversion](https://github.com/lukasbystricky/ISC-3313/blob/master/lectures/chapter2/images/string_convert.png?raw=true)"
      ]
    }
  ]
}