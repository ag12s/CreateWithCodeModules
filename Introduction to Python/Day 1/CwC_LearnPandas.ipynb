{
  "nbformat": 4,
  "nbformat_minor": 0,
  "metadata": {
    "colab": {
      "name": "CwC_LearnPandas.ipynb",
      "provenance": [],
      "collapsed_sections": [],
      "authorship_tag": "ABX9TyNW/FKuM1392UoO1TdHicxa",
      "include_colab_link": true
    },
    "kernelspec": {
      "name": "python3",
      "display_name": "Python 3"
    },
    "language_info": {
      "name": "python"
    }
  },
  "cells": [
    {
      "cell_type": "markdown",
      "metadata": {
        "id": "view-in-github",
        "colab_type": "text"
      },
      "source": [
        "<a href=\"https://colab.research.google.com/github/ag12s/CreateWithCodeModules/blob/main/Introduction%20to%20Python/Day%201/CwC_LearnPandas.ipynb\" target=\"_parent\"><img src=\"https://colab.research.google.com/assets/colab-badge.svg\" alt=\"Open In Colab\"/></a>"
      ]
    },
    {
      "cell_type": "markdown",
      "metadata": {
        "id": "mBrG9bmL13OL"
      },
      "source": [
        "Let's learn about a Python package called **Pandas**!\n",
        "\n",
        "To make sure we have it installed, first run a *pip* command:"
      ]
    },
    {
      "cell_type": "code",
      "metadata": {
        "id": "ncjGYjax1601"
      },
      "source": [
        "!pip install pandas"
      ],
      "execution_count": null,
      "outputs": []
    },
    {
      "cell_type": "markdown",
      "metadata": {
        "id": "oDnNFl4C1_Zz"
      },
      "source": [
        "Then, we import the Pandas package (and NumPy, since we will use that, too):"
      ]
    },
    {
      "cell_type": "code",
      "metadata": {
        "id": "Ohdzg0Sn18J_"
      },
      "source": [
        "import pandas as pd\n",
        "import numpy as np"
      ],
      "execution_count": null,
      "outputs": []
    },
    {
      "cell_type": "markdown",
      "metadata": {
        "id": "zqTHejxQ2CG5"
      },
      "source": [
        "We import Pandas with the nickname \"*pd*\" because we may have to type the package name frequently while using it. Typing *pd* is just shorter than typing *pandas* every time, so this is something most users do."
      ]
    },
    {
      "cell_type": "markdown",
      "metadata": {
        "id": "ptpiADD12Eyl"
      },
      "source": [
        "## What will we cover in this module?\n",
        "\n",
        "\n",
        "\n",
        "*   Creating a DataFrame in Pandas\n",
        "*   Manipulating DataFrames\n",
        "*   Plotting data stored in DataFrames\n",
        "*   Saving data to a file/reading data from a file\n",
        "\n"
      ]
    },
    {
      "cell_type": "markdown",
      "metadata": {
        "id": "DCGqB_OB2EY-"
      },
      "source": [
        "# **Pandas: DataFrames**\n",
        "\n",
        "## Creating DataFrames\n",
        "\n",
        "Let's create a **DataFrame**! To do that, we will first create arrays with some sample data about Marvel Cinematic Universe characters."
      ]
    },
    {
      "cell_type": "code",
      "metadata": {
        "id": "qGvOJ-ja2Baa"
      },
      "source": [
        "# Create an array with the names of characters\n",
        "data1 = np.array(['Spider-Man','Loki','Hulk','Black Widow','Thor','Nick Fury','Iron Man'])\n",
        "\n",
        "# Create an array with the number of MCU movies each character appears in\n",
        "data2 = np.array([6,6,8,8,8,10,11])\n",
        "\n",
        "# Create an array with the year each character first appeared in a MCU movie\n",
        "data3 = np.array([2016,2011,2003,2010,2011,2008,2008])\n",
        "\n",
        "# Create an array with their planet of origin\n",
        "data4 = np.array(['Earth','Jotunheim','Earth','Earth','Asgard','Earth','Earth'])"
      ],
      "execution_count": null,
      "outputs": []
    },
    {
      "cell_type": "code",
      "metadata": {
        "id": "E5cOa0Pc2Y5e"
      },
      "source": [
        "# Combine the arrays into a DataFrame and assign category names\n",
        "mcu_data = {'Name': data1, 'Movies': data2, 'Year': data3, 'Origin': data4}\n",
        "df = pd.DataFrame(data = mcu_data)\n",
        "df"
      ],
      "execution_count": null,
      "outputs": []
    },
    {
      "cell_type": "markdown",
      "metadata": {
        "id": "Qq1WCpe02ehk"
      },
      "source": [
        "Typing *df* uses Pandas' default print function. We can also write *print(df)*, but this will look different."
      ]
    },
    {
      "cell_type": "code",
      "metadata": {
        "id": "puxAXpv_2bWC"
      },
      "source": [
        "print(df)"
      ],
      "execution_count": null,
      "outputs": []
    },
    {
      "cell_type": "markdown",
      "metadata": {
        "id": "rhz9uqpu2iI2"
      },
      "source": [
        "To **preview** our DataFrame without outputting the entire thing, we use the command *head()*. This is very useful when we have a large DataFrame!"
      ]
    },
    {
      "cell_type": "code",
      "metadata": {
        "id": "TVcVFYFD2gXX"
      },
      "source": [
        "# Print the first 5 rows of the DataFrame\n",
        "df.head()"
      ],
      "execution_count": null,
      "outputs": []
    },
    {
      "cell_type": "markdown",
      "metadata": {
        "id": "mhzyTxNm2ljY"
      },
      "source": [
        "## Exercise:\n",
        "\n",
        "Print out the DataFrame df using:\n",
        "\n",
        "\n",
        "1.   Panda's default printing\n",
        "2.   Python's print function\n",
        "3.   Just a preview of the DataFrame\n",
        "\n"
      ]
    },
    {
      "cell_type": "code",
      "metadata": {
        "id": "N4tg5ApD2ju9"
      },
      "source": [
        "# Try out some commands to print the dataframe yourself here!\n",
        "\n"
      ],
      "execution_count": null,
      "outputs": []
    },
    {
      "cell_type": "markdown",
      "metadata": {
        "id": "L19bVWQ_219A"
      },
      "source": [
        "To refer to a specific **column** in the DataFrame, we type the DataFrame's variable name and the column name:"
      ]
    },
    {
      "cell_type": "code",
      "metadata": {
        "id": "zf1tSBHb23nf"
      },
      "source": [
        "df['Name']"
      ],
      "execution_count": null,
      "outputs": []
    },
    {
      "cell_type": "code",
      "metadata": {
        "id": "AN60iUgf2_XJ"
      },
      "source": [
        "# There is a difference between single and double brackets!\n",
        "df[['Origin']]"
      ],
      "execution_count": null,
      "outputs": []
    },
    {
      "cell_type": "markdown",
      "metadata": {
        "id": "pGxETqpu3KUm"
      },
      "source": [
        "We can also reference **multiple columns** at once:"
      ]
    },
    {
      "cell_type": "code",
      "metadata": {
        "id": "_0Jo1v3s3AY2"
      },
      "source": [
        "df[['Name','Movies']]"
      ],
      "execution_count": null,
      "outputs": []
    },
    {
      "cell_type": "markdown",
      "metadata": {
        "id": "-46NgHIF3PJm"
      },
      "source": [
        "If the column name is only one word, we can also do the following:"
      ]
    },
    {
      "cell_type": "code",
      "metadata": {
        "id": "xmZXxN_O3MIk"
      },
      "source": [
        "df.Name"
      ],
      "execution_count": null,
      "outputs": []
    },
    {
      "cell_type": "markdown",
      "metadata": {
        "id": "vA4bB9C03TZw"
      },
      "source": [
        "The above code returns a Series. If we would rather have a NumPy array, we can do:"
      ]
    },
    {
      "cell_type": "code",
      "metadata": {
        "id": "2iMNTMoE3RYO"
      },
      "source": [
        "df.Name.values"
      ],
      "execution_count": null,
      "outputs": []
    },
    {
      "cell_type": "markdown",
      "metadata": {
        "id": "GxLQ6E_O3Y4X"
      },
      "source": [
        "## Exercise:\n",
        "\n",
        "Reference DataFrame columns and save them in a new variable! Try:\n",
        "\n",
        "1.   Saving multiple columns in a new DataFrame\n",
        "2.   Saving one column into a NumPy array\n",
        "\n",
        "\n"
      ]
    },
    {
      "cell_type": "code",
      "metadata": {
        "id": "P9B1OzIa3WTK"
      },
      "source": [
        "# Try referencing some of the columns here yourself! Watch out for capitalization; Python is case-sensitive.\n",
        "\n"
      ],
      "execution_count": null,
      "outputs": []
    },
    {
      "cell_type": "markdown",
      "metadata": {
        "id": "D3ftbtZd37fH"
      },
      "source": [
        "To get all the column names, do *df.columns*. This also allows us to **set or change** the **column names**."
      ]
    },
    {
      "cell_type": "code",
      "metadata": {
        "id": "-LL2ykVJ3719"
      },
      "source": [
        "df.columns"
      ],
      "execution_count": null,
      "outputs": []
    },
    {
      "cell_type": "code",
      "metadata": {
        "id": "-0ai8VSe39PX"
      },
      "source": [
        "# Example changing the column names\n",
        "df.columns = ['First','second','3rd','fourth']\n",
        "df.head()"
      ],
      "execution_count": null,
      "outputs": []
    },
    {
      "cell_type": "code",
      "metadata": {
        "id": "H24P94Pt3_Y5"
      },
      "source": [
        "# Changing the names back to how they were\n",
        "df.columns = ['Name','Movies','Year','Origin']\n",
        "df.head()"
      ],
      "execution_count": null,
      "outputs": []
    },
    {
      "cell_type": "markdown",
      "metadata": {
        "id": "_5cVE-uo4ETk"
      },
      "source": [
        "And if we want to know the **data type** of each column, do:"
      ]
    },
    {
      "cell_type": "code",
      "metadata": {
        "id": "nC8fchJH4BMB"
      },
      "source": [
        "df.dtypes"
      ],
      "execution_count": null,
      "outputs": []
    },
    {
      "cell_type": "markdown",
      "metadata": {
        "id": "JNkg-wEu4RLc"
      },
      "source": [
        "## Manipulating DataFrames\n",
        "\n",
        "We can get **statistics** from our DataFrame such as the average, minimum, and maximum:"
      ]
    },
    {
      "cell_type": "code",
      "metadata": {
        "id": "M3-XMg6C4F61"
      },
      "source": [
        "print('Average of numeric columns:\\n', df.mean(), '\\n')\n",
        "print('Largest number of movies:', df['Movies'].max(), '\\n')\n",
        "print('Earliest year:', df['Year'].min(), '\\n')"
      ],
      "execution_count": null,
      "outputs": []
    },
    {
      "cell_type": "markdown",
      "metadata": {
        "id": "yj24F8GN4goR"
      },
      "source": [
        "We can also **add data** to our DataFrame after it has already been created:"
      ]
    },
    {
      "cell_type": "code",
      "metadata": {
        "id": "rZvmXkOg4Vxm"
      },
      "source": [
        "# Create a new variable to hold the information we want to add\n",
        "new_mcu = {'Name': 'Captain America', 'Movies': 11, 'Year': 2011, 'Origin': 'Earth'}\n",
        "\n",
        "# Add the information to our DataFrame\n",
        "df = df.append(new_mcu, ignore_index = True)\n",
        "\n",
        "# Print the new DataFrame\n",
        "df"
      ],
      "execution_count": null,
      "outputs": []
    },
    {
      "cell_type": "markdown",
      "metadata": {
        "id": "J4wcV7gL4kNh"
      },
      "source": [
        "And we can **delete** rows or columns of data:"
      ]
    },
    {
      "cell_type": "code",
      "metadata": {
        "id": "N0CTpi9D4ibk"
      },
      "source": [
        "# Delete a row\n",
        "df.drop(4)"
      ],
      "execution_count": null,
      "outputs": []
    },
    {
      "cell_type": "code",
      "metadata": {
        "id": "qxLaztFi4ly2"
      },
      "source": [
        "# Delete a column\n",
        "df.drop('Origin', axis = 1)"
      ],
      "execution_count": null,
      "outputs": []
    },
    {
      "cell_type": "markdown",
      "metadata": {
        "id": "qiOQd4VM4pfC"
      },
      "source": [
        "## Exercise:\n",
        "\n",
        "Try manipulating the DataFrame! Add a row for Heimdall:\n",
        "Heimdall has appeared in 5 MCU movies, starting in 2011. He is from Asgard.\n",
        "\n",
        "\n"
      ]
    },
    {
      "cell_type": "code",
      "metadata": {
        "id": "ucwZ1Qia4nHz"
      },
      "source": [
        "# Try manipulating the DataFrame yourself here:\n",
        "\n"
      ],
      "execution_count": null,
      "outputs": []
    },
    {
      "cell_type": "markdown",
      "metadata": {
        "id": "qkctSed-5mc9"
      },
      "source": [
        "We can also **fill in missing data**! For example:"
      ]
    },
    {
      "cell_type": "code",
      "metadata": {
        "id": "SovfONte5i4T"
      },
      "source": [
        "# Adding incomplete data to the DataFrame\n",
        "new_mcu = {'Name': 'Happy Hogan', 'Year': 2008, 'Origin': 'Earth'}\n",
        "\n",
        "# Add the information to our DataFrame\n",
        "df = df.append(new_mcu, ignore_index = True)\n",
        "\n",
        "# Print the new DataFrame\n",
        "df"
      ],
      "execution_count": null,
      "outputs": []
    },
    {
      "cell_type": "code",
      "metadata": {
        "id": "GJm31g7l5oT9"
      },
      "source": [
        "# Let's use fillna() to replace NaN values with the average (mean) of the other values in the column\n",
        "movies_mean = df['Movies'].mean()\n",
        "\n",
        "df.fillna(value = movies_mean)"
      ],
      "execution_count": null,
      "outputs": []
    },
    {
      "cell_type": "markdown",
      "metadata": {
        "id": "l2robZ_V5u9r"
      },
      "source": [
        "Or, we can **delete rows** with **incomplete data**:"
      ]
    },
    {
      "cell_type": "code",
      "metadata": {
        "id": "PUYvNh8j5r0O"
      },
      "source": [
        "df = df.dropna()\n",
        "\n",
        "df"
      ],
      "execution_count": null,
      "outputs": []
    },
    {
      "cell_type": "markdown",
      "metadata": {
        "id": "1He_tUdI5y48"
      },
      "source": [
        "What if we want to get rid of **duplicate data**? Let's try an example!"
      ]
    },
    {
      "cell_type": "code",
      "metadata": {
        "id": "AwnymwGP5uAL"
      },
      "source": [
        "# Let's add a Loki duplicate:\n",
        "new_mcu = {'Name': 'Loki', 'Movies': 6, 'Year': 2011, 'Origin': 'Jotunheim'}\n",
        "\n",
        "# Add the information to our DataFrame\n",
        "df = df.append(new_mcu, ignore_index = True)\n",
        "\n",
        "df"
      ],
      "execution_count": null,
      "outputs": []
    },
    {
      "cell_type": "code",
      "metadata": {
        "id": "epU417Rd50nb"
      },
      "source": [
        "# Right now, we can check how many unique names we have using nunique():\n",
        "df['Name'].nunique()"
      ],
      "execution_count": null,
      "outputs": []
    },
    {
      "cell_type": "code",
      "metadata": {
        "id": "14fxrX_p53ID"
      },
      "source": [
        "# Now, let's drop the duplicate data (prune the variant?!)\n",
        "df = df.drop_duplicates()\n",
        "\n",
        "df"
      ],
      "execution_count": null,
      "outputs": []
    },
    {
      "cell_type": "markdown",
      "metadata": {
        "id": "HOUbfG4T57W4"
      },
      "source": [
        "Dropping duplicates is a useful tool when, for example, you accidentally append a new row to your DataFrame twice. This way, you do not need to recreate the DataFrame or specify what row you want to drop (using *df.drop()*)."
      ]
    },
    {
      "cell_type": "markdown",
      "metadata": {
        "id": "mNnHj5GV5_RB"
      },
      "source": [
        "## Exercise:\n",
        "\n",
        "Try adding and dropping duplicate information! Pick any row(s) you like, replicate it as many times as you would like, and then drop the duplicates.\n"
      ]
    },
    {
      "cell_type": "code",
      "metadata": {
        "id": "aZdIbOcT55Bg"
      },
      "source": [
        "# Try adding and dropping some duplicate information yourself!\n",
        "\n"
      ],
      "execution_count": null,
      "outputs": []
    },
    {
      "cell_type": "markdown",
      "metadata": {
        "id": "bF7NVywP6mPP"
      },
      "source": [
        "We can **filter** our DataFrame by specific values or attributes. For example, let's filter out all the characters from Earth:"
      ]
    },
    {
      "cell_type": "code",
      "metadata": {
        "id": "-nQ11fRf6qx1"
      },
      "source": [
        "df.loc[df['Origin'] == 'Earth']"
      ],
      "execution_count": null,
      "outputs": []
    },
    {
      "cell_type": "markdown",
      "metadata": {
        "id": "9kO4wSsk6sxD"
      },
      "source": [
        "Or all character information with first movies after 2009:"
      ]
    },
    {
      "cell_type": "code",
      "metadata": {
        "id": "yK5VFk856qqz"
      },
      "source": [
        "# Get all first movies more recent than 2009\n",
        "df.loc[df['Year'] > 2009]"
      ],
      "execution_count": null,
      "outputs": []
    },
    {
      "cell_type": "markdown",
      "metadata": {
        "id": "LiTM8vEy6weX"
      },
      "source": [
        "We can also do this without the loc function:"
      ]
    },
    {
      "cell_type": "code",
      "metadata": {
        "id": "nuoAUdLT6qh3"
      },
      "source": [
        "df[df['Year'] > 2009]"
      ],
      "execution_count": null,
      "outputs": []
    },
    {
      "cell_type": "markdown",
      "metadata": {
        "id": "3ER8IVyX610F"
      },
      "source": [
        "There is also a function called *iloc* that does the same thing as *loc*, but using indices! We can use this to make the last exercise a bit easier:"
      ]
    },
    {
      "cell_type": "code",
      "metadata": {
        "id": "WvCorfpw6VZw"
      },
      "source": [
        "df.append(df.iloc[[0]])"
      ],
      "execution_count": null,
      "outputs": []
    },
    {
      "cell_type": "markdown",
      "metadata": {
        "id": "CYOYuPit7EC8"
      },
      "source": [
        "To get the **number** of characters whose first movie was after 2009 rather than the list of them (shown in the last cell), get the *shape* of the output:"
      ]
    },
    {
      "cell_type": "code",
      "metadata": {
        "id": "S07_-JPk6qVi"
      },
      "source": [
        "df[df['Year'] > 2009].shape[0]"
      ],
      "execution_count": null,
      "outputs": []
    },
    {
      "cell_type": "markdown",
      "metadata": {
        "id": "A0QYMiDG7HxM"
      },
      "source": [
        "And we can have **multiple conditions**! Let's find entries for characters that have first movies before 2010 and no more than 8 movie appearances:"
      ]
    },
    {
      "cell_type": "code",
      "metadata": {
        "id": "ygWdZ1PF7GEz"
      },
      "source": [
        "df[( df.Year < 2010 ) & (df.Movies <= 8 )]"
      ],
      "execution_count": null,
      "outputs": []
    },
    {
      "cell_type": "markdown",
      "metadata": {
        "id": "6ReLnmgB7Lq4"
      },
      "source": [
        "Maybe we want to **sort** the values somehow. Let's try sorting by year:"
      ]
    },
    {
      "cell_type": "code",
      "metadata": {
        "id": "-GI-M1un7J_a"
      },
      "source": [
        "df = df.sort_values(by = ['Year'])\n",
        "\n",
        "df"
      ],
      "execution_count": null,
      "outputs": []
    },
    {
      "cell_type": "markdown",
      "metadata": {
        "id": "aMv0Zh0p7PMD"
      },
      "source": [
        "Notice in the DataFrame above that the indices are now **out of order**. To fix this, we can **reset** the **index values**:"
      ]
    },
    {
      "cell_type": "code",
      "metadata": {
        "id": "iBg7oYnE7NRE"
      },
      "source": [
        "df = df.reset_index(drop=True)\n",
        "\n",
        "df"
      ],
      "execution_count": null,
      "outputs": []
    },
    {
      "cell_type": "markdown",
      "metadata": {
        "id": "yL_Ma_tC7Svo"
      },
      "source": [
        "## Exercise:\n",
        "\n",
        "Try to filter the DataFrame by characters that have been in at least 8 movies, then sort by their names. Lastly, reset the DataFrame indices so they are in order."
      ]
    },
    {
      "cell_type": "code",
      "metadata": {
        "id": "6scmZBJw7Q7Z"
      },
      "source": [
        "# Try commands filtering and sorting the DataFrame here:\n",
        "\n"
      ],
      "execution_count": null,
      "outputs": []
    },
    {
      "cell_type": "markdown",
      "metadata": {
        "id": "58LQ5pAJ7pY5"
      },
      "source": [
        "We can also **combine** DataFrames in a couple different ways. Below, let's try:\n",
        "\n",
        "1.   **Concatenating** two DataFrames\n",
        "2.   **Merging** two DataFrames"
      ]
    },
    {
      "cell_type": "code",
      "metadata": {
        "id": "6-ujQpej7ppi"
      },
      "source": [
        "# To concatenate DataFrames, we need to have at least two DataFrames. Let's make a second MCU DataFrame!\n",
        "\n",
        "data1 = np.array(['Falcon','Winter Soldier','Pepper Potts'])\n",
        "data2 = np.array([6,8,7])\n",
        "data3 = np.array([2014,2011,2008])\n",
        "data4 = np.array(['Earth','Earth','Earth'])\n",
        "\n",
        "mcu_data = {'Name': data1, 'Movies': data2, 'Year': data3, 'Origin': data4}\n",
        "df2 = pd.DataFrame(data = mcu_data)\n",
        "df2"
      ],
      "execution_count": null,
      "outputs": []
    },
    {
      "cell_type": "code",
      "metadata": {
        "id": "EAw261dR7rF2"
      },
      "source": [
        "# Now, we use concat() to combine the two DataFrames (df and df2)\n",
        "df = pd.concat([df, df2]).reset_index()\n",
        "df"
      ],
      "execution_count": null,
      "outputs": []
    },
    {
      "cell_type": "code",
      "metadata": {
        "id": "_LkZDIra7s92"
      },
      "source": [
        "# What if we have new information to add to our DataFrame for existing characters? Let's make some sample information!\n",
        "\n",
        "# Create an array with the names of characters\n",
        "data1 = np.array(['Spider-Man','Loki','Hulk','Black Widow','Thor','Nick Fury','Iron Man','Falcon','Winter Soldier','Pepper Potts'])\n",
        "\n",
        "# Create an array with whether the character has super strength\n",
        "data2 = np.array([True,True,True,False,True,False,False,False,True,False])\n",
        "\n",
        "mcu_data = {'Name': data1, 'Super Strength': data2}\n",
        "df3 = pd.DataFrame(data = mcu_data)\n",
        "df3"
      ],
      "execution_count": null,
      "outputs": []
    },
    {
      "cell_type": "code",
      "metadata": {
        "id": "mx7OahFP7vCn"
      },
      "source": [
        "# Use merge() to add the above data to the correct rows\n",
        "df = pd.merge(df,df3,how = 'inner', on = 'Name')\n",
        "df = df.drop(['index'],axis=1)\n",
        "df"
      ],
      "execution_count": null,
      "outputs": []
    },
    {
      "cell_type": "markdown",
      "metadata": {
        "id": "f5TDiCxq70IL"
      },
      "source": [
        "We can also **add a column** to the DataFrame by giving it a **name**!"
      ]
    },
    {
      "cell_type": "code",
      "metadata": {
        "id": "svbXEhLi7w4Z"
      },
      "source": [
        "df['Cool Character'] = True\n",
        "\n",
        "df"
      ],
      "execution_count": null,
      "outputs": []
    },
    {
      "cell_type": "markdown",
      "metadata": {
        "id": "qEZmhOy28LuS"
      },
      "source": [
        "## Exercise:\n",
        "\n",
        "Add a new column to the DataFrame! Create a column called 'Flight', and specify 'True' for characters that can fly, and 'False' for character that cannot.\n",
        "\n",
        "\n",
        "\n",
        "*   Hulk: False\n",
        "*   Nick Fury: False\n",
        "*   Iron Man: True\n",
        "*   Black Widow: False\n",
        "*   Loki: False\n",
        "*   Thor: True\n",
        "*   Spider-Man: False\n",
        "*   Falcon: True\n",
        "*   Winter Soldier: False\n",
        "*   Pepper Potts: True\n",
        "\n"
      ]
    },
    {
      "cell_type": "code",
      "metadata": {
        "id": "WSmG2tsM71k1"
      },
      "source": [
        "# Try adding some new information yourself!\n",
        "\n"
      ],
      "execution_count": null,
      "outputs": []
    },
    {
      "cell_type": "markdown",
      "metadata": {
        "id": "uHPiiibR907h"
      },
      "source": [
        "We can also do **math** with data stored in columns! Let's find the number of years since each character's first movie:"
      ]
    },
    {
      "cell_type": "code",
      "metadata": {
        "id": "eY2ARZ8N911E"
      },
      "source": [
        "# The number of years since each character's first movie will be the current year minus the movie year\n",
        "df['Years Since First Movie'] = 2021 - df['Year']\n",
        "df"
      ],
      "execution_count": null,
      "outputs": []
    },
    {
      "cell_type": "code",
      "metadata": {
        "id": "ZgU6CDAf93Ko"
      },
      "source": [
        "# We can also do math between two or more columns. Let's try finding the average number of movies per year for each character since their first movie until now:\n",
        "df['Average Per Year'] = df['Movies'] / df['Years Since First Movie']\n",
        "df"
      ],
      "execution_count": null,
      "outputs": []
    },
    {
      "cell_type": "markdown",
      "metadata": {
        "id": "8Furdxok98SP"
      },
      "source": [
        "Lastly, let's go over how to **iterate** (or loop) through the rows in your DataFrame using iterrows():"
      ]
    },
    {
      "cell_type": "code",
      "metadata": {
        "id": "bMrmpjC594tm"
      },
      "source": [
        "for index, row in df.iterrows():\n",
        "  print (row['Name'], '-->', row['Origin'])"
      ],
      "execution_count": null,
      "outputs": []
    },
    {
      "cell_type": "markdown",
      "metadata": {
        "id": "lgi-N_ad-CTG"
      },
      "source": [
        "## Exercise:\n",
        "\n",
        "Use a loop to print any column(s) of information you want! Feel free to include additional information or formatting."
      ]
    },
    {
      "cell_type": "code",
      "metadata": {
        "id": "_b3RKEuO9_FU"
      },
      "source": [
        "# Try using a loop here!\n",
        "\n"
      ],
      "execution_count": null,
      "outputs": []
    },
    {
      "cell_type": "markdown",
      "metadata": {
        "id": "GF0nOIqQ-jH8"
      },
      "source": [
        "## Plotting with DataFrames\n",
        "\n",
        "To **plot** the values in our DataFrame:"
      ]
    },
    {
      "cell_type": "code",
      "metadata": {
        "id": "9rNrUbIG-k1H"
      },
      "source": [
        "df.plot(kind = 'scatter', x = 'Year', y = 'Movies', title = 'First Appearance vs. Total Number of Appearances', color = 'b')"
      ],
      "execution_count": null,
      "outputs": []
    },
    {
      "cell_type": "markdown",
      "metadata": {
        "id": "yvC07EW6-qgi"
      },
      "source": [
        "If we want to **color-code** the plot by planet of origin, we can split our DataFrame into **groups**. However, this will mean plotting with **Matplotlib**'s PyPlot instead of Pandas, so we must import this package:"
      ]
    },
    {
      "cell_type": "code",
      "metadata": {
        "id": "IFFd50Gf-mHW"
      },
      "source": [
        "import matplotlib.pyplot as plt\n",
        "\n",
        "# Pandas combines parts of Matplotlib and NumPy, so using Matplotlib directly gives us some more options"
      ],
      "execution_count": null,
      "outputs": []
    },
    {
      "cell_type": "code",
      "metadata": {
        "id": "LkZLM60X-sHp"
      },
      "source": [
        "# Group the DataFrame by planet of origin\n",
        "groups = df.groupby(\"Origin\")\n",
        "\n",
        "# Plot each group on the same figure\n",
        "for name, group in groups:\n",
        "      plt.plot(group['Year'], group['Movies'], marker=\"o\", linestyle=\"\", label = name, alpha = 0.5)\n",
        "\n",
        "# Show the legend and axis titles\n",
        "plt.legend()\n",
        "plt.ylabel('Movies')\n",
        "plt.xlabel('Year')"
      ],
      "execution_count": null,
      "outputs": []
    },
    {
      "cell_type": "markdown",
      "metadata": {
        "id": "Y76kVR31_BbH"
      },
      "source": [
        "## Exercise:\n",
        "\n",
        "Group the DataFrame contents by number of movies (Movies column) and use this to color-code a plot of Years Since First Movie (x axis) versus Average Per Year (y axis)."
      ]
    },
    {
      "cell_type": "code",
      "metadata": {
        "id": "Hk2QY5GJ-tpW"
      },
      "source": [
        "# Try grouping and plotting something else yourself!\n",
        "\n"
      ],
      "execution_count": null,
      "outputs": []
    },
    {
      "cell_type": "markdown",
      "metadata": {
        "id": "kIHgtRMW_bIf"
      },
      "source": [
        "## Saving/Loading DataFrames\n",
        "\n",
        "We can also use Pandas to **save our dataframe** to a CSV file, and **load it** back in from that later!"
      ]
    },
    {
      "cell_type": "code",
      "metadata": {
        "id": "kpVvoT3m_cy9"
      },
      "source": [
        "# Write data to a CSV file\n",
        "df.to_csv('mcu_data.csv', index = False)"
      ],
      "execution_count": null,
      "outputs": []
    },
    {
      "cell_type": "code",
      "metadata": {
        "id": "_WYkP2gK_eEd"
      },
      "source": [
        "# Check what's in current directory\n",
        "! ls"
      ],
      "execution_count": null,
      "outputs": []
    },
    {
      "cell_type": "code",
      "metadata": {
        "id": "hox1o6J6_fEN"
      },
      "source": [
        "# Read data from a CSV file\n",
        "mcu_df = pd.read_csv('mcu_data.csv')\n",
        "\n",
        "mcu_df"
      ],
      "execution_count": null,
      "outputs": []
    },
    {
      "cell_type": "markdown",
      "metadata": {
        "id": "14Fodvh8_ifM"
      },
      "source": [
        "Lastly, know that there are a ton of Pandas functions you can use! Very few people know all of them or know how to use them off the top of their heads -- most people will need to look it up. I use Pandas frequently, and I am constantly looking up which function to use or certain ways to use it! To do this, I reference the documentation, found [here](https://pandas.pydata.org/pandas-docs/stable/reference/frame.html).\n",
        "\n",
        "The list on the left has every function you might need. If you are not clear on how to use a function to fit your needs, don't be afraid to look it up! Sometimes, you will have to get creative depending on the complexity of what you are working on. Chances are someone else has posted the solution you need!"
      ]
    }
  ]
}