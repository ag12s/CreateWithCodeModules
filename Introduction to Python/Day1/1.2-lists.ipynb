{
  "nbformat": 4,
  "nbformat_minor": 0,
  "metadata": {
    "anaconda-cloud": {},
    "celltoolbar": "Slideshow",
    "kernelspec": {
      "display_name": "Python 3",
      "language": "python",
      "name": "python3"
    },
    "language_info": {
      "codemirror_mode": {
        "name": "ipython",
        "version": 3
      },
      "file_extension": ".py",
      "mimetype": "text/x-python",
      "name": "python",
      "nbconvert_exporter": "python",
      "pygments_lexer": "ipython3",
      "version": "3.8.8"
    },
    "colab": {
      "name": "CwC-Intro2Python-1.2-lists.ipynb",
      "provenance": [],
      "collapsed_sections": [
        "9yrrJjeTfoff",
        "uYnazDwOfofu",
        "KuSSDo7Bfof7",
        "XNkmthsHfof9",
        "0IkysitjfogL",
        "vJ_0W1MifogR",
        "DEB6dArLfogd",
        "KEMP6jIyfogh",
        "6B9ivANsfog3",
        "pvh5e996fog8",
        "PW1IJj1gfohA",
        "iCorh_6zfohG"
      ]
    }
  },
  "cells": [
    {
      "cell_type": "markdown",
      "metadata": {
        "id": "qCeRcWGnfod8"
      },
      "source": [
        "<p style=\"text-align: center;\"><font size=\"8\"><b>Section 1.2: Lists</b></font><br>"
      ]
    },
    {
      "cell_type": "markdown",
      "metadata": {
        "id": "IG2PEhkSfoeQ"
      },
      "source": [
        "So far, you've seen how to run simple Python commands by using the interpreter or by executing a text file called a script. We will now be using the Python interpreter. Of course, anything you type into the interpreter could also go into a script.  \n",
        "\n",
        "This section introduces some important concepts specific to Python, including the basic syntax and some useful classes.\n",
        "\n",
        "Now to learn about our first object - the `list` class. The `list` class introduces us to very important concepts in object-oriented programming, including constructors, methods, mutable objects and return values. "
      ]
    },
    {
      "cell_type": "markdown",
      "metadata": {
        "id": "GE45RYxmfoeV"
      },
      "source": [
        "# The List Class\n",
        "\n",
        "The list class is a good first example of a built-in Python class. Lists are very useful in Python. They are used to store items.\n"
      ]
    },
    {
      "cell_type": "markdown",
      "metadata": {
        "id": "tGXWcpvWfoeh"
      },
      "source": [
        "Without further ado, let's create an empty grocery list."
      ]
    },
    {
      "cell_type": "code",
      "metadata": {
        "collapsed": true,
        "id": "e77iSx27foew"
      },
      "source": [
        "groceries = list()"
      ],
      "execution_count": null,
      "outputs": []
    },
    {
      "cell_type": "markdown",
      "metadata": {
        "id": "erIM_9Jjfoex"
      },
      "source": [
        "This command demonstrates several key principles. \n",
        "\n",
        "*   The word `list()` creates a new instance of the list class by calling its *constructor*.\n",
        "*   The constructor is responsible for allocating memory for the initial state of the object.\n",
        "*   The parentheses which follow the word `list` indicate that this is an action. Here we have created an empty list.\n",
        "\n",
        "    \n",
        "\n"
      ]
    },
    {
      "cell_type": "markdown",
      "metadata": {
        "id": "Q2dbZQt-foe0"
      },
      "source": [
        "The word `groceries` is an *identifier*. We can choose almost anything as an identifier, however good programming practices suggests that we should choose something meaningful. There are a few rules to remember when choosing identifiers:\n",
        "* identifiers must consist of letters, digits or underscore characters\n",
        "* identifiers cannot begin with a digit\n",
        "* certain reserve words, (e.g. class, for, if) have other meanings in Python and cannot be used as identifiers\n",
        "* identifiers are all case sensitive (grocery is not the same as Grocery)\n",
        "\n",
        "The entire command `groceries = list()` is an assignment statement. Here we are assigning the identifier on the left hand of the = operator with the object on the right side. \n"
      ]
    },
    {
      "cell_type": "code",
      "metadata": {
        "id": "AjEj7-jAyHN6"
      },
      "source": [
        ""
      ],
      "execution_count": null,
      "outputs": []
    },
    {
      "cell_type": "markdown",
      "metadata": {
        "id": "2Czozc0Gfoe5"
      },
      "source": [
        "`groceries` is an object of type `list`. We can see this by using the `type` command:"
      ]
    },
    {
      "cell_type": "code",
      "metadata": {
        "colab": {
          "base_uri": "https://localhost:8080/"
        },
        "id": "x9JobMs6foe8",
        "outputId": "d58c992a-4cf4-4a01-f979-2ae3c88eac44"
      },
      "source": [
        "type(groceries)"
      ],
      "execution_count": null,
      "outputs": [
        {
          "output_type": "execute_result",
          "data": {
            "text/plain": [
              "list"
            ]
          },
          "metadata": {
            "tags": []
          },
          "execution_count": 13
        }
      ]
    },
    {
      "cell_type": "markdown",
      "metadata": {
        "id": "PW1IJj1gfohA"
      },
      "source": [
        "### An aside: Adding Comments\n",
        "\n",
        "In almost every programming language the programmer can leave comments. These comments have no effect on the code output, but can provide information that may assist themselves or anyone else (for example an instructor) reading their code. \n",
        "\n",
        "Comments are incredibley important. When you deal with long (or sometime even short) programs it can be very difficult to figure out what is going on without them. \n"
      ]
    },
    {
      "cell_type": "markdown",
      "metadata": {
        "id": "Xlrcb_iJfohB"
      },
      "source": [
        "\n",
        "In Python when the symbol `#` is used in a line of code, the rest of the line is considered a comment and is ignored by the Python interpreter. \n",
        "\n",
        "There are two common styles. The first is to have a comment on a line by itself to explain what is about to come:"
      ]
    },
    {
      "cell_type": "code",
      "metadata": {
        "collapsed": true,
        "id": "QZpqj77CfohC"
      },
      "source": [
        "# start with an empty shopping list\n",
        "groceries = list()"
      ],
      "execution_count": null,
      "outputs": []
    },
    {
      "cell_type": "markdown",
      "metadata": {
        "id": "l-jvCEPCfohD"
      },
      "source": [
        "The second is the *inline* a comment on the right hand side of an existing command:"
      ]
    },
    {
      "cell_type": "code",
      "metadata": {
        "collapsed": true,
        "id": "OJmDuiLMfohE"
      },
      "source": [
        "groceries = list()   #start with an empty shopping list"
      ],
      "execution_count": null,
      "outputs": []
    },
    {
      "cell_type": "markdown",
      "metadata": {
        "id": "2JE5XjhKfohF"
      },
      "source": [
        "It's up to you what style you use, but please use them (and not just in this class). "
      ]
    },
    {
      "cell_type": "markdown",
      "metadata": {
        "id": "JHxst5nQfoe_"
      },
      "source": [
        "# Methods\n",
        "\n",
        "\n",
        "### Append\n",
        "After creating our grocery list, we can add objects to it.\n"
      ]
    },
    {
      "cell_type": "code",
      "metadata": {
        "id": "VF5TsNARfofB"
      },
      "source": [
        "groceries.append('bread')"
      ],
      "execution_count": null,
      "outputs": []
    },
    {
      "cell_type": "markdown",
      "metadata": {
        "id": "nwAOY5pVfofD"
      },
      "source": [
        "This is the general syntax for calling a method belonging to an object. \n",
        "\n",
        "![method](https://github.com/lukasbystricky/ISC-3313/blob/master/lectures/chapter2/images/object_method.png?raw=true)\n",
        "\n",
        "The leftmost identifier tells the method append the object that it acts on. The word after the dot identifies the method to be used and the word inside the parentheses is called a *parameter*. "
      ]
    },
    {
      "cell_type": "markdown",
      "metadata": {
        "id": "MgJOG7YMfofK"
      },
      "source": [
        "Note that for our purposes we must enclose the parameter with quotes. If we did not we would get an error"
      ]
    },
    {
      "cell_type": "code",
      "metadata": {
        "colab": {
          "base_uri": "https://localhost:8080/",
          "height": 163
        },
        "id": "OtluKBXDfofL",
        "outputId": "349e6687-3226-428e-fe2a-333b5963c398"
      },
      "source": [
        "groceries.append(bread)"
      ],
      "execution_count": null,
      "outputs": [
        {
          "output_type": "error",
          "ename": "NameError",
          "evalue": "ignored",
          "traceback": [
            "\u001b[0;31m---------------------------------------------------------------------------\u001b[0m",
            "\u001b[0;31mNameError\u001b[0m                                 Traceback (most recent call last)",
            "\u001b[0;32m<ipython-input-15-1e18334086a0>\u001b[0m in \u001b[0;36m<module>\u001b[0;34m()\u001b[0m\n\u001b[0;32m----> 1\u001b[0;31m \u001b[0mgroceries\u001b[0m\u001b[0;34m.\u001b[0m\u001b[0mappend\u001b[0m\u001b[0;34m(\u001b[0m\u001b[0mbread\u001b[0m\u001b[0;34m)\u001b[0m\u001b[0;34m\u001b[0m\u001b[0;34m\u001b[0m\u001b[0m\n\u001b[0m",
            "\u001b[0;31mNameError\u001b[0m: name 'bread' is not defined"
          ]
        }
      ]
    },
    {
      "cell_type": "markdown",
      "metadata": {
        "id": "0hb8Z7gKfofN"
      },
      "source": [
        "As a beginner programmer you in all likelihood see errors quite often. It's important to be able to read them and diagnose what the problem is. Here the error message is telling us that the word \"bread\" has not been assigned to an identifier."
      ]
    },
    {
      "cell_type": "markdown",
      "metadata": {
        "id": "gYBl1u7TfofP"
      },
      "source": [
        "Another common error occurs when we to call a method without the proper parameters. For example"
      ]
    },
    {
      "cell_type": "code",
      "metadata": {
        "colab": {
          "base_uri": "https://localhost:8080/",
          "height": 163
        },
        "id": "xmqluxyzfofQ",
        "outputId": "fa8241f3-8c5e-46e4-d6f5-4a2042ddb1c8"
      },
      "source": [
        "groceries.append()"
      ],
      "execution_count": null,
      "outputs": [
        {
          "output_type": "error",
          "ename": "TypeError",
          "evalue": "ignored",
          "traceback": [
            "\u001b[0;31m---------------------------------------------------------------------------\u001b[0m",
            "\u001b[0;31mTypeError\u001b[0m                                 Traceback (most recent call last)",
            "\u001b[0;32m<ipython-input-16-99de4f76e670>\u001b[0m in \u001b[0;36m<module>\u001b[0;34m()\u001b[0m\n\u001b[0;32m----> 1\u001b[0;31m \u001b[0mgroceries\u001b[0m\u001b[0;34m.\u001b[0m\u001b[0mappend\u001b[0m\u001b[0;34m(\u001b[0m\u001b[0;34m)\u001b[0m\u001b[0;34m\u001b[0m\u001b[0;34m\u001b[0m\u001b[0m\n\u001b[0m",
            "\u001b[0;31mTypeError\u001b[0m: append() takes exactly one argument (0 given)"
          ]
        }
      ]
    },
    {
      "cell_type": "markdown",
      "metadata": {
        "id": "_9HsA3z0fofR"
      },
      "source": [
        "This error is telling us that we called append with 0 arguments, when it needs exactly 1. "
      ]
    },
    {
      "cell_type": "markdown",
      "metadata": {
        "id": "oZ9xVXOjfofS"
      },
      "source": [
        "The `append` method is an example of a *mutator*. Mutators change the internal state of an object. We can continue to add items to the list:"
      ]
    },
    {
      "cell_type": "code",
      "metadata": {
        "id": "FvkaY1P4fofT"
      },
      "source": [
        "groceries.append(\"sugar\")\n",
        "groceries.append(\"milk\")"
      ],
      "execution_count": null,
      "outputs": []
    },
    {
      "cell_type": "markdown",
      "metadata": {
        "id": "lsB8AoRGfofZ"
      },
      "source": [
        "To see what is in the list, we can just type `groceries` into the interpreter."
      ]
    },
    {
      "cell_type": "code",
      "metadata": {
        "colab": {
          "base_uri": "https://localhost:8080/"
        },
        "id": "FnZMqb9efofa",
        "outputId": "dfd09bec-4917-489d-b48b-9b8f3cc18367"
      },
      "source": [
        "groceries"
      ],
      "execution_count": null,
      "outputs": [
        {
          "output_type": "execute_result",
          "data": {
            "text/plain": [
              "['bread', 'sugar', 'milk']"
            ]
          },
          "metadata": {
            "tags": []
          },
          "execution_count": 18
        }
      ]
    },
    {
      "cell_type": "markdown",
      "metadata": {
        "id": "sMDtUqSjfofc"
      },
      "source": [
        "Notice that append method did what you'd expect, it added the item to the end of the list. We can add multiple copies of the same item."
      ]
    },
    {
      "cell_type": "code",
      "metadata": {
        "colab": {
          "base_uri": "https://localhost:8080/"
        },
        "id": "acnLsLCIfofd",
        "outputId": "a9fe708c-364d-4b71-d4b7-ee6f05ef0cf1"
      },
      "source": [
        "groceries.append(\"sugar\")\n",
        "groceries"
      ],
      "execution_count": null,
      "outputs": [
        {
          "output_type": "execute_result",
          "data": {
            "text/plain": [
              "['bread', 'sugar', 'milk', 'sugar']"
            ]
          },
          "metadata": {
            "tags": []
          },
          "execution_count": 19
        }
      ]
    },
    {
      "cell_type": "markdown",
      "metadata": {
        "id": "9yrrJjeTfoff"
      },
      "source": [
        "### Insert\n",
        "\n",
        "Another method associated with lists is the insert method. Sometimes the order of a list is important and we don't simply want to add items to the end of the list. \n",
        "\n",
        "Suppse we're trying to compile a list of the largest cities the US. We could start by creating an empty list as we did with the grocery list, or we could start with an already populated (but in our case incomplete) list."
      ]
    },
    {
      "cell_type": "code",
      "metadata": {
        "collapsed": true,
        "id": "ubKQghlwfofh"
      },
      "source": [
        "largest_cities = [\"New York\", \"Chicago\", \"Seattle\"]"
      ],
      "execution_count": null,
      "outputs": []
    },
    {
      "cell_type": "markdown",
      "metadata": {
        "id": "BhRDjuIHfofi"
      },
      "source": [
        "This is an alternative way to construct a list. To construct an empty list if would suffice to call"
      ]
    },
    {
      "cell_type": "code",
      "metadata": {
        "colab": {
          "base_uri": "https://localhost:8080/"
        },
        "id": "YA_UhG6Hfofj",
        "outputId": "27ef3036-2343-4894-92d5-662e432d3392"
      },
      "source": [
        "new_list = []\n",
        "new_list"
      ],
      "execution_count": null,
      "outputs": [
        {
          "output_type": "execute_result",
          "data": {
            "text/plain": [
              "[]"
            ]
          },
          "metadata": {
            "tags": []
          },
          "execution_count": 21
        }
      ]
    },
    {
      "cell_type": "markdown",
      "metadata": {
        "id": "xKV2ROzGfofl"
      },
      "source": [
        "As before, we can append cities to the end."
      ]
    },
    {
      "cell_type": "code",
      "metadata": {
        "colab": {
          "base_uri": "https://localhost:8080/"
        },
        "id": "y1Wrl4Jxfofn",
        "outputId": "b9f76cfa-54e3-46c7-eef1-c49192431c77"
      },
      "source": [
        "largest_cities.append(\"Tallahassee\")\n",
        "largest_cities"
      ],
      "execution_count": null,
      "outputs": [
        {
          "output_type": "execute_result",
          "data": {
            "text/plain": [
              "['New York', 'Chicago', 'Seattle', 'Tallahassee']"
            ]
          },
          "metadata": {
            "tags": []
          },
          "execution_count": 22
        }
      ]
    },
    {
      "cell_type": "markdown",
      "metadata": {
        "id": "owY9c1Jsfofo"
      },
      "source": [
        "You'll notice that we're missing Los Angeles in our list. If we append it to end, our list would be out of order. Instead we can insert it just behind New York, using the `insert` method."
      ]
    },
    {
      "cell_type": "code",
      "metadata": {
        "colab": {
          "base_uri": "https://localhost:8080/"
        },
        "id": "IuQ0h62_fofp",
        "outputId": "44a025fe-8a1f-4577-f4d5-4a8f0ca3bf8a"
      },
      "source": [
        "largest_cities.insert(1,\"Los Angeles\")\n",
        "largest_cities"
      ],
      "execution_count": null,
      "outputs": [
        {
          "output_type": "execute_result",
          "data": {
            "text/plain": [
              "['New York', 'Los Angeles', 'Chicago', 'Seattle', 'Tallahassee']"
            ]
          },
          "metadata": {
            "tags": []
          },
          "execution_count": 23
        }
      ]
    },
    {
      "cell_type": "markdown",
      "metadata": {
        "id": "2yQVpaW-fofr"
      },
      "source": [
        "The number 1 indicates the position at which to insert \"Los Angeles\". Python is so called 0 based, so the first item in the list is numbered 0, the second is numbered 1 and so on. "
      ]
    },
    {
      "cell_type": "code",
      "metadata": {
        "colab": {
          "base_uri": "https://localhost:8080/"
        },
        "id": "hTNRuJUWfofs",
        "outputId": "50751e9b-82f5-43e8-99d9-638d5173a5be"
      },
      "source": [
        "largest_cities.insert(3, \"Boston\")\n",
        "largest_cities"
      ],
      "execution_count": null,
      "outputs": [
        {
          "output_type": "execute_result",
          "data": {
            "text/plain": [
              "['New York', 'Los Angeles', 'Chicago', 'Boston', 'Seattle', 'Tallahassee']"
            ]
          },
          "metadata": {
            "tags": []
          },
          "execution_count": 24
        }
      ]
    },
    {
      "cell_type": "markdown",
      "metadata": {
        "id": "uYnazDwOfofu"
      },
      "source": [
        "### Remove\n",
        "\n",
        "Another example of a mutator is the  `remove` method. Returning to our grocery list, let's remove bread from the list."
      ]
    },
    {
      "cell_type": "code",
      "metadata": {
        "colab": {
          "base_uri": "https://localhost:8080/"
        },
        "id": "VWyXx2iifofv",
        "outputId": "88c7f052-79dc-4455-ede6-7e854b48e206"
      },
      "source": [
        "groceries.remove(\"bread\")\n",
        "groceries"
      ],
      "execution_count": null,
      "outputs": [
        {
          "output_type": "execute_result",
          "data": {
            "text/plain": [
              "['sugar', 'milk', 'sugar']"
            ]
          },
          "metadata": {
            "tags": []
          },
          "execution_count": 25
        }
      ]
    },
    {
      "cell_type": "markdown",
      "metadata": {
        "id": "NL8YhNcNfofx"
      },
      "source": [
        "What if we try to remove sugar from our list?"
      ]
    },
    {
      "cell_type": "code",
      "metadata": {
        "colab": {
          "base_uri": "https://localhost:8080/"
        },
        "id": "KQFXMFd2fofy",
        "outputId": "c9c64db4-4c1d-4c3f-8c6b-9969221786dc"
      },
      "source": [
        "groceries.remove(\"sugar\")\n",
        "groceries"
      ],
      "execution_count": null,
      "outputs": [
        {
          "output_type": "execute_result",
          "data": {
            "text/plain": [
              "['milk', 'sugar']"
            ]
          },
          "metadata": {
            "tags": []
          },
          "execution_count": 26
        }
      ]
    },
    {
      "cell_type": "markdown",
      "metadata": {
        "id": "z9p4x9MVfof3"
      },
      "source": [
        "In this case, the remove method only removes the first occurance of sugar in the list."
      ]
    },
    {
      "cell_type": "markdown",
      "metadata": {
        "id": "k4XeiY9Pfof4"
      },
      "source": [
        "What happens if you try to remove an item from a list that is not actually on the list?"
      ]
    },
    {
      "cell_type": "code",
      "metadata": {
        "colab": {
          "base_uri": "https://localhost:8080/",
          "height": 163
        },
        "id": "esWrhwwTfof5",
        "outputId": "3e3110af-238d-45f4-b691-633f5349c7d3"
      },
      "source": [
        "groceries.remove(\"coffee\")"
      ],
      "execution_count": null,
      "outputs": [
        {
          "output_type": "error",
          "ename": "ValueError",
          "evalue": "ignored",
          "traceback": [
            "\u001b[0;31m---------------------------------------------------------------------------\u001b[0m",
            "\u001b[0;31mValueError\u001b[0m                                Traceback (most recent call last)",
            "\u001b[0;32m<ipython-input-27-6ea98f381ff6>\u001b[0m in \u001b[0;36m<module>\u001b[0;34m()\u001b[0m\n\u001b[0;32m----> 1\u001b[0;31m \u001b[0mgroceries\u001b[0m\u001b[0;34m.\u001b[0m\u001b[0mremove\u001b[0m\u001b[0;34m(\u001b[0m\u001b[0;34m\"coffee\"\u001b[0m\u001b[0;34m)\u001b[0m\u001b[0;34m\u001b[0m\u001b[0;34m\u001b[0m\u001b[0m\n\u001b[0m",
            "\u001b[0;31mValueError\u001b[0m: list.remove(x): x not in list"
          ]
        }
      ]
    },
    {
      "cell_type": "markdown",
      "metadata": {
        "id": "6jt5j_1xfof6"
      },
      "source": [
        "This type of error is known as a ValueError. The synax is correct, however the value of the parameter is not legitimate for the intended action."
      ]
    },
    {
      "cell_type": "markdown",
      "metadata": {
        "id": "KuSSDo7Bfof7"
      },
      "source": [
        "# Return Values\n",
        "\n",
        "None of the methods discussed so far (`append`, `insert`, `remove`) provides a return value. They all execute, and then return control back to the interpreter. Of course some methods exist that do return values.  \n",
        "\n"
      ]
    },
    {
      "cell_type": "markdown",
      "metadata": {
        "id": "XNkmthsHfof9"
      },
      "source": [
        "### count\n",
        "\n",
        "Sticking with our grocery list, let's look at the `count` method. The count method returns the number of times an item occurs on the list."
      ]
    },
    {
      "cell_type": "code",
      "metadata": {
        "colab": {
          "base_uri": "https://localhost:8080/"
        },
        "id": "XIKMAVQmfof-",
        "outputId": "920c4799-f500-4a61-8ee2-04a32b2a3fd3"
      },
      "source": [
        "groceries.count('milk')"
      ],
      "execution_count": null,
      "outputs": [
        {
          "output_type": "execute_result",
          "data": {
            "text/plain": [
              "1"
            ]
          },
          "metadata": {
            "tags": []
          },
          "execution_count": 28
        }
      ]
    },
    {
      "cell_type": "markdown",
      "metadata": {
        "id": "9KnRO7Pgfof_"
      },
      "source": [
        "Note that unlike the `remove` method, if we ask for the count of an object that isn't included in the list, we do not get an error."
      ]
    },
    {
      "cell_type": "code",
      "metadata": {
        "colab": {
          "base_uri": "https://localhost:8080/"
        },
        "id": "dfS75uv0fogA",
        "outputId": "c2fd475c-6f53-44d8-d5f5-f163f750ae1e"
      },
      "source": [
        "groceries.count(\"coffee\")"
      ],
      "execution_count": null,
      "outputs": [
        {
          "output_type": "execute_result",
          "data": {
            "text/plain": [
              "0"
            ]
          },
          "metadata": {
            "tags": []
          },
          "execution_count": 29
        }
      ]
    },
    {
      "cell_type": "markdown",
      "metadata": {
        "id": "K_PbHm_0fogC"
      },
      "source": [
        "When we're working interactively we may want to just display the return value. Often however, we wish to save this information for later use. This done by using the assignment operator."
      ]
    },
    {
      "cell_type": "code",
      "metadata": {
        "collapsed": true,
        "id": "ix-qEqNsfogD"
      },
      "source": [
        "milk_count = groceries.count('milk')"
      ],
      "execution_count": null,
      "outputs": []
    },
    {
      "cell_type": "markdown",
      "metadata": {
        "id": "MV50IukifogE"
      },
      "source": [
        "If we want to know what's stored in `milk_count`, we can just type it in the interpreter."
      ]
    },
    {
      "cell_type": "code",
      "metadata": {
        "colab": {
          "base_uri": "https://localhost:8080/"
        },
        "id": "XnjgxCmvfogF",
        "outputId": "f364f495-968a-43a7-d662-6ebf6e439058"
      },
      "source": [
        "milk_count"
      ],
      "execution_count": null,
      "outputs": [
        {
          "output_type": "execute_result",
          "data": {
            "text/plain": [
              "1"
            ]
          },
          "metadata": {
            "tags": []
          },
          "execution_count": 31
        }
      ]
    },
    {
      "cell_type": "markdown",
      "metadata": {
        "id": "V54WL_07fogI"
      },
      "source": [
        "Note that if we later add more milk to the list, the value of milk_count does not change"
      ]
    },
    {
      "cell_type": "code",
      "metadata": {
        "colab": {
          "base_uri": "https://localhost:8080/"
        },
        "id": "PnQjj3aqfogJ",
        "outputId": "c93f0dc0-9afb-4f78-908b-3f312715de36"
      },
      "source": [
        "groceries.append('milk')\n",
        "groceries.append('milk')\n",
        "\n",
        "groceries.count('milk')"
      ],
      "execution_count": null,
      "outputs": [
        {
          "output_type": "execute_result",
          "data": {
            "text/plain": [
              "3"
            ]
          },
          "metadata": {
            "tags": []
          },
          "execution_count": 32
        }
      ]
    },
    {
      "cell_type": "code",
      "metadata": {
        "colab": {
          "base_uri": "https://localhost:8080/"
        },
        "id": "kCvlbJT9fogK",
        "outputId": "c45ab36b-3ac0-4c98-eb5f-19290937a092"
      },
      "source": [
        "milk_count"
      ],
      "execution_count": null,
      "outputs": [
        {
          "output_type": "execute_result",
          "data": {
            "text/plain": [
              "1"
            ]
          },
          "metadata": {
            "tags": []
          },
          "execution_count": 33
        }
      ]
    },
    {
      "cell_type": "markdown",
      "metadata": {
        "id": "0IkysitjfogL"
      },
      "source": [
        "### index\n",
        "\n",
        "The index method returns the first location of an object in a list."
      ]
    },
    {
      "cell_type": "code",
      "metadata": {
        "colab": {
          "base_uri": "https://localhost:8080/"
        },
        "id": "L6MRcvJpfogM",
        "outputId": "89fb34fd-54f9-49fd-a9d2-38d9beaedb81"
      },
      "source": [
        "groceries"
      ],
      "execution_count": null,
      "outputs": [
        {
          "output_type": "execute_result",
          "data": {
            "text/plain": [
              "['milk', 'sugar', 'milk', 'milk']"
            ]
          },
          "metadata": {
            "tags": []
          },
          "execution_count": 34
        }
      ]
    },
    {
      "cell_type": "code",
      "metadata": {
        "colab": {
          "base_uri": "https://localhost:8080/"
        },
        "id": "L8J25HwJfogO",
        "outputId": "e4bbbfc8-ec6e-43e4-cb11-17d98629ad12"
      },
      "source": [
        "groceries.index(\"milk\")"
      ],
      "execution_count": null,
      "outputs": [
        {
          "output_type": "execute_result",
          "data": {
            "text/plain": [
              "0"
            ]
          },
          "metadata": {
            "tags": []
          },
          "execution_count": 35
        }
      ]
    },
    {
      "cell_type": "markdown",
      "metadata": {
        "id": "SlDr6j8OfogP"
      },
      "source": [
        "The index method returns an error if the object is not in the list."
      ]
    },
    {
      "cell_type": "code",
      "metadata": {
        "colab": {
          "base_uri": "https://localhost:8080/",
          "height": 163
        },
        "id": "GLgMDpExfogQ",
        "outputId": "57597361-3d82-4e1e-bdc6-6720f3e60666"
      },
      "source": [
        "groceries.index(\"coffee\")"
      ],
      "execution_count": null,
      "outputs": [
        {
          "output_type": "error",
          "ename": "ValueError",
          "evalue": "ignored",
          "traceback": [
            "\u001b[0;31m---------------------------------------------------------------------------\u001b[0m",
            "\u001b[0;31mValueError\u001b[0m                                Traceback (most recent call last)",
            "\u001b[0;32m<ipython-input-36-dc36138c3b5f>\u001b[0m in \u001b[0;36m<module>\u001b[0;34m()\u001b[0m\n\u001b[0;32m----> 1\u001b[0;31m \u001b[0mgroceries\u001b[0m\u001b[0;34m.\u001b[0m\u001b[0mindex\u001b[0m\u001b[0;34m(\u001b[0m\u001b[0;34m\"coffee\"\u001b[0m\u001b[0;34m)\u001b[0m\u001b[0;34m\u001b[0m\u001b[0;34m\u001b[0m\u001b[0m\n\u001b[0m",
            "\u001b[0;31mValueError\u001b[0m: 'coffee' is not in list"
          ]
        }
      ]
    },
    {
      "cell_type": "markdown",
      "metadata": {
        "id": "vJ_0W1MifogR"
      },
      "source": [
        "### pop\n",
        "\n",
        "We looked earlier at mutator (`insert`, `remove`, `append`). These methods did not return anything. The `pop` method is a mutator that also returns a value. \n"
      ]
    },
    {
      "cell_type": "code",
      "metadata": {
        "id": "-zPTkJO0fogS"
      },
      "source": [
        "groceries"
      ],
      "execution_count": null,
      "outputs": []
    },
    {
      "cell_type": "code",
      "metadata": {
        "id": "Q9L9T_j3fogT"
      },
      "source": [
        "groceries.pop()"
      ],
      "execution_count": null,
      "outputs": []
    },
    {
      "cell_type": "code",
      "metadata": {
        "id": "8jEA0cYqfogU"
      },
      "source": [
        "groceries"
      ],
      "execution_count": null,
      "outputs": []
    },
    {
      "cell_type": "markdown",
      "metadata": {
        "id": "SQNubRK_fogX"
      },
      "source": [
        "The `pop()` method is used to remove the last object from the list and return it to the caller. \n",
        "\n",
        "`pop` can also take is an index as parameter. Then `pop` removes the object at that index and returns that object to the caller."
      ]
    },
    {
      "cell_type": "code",
      "metadata": {
        "id": "pwU6uUmLfoga"
      },
      "source": [
        "groceries.pop(0)"
      ],
      "execution_count": null,
      "outputs": []
    },
    {
      "cell_type": "code",
      "metadata": {
        "id": "xZ8HpRzXfogc"
      },
      "source": [
        "groceries"
      ],
      "execution_count": null,
      "outputs": []
    },
    {
      "cell_type": "markdown",
      "metadata": {
        "id": "DEB6dArLfogd"
      },
      "source": [
        "# Exercise\n",
        "\n",
        "Suppose we have a list of astronauts."
      ]
    },
    {
      "cell_type": "code",
      "metadata": {
        "collapsed": true,
        "id": "a5Pdu9Lsfoge"
      },
      "source": [
        "astronauts = [\"Yuri Gagarin\", \"John Glenn\", \"Neil Armstrong\"]"
      ],
      "execution_count": null,
      "outputs": []
    },
    {
      "cell_type": "markdown",
      "metadata": {
        "id": "WZeequ_Rfogg"
      },
      "source": [
        "Write a line of code to add \"Alan Sheppard\" between Yuri Gagarin and John Glenn. "
      ]
    },
    {
      "cell_type": "code",
      "metadata": {
        "id": "0bT3pnT5zBhF"
      },
      "source": [
        ""
      ],
      "execution_count": null,
      "outputs": []
    },
    {
      "cell_type": "markdown",
      "metadata": {
        "id": "KEMP6jIyfogh"
      },
      "source": [
        "# Indexing\n",
        "\n",
        "Some methods are so commonly used that Python supports a more convenient syntax called an *operator*. Consider an example from the text book, namely we have a list of people competing in a race, sorted from fastest to slowest. \n"
      ]
    },
    {
      "cell_type": "code",
      "metadata": {
        "collapsed": true,
        "id": "x_rvejY1fogi"
      },
      "source": [
        "contestants = ['Gomes', 'Kiogora', 'Tergat', 'Yego']"
      ],
      "execution_count": null,
      "outputs": []
    },
    {
      "cell_type": "markdown",
      "metadata": {
        "id": "QBpcc9nPfogj"
      },
      "source": [
        "Suppose we want to extract the bronze medalist (3rd place finisher, thus at index 2 in the list). This can be done by using the syntax"
      ]
    },
    {
      "cell_type": "code",
      "metadata": {
        "id": "pz1s8JfGfogk"
      },
      "source": [
        "contestants[2]"
      ],
      "execution_count": null,
      "outputs": []
    },
    {
      "cell_type": "markdown",
      "metadata": {
        "id": "KYasbt4gfogl"
      },
      "source": [
        "This use of square brackets is called *indexing* the list."
      ]
    },
    {
      "cell_type": "markdown",
      "metadata": {
        "id": "W62ukIsofogm"
      },
      "source": [
        "List indexing can be used to replace existing items. Let's say we want to replace the bronze medalist with \"Sami\". We could do that by calling"
      ]
    },
    {
      "cell_type": "code",
      "metadata": {
        "id": "AeAjY6wGfogn"
      },
      "source": [
        "contestants[2] = \"Sami\"\n",
        "contestants"
      ],
      "execution_count": null,
      "outputs": []
    },
    {
      "cell_type": "markdown",
      "metadata": {
        "id": "tuZ739dffogp"
      },
      "source": [
        "Python also supports negative indices, which it interprets relative to the end of the list. Thus the index -1 denotes the last item on the list, -2 the second last and so on."
      ]
    },
    {
      "cell_type": "code",
      "metadata": {
        "id": "ARnRwJdYfogq"
      },
      "source": [
        "contestants[-1]"
      ],
      "execution_count": null,
      "outputs": []
    },
    {
      "cell_type": "code",
      "metadata": {
        "id": "uh_3tBT-fogr"
      },
      "source": [
        "contestants[-2]"
      ],
      "execution_count": null,
      "outputs": []
    },
    {
      "cell_type": "markdown",
      "metadata": {
        "id": "S1GK5aN-fogs"
      },
      "source": [
        "Based on these conventions, positive indices can range from 0 to one less than the length of the list, while negative indices can range from -1 down to the negative of the length of the list. Asking for items outside this range will result in an error."
      ]
    },
    {
      "cell_type": "code",
      "metadata": {
        "id": "0GR1A76tfogt"
      },
      "source": [
        "contestants[4]"
      ],
      "execution_count": null,
      "outputs": []
    },
    {
      "cell_type": "code",
      "metadata": {
        "id": "EvOQzyCgfogu"
      },
      "source": [
        "contestants[-5]"
      ],
      "execution_count": null,
      "outputs": []
    },
    {
      "cell_type": "markdown",
      "metadata": {
        "id": "OoJtifmPfogv"
      },
      "source": [
        "Lists also support *slicing*, i.e. extracting a sublist. \n",
        "\n",
        "Rather than a single index, a slice is described by a pair of indices separated by a colon. The slice starts at the first of the two indices and continues up to *but not including* the seocnd index. For example"
      ]
    },
    {
      "cell_type": "code",
      "metadata": {
        "id": "tZiEIEBhfogy"
      },
      "source": [
        "contestants[2:4]"
      ],
      "execution_count": null,
      "outputs": []
    },
    {
      "cell_type": "markdown",
      "metadata": {
        "id": "3D3DkiTcfogz"
      },
      "source": [
        "returns the 3rd and 4th entries in our grocery list. If the first index is ommited, it is assumed to be 0, if the last index is ommited the slice continues until the end."
      ]
    },
    {
      "cell_type": "code",
      "metadata": {
        "id": "gc92Su83fog0"
      },
      "source": [
        "contestants[:2]"
      ],
      "execution_count": null,
      "outputs": []
    },
    {
      "cell_type": "markdown",
      "metadata": {
        "id": "k1-aSp98fog1"
      },
      "source": [
        "Slicing can also support step sizes by inputting a third argument in the slice syntax. For example with a step size of $k$, the slice begins at the first index, takes each $k$-th item in the list and continues so long as it does not reach or pass the second index."
      ]
    },
    {
      "cell_type": "code",
      "metadata": {
        "id": "HiJU4oDXfog2"
      },
      "source": [
        "contestants[::2]"
      ],
      "execution_count": null,
      "outputs": []
    },
    {
      "cell_type": "markdown",
      "metadata": {
        "id": "6B9ivANsfog3"
      },
      "source": [
        "# Summary"
      ]
    },
    {
      "cell_type": "markdown",
      "metadata": {
        "id": "SnqnfSo6fog5"
      },
      "source": [
        "There are many additional methods for lists.\n",
        "\n",
        "![list mutators](https://github.com/lukasbystricky/ISC-3313/blob/master/lectures/chapter2/images/list_mutators.png?raw=true)"
      ]
    },
    {
      "cell_type": "markdown",
      "metadata": {
        "id": "j5WFwWiYfog6"
      },
      "source": [
        "![list accesors](https://github.com/lukasbystricky/ISC-3313/blob/master/lectures/chapter2/images/list_information.png?raw=true)\n"
      ]
    },
    {
      "cell_type": "markdown",
      "metadata": {
        "id": "IY-w6Xd1fog7"
      },
      "source": [
        "![new lists](https://github.com/lukasbystricky/ISC-3313/blob/master/lectures/chapter2/images/list_new.png?raw=true)"
      ]
    },
    {
      "cell_type": "markdown",
      "metadata": {
        "id": "pvh5e996fog8"
      },
      "source": [
        "# Documentation\n",
        "\n",
        "Python is very well documented. Documentation can be found at http://www.python.org, although often the quickest way to answer a question is by using your favorite search engine."
      ]
    },
    {
      "cell_type": "markdown",
      "metadata": {
        "id": "CG-lzX9Efog9"
      },
      "source": [
        "In addition, in the interpreter you can use the `help` function. For example say we want to know what the `insert` method for lists does. We could simply type"
      ]
    },
    {
      "cell_type": "code",
      "metadata": {
        "id": "RufQrE9Efog-"
      },
      "source": [
        "help(list.insert)"
      ],
      "execution_count": null,
      "outputs": []
    },
    {
      "cell_type": "markdown",
      "metadata": {
        "id": "Tkfr35IQfog_"
      },
      "source": [
        "More generally, typing `help(list)` prints out a help file for the entire `list` class. "
      ]
    },
    {
      "cell_type": "markdown",
      "metadata": {
        "id": "iCorh_6zfohG"
      },
      "source": [
        "# Exercise \n",
        "\n",
        "Suppose we have a grocery list:"
      ]
    },
    {
      "cell_type": "code",
      "metadata": {
        "collapsed": true,
        "id": "vdcRpxBDfohH"
      },
      "source": [
        "groceries = [\"milk\", \"cookies\", \"flour\", \"salt\", \"chips\", \"eggs\", \"yogurt\", \"suggar\" , \"rice\", \"fish\", \"chicken\"]"
      ],
      "execution_count": null,
      "outputs": []
    },
    {
      "cell_type": "markdown",
      "metadata": {
        "id": "78puafp0fohI"
      },
      "source": [
        "Starting from \"cookies\", create a new list that contains only every third entry in the grocery list. You will need to use the `index` method and slicing. This should require only one or two lines of code."
      ]
    }
  ]
}