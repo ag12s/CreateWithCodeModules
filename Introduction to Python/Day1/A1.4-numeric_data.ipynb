{
  "nbformat": 4,
  "nbformat_minor": 0,
  "metadata": {
    "celltoolbar": "Slideshow",
    "kernelspec": {
      "display_name": "Python 3",
      "language": "python",
      "name": "python3"
    },
    "language_info": {
      "codemirror_mode": {
        "name": "ipython",
        "version": 3
      },
      "file_extension": ".py",
      "mimetype": "text/x-python",
      "name": "python",
      "nbconvert_exporter": "python",
      "pygments_lexer": "ipython3",
      "version": "3.8.8"
    },
    "colab": {
      "name": "CwC-Intro2Python-1.4-numeric_data.ipynb",
      "provenance": [],
      "collapsed_sections": [
        "_lW52nd0_wvh"
      ]
    }
  },
  "cells": [
    {
      "cell_type": "markdown",
      "metadata": {
        "id": "ZOAToX5z_wvT"
      },
      "source": [
        "<p style=\"text-align: center;\"><font size=\"8\"><b>Section 1.4: Numeric Data</b></font><br>"
      ]
    },
    {
      "cell_type": "markdown",
      "metadata": {
        "id": "svYYkwCB_wvU"
      },
      "source": [
        "# Numeric Types\n",
        "\n",
        "We already covered 3 different primative types for storing numbers:\n",
        "1. `int`\n",
        "2. `float`\n",
        "3. `complex`\n",
        "\n",
        "Each of these types differ in terms of the range of numbers it can represent and how they are stored."
      ]
    },
    {
      "cell_type": "markdown",
      "metadata": {
        "id": "vjMVWXpp_wvX"
      },
      "source": [
        "To create very large or very small floating point numbers we can use `e` character to indicate scientific notation. For example:\n",
        "\n",
        "    2e15\n",
        "is equivalent to $2\\times 10^{15}$. Note that even though $2\\times 10^{15}$ is actually an integer, Python stores it as a float."
      ]
    },
    {
      "cell_type": "code",
      "metadata": {
        "id": "fOlQORbJ_wvY",
        "outputId": "30284f48-4b9d-472c-d829-dd07e7831343",
        "colab": {
          "base_uri": "https://localhost:8080/"
        }
      },
      "source": [
        "a = 2e15\n",
        "type(a)"
      ],
      "execution_count": 1,
      "outputs": [
        {
          "output_type": "execute_result",
          "data": {
            "text/plain": [
              "float"
            ]
          },
          "metadata": {
            "tags": []
          },
          "execution_count": 1
        }
      ]
    },
    {
      "cell_type": "markdown",
      "metadata": {
        "id": "cVUlHggf_wvY"
      },
      "source": [
        "This is the case no matter what exponent you use."
      ]
    },
    {
      "cell_type": "code",
      "metadata": {
        "id": "89F77p9j_wvY",
        "outputId": "55dc40f7-9349-450f-a4a7-e0876cf8f685",
        "colab": {
          "base_uri": "https://localhost:8080/"
        }
      },
      "source": [
        "a = 1e0\n",
        "type(a)"
      ],
      "execution_count": 2,
      "outputs": [
        {
          "output_type": "execute_result",
          "data": {
            "text/plain": [
              "float"
            ]
          },
          "metadata": {
            "tags": []
          },
          "execution_count": 2
        }
      ]
    },
    {
      "cell_type": "markdown",
      "metadata": {
        "id": "k9IXH35N_wvZ"
      },
      "source": [
        "Some numbers (in fact almost all numbers) cannot be stored with perfect precision in digital form. \n",
        "\n",
        "For example $\\sqrt{2}$ and $\\pi$ are both *irrational numbers* that requires an infinite amount of digits to represent exactly.  Instead of doing this we store irrational numbers as  a decimal number with a finite number of digits. \n",
        "\n",
        "This is a standard encoding known as *floating-point* representation used in almost every programming language. \n",
        "*   Typically this is around 16 digits of accuracy.\n"
      ]
    },
    {
      "cell_type": "markdown",
      "metadata": {
        "id": "oAi-KxT6_wvZ"
      },
      "source": [
        "This is an important concept to understand, and can sometimes lead to unexpected behavior, even for numbers which should be perfectly represented with 16 digits."
      ]
    },
    {
      "cell_type": "code",
      "metadata": {
        "id": "34sP1KkE_wvZ",
        "outputId": "9a90385c-3279-4c84-fa00-81844f875fab",
        "colab": {
          "base_uri": "https://localhost:8080/"
        }
      },
      "source": [
        "a = 0.1\n",
        "b = 0.2\n",
        "print(a + b)"
      ],
      "execution_count": 3,
      "outputs": [
        {
          "output_type": "stream",
          "text": [
            "0.30000000000000004\n"
          ],
          "name": "stdout"
        }
      ]
    },
    {
      "cell_type": "code",
      "metadata": {
        "id": "Bp5th_lw_wva",
        "outputId": "6169e114-32a9-4450-8e23-1fca534288d9"
      },
      "source": [
        "print(a + b - 0.3)"
      ],
      "execution_count": null,
      "outputs": [
        {
          "output_type": "stream",
          "text": [
            "5.551115123125783e-17\n"
          ],
          "name": "stdout"
        }
      ]
    },
    {
      "cell_type": "markdown",
      "metadata": {
        "id": "wslj1Qq1_wva"
      },
      "source": [
        "This is an example of *floating point error*. In scientific computing it is important to remember that no numbers are ever represented perfectly and small errors like this can occur. If you are not careful this can lead to serious problems down the road."
      ]
    },
    {
      "cell_type": "markdown",
      "metadata": {
        "id": "lfoAuVy4_wvb"
      },
      "source": [
        "## Numeric Operators\n",
        "\n",
        "We've already seen some numeric operators. For example, as you have probably assumed, you can add two numbers with \"+\", subtract one number from another with \"-\" and multiply two numbers with \"\\*\".  \n",
        "\n",
        "When adding an `int` to another `int` the result is an `int`. Then adding a `float` to a `float` or an `int`, the result is a `float`. The same applies to subtraction or multiplication. "
      ]
    },
    {
      "cell_type": "code",
      "metadata": {
        "id": "a1jlFafq_wvb",
        "outputId": "099eacf4-0918-4223-ac9c-5b5f6726be66",
        "colab": {
          "base_uri": "https://localhost:8080/"
        }
      },
      "source": [
        "a = 5\n",
        "b = 6.0\n",
        "type(a + a)"
      ],
      "execution_count": 4,
      "outputs": [
        {
          "output_type": "execute_result",
          "data": {
            "text/plain": [
              "int"
            ]
          },
          "metadata": {
            "tags": []
          },
          "execution_count": 4
        }
      ]
    },
    {
      "cell_type": "code",
      "metadata": {
        "id": "a3CnCM-P_wvb",
        "outputId": "592630a9-2c86-4d89-9496-780f7f6e8053",
        "colab": {
          "base_uri": "https://localhost:8080/"
        }
      },
      "source": [
        "type(a + b)"
      ],
      "execution_count": 5,
      "outputs": [
        {
          "output_type": "execute_result",
          "data": {
            "text/plain": [
              "float"
            ]
          },
          "metadata": {
            "tags": []
          },
          "execution_count": 5
        }
      ]
    },
    {
      "cell_type": "markdown",
      "metadata": {
        "id": "CBczjJI2_wvc"
      },
      "source": [
        "Division depends on what version of Python you are using. In Python 3, it is always true division, meaning it's probably exactly as you'd expect (we are using Python 3)."
      ]
    },
    {
      "cell_type": "code",
      "metadata": {
        "id": "ZmgWOw-u_wvc",
        "outputId": "93368187-1267-4e71-d53a-dd3dbfea8ddf",
        "colab": {
          "base_uri": "https://localhost:8080/"
        }
      },
      "source": [
        "a = 5\n",
        "b = 4\n",
        "a/b"
      ],
      "execution_count": 6,
      "outputs": [
        {
          "output_type": "execute_result",
          "data": {
            "text/plain": [
              "1.25"
            ]
          },
          "metadata": {
            "tags": []
          },
          "execution_count": 6
        }
      ]
    },
    {
      "cell_type": "markdown",
      "metadata": {
        "id": "BmH6iauz_wvd"
      },
      "source": [
        "To do powers of numbers, Python employs the syntax \"\\*\\*\"."
      ]
    },
    {
      "cell_type": "code",
      "metadata": {
        "id": "u6juGQtv_wvd",
        "outputId": "9e51284b-22bb-4b35-bce8-9fcfce9a06d8",
        "colab": {
          "base_uri": "https://localhost:8080/"
        }
      },
      "source": [
        "2**4"
      ],
      "execution_count": 7,
      "outputs": [
        {
          "output_type": "execute_result",
          "data": {
            "text/plain": [
              "16"
            ]
          },
          "metadata": {
            "tags": []
          },
          "execution_count": 7
        }
      ]
    },
    {
      "cell_type": "code",
      "metadata": {
        "id": "pgnQ2Qxi_wvd",
        "outputId": "78088f6d-d473-4d15-f455-cc7e6e3a97d4",
        "colab": {
          "base_uri": "https://localhost:8080/"
        }
      },
      "source": [
        "8**0.5 #square root of 8"
      ],
      "execution_count": 8,
      "outputs": [
        {
          "output_type": "execute_result",
          "data": {
            "text/plain": [
              "2.8284271247461903"
            ]
          },
          "metadata": {
            "tags": []
          },
          "execution_count": 8
        }
      ]
    },
    {
      "cell_type": "markdown",
      "metadata": {
        "id": "JN2XCwHq_wvd"
      },
      "source": [
        "Python also supports the *modulus* operator (mod for short) with the symbol \"%\". This returns the remainder of the division."
      ]
    },
    {
      "cell_type": "code",
      "metadata": {
        "id": "JObMCu8G_wvd",
        "outputId": "6d249ae6-76fc-4783-fe3b-50663d9bc648",
        "colab": {
          "base_uri": "https://localhost:8080/"
        }
      },
      "source": [
        "a = 5\n",
        "b = 3\n",
        "a%b"
      ],
      "execution_count": 9,
      "outputs": [
        {
          "output_type": "execute_result",
          "data": {
            "text/plain": [
              "2"
            ]
          },
          "metadata": {
            "tags": []
          },
          "execution_count": 9
        }
      ]
    },
    {
      "cell_type": "markdown",
      "metadata": {
        "id": "KnKPYRhS_wve"
      },
      "source": [
        "## Exercise\n",
        "\n",
        "The periodic table gives the weight (in grams) per mole of an element. \n",
        "\n",
        "![periodic table](https://github.com/lukasbystricky/ISC-3313/blob/master/lectures/chapter2/images/periodic_table.png?raw=true)"
      ]
    },
    {
      "cell_type": "markdown",
      "metadata": {
        "id": "X0xfIhKX_wve"
      },
      "source": [
        "For example a mole of Oxygen has a mass of 16.00 g. \n",
        "\n",
        "## Let's try it! \n",
        "\n",
        "Write a code fragment that determines the mass of 8 moles of Calcium."
      ]
    },
    {
      "cell_type": "code",
      "metadata": {
        "id": "_lhjVJhyg00z"
      },
      "source": [
        ""
      ],
      "execution_count": null,
      "outputs": []
    },
    {
      "cell_type": "markdown",
      "metadata": {
        "id": "ohKcJvyT_wve"
      },
      "source": [
        "The mass of a compound can be determined in the same way. Consider the compound $H_2 O$ (water). A mole of water contains 2 moles of Hydrogen and one mole of Oxygen. To compute the weight we simply add the weight of two moles of Hydrogen and one mole of Oxygen.\n"
      ]
    },
    {
      "cell_type": "code",
      "metadata": {
        "id": "HetSatPv_wve",
        "outputId": "a4f47a33-791b-41c2-89b1-37dc858b73ec"
      },
      "source": [
        "mass_h = 1.01\n",
        "mass_o = 16\n",
        "\n",
        "mass_h2o = 2*mass_h + mass_o\n",
        "print(mass_h2o)"
      ],
      "execution_count": null,
      "outputs": [
        {
          "output_type": "stream",
          "text": [
            "18.02\n"
          ],
          "name": "stdout"
        }
      ]
    },
    {
      "cell_type": "markdown",
      "metadata": {
        "id": "EYVhskGI_wvf"
      },
      "source": [
        "Note that we could have done the equivalent calculation\n",
        "\n",
        "    mass_h2o = 2*1.01 + 16\n",
        "in one line. This is not a good programming practice however. Even though it is shorter it is less clear what your are doing. In general you should always avoid putting in \"magic numbers\" in your code, i.e. numbers that are not defined anywhere.\n",
        "\n",
        "## Let's try it!\n",
        "\n",
        "Write a code fragment that computes the mass of 4 moles of $C_{12} H_{22} O_{11}$."
      ]
    },
    {
      "cell_type": "code",
      "metadata": {
        "id": "Kuo8l_t7iL07"
      },
      "source": [
        ""
      ],
      "execution_count": null,
      "outputs": []
    },
    {
      "cell_type": "markdown",
      "metadata": {
        "id": "W6ld6h_g_wvf"
      },
      "source": [
        "Write a code fragment to determine how many grams of Oxygen are in 15 grams of $H_2 O$.\n",
        "\n",
        "*Hint: Start by determining the number of moles of $H_2 O$ in 1 gram.*"
      ]
    },
    {
      "cell_type": "code",
      "metadata": {
        "collapsed": true,
        "id": "l6kqS2B5_wvf"
      },
      "source": [
        ""
      ],
      "execution_count": null,
      "outputs": []
    },
    {
      "cell_type": "markdown",
      "metadata": {
        "id": "2AWml_xU_wvf"
      },
      "source": [
        "# Type Conversions\n",
        "\n",
        "Just like strings, numeric types are immutable. An expression such as x + y does not change the values of x or y.\n",
        "However it is common to reassign an existing identifier to a new value using arithmetic operators"
      ]
    },
    {
      "cell_type": "code",
      "metadata": {
        "id": "LZFouf4d_wvf",
        "outputId": "6be61191-d5e0-43ff-9675-d6b600c4ab99",
        "colab": {
          "base_uri": "https://localhost:8080/"
        }
      },
      "source": [
        "a = 5\n",
        "a = a + 1\n",
        "print(a)"
      ],
      "execution_count": 10,
      "outputs": [
        {
          "output_type": "stream",
          "text": [
            "6\n"
          ],
          "name": "stdout"
        }
      ]
    },
    {
      "cell_type": "markdown",
      "metadata": {
        "id": "ZWXFMJ6p_wvf"
      },
      "source": [
        "Converting one type to another is called *casting*. For example"
      ]
    },
    {
      "cell_type": "code",
      "metadata": {
        "id": "VStBu7qv_wvg",
        "outputId": "e80b3738-60a9-4201-b857-12056d79cf24",
        "colab": {
          "base_uri": "https://localhost:8080/"
        }
      },
      "source": [
        "a = 4.9\n",
        "print(int(a))"
      ],
      "execution_count": 11,
      "outputs": [
        {
          "output_type": "stream",
          "text": [
            "4\n"
          ],
          "name": "stdout"
        }
      ]
    },
    {
      "cell_type": "markdown",
      "metadata": {
        "id": "-ZZWVclf_wvg"
      },
      "source": [
        "When casting a `float` to an `int` Python truncates the decimal part. To convert a `float` to the nearest integer, there is a function called `round`."
      ]
    },
    {
      "cell_type": "code",
      "metadata": {
        "id": "yWOCSgEV_wvg",
        "outputId": "3119aafc-0b7d-49c3-e254-123c93950329",
        "colab": {
          "base_uri": "https://localhost:8080/"
        }
      },
      "source": [
        "b = round(a)\n",
        "print(b)\n",
        "type(b)"
      ],
      "execution_count": 13,
      "outputs": [
        {
          "output_type": "stream",
          "text": [
            "5\n"
          ],
          "name": "stdout"
        },
        {
          "output_type": "execute_result",
          "data": {
            "text/plain": [
              "int"
            ]
          },
          "metadata": {
            "tags": []
          },
          "execution_count": 13
        }
      ]
    },
    {
      "cell_type": "markdown",
      "metadata": {
        "id": "bcWF02rY_wvg"
      },
      "source": [
        "Ints and floats can also be cast to and from strings."
      ]
    },
    {
      "cell_type": "code",
      "metadata": {
        "id": "Mj8IpXdr_wvg",
        "outputId": "0a9f5a5d-22f2-41ec-9529-f6546b5c82b9",
        "colab": {
          "base_uri": "https://localhost:8080/"
        }
      },
      "source": [
        "a = \"3.5\"\n",
        "b = float(a)\n",
        "print(b)\n",
        "type(b)"
      ],
      "execution_count": 14,
      "outputs": [
        {
          "output_type": "stream",
          "text": [
            "3.5\n"
          ],
          "name": "stdout"
        },
        {
          "output_type": "execute_result",
          "data": {
            "text/plain": [
              "float"
            ]
          },
          "metadata": {
            "tags": []
          },
          "execution_count": 14
        }
      ]
    },
    {
      "cell_type": "code",
      "metadata": {
        "id": "0UdkzUAK_wvg",
        "outputId": "e0e11fb7-d1db-46dc-bc51-a1506c328ca2",
        "colab": {
          "base_uri": "https://localhost:8080/"
        }
      },
      "source": [
        "b = str(b)\n",
        "print(b)\n",
        "type(b)"
      ],
      "execution_count": 15,
      "outputs": [
        {
          "output_type": "stream",
          "text": [
            "3.5\n"
          ],
          "name": "stdout"
        },
        {
          "output_type": "execute_result",
          "data": {
            "text/plain": [
              "str"
            ]
          },
          "metadata": {
            "tags": []
          },
          "execution_count": 15
        }
      ]
    },
    {
      "cell_type": "markdown",
      "metadata": {
        "id": "yNsaFrZH_wvj"
      },
      "source": [
        "# Boolean Expressions\n",
        "\n",
        "A boolean is a value that is either `true` or `false`. Python has a built-in type, `bool`, for handling booleans. \n",
        "\n",
        "Several functions return booleans. For example the `in` function for lists."
      ]
    },
    {
      "cell_type": "code",
      "metadata": {
        "id": "2k6FYxtd_wvk",
        "outputId": "54fe644d-126d-45f5-f0ec-efa90af56fe4"
      },
      "source": [
        "groceries = []\n",
        "groceries.append(\"bread\")\n",
        "\n",
        "a = \"bread\" in groceries\n",
        "a"
      ],
      "execution_count": null,
      "outputs": [
        {
          "output_type": "execute_result",
          "data": {
            "text/plain": [
              "True"
            ]
          },
          "metadata": {
            "tags": []
          },
          "execution_count": 24
        }
      ]
    },
    {
      "cell_type": "code",
      "metadata": {
        "id": "zwG2vhqW_wvk",
        "outputId": "d7398d14-fe79-450f-b14a-cdfd88d0c52a"
      },
      "source": [
        "type(a)"
      ],
      "execution_count": null,
      "outputs": [
        {
          "output_type": "execute_result",
          "data": {
            "text/plain": [
              "bool"
            ]
          },
          "metadata": {
            "tags": []
          },
          "execution_count": 25
        }
      ]
    },
    {
      "cell_type": "markdown",
      "metadata": {
        "id": "H0RkYRLv_wvk"
      },
      "source": [
        "We can also generate booleans using the greater than or less than operators."
      ]
    },
    {
      "cell_type": "code",
      "metadata": {
        "id": "1L8alW0F_wvk",
        "outputId": "7a02bea1-2f61-43df-f6be-bb1c8f21b27c"
      },
      "source": [
        "a = 6\n",
        "a > 5"
      ],
      "execution_count": null,
      "outputs": [
        {
          "output_type": "execute_result",
          "data": {
            "text/plain": [
              "True"
            ]
          },
          "metadata": {
            "tags": []
          },
          "execution_count": 26
        }
      ]
    },
    {
      "cell_type": "code",
      "metadata": {
        "id": "hI0ilVRU_wvk",
        "outputId": "16c0b66c-5cfa-40da-cc73-40d5974c3bed"
      },
      "source": [
        "a <= 4"
      ],
      "execution_count": null,
      "outputs": [
        {
          "output_type": "execute_result",
          "data": {
            "text/plain": [
              "False"
            ]
          },
          "metadata": {
            "tags": []
          },
          "execution_count": 27
        }
      ]
    },
    {
      "cell_type": "code",
      "metadata": {
        "id": "O4pqtutB_wvk",
        "outputId": "3fb5f365-af23-463d-deb6-57928c785d0d"
      },
      "source": [
        "len(\"bacon\") > 3"
      ],
      "execution_count": null,
      "outputs": [
        {
          "output_type": "execute_result",
          "data": {
            "text/plain": [
              "True"
            ]
          },
          "metadata": {
            "tags": []
          },
          "execution_count": 28
        }
      ]
    },
    {
      "cell_type": "markdown",
      "metadata": {
        "id": "2Kx9km0y_wvl"
      },
      "source": [
        "To test for exact equality, we can use the `==` operator."
      ]
    },
    {
      "cell_type": "code",
      "metadata": {
        "id": "kA3TsLs1_wvl",
        "outputId": "bb1064a9-e6df-4627-ea8f-28757ec1083f",
        "colab": {
          "base_uri": "https://localhost:8080/"
        }
      },
      "source": [
        "a = 3\n",
        "a == 3"
      ],
      "execution_count": 16,
      "outputs": [
        {
          "output_type": "execute_result",
          "data": {
            "text/plain": [
              "True"
            ]
          },
          "metadata": {
            "tags": []
          },
          "execution_count": 16
        }
      ]
    },
    {
      "cell_type": "markdown",
      "metadata": {
        "id": "75xPasY6_wvl"
      },
      "source": [
        "This operator should be avoided with floating point numbers however. Let's compute $\\sqrt{2}$. "
      ]
    },
    {
      "cell_type": "code",
      "metadata": {
        "collapsed": true,
        "id": "0dUVWslJ_wvl"
      },
      "source": [
        "a = 2**0.5 #square root of 2"
      ],
      "execution_count": null,
      "outputs": []
    },
    {
      "cell_type": "markdown",
      "metadata": {
        "id": "zMSxOCb0_wvl"
      },
      "source": [
        "We know that $\\sqrt{2}^2 = 2$, right?"
      ]
    },
    {
      "cell_type": "code",
      "metadata": {
        "id": "uV4ZIx8X_wvl",
        "outputId": "401dafd5-0971-44a6-dad1-dc6d57259933"
      },
      "source": [
        "print(a**2 == 2)"
      ],
      "execution_count": null,
      "outputs": [
        {
          "output_type": "stream",
          "text": [
            "False\n"
          ],
          "name": "stdout"
        }
      ]
    },
    {
      "cell_type": "markdown",
      "metadata": {
        "id": "V7bJgxTn_wvl"
      },
      "source": [
        "What happened here? \n",
        "\n",
        "Since we're dealing with floating point numbers, $\\sqrt{2}$ is not represented exactly. We're only storing 16 digits of this irrational number. So when you square it, you're not getting exactly 2, but rather some number that is very close to 2."
      ]
    },
    {
      "cell_type": "code",
      "metadata": {
        "id": "0MrvjtLv_wvm",
        "outputId": "205f4888-f057-4639-f70f-ea7109380a4d"
      },
      "source": [
        "print(a**2)"
      ],
      "execution_count": null,
      "outputs": [
        {
          "output_type": "stream",
          "text": [
            "2.0000000000000004\n"
          ],
          "name": "stdout"
        }
      ]
    },
    {
      "cell_type": "markdown",
      "metadata": {
        "id": "hFdpVDuq_wvm"
      },
      "source": [
        "To test for equality in cases like this (any computation involving floating point numbers) it's necessary to see if the two numbers are \"close enough\", that is within some very small tolerance of each other. "
      ]
    },
    {
      "cell_type": "code",
      "metadata": {
        "id": "zaLskocd_wvm",
        "outputId": "9b8e3929-601f-4c6a-c657-d768af81c4b1"
      },
      "source": [
        "tol = 1e-15\n",
        "print(abs(a**2 - 2) < tol)"
      ],
      "execution_count": null,
      "outputs": [
        {
          "output_type": "stream",
          "text": [
            "True\n"
          ],
          "name": "stdout"
        }
      ]
    },
    {
      "cell_type": "markdown",
      "metadata": {
        "id": "_RwdeyG6_wvm"
      },
      "source": [
        "Here we've set the tolerance to $1\\times 10^{-15}$. We then check that $|a^2 - 2|$ is less than this tolerance. "
      ]
    },
    {
      "cell_type": "markdown",
      "metadata": {
        "id": "Lf09RIog_wvm"
      },
      "source": [
        "## Exercise\n",
        "\n",
        "We saw earlier how Python can struggle with seemingly simple floating point operations."
      ]
    },
    {
      "cell_type": "code",
      "metadata": {
        "id": "h8Ro8KUs_wvm",
        "outputId": "f6c18259-d86d-43d3-afcc-0ee827385ab2"
      },
      "source": [
        "a = 0.1\n",
        "b = 0.2\n",
        "print(a + b)"
      ],
      "execution_count": null,
      "outputs": [
        {
          "output_type": "stream",
          "text": [
            "0.30000000000000004\n"
          ],
          "name": "stdout"
        }
      ]
    },
    {
      "cell_type": "markdown",
      "metadata": {
        "id": "J8KshCho_wvm"
      },
      "source": [
        "Write a code fragment that tests that `a + b` is actually equal to 0.3 (to floating point precision)."
      ]
    },
    {
      "cell_type": "code",
      "metadata": {
        "id": "Wub8jpWQmkik"
      },
      "source": [
        ""
      ],
      "execution_count": null,
      "outputs": []
    },
    {
      "cell_type": "markdown",
      "metadata": {
        "id": "6TyjhrUz_wvn"
      },
      "source": [
        "There are three logical operators that can be used with booleans.\n",
        "\n",
        "1) **`not`** - this returns the opposite of the boolean value"
      ]
    },
    {
      "cell_type": "code",
      "metadata": {
        "id": "S1N8_Pa7_wvn",
        "outputId": "3f3d3bab-35db-4cfe-d5da-87389117864c"
      },
      "source": [
        "not len(\"bacon\") > 3"
      ],
      "execution_count": null,
      "outputs": [
        {
          "output_type": "execute_result",
          "data": {
            "text/plain": [
              "False"
            ]
          },
          "metadata": {
            "tags": []
          },
          "execution_count": 35
        }
      ]
    },
    {
      "cell_type": "markdown",
      "metadata": {
        "id": "piJYTAPA_wvn"
      },
      "source": [
        "2) **`and`** - this operator takes two booleans and returns `true` if they are both true and `false` otherwise"
      ]
    },
    {
      "cell_type": "code",
      "metadata": {
        "id": "VJS7ZlVT_wvn",
        "outputId": "92d235c1-2c5c-4e9b-8f01-09f6c60496ac"
      },
      "source": [
        "len(\"bacon\") > 3 and 5 > 1"
      ],
      "execution_count": null,
      "outputs": [
        {
          "output_type": "execute_result",
          "data": {
            "text/plain": [
              "True"
            ]
          },
          "metadata": {
            "tags": []
          },
          "execution_count": 36
        }
      ]
    },
    {
      "cell_type": "code",
      "metadata": {
        "id": "3_pTHlda_wvn",
        "outputId": "a216ea28-5606-42a0-ae06-a94afd6a3a93"
      },
      "source": [
        "len(\"bacon\") > 3 and 1 > 5"
      ],
      "execution_count": null,
      "outputs": [
        {
          "output_type": "execute_result",
          "data": {
            "text/plain": [
              "False"
            ]
          },
          "metadata": {
            "tags": []
          },
          "execution_count": 37
        }
      ]
    },
    {
      "cell_type": "markdown",
      "metadata": {
        "id": "fLtgrnz0_wvn"
      },
      "source": [
        "3) **`or`** - this operator takes two booleans and returns `true` if at least one them is `true`"
      ]
    },
    {
      "cell_type": "code",
      "metadata": {
        "id": "JDPwbYey_wvn",
        "outputId": "6271a9d7-7089-4cae-8eb8-1f1aedcb38b0"
      },
      "source": [
        "len(\"bacon\") > 3 or 1 > 5"
      ],
      "execution_count": null,
      "outputs": [
        {
          "output_type": "execute_result",
          "data": {
            "text/plain": [
              "True"
            ]
          },
          "metadata": {
            "tags": []
          },
          "execution_count": 38
        }
      ]
    },
    {
      "cell_type": "markdown",
      "metadata": {
        "id": "RnxWaFAR_wvo"
      },
      "source": [
        "Note that this is considered an *inclusive or*, meaning that if both booleans are `true` it returns `true`. Occasionally we may want an *exclusive or*, where we want to know if exactly one of the booleans is `true`. This can be acheived by using the syntax `x != y`."
      ]
    },
    {
      "cell_type": "code",
      "metadata": {
        "id": "-H4oSUse_wvo",
        "outputId": "df29687a-f064-40ba-afe6-22251910cec0"
      },
      "source": [
        "a = len(\"bacon\") > 3 \n",
        "b = 5 > 1 \n",
        "a != b"
      ],
      "execution_count": null,
      "outputs": [
        {
          "output_type": "execute_result",
          "data": {
            "text/plain": [
              "False"
            ]
          },
          "metadata": {
            "tags": []
          },
          "execution_count": 44
        }
      ]
    },
    {
      "cell_type": "markdown",
      "metadata": {
        "id": "lmln8bvk_wvo"
      },
      "source": [
        "Consider a compound boolean expression:"
      ]
    },
    {
      "cell_type": "code",
      "metadata": {
        "id": "bYIM7EH2_wvo",
        "outputId": "fc69213f-5136-4dff-b26d-0fb966c0996d"
      },
      "source": [
        "x = 5\n",
        "3 < x and x < 8"
      ],
      "execution_count": null,
      "outputs": [
        {
          "output_type": "execute_result",
          "data": {
            "text/plain": [
              "True"
            ]
          },
          "metadata": {
            "tags": []
          },
          "execution_count": 40
        }
      ]
    },
    {
      "cell_type": "markdown",
      "metadata": {
        "id": "eTO999iU_wvo"
      },
      "source": [
        "When the same value (in this case `x`) appears as an operand of the two booleans, these expression can be chained as follows."
      ]
    },
    {
      "cell_type": "code",
      "metadata": {
        "id": "5aWiM5j9_wvo",
        "outputId": "c7435281-68ef-4d8b-9bd6-4b417484f41d"
      },
      "source": [
        "3 < x < 8"
      ],
      "execution_count": null,
      "outputs": [
        {
          "output_type": "execute_result",
          "data": {
            "text/plain": [
              "True"
            ]
          },
          "metadata": {
            "tags": []
          },
          "execution_count": 41
        }
      ]
    },
    {
      "cell_type": "markdown",
      "metadata": {
        "id": "CpfUUBUc_wvp"
      },
      "source": [
        "This is a convenient syntax and can often be easier to read."
      ]
    },
    {
      "cell_type": "markdown",
      "metadata": {
        "id": "KSV0UsDT_wvp"
      },
      "source": [
        "Understanding the relationship between **not**, **and** and **or** is extremely important. Here they are summarized in a truth table:\n",
        "\n",
        "![truth table](https://github.com/ag12s/CreateWithCodeModules/blob/main/images/truth_table.png?raw=true)"
      ]
    },
    {
      "cell_type": "markdown",
      "metadata": {
        "id": "afZCIG8d_wvp"
      },
      "source": [
        "# Exercise\n",
        "\n",
        "Write a code fragment that given two strings prints true if the length of each string is greater than 3."
      ]
    },
    {
      "cell_type": "code",
      "metadata": {
        "id": "1dhOz5bM_wvp"
      },
      "source": [
        "s1 = \"Hello\"\n",
        "s2 = \"Hi\""
      ],
      "execution_count": null,
      "outputs": []
    },
    {
      "cell_type": "markdown",
      "metadata": {
        "id": "_lW52nd0_wvh"
      },
      "source": [
        "## Summary\n",
        "\n",
        "![numeric operations](https://github.com/lukasbystricky/ISC-3313/blob/master/lectures/chapter2/images/numeric_operators1.png?raw=true)"
      ]
    },
    {
      "cell_type": "markdown",
      "metadata": {
        "id": "n-84L4oG_wvh"
      },
      "source": [
        "![numeric operators](https://github.com/lukasbystricky/ISC-3313/blob/master/lectures/chapter2/images/numeric_operators2.png?raw=true)"
      ]
    }
  ]
}