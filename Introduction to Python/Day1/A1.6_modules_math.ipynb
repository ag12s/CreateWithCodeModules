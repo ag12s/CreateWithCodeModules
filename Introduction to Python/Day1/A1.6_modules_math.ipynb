{
  "nbformat": 4,
  "nbformat_minor": 0,
  "metadata": {
    "anaconda-cloud": {},
    "celltoolbar": "Slideshow",
    "kernelspec": {
      "display_name": "Python 3",
      "language": "python",
      "name": "python3"
    },
    "language_info": {
      "codemirror_mode": {
        "name": "ipython",
        "version": 3
      },
      "file_extension": ".py",
      "mimetype": "text/x-python",
      "name": "python",
      "nbconvert_exporter": "python",
      "pygments_lexer": "ipython3",
      "version": "3.8.8"
    },
    "colab": {
      "name": "CwC-Intro2Python-1.6-modules.ipynb",
      "provenance": [],
      "collapsed_sections": [
        "42sCm4r4_uZK"
      ]
    }
  },
  "cells": [
    {
      "cell_type": "markdown",
      "metadata": {
        "id": "PTGJ0zLG_uY-"
      },
      "source": [
        "<p style=\"text-align: center;\"><font size=\"8\"><b>Section 1.6: Functions and Modules</b></font><br>\n"
      ]
    },
    {
      "cell_type": "markdown",
      "metadata": {
        "id": "_u1BKLHg_uY-"
      },
      "source": [
        "# Calling Functions\n",
        "\n",
        "Pure functions exist as methods that can be called outside the context of a particular class. For example we've already seen the `round` and `len` functions. Remember that we call `round(a)`, not `a.round()`. Python provides many built-in functions. \n",
        "\n",
        "![functions](https://github.com/lukasbystricky/ISC-3313/blob/master/lectures/chapter2/images/functions.png?raw=true)"
      ]
    },
    {
      "cell_type": "code",
      "metadata": {
        "colab": {
          "base_uri": "https://localhost:8080/"
        },
        "id": "ohjxw731_uY_",
        "outputId": "a03b35d3-de5a-4100-a9ca-4081998565f2"
      },
      "source": [
        "pow(2,3)"
      ],
      "execution_count": null,
      "outputs": [
        {
          "output_type": "execute_result",
          "data": {
            "text/plain": [
              "8"
            ]
          },
          "metadata": {
            "tags": []
          },
          "execution_count": 2
        }
      ]
    },
    {
      "cell_type": "code",
      "metadata": {
        "colab": {
          "base_uri": "https://localhost:8080/"
        },
        "id": "2oE4gXwi_uZA",
        "outputId": "7a102aeb-98a4-4ab4-cec2-d2f62af7dfe2"
      },
      "source": [
        "min(-2,-2.4,9.0)"
      ],
      "execution_count": null,
      "outputs": [
        {
          "output_type": "execute_result",
          "data": {
            "text/plain": [
              "-2.4"
            ]
          },
          "metadata": {
            "tags": []
          },
          "execution_count": 3
        }
      ]
    },
    {
      "cell_type": "code",
      "metadata": {
        "colab": {
          "base_uri": "https://localhost:8080/"
        },
        "id": "Lg1SvbBC_uZA",
        "outputId": "66f0a8e0-26a9-4ea7-ba8b-1d16d41c8027"
      },
      "source": [
        "ord(\"a\")"
      ],
      "execution_count": null,
      "outputs": [
        {
          "output_type": "execute_result",
          "data": {
            "text/plain": [
              "97"
            ]
          },
          "metadata": {
            "tags": []
          },
          "execution_count": 4
        }
      ]
    },
    {
      "cell_type": "markdown",
      "metadata": {
        "id": "p1AFyrhK_uZB"
      },
      "source": [
        "# Print function\n",
        "\n",
        "After performing a computation we need to see the result. In an interactive or notebook session we can simply type the name of the variable to see what it is."
      ]
    },
    {
      "cell_type": "code",
      "metadata": {
        "colab": {
          "base_uri": "https://localhost:8080/"
        },
        "id": "e3SwQ_VC_uZB",
        "outputId": "8076c0d8-b1c5-4f0a-83cd-3cf66f64b2dd"
      },
      "source": [
        "a = 1\n",
        "a"
      ],
      "execution_count": null,
      "outputs": [
        {
          "output_type": "execute_result",
          "data": {
            "text/plain": [
              "1"
            ]
          },
          "metadata": {
            "tags": []
          },
          "execution_count": 5
        }
      ]
    },
    {
      "cell_type": "markdown",
      "metadata": {
        "id": "nJaYay3C_uZC"
      },
      "source": [
        "When executing scripts however, we can no longer do this. Instead we use the `print` command (in fact we've already used this several times)."
      ]
    },
    {
      "cell_type": "markdown",
      "metadata": {
        "id": "baa8UuS6_uZC"
      },
      "source": [
        "The `print` function is used to print information to the console. "
      ]
    },
    {
      "cell_type": "code",
      "metadata": {
        "colab": {
          "base_uri": "https://localhost:8080/"
        },
        "id": "3sKB7iTh_uZC",
        "outputId": "47c6863a-164a-484c-f341-6a6aacae6317"
      },
      "source": [
        "print(a)\n",
        "print(\"a\")"
      ],
      "execution_count": null,
      "outputs": [
        {
          "output_type": "stream",
          "text": [
            "1\n",
            "a\n"
          ],
          "name": "stdout"
        }
      ]
    },
    {
      "cell_type": "markdown",
      "metadata": {
        "id": "dOc-V5TU_uZD"
      },
      "source": [
        "Note the original Python 2 syntax, `print a`, (no parentheses) does not work in Python 3. However the syntax above (with parentheses) works in both Python 2 and Python 3.\n"
      ]
    },
    {
      "cell_type": "markdown",
      "metadata": {
        "id": "xEh2zJ91_uZD"
      },
      "source": [
        "Of course, `print` can be used to display more useful information. For example, suppose we have a variable called `t` that represents some length of time in seconds. We can use `print` to display not only `t`, but also the units by calling `print` with multiple arguments."
      ]
    },
    {
      "cell_type": "code",
      "metadata": {
        "colab": {
          "base_uri": "https://localhost:8080/"
        },
        "id": "UO3NyOzn_uZD",
        "outputId": "5494f3b8-858e-4699-d22f-7c83f5be3f85"
      },
      "source": [
        "t = 5.6\n",
        "print(t, \"s\")"
      ],
      "execution_count": null,
      "outputs": [
        {
          "output_type": "stream",
          "text": [
            "5.6 s\n"
          ],
          "name": "stdout"
        }
      ]
    },
    {
      "cell_type": "markdown",
      "metadata": {
        "id": "6acfy0X1_uZE"
      },
      "source": [
        "The `print` function automatically inserts a space between the two arguments. If we wish the avoid this, we can combine the two arguments into 1."
      ]
    },
    {
      "cell_type": "code",
      "metadata": {
        "colab": {
          "base_uri": "https://localhost:8080/"
        },
        "id": "2dgwoInM_uZE",
        "outputId": "59c81123-be50-41ef-f924-3c177cdfcdf4"
      },
      "source": [
        "print(str(t)+\"s\")"
      ],
      "execution_count": null,
      "outputs": [
        {
          "output_type": "stream",
          "text": [
            "5.6s\n"
          ],
          "name": "stdout"
        }
      ]
    },
    {
      "cell_type": "markdown",
      "metadata": {
        "id": "Sp2D9zD3_uZE"
      },
      "source": [
        "Note that we have to convert `round(t,1)` to a string first before \"adding\" (the correct term is *concatenating*) it to `s`. The command"
      ]
    },
    {
      "cell_type": "code",
      "metadata": {
        "colab": {
          "base_uri": "https://localhost:8080/",
          "height": 163
        },
        "id": "OVNMc4pQ_uZE",
        "outputId": "2ac3810c-257f-4b2a-cd5f-011036971752"
      },
      "source": [
        "print(t+\"s\")"
      ],
      "execution_count": null,
      "outputs": [
        {
          "output_type": "error",
          "ename": "TypeError",
          "evalue": "ignored",
          "traceback": [
            "\u001b[0;31m---------------------------------------------------------------------------\u001b[0m",
            "\u001b[0;31mTypeError\u001b[0m                                 Traceback (most recent call last)",
            "\u001b[0;32m<ipython-input-10-aa5579ee4e81>\u001b[0m in \u001b[0;36m<module>\u001b[0;34m()\u001b[0m\n\u001b[0;32m----> 1\u001b[0;31m \u001b[0mprint\u001b[0m\u001b[0;34m(\u001b[0m\u001b[0mt\u001b[0m\u001b[0;34m+\u001b[0m\u001b[0;34m\"s\"\u001b[0m\u001b[0;34m)\u001b[0m\u001b[0;34m\u001b[0m\u001b[0;34m\u001b[0m\u001b[0m\n\u001b[0m",
            "\u001b[0;31mTypeError\u001b[0m: unsupported operand type(s) for +: 'float' and 'str'"
          ]
        }
      ]
    },
    {
      "cell_type": "markdown",
      "metadata": {
        "id": "atihL3MQ_uZE"
      },
      "source": [
        "is illegal because we are attempting to add a `float` to a `str`."
      ]
    },
    {
      "cell_type": "markdown",
      "metadata": {
        "id": "aVWW6a6NYYMv"
      },
      "source": [
        "Another option is to use the f-string formatting we talked about earlier,"
      ]
    },
    {
      "cell_type": "code",
      "metadata": {
        "colab": {
          "base_uri": "https://localhost:8080/"
        },
        "id": "6Ow2B94vYYMw",
        "outputId": "9962a40a-24ce-44fb-a9fd-975bc5b62fdd"
      },
      "source": [
        "print(f\"{t}s\")"
      ],
      "execution_count": null,
      "outputs": [
        {
          "output_type": "stream",
          "text": [
            "5.6s\n"
          ],
          "name": "stdout"
        }
      ]
    },
    {
      "cell_type": "markdown",
      "metadata": {
        "id": "TVaz4mz3_uZF"
      },
      "source": [
        "# Modules\n",
        "\n",
        "All the functions listed above are built-in to Python. This means they are automatically available once we start Python. But you'll notice that there's not actually all that many built-in functions. What if we want to take the logarithm of a number for example?\n",
        "\n",
        "There are hundreds of other useful functions and classes that have been developed for Python which are not automatically loaded, but instead placed into specialized libraries called *modules* that can be individually loaded as needed.\n",
        "\n",
        "If you installed Python using Anaconda, you will already have many modules installed. We will first take a look at the `math` module."
      ]
    },
    {
      "cell_type": "markdown",
      "metadata": {
        "id": "lV5fqiEn_uZF"
      },
      "source": [
        "## Math module\n",
        "\n",
        "The math module provides functions to do mathematical operations beyond addition, multiplication, exponentiation etc. For example suppose we want to take the cosine of a number. This is not built-in to Python, however a function called `cos` in the math library does this. "
      ]
    },
    {
      "cell_type": "markdown",
      "metadata": {
        "id": "bLWMBuL8_uZF"
      },
      "source": [
        "To use the `cos` function we must import it from the math module. There are three possible ways to do this. Whichever method you use should be done at the beginning of your code (this is not strictly speaking necessary, but it is the most common placement, at the very least you have to do this *before* you use the function).\n",
        "\n",
        "1) Import the entire module. "
      ]
    },
    {
      "cell_type": "code",
      "metadata": {
        "collapsed": true,
        "id": "VX1ejjTt_uZF"
      },
      "source": [
        "import math"
      ],
      "execution_count": null,
      "outputs": []
    },
    {
      "cell_type": "markdown",
      "metadata": {
        "id": "CYxt0Dps_uZF"
      },
      "source": [
        "At this point we still cannot use the `cos` command directly, we must specifically tell Python where the function is coming from using a *qualified name*."
      ]
    },
    {
      "cell_type": "code",
      "metadata": {
        "colab": {
          "base_uri": "https://localhost:8080/",
          "height": 163
        },
        "id": "k3uB6xnH_uZG",
        "outputId": "beb7ff9b-55b2-49d5-aade-f7385a82f12a"
      },
      "source": [
        "cos(2)"
      ],
      "execution_count": null,
      "outputs": [
        {
          "output_type": "error",
          "ename": "NameError",
          "evalue": "ignored",
          "traceback": [
            "\u001b[0;31m---------------------------------------------------------------------------\u001b[0m",
            "\u001b[0;31mNameError\u001b[0m                                 Traceback (most recent call last)",
            "\u001b[0;32m<ipython-input-14-b531fc1091c1>\u001b[0m in \u001b[0;36m<module>\u001b[0;34m()\u001b[0m\n\u001b[0;32m----> 1\u001b[0;31m \u001b[0mcos\u001b[0m\u001b[0;34m(\u001b[0m\u001b[0;36m2\u001b[0m\u001b[0;34m)\u001b[0m\u001b[0;34m\u001b[0m\u001b[0;34m\u001b[0m\u001b[0m\n\u001b[0m",
            "\u001b[0;31mNameError\u001b[0m: name 'cos' is not defined"
          ]
        }
      ]
    },
    {
      "cell_type": "code",
      "metadata": {
        "id": "TE6WERu0_uZG",
        "colab": {
          "base_uri": "https://localhost:8080/"
        },
        "outputId": "64245f80-cadc-4143-bb8e-ae118facf807"
      },
      "source": [
        "math.cos(2)"
      ],
      "execution_count": null,
      "outputs": [
        {
          "output_type": "execute_result",
          "data": {
            "text/plain": [
              "-0.4161468365471424"
            ]
          },
          "metadata": {
            "tags": []
          },
          "execution_count": 15
        }
      ]
    },
    {
      "cell_type": "markdown",
      "metadata": {
        "id": "P9pj8mia_uZG"
      },
      "source": [
        "2) Specifically importing `cos` from the math library. If we are using `cos` several times in the code, this can avoid repeated typing."
      ]
    },
    {
      "cell_type": "code",
      "metadata": {
        "id": "8HlX7Aee_uZG",
        "colab": {
          "base_uri": "https://localhost:8080/"
        },
        "outputId": "07679096-635a-4516-d178-f5a668f073d9"
      },
      "source": [
        "from math import cos\n",
        "cos(2)"
      ],
      "execution_count": null,
      "outputs": [
        {
          "output_type": "execute_result",
          "data": {
            "text/plain": [
              "-0.4161468365471424"
            ]
          },
          "metadata": {
            "tags": []
          },
          "execution_count": 16
        }
      ]
    },
    {
      "cell_type": "markdown",
      "metadata": {
        "id": "sIEN8uNn_uZG"
      },
      "source": [
        "3) Import everything in the module by using the \\* wildcard. This can be an attractive option but is generally discouraged because different modules may use the same name for different functions. This method of importing imports not only the `cos` function, but all functions from the math library, for example `sqrt` and `tan`."
      ]
    },
    {
      "cell_type": "code",
      "metadata": {
        "id": "dsTsOJuM_uZH",
        "colab": {
          "base_uri": "https://localhost:8080/"
        },
        "outputId": "f0147235-08b3-4216-eac9-014d25f811f1"
      },
      "source": [
        "from math import *\n",
        "cos(2)"
      ],
      "execution_count": null,
      "outputs": [
        {
          "output_type": "execute_result",
          "data": {
            "text/plain": [
              "-0.4161468365471424"
            ]
          },
          "metadata": {
            "tags": []
          },
          "execution_count": 17
        }
      ]
    },
    {
      "cell_type": "code",
      "metadata": {
        "id": "B5c0FQr-_uZH",
        "colab": {
          "base_uri": "https://localhost:8080/"
        },
        "outputId": "5485947c-34cc-491f-c1ee-c6de5558c775"
      },
      "source": [
        "sqrt(2)"
      ],
      "execution_count": null,
      "outputs": [
        {
          "output_type": "execute_result",
          "data": {
            "text/plain": [
              "1.4142135623730951"
            ]
          },
          "metadata": {
            "tags": []
          },
          "execution_count": 18
        }
      ]
    },
    {
      "cell_type": "markdown",
      "metadata": {
        "id": "48Iku6NJ_uZH"
      },
      "source": [
        "# Expressions\n",
        "\n",
        "Before looking at other modules, let's look quickly at expressions. We have already seen several expressions in isolation (e.g. 18+5.5).\n",
        "\n",
        "It is quite common the perform several operations as part of a single expression."
      ]
    },
    {
      "cell_type": "code",
      "metadata": {
        "id": "GF1miDGN_uZH",
        "colab": {
          "base_uri": "https://localhost:8080/"
        },
        "outputId": "c82132c4-bc26-4d3f-a1e9-6fc42917462f"
      },
      "source": [
        "a = 18 + 5.5 + 1\n",
        "a"
      ],
      "execution_count": null,
      "outputs": [
        {
          "output_type": "execute_result",
          "data": {
            "text/plain": [
              "24.5"
            ]
          },
          "metadata": {
            "tags": []
          },
          "execution_count": 19
        }
      ]
    },
    {
      "cell_type": "markdown",
      "metadata": {
        "id": "HDsBpYQe_uZH"
      },
      "source": [
        "In this case behind the scenes Python adds 18 and 5.5 to get 23.5, it then adds 1 to get 24.5. In this case the order of the two operations does not matter, however in more complicated expressions the order can be important."
      ]
    },
    {
      "cell_type": "code",
      "metadata": {
        "colab": {
          "base_uri": "https://localhost:8080/"
        },
        "id": "X_tNIIin_uZH",
        "outputId": "04d0a549-d740-4f31-ae70-25e93f4fa42c"
      },
      "source": [
        "a = 18*9**2/4\n",
        "a"
      ],
      "execution_count": null,
      "outputs": [
        {
          "output_type": "execute_result",
          "data": {
            "text/plain": [
              "364.5"
            ]
          },
          "metadata": {
            "tags": []
          },
          "execution_count": 20
        }
      ]
    },
    {
      "cell_type": "code",
      "metadata": {
        "colab": {
          "base_uri": "https://localhost:8080/"
        },
        "id": "_KArBfUh_uZI",
        "outputId": "0834cf31-7b31-432a-e5c5-01cdc01e016f"
      },
      "source": [
        "a = 9/4**2*18\n",
        "a"
      ],
      "execution_count": null,
      "outputs": [
        {
          "output_type": "execute_result",
          "data": {
            "text/plain": [
              "10.125"
            ]
          },
          "metadata": {
            "tags": []
          },
          "execution_count": 21
        }
      ]
    },
    {
      "cell_type": "markdown",
      "metadata": {
        "id": "I7PCRuYY_uZI"
      },
      "source": [
        "## Precedence\n",
        "\n",
        "When there are two or more operations as part of an expression, we must figure out some way to determine which operation is performed first. We say that an operation that is performed fist is given *precedence* over the others."
      ]
    },
    {
      "cell_type": "markdown",
      "metadata": {
        "id": "fOoVt9MR_uZI"
      },
      "source": [
        "Mathematical expressions in Python follow standard algebraic conventions:\n",
        "1. Brackets\n",
        "2. Exponents\n",
        "3. Division/Multiplication\n",
        "4. Addition/Subtraction\n",
        "\n",
        "For example in the expression `1 + 2 * 3` the multiplication is done first, followed by the addition. "
      ]
    },
    {
      "cell_type": "markdown",
      "metadata": {
        "id": "wgN_iRw3_uZI"
      },
      "source": [
        "In Python, as in algebra we can use brackets to prioritize an operation."
      ]
    },
    {
      "cell_type": "code",
      "metadata": {
        "id": "s61ac1wD_uZJ",
        "colab": {
          "base_uri": "https://localhost:8080/"
        },
        "outputId": "1456718b-8242-4cd0-94fb-db4e4782d256"
      },
      "source": [
        "1+2*3"
      ],
      "execution_count": null,
      "outputs": [
        {
          "output_type": "execute_result",
          "data": {
            "text/plain": [
              "7"
            ]
          },
          "metadata": {
            "tags": []
          },
          "execution_count": 22
        }
      ]
    },
    {
      "cell_type": "code",
      "metadata": {
        "id": "t6s47eiT_uZJ",
        "colab": {
          "base_uri": "https://localhost:8080/"
        },
        "outputId": "fb4ac3cb-2531-4850-e06d-60cf144c405e"
      },
      "source": [
        "(1+2)*3"
      ],
      "execution_count": null,
      "outputs": [
        {
          "output_type": "execute_result",
          "data": {
            "text/plain": [
              "9"
            ]
          },
          "metadata": {
            "tags": []
          },
          "execution_count": 23
        }
      ]
    },
    {
      "cell_type": "markdown",
      "metadata": {
        "id": "p2ymqiBH_uZJ"
      },
      "source": [
        "Most operations with equal precedence are evaluated left to right, again to mimic standard algebraic rules.  \n",
        "\n",
        "One exception is exponents which are evaluated right to left, which again is how we typically think of exponents.\n",
        "\n",
        "$4^{3^2} = 4^9$"
      ]
    },
    {
      "cell_type": "code",
      "metadata": {
        "colab": {
          "base_uri": "https://localhost:8080/"
        },
        "id": "dfahcMNB_uZJ",
        "outputId": "9b07e73e-980f-4527-e262-4f77a5d8ba05"
      },
      "source": [
        "4**3**2"
      ],
      "execution_count": null,
      "outputs": [
        {
          "output_type": "execute_result",
          "data": {
            "text/plain": [
              "262144"
            ]
          },
          "metadata": {
            "tags": []
          },
          "execution_count": 24
        }
      ]
    },
    {
      "cell_type": "code",
      "metadata": {
        "colab": {
          "base_uri": "https://localhost:8080/"
        },
        "id": "CmsU2wGd_uZJ",
        "outputId": "895aebd9-baed-49c0-aa74-2418afc09bc9"
      },
      "source": [
        "4**(3**2)"
      ],
      "execution_count": null,
      "outputs": [
        {
          "output_type": "execute_result",
          "data": {
            "text/plain": [
              "262144"
            ]
          },
          "metadata": {
            "tags": []
          },
          "execution_count": 25
        }
      ]
    },
    {
      "cell_type": "code",
      "metadata": {
        "colab": {
          "base_uri": "https://localhost:8080/"
        },
        "id": "_lK3npM__uZJ",
        "outputId": "23881b9e-1951-4c9c-f49e-1b872801e7a4"
      },
      "source": [
        "(4**3)**2"
      ],
      "execution_count": null,
      "outputs": [
        {
          "output_type": "execute_result",
          "data": {
            "text/plain": [
              "4096"
            ]
          },
          "metadata": {
            "tags": []
          },
          "execution_count": 26
        }
      ]
    },
    {
      "cell_type": "markdown",
      "metadata": {
        "id": "SfMlAr5i_uZK"
      },
      "source": [
        "Even though precedence rules are based on algebraic rules, they are enforced for any data type. "
      ]
    },
    {
      "cell_type": "code",
      "metadata": {
        "colab": {
          "base_uri": "https://localhost:8080/"
        },
        "id": "jOvSZj-u_uZK",
        "outputId": "a5b0026f-4567-4998-a31d-bf4697a667a3"
      },
      "source": [
        "\"a\"*3+\"b\""
      ],
      "execution_count": null,
      "outputs": [
        {
          "output_type": "execute_result",
          "data": {
            "application/vnd.google.colaboratory.intrinsic+json": {
              "type": "string"
            },
            "text/plain": [
              "'aaab'"
            ]
          },
          "metadata": {
            "tags": []
          },
          "execution_count": 27
        }
      ]
    },
    {
      "cell_type": "markdown",
      "metadata": {
        "id": "42sCm4r4_uZK"
      },
      "source": [
        "## Excersise\n",
        "\n",
        "Write an expression that evaluates $3(7^2 + 4^{3^3} - 10)$."
      ]
    },
    {
      "cell_type": "markdown",
      "metadata": {
        "id": "J-bM-gs4_uZK"
      },
      "source": [
        "Of course we can have much more complicated expressions involving the math module for example.\n",
        "\n",
        "## Example\n",
        "\n",
        "When boiling an egg, it has been determined that the time it takes for the center of the yolk to reach a desired temperature $T$ is given by\n",
        "\n",
        "$$ t = \\frac{M^{2/3}c\\rho^{1/3}}{K\\pi^2(4\\pi/3)^{2/3}}\\ln\\left(0.76\\frac{T_0 - 100}{T - 100}\\right)$$\n",
        "\n",
        "where\n",
        "* $M$ is the mass of the egg\n",
        "* $\\rho$ is the density\n",
        "* $c$ is the specific heat capacity\n",
        "* $K$ is the thermal conductivity\n",
        "* $T_0$ is the temperature at $t=0$"
      ]
    },
    {
      "cell_type": "markdown",
      "metadata": {
        "id": "WrSUlZP2_uZK"
      },
      "source": [
        "$$ t = \\frac{M^{2/3}c\\rho^{1/3}}{K\\pi^2(4\\pi/3)^{2/3}}\\ln\\left(0.76\\frac{T_0 - 100}{T - 100}\\right)$$"
      ]
    },
    {
      "cell_type": "code",
      "metadata": {
        "id": "fiwrrO7p_uZK",
        "colab": {
          "base_uri": "https://localhost:8080/"
        },
        "outputId": "870ad774-691e-46e0-f1da-c333efda27ce"
      },
      "source": [
        "T = 70 # desired temperature\n",
        "M = 47\n",
        "rho = 1.038\n",
        "c = 3.7\n",
        "K = 5.4e-3\n",
        "T0 = 4\n",
        "\n",
        "# compute time according to above formula\n",
        "# we need the natural logarithm function and the pi constant from the math module\n",
        "from math import log, pi\n",
        "\n",
        "t = (M**(2/3)*c*rho**(1/3))/(K*pi**2*(4*pi/3)**(2/3))*log(0.76*(T0 - 100)/(T - 100))\n",
        "print(t)"
      ],
      "execution_count": null,
      "outputs": [
        {
          "output_type": "stream",
          "text": [
            "313.09454902221637\n"
          ],
          "name": "stdout"
        }
      ]
    },
    {
      "cell_type": "markdown",
      "metadata": {
        "id": "oFrxT7tA_uZL"
      },
      "source": [
        "## Exercise \n",
        "\n",
        "A quadratic equation can be written as:\n",
        "$$ ax^2 + bx + c = 0.$$\n",
        "\n",
        "In general this equation has two (possibly equal) solutions and they are given by the formulas:\n",
        "\n",
        "\\begin{align*}\n",
        "    x_1 = \\frac{-b + \\sqrt{b^2 - 4ac}}{2a},\\\\\n",
        "    x_2 = \\frac{-b - \\sqrt{b^2 - 4ac}}{2a}.\\\\\n",
        "\\end{align*}\n",
        "\n",
        "Use these formulas to compute the solutions of the equation $8x^2 + 16x + 4 = 0$.\n"
      ]
    },
    {
      "cell_type": "code",
      "metadata": {
        "collapsed": true,
        "id": "pbCoUPAZ_uZL"
      },
      "source": [
        "a = ...\n",
        "b = ...\n",
        "c = ...\n",
        "\n",
        "x1 = ...\n",
        "x2 = ..."
      ],
      "execution_count": null,
      "outputs": []
    },
    {
      "cell_type": "markdown",
      "metadata": {
        "id": "eszPaD7H_uZL"
      },
      "source": [
        "## Calling Functions from Within Expressions\n",
        "\n",
        "Function calls have high precedence. When multiple function calls are used in the same expression they are typically evaluated from left to right."
      ]
    },
    {
      "cell_type": "code",
      "metadata": {
        "colab": {
          "base_uri": "https://localhost:8080/"
        },
        "id": "Xu2eUZ-U_uZL",
        "outputId": "0625f630-2b6f-4194-e86d-9f8493c2cf42"
      },
      "source": [
        "person = \"George Washington\"\n",
        "person.split()[1]"
      ],
      "execution_count": null,
      "outputs": [
        {
          "output_type": "execute_result",
          "data": {
            "application/vnd.google.colaboratory.intrinsic+json": {
              "type": "string"
            },
            "text/plain": [
              "'Washington'"
            ]
          },
          "metadata": {
            "tags": []
          },
          "execution_count": 30
        }
      ]
    },
    {
      "cell_type": "markdown",
      "metadata": {
        "id": "CCqmhKuI_uZL"
      },
      "source": [
        "More complicated expressions are evaluated by first resolving commands inside parentheses."
      ]
    },
    {
      "cell_type": "code",
      "metadata": {
        "colab": {
          "base_uri": "https://localhost:8080/"
        },
        "id": "y-hPIG38_uZL",
        "outputId": "c6088dd3-f68f-44c8-92cb-3ce2cba8fde0"
      },
      "source": [
        "groceries = [\"cereal\", \"milk\", \"apple\"]\n",
        "groceries.insert(groceries.index(\"milk\") + 1, \"eggs\")\n",
        "groceries"
      ],
      "execution_count": null,
      "outputs": [
        {
          "output_type": "execute_result",
          "data": {
            "text/plain": [
              "['cereal', 'milk', 'eggs', 'apple']"
            ]
          },
          "metadata": {
            "tags": []
          },
          "execution_count": 31
        }
      ]
    },
    {
      "cell_type": "markdown",
      "metadata": {
        "id": "7ApJKHWT_uZM"
      },
      "source": [
        "Here we first must evaluate `groceries.index(\"milk\")` and then add 1 to it to find the index where we wish to insert \"eggs\"."
      ]
    },
    {
      "cell_type": "markdown",
      "metadata": {
        "id": "Vw-IzF--_uZM"
      },
      "source": [
        "## Exercise\n",
        "\n",
        "Write a one line expression to capitalize the word to the immediate right of \"milk\" in the given list. Assume that you don't know the index of \"milk\" beforehand."
      ]
    },
    {
      "cell_type": "code",
      "metadata": {
        "colab": {
          "base_uri": "https://localhost:8080/"
        },
        "id": "SpDl-JOm_uZM",
        "outputId": "2a54e40a-bf62-40c9-ccc9-07c80f4c85d5"
      },
      "source": [
        "groceries = [\"cereal\", \"milk\", \"apple\"]\n",
        "\n",
        "# change apple to Apple\n",
        "groceries[groceries.index(\"milk\") + 1] = ...\n",
        "\n",
        "# print new list\n",
        "print(groceries)"
      ],
      "execution_count": null,
      "outputs": [
        {
          "output_type": "stream",
          "text": [
            "['cereal', 'milk', Ellipsis]\n"
          ],
          "name": "stdout"
        }
      ]
    }
  ]
}