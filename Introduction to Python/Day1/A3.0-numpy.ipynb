{
  "nbformat": 4,
  "nbformat_minor": 0,
  "metadata": {
    "anaconda-cloud": {},
    "celltoolbar": "Slideshow",
    "colab": {
      "name": "A1.7-numpy.ipynb",
      "provenance": [],
      "collapsed_sections": []
    },
    "kernelspec": {
      "display_name": "Python 3",
      "language": "python",
      "name": "python3"
    },
    "language_info": {
      "codemirror_mode": {
        "name": "ipython",
        "version": 3
      },
      "file_extension": ".py",
      "mimetype": "text/x-python",
      "name": "python",
      "nbconvert_exporter": "python",
      "pygments_lexer": "ipython3",
      "version": "3.8.8"
    }
  },
  "cells": [
    {
      "cell_type": "markdown",
      "metadata": {
        "id": "PTGJ0zLG_uY-"
      },
      "source": [
        "<p style=\"text-align: center;\"><font size=\"8\"><b>Section 3.0: NumPy</b></font><br>\n"
      ]
    },
    {
      "cell_type": "markdown",
      "metadata": {
        "id": "2sG30NNi_uZM"
      },
      "source": [
        "# NumPy\n",
        "\n",
        "The `NumPy` module (http://www.numpy.org/) is an almost indispensible module for scientific computing. It provides objects such as arrays and matrices as well as functions spanning linear algebra, fourier transforms and statistics among numerous other things. \n",
        "\n",
        "NumPy will be one of the modules you'll use often in this camp (and likely in most other scientific Python codes).\n",
        "\n",
        "To start with we must import NumPy. To reduce the amount of typing for ourselves later we will rename the module `np` when we import it. Using `np` as shorthand for NumPy is a relatively standard convention in Python programming. "
      ]
    },
    {
      "cell_type": "code",
      "metadata": {
        "collapsed": true,
        "id": "F96OhR-L_uZM"
      },
      "source": [
        "import numpy as np"
      ],
      "execution_count": null,
      "outputs": []
    },
    {
      "cell_type": "markdown",
      "metadata": {
        "id": "E438m3-X_uZM"
      },
      "source": [
        "## Arrays\n",
        "\n",
        "One important class that NumPy provides is the `array` class. An array is similar to a `list` in that it is a collection of objects. Typically arrays store numbers. \n",
        "\n",
        "NumPy arrays can be initialized in a similar way to lists. Below you'll see we are giving a list to the np.array() function to create our array object."
      ]
    },
    {
      "cell_type": "code",
      "metadata": {
        "colab": {
          "base_uri": "https://localhost:8080/"
        },
        "id": "6WreQOia_uZM",
        "outputId": "29674626-e2e8-4468-d641-eb97f1f63ff6"
      },
      "source": [
        "a = np.array([1,2.0,3.2])\n",
        "print(a)\n",
        "type(a)"
      ],
      "execution_count": null,
      "outputs": [
        {
          "output_type": "stream",
          "text": [
            "[1.  2.  3.2]\n"
          ],
          "name": "stdout"
        },
        {
          "output_type": "execute_result",
          "data": {
            "text/plain": [
              "numpy.ndarray"
            ]
          },
          "metadata": {
            "tags": []
          },
          "execution_count": 34
        }
      ]
    },
    {
      "cell_type": "markdown",
      "metadata": {
        "id": "KyQqa1ZB_uZN"
      },
      "source": [
        "You'll notice the type of `a` is `numpy.ndarray`. NumPy arrays can be multidimensional. You can think of a 1D array as a kind of list (but not a Python list) and a 2D array as a kind of grid or table of values. Higher dimensional arrays are certainly possible, you can think of a 3D array as a stack of grids. \n",
        "\n",
        "![np array](https://github.com/lukasbystricky/ISC-3313/blob/master/lectures/chapter2/images/np_array.jpg?raw=true)\n",
        "(Image credit: Dalesha Hemrajani)\n"
      ]
    },
    {
      "cell_type": "markdown",
      "metadata": {
        "id": "xPgR5Afr_uZN"
      },
      "source": [
        "The attribute `ndim` stores the number of dimensions in the array."
      ]
    },
    {
      "cell_type": "code",
      "metadata": {
        "colab": {
          "base_uri": "https://localhost:8080/"
        },
        "id": "vuX-nqLC_uZN",
        "outputId": "efa09e80-618b-446f-dc93-7bf0559402f7"
      },
      "source": [
        "a.ndim"
      ],
      "execution_count": null,
      "outputs": [
        {
          "output_type": "execute_result",
          "data": {
            "text/plain": [
              "1"
            ]
          },
          "metadata": {
            "tags": []
          },
          "execution_count": 35
        }
      ]
    },
    {
      "cell_type": "markdown",
      "metadata": {
        "id": "nGJksZW9_uZN"
      },
      "source": [
        "Multidimensional arrays can be initialized as an array of arrays. "
      ]
    },
    {
      "cell_type": "code",
      "metadata": {
        "colab": {
          "base_uri": "https://localhost:8080/"
        },
        "id": "aU6W6h7Z_uZN",
        "outputId": "e846e6fa-68e6-4c29-cd74-ba6bba816f55"
      },
      "source": [
        "b = np.array([[1, 2, 3.0], [1.2,2.2,2]])\n",
        "print(b)"
      ],
      "execution_count": null,
      "outputs": [
        {
          "output_type": "stream",
          "text": [
            "[[1.  2.  3. ]\n",
            " [1.2 2.2 2. ]]\n"
          ],
          "name": "stdout"
        }
      ]
    },
    {
      "cell_type": "code",
      "metadata": {
        "colab": {
          "base_uri": "https://localhost:8080/"
        },
        "id": "I5IAkIpS_uZN",
        "outputId": "f7f8bcc3-4d84-405d-e395-db022fdfa218"
      },
      "source": [
        "print(b.ndim)"
      ],
      "execution_count": null,
      "outputs": [
        {
          "output_type": "stream",
          "text": [
            "2\n"
          ],
          "name": "stdout"
        }
      ]
    },
    {
      "cell_type": "markdown",
      "metadata": {
        "id": "18N5DTaJ_uZO"
      },
      "source": [
        "The `shape` property tells us how many rows and columns are in our array, while the `size` property tells us the total number of elements in the array."
      ]
    },
    {
      "cell_type": "code",
      "metadata": {
        "colab": {
          "base_uri": "https://localhost:8080/"
        },
        "id": "1nU8iRdw_uZO",
        "outputId": "bc861194-01f0-481a-f78b-b0062688041c"
      },
      "source": [
        "print(b.shape)\n",
        "print(b.size)"
      ],
      "execution_count": null,
      "outputs": [
        {
          "output_type": "stream",
          "text": [
            "(2, 3)\n",
            "6\n"
          ],
          "name": "stdout"
        }
      ]
    },
    {
      "cell_type": "markdown",
      "metadata": {
        "id": "mxuFAWpq_uZO"
      },
      "source": [
        "Here `b.shape` is the tuple (2,3) meaning that `b` has 2 rows and 3 columns."
      ]
    },
    {
      "cell_type": "markdown",
      "metadata": {
        "id": "20ijyz74_uZO"
      },
      "source": [
        "We could initialize an array as an array of arrays of different sizes. "
      ]
    },
    {
      "cell_type": "code",
      "metadata": {
        "colab": {
          "base_uri": "https://localhost:8080/"
        },
        "collapsed": true,
        "id": "uf8inL0F_uZO",
        "outputId": "8df7d2b0-363f-4a0d-dcc1-400c54b4a7d0"
      },
      "source": [
        "c = np.array([[1,2],[3,4,5,6]])"
      ],
      "execution_count": null,
      "outputs": [
        {
          "output_type": "stream",
          "text": [
            "/usr/local/lib/python3.7/dist-packages/ipykernel_launcher.py:1: VisibleDeprecationWarning: Creating an ndarray from ragged nested sequences (which is a list-or-tuple of lists-or-tuples-or ndarrays with different lengths or shapes) is deprecated. If you meant to do this, you must specify 'dtype=object' when creating the ndarray\n",
            "  \"\"\"Entry point for launching an IPython kernel.\n"
          ],
          "name": "stderr"
        }
      ]
    },
    {
      "cell_type": "markdown",
      "metadata": {
        "id": "s3KSbe2Q_uZO"
      },
      "source": [
        "This is perfectly valid. What is the dimension, size, and shape of `c`?"
      ]
    },
    {
      "cell_type": "code",
      "metadata": {
        "colab": {
          "base_uri": "https://localhost:8080/"
        },
        "id": "yXXxPDn0_uZO",
        "outputId": "a33e4da3-6df0-447b-c595-a72e9a4d3ed2"
      },
      "source": [
        "print(c.ndim)\n",
        "print(c.shape)\n",
        "print(c.size)\n",
        "print(c)"
      ],
      "execution_count": null,
      "outputs": [
        {
          "output_type": "stream",
          "text": [
            "1\n",
            "(2,)\n",
            "2\n",
            "[list([1, 2]) list([3, 4, 5, 6])]\n"
          ],
          "name": "stdout"
        }
      ]
    },
    {
      "cell_type": "markdown",
      "metadata": {
        "id": "nZF3bNFl_uZP"
      },
      "source": [
        "The way we are initializing `c`, it looks like we are trying to make a multidimensional array with the first row being [1,2] and the second row being [3,4,5,6]. Clearly since the lengths of these two rows are unequal, we cannot make a grid out of them. \n",
        "\n",
        "Python can recognize this and instead of making an array of dimension 2, it creates an array of dimension 1. Instead of having 6 elements, it only has 2. Each of the elements is a Python list."
      ]
    },
    {
      "cell_type": "markdown",
      "metadata": {
        "id": "_NLoh9rz_uZP"
      },
      "source": [
        "### Indexing\n",
        "\n",
        "It's important to know how arrays are numbered. Like lists and strings, arrays are 0 indexed, meaning the first entry in an array is at index 0. \n",
        "\n",
        "Two-dimensional arrays have rows and columns. The entry at index [0,0] (first row, first column) is located at the upper left hand corner of the array. \n",
        "\n",
        "![row map](https://github.com/lukasbystricky/ISC-3313/blob/master/lectures/chapter2/images/row_column.gif?raw=true)"
      ]
    },
    {
      "cell_type": "markdown",
      "metadata": {
        "id": "XrGXT71M_uZP"
      },
      "source": [
        "Like lists and strings, arrays support indexing and slicing."
      ]
    },
    {
      "cell_type": "code",
      "metadata": {
        "colab": {
          "base_uri": "https://localhost:8080/"
        },
        "id": "z9qJYfJX_uZP",
        "outputId": "3cd5ca40-53e6-4cf1-9924-791fbd84d471"
      },
      "source": [
        "a = np.array([1,2.0,3.2])\n",
        "a[0] # first entry in a"
      ],
      "execution_count": null,
      "outputs": [
        {
          "output_type": "execute_result",
          "data": {
            "text/plain": [
              "1.0"
            ]
          },
          "metadata": {
            "tags": []
          },
          "execution_count": 41
        }
      ]
    },
    {
      "cell_type": "code",
      "metadata": {
        "colab": {
          "base_uri": "https://localhost:8080/"
        },
        "id": "j4ybt6Iy_uZP",
        "outputId": "827e86f2-2dbc-4852-b86a-e1354fec9ab9"
      },
      "source": [
        "b = np.array([[1, 2, 3.0], [1.2,2.2,2]])\n",
        "b[1] # second entry in b, each entry is a row"
      ],
      "execution_count": null,
      "outputs": [
        {
          "output_type": "execute_result",
          "data": {
            "text/plain": [
              "array([1.2, 2.2, 2. ])"
            ]
          },
          "metadata": {
            "tags": []
          },
          "execution_count": 42
        }
      ]
    },
    {
      "cell_type": "markdown",
      "metadata": {
        "id": "D54c3Mkv_uZP"
      },
      "source": [
        "When we have a multidimensional array (or an array of arrays of equal or unequal length) we can access the element at row i and column j using the syntax:"
      ]
    },
    {
      "cell_type": "code",
      "metadata": {
        "colab": {
          "base_uri": "https://localhost:8080/"
        },
        "id": "pTxEYVaw_uZQ",
        "outputId": "204a4f65-4fc5-469b-d8d5-cee959372c52"
      },
      "source": [
        "b[1][0] # first element in the second row of b"
      ],
      "execution_count": null,
      "outputs": [
        {
          "output_type": "execute_result",
          "data": {
            "text/plain": [
              "1.2"
            ]
          },
          "metadata": {
            "tags": []
          },
          "execution_count": 43
        }
      ]
    },
    {
      "cell_type": "markdown",
      "metadata": {
        "id": "avSsJR-F_uZQ"
      },
      "source": [
        "Or the equivalent syntax:"
      ]
    },
    {
      "cell_type": "code",
      "metadata": {
        "colab": {
          "base_uri": "https://localhost:8080/"
        },
        "id": "Yy2Fl6lw_uZQ",
        "outputId": "3e063625-2a8b-44b9-c768-5e9e29e9b9ce"
      },
      "source": [
        "b[1,0]"
      ],
      "execution_count": null,
      "outputs": [
        {
          "output_type": "execute_result",
          "data": {
            "text/plain": [
              "1.2"
            ]
          },
          "metadata": {
            "tags": []
          },
          "execution_count": 44
        }
      ]
    },
    {
      "cell_type": "markdown",
      "metadata": {
        "id": "hfdth4EO_uZQ"
      },
      "source": [
        "Note that `b[1][0]` is the element in b at row 1 column 0.\n",
        "\n",
        "`b[1][0]` can also be thought of as the element at index 0 of `b[1]`."
      ]
    },
    {
      "cell_type": "markdown",
      "metadata": {
        "id": "HFR99MMU_uZQ"
      },
      "source": [
        "Note that arrays are mutable. For example we can modify an element of `b`."
      ]
    },
    {
      "cell_type": "code",
      "metadata": {
        "colab": {
          "base_uri": "https://localhost:8080/"
        },
        "id": "3EE73uLw_uZR",
        "outputId": "1081314c-386d-441d-9873-a3b0f69b79a7"
      },
      "source": [
        "b[0][0] = 8\n",
        "print(b)"
      ],
      "execution_count": null,
      "outputs": [
        {
          "output_type": "stream",
          "text": [
            "[[8.  2.  3. ]\n",
            " [1.2 2.2 2. ]]\n"
          ],
          "name": "stdout"
        }
      ]
    },
    {
      "cell_type": "markdown",
      "metadata": {
        "id": "8TwaTPvK_uZR"
      },
      "source": [
        "Slicing is done in exactly the same way."
      ]
    },
    {
      "cell_type": "code",
      "metadata": {
        "colab": {
          "base_uri": "https://localhost:8080/"
        },
        "id": "ZQnzk_-1_uZR",
        "outputId": "90e007ed-40b6-42a7-9268-33f655ff9f23"
      },
      "source": [
        "a = np.array([[1,2,3],[4,5,6],[7,8,9],[10,11,12]])\n",
        "print(a)"
      ],
      "execution_count": null,
      "outputs": [
        {
          "output_type": "stream",
          "text": [
            "[[ 1  2  3]\n",
            " [ 4  5  6]\n",
            " [ 7  8  9]\n",
            " [10 11 12]]\n"
          ],
          "name": "stdout"
        }
      ]
    },
    {
      "cell_type": "code",
      "metadata": {
        "colab": {
          "base_uri": "https://localhost:8080/"
        },
        "id": "i4XZ_yrt_uZS",
        "outputId": "11e2993d-394a-4e3b-90e9-03dd3a41450c"
      },
      "source": [
        "print(a[0,0:2]) # first 2 entries of row 0"
      ],
      "execution_count": null,
      "outputs": [
        {
          "output_type": "stream",
          "text": [
            "[1 2]\n"
          ],
          "name": "stdout"
        }
      ]
    },
    {
      "cell_type": "code",
      "metadata": {
        "colab": {
          "base_uri": "https://localhost:8080/"
        },
        "id": "dSFIeH_H_uZS",
        "outputId": "17e880e2-0618-48a2-d9b3-5899bc3f2d9d"
      },
      "source": [
        "print(a[0:2,1:3]) # first 2 rows and columns 2 and 3"
      ],
      "execution_count": null,
      "outputs": [
        {
          "output_type": "stream",
          "text": [
            "[[2 3]\n",
            " [5 6]]\n"
          ],
          "name": "stdout"
        }
      ]
    },
    {
      "cell_type": "markdown",
      "metadata": {
        "id": "r7tUFt-G_uZS"
      },
      "source": [
        "The colon operator by itself means the entire row or column."
      ]
    },
    {
      "cell_type": "code",
      "metadata": {
        "colab": {
          "base_uri": "https://localhost:8080/"
        },
        "id": "g8CwrEzg_uZT",
        "outputId": "9446fb3a-2eb4-4cdd-99dd-2d1e49888768"
      },
      "source": [
        "print(a[:,1]) # entire second column"
      ],
      "execution_count": null,
      "outputs": [
        {
          "output_type": "stream",
          "text": [
            "[ 2  5  8 11]\n"
          ],
          "name": "stdout"
        }
      ]
    },
    {
      "cell_type": "markdown",
      "metadata": {
        "id": "HK7xwX0O_uZT"
      },
      "source": [
        "## Exercise\n",
        "\n",
        "Create a NumPy array representing the data:\n",
        "$$ \\begin{bmatrix} 1 & 2 & 3 & 4\\\\ 5 & 6 & 7 & 8\\\\ 9 & 10 & 11 & 12\\\\ 13 & 14 & 15 & 16\\end{bmatrix}$$"
      ]
    },
    {
      "cell_type": "markdown",
      "metadata": {
        "id": "zzh69Q_d_uZT"
      },
      "source": [
        "Now extract the middle 2x2 array from the array from the previous exercise. i.e. use slicing to extract the array:\n",
        "$$ \\begin{bmatrix} 6 & 7\\\\ 10 & 11\\end{bmatrix}$$"
      ]
    },
    {
      "cell_type": "markdown",
      "metadata": {
        "id": "zxRe10sX_uZT"
      },
      "source": [
        "### Operations\n",
        "\n",
        "Arrays support several familiar operators. For example you can multiply or divide them by a number."
      ]
    },
    {
      "cell_type": "code",
      "metadata": {
        "colab": {
          "base_uri": "https://localhost:8080/"
        },
        "id": "1kCok2Lg_uZU",
        "outputId": "e1121b9c-53f6-4926-8c79-7237876d3b2a"
      },
      "source": [
        "a = np.array([1,2])\n",
        "print(2*a)\n",
        "print(a/2)"
      ],
      "execution_count": null,
      "outputs": [
        {
          "output_type": "stream",
          "text": [
            "[2 4]\n",
            "[0.5 1. ]\n"
          ],
          "name": "stdout"
        }
      ]
    },
    {
      "cell_type": "markdown",
      "metadata": {
        "id": "WGpk-DCn_uZU"
      },
      "source": [
        "You can also add a number to them. \n",
        "\n",
        "It should be made clear, when you add/subtract/multiply/divide/exponentiate/etc an array by a single number (known as a scalar) the operation is applied to **every** element of the array."
      ]
    },
    {
      "cell_type": "code",
      "metadata": {
        "colab": {
          "base_uri": "https://localhost:8080/"
        },
        "id": "S4mViFY3_uZU",
        "outputId": "b75c63af-81e0-4637-c0fa-f3abc36fe649"
      },
      "source": [
        "a = np.array([1,2])\n",
        "print(a + 1)"
      ],
      "execution_count": null,
      "outputs": [
        {
          "output_type": "stream",
          "text": [
            "[2 3]\n"
          ],
          "name": "stdout"
        }
      ]
    },
    {
      "cell_type": "markdown",
      "metadata": {
        "id": "LnV6s2Cj_uZV"
      },
      "source": [
        "You can even add two arrays together."
      ]
    },
    {
      "cell_type": "code",
      "metadata": {
        "colab": {
          "base_uri": "https://localhost:8080/"
        },
        "id": "pzwd_uXh_uZV",
        "outputId": "ff036e26-5776-48ea-c436-c3dcdf076a62"
      },
      "source": [
        "b = np.array([3,4])\n",
        "print(a + b)"
      ],
      "execution_count": null,
      "outputs": [
        {
          "output_type": "stream",
          "text": [
            "[4 6]\n"
          ],
          "name": "stdout"
        }
      ]
    },
    {
      "cell_type": "markdown",
      "metadata": {
        "id": "1oy_5JeZ_uZV"
      },
      "source": [
        "When you add two arrays together they must be the same size."
      ]
    },
    {
      "cell_type": "code",
      "metadata": {
        "colab": {
          "base_uri": "https://localhost:8080/",
          "height": 197
        },
        "id": "W4_ZSeKL_uZV",
        "outputId": "c6473aae-fd18-4292-cdfb-8150330a7446"
      },
      "source": [
        "a = np.array([1,2])\n",
        "a = np.array([2,4,5])\n",
        "print(a + b)"
      ],
      "execution_count": null,
      "outputs": [
        {
          "output_type": "error",
          "ename": "ValueError",
          "evalue": "ignored",
          "traceback": [
            "\u001b[0;31m---------------------------------------------------------------------------\u001b[0m",
            "\u001b[0;31mValueError\u001b[0m                                Traceback (most recent call last)",
            "\u001b[0;32m<ipython-input-54-4486f732dcfa>\u001b[0m in \u001b[0;36m<module>\u001b[0;34m()\u001b[0m\n\u001b[1;32m      1\u001b[0m \u001b[0ma\u001b[0m \u001b[0;34m=\u001b[0m \u001b[0mnp\u001b[0m\u001b[0;34m.\u001b[0m\u001b[0marray\u001b[0m\u001b[0;34m(\u001b[0m\u001b[0;34m[\u001b[0m\u001b[0;36m1\u001b[0m\u001b[0;34m,\u001b[0m\u001b[0;36m2\u001b[0m\u001b[0;34m]\u001b[0m\u001b[0;34m)\u001b[0m\u001b[0;34m\u001b[0m\u001b[0;34m\u001b[0m\u001b[0m\n\u001b[1;32m      2\u001b[0m \u001b[0ma\u001b[0m \u001b[0;34m=\u001b[0m \u001b[0mnp\u001b[0m\u001b[0;34m.\u001b[0m\u001b[0marray\u001b[0m\u001b[0;34m(\u001b[0m\u001b[0;34m[\u001b[0m\u001b[0;36m2\u001b[0m\u001b[0;34m,\u001b[0m\u001b[0;36m4\u001b[0m\u001b[0;34m,\u001b[0m\u001b[0;36m5\u001b[0m\u001b[0;34m]\u001b[0m\u001b[0;34m)\u001b[0m\u001b[0;34m\u001b[0m\u001b[0;34m\u001b[0m\u001b[0m\n\u001b[0;32m----> 3\u001b[0;31m \u001b[0mprint\u001b[0m\u001b[0;34m(\u001b[0m\u001b[0ma\u001b[0m \u001b[0;34m+\u001b[0m \u001b[0mb\u001b[0m\u001b[0;34m)\u001b[0m\u001b[0;34m\u001b[0m\u001b[0;34m\u001b[0m\u001b[0m\n\u001b[0m",
            "\u001b[0;31mValueError\u001b[0m: operands could not be broadcast together with shapes (3,) (2,) "
          ]
        }
      ]
    },
    {
      "cell_type": "markdown",
      "metadata": {
        "id": "HKi8GwXU_uZW"
      },
      "source": [
        "Suppose we want to multiply two NumPy arrays, $a = [a_1,a_2,a_3]$ and $b = [b_1,b_2,b_3]$, how does NumPy do it?\n"
      ]
    },
    {
      "cell_type": "code",
      "metadata": {
        "colab": {
          "base_uri": "https://localhost:8080/"
        },
        "id": "EGv8x9Db_uZW",
        "outputId": "301b026d-a2f7-4695-b167-a243a3d72aa2"
      },
      "source": [
        "a = np.array([1,2,3])\n",
        "b = np.array([3,4,5])\n",
        "\n",
        "print(a*b)"
      ],
      "execution_count": null,
      "outputs": [
        {
          "output_type": "stream",
          "text": [
            "[ 3  8 15]\n"
          ],
          "name": "stdout"
        }
      ]
    },
    {
      "cell_type": "markdown",
      "metadata": {
        "id": "zHHKDNlc_uZW"
      },
      "source": [
        "NumPy does what is called *element-wise multiplication*. In other words, `a*b` is equal to $[a_1 b_1, a_2 b_2, a_3 b_3]$."
      ]
    },
    {
      "cell_type": "markdown",
      "metadata": {
        "id": "lEj3278p_uZX"
      },
      "source": [
        "Now suppose $A$ is a 2D array and $x$ is a 1D array. What is `A*x` in Python? "
      ]
    },
    {
      "cell_type": "code",
      "metadata": {
        "colab": {
          "base_uri": "https://localhost:8080/"
        },
        "id": "qPldxpO3_uZX",
        "outputId": "a68abb36-7fe5-4ebe-ee7d-4c16943dec00"
      },
      "source": [
        "x = np.array([1,2])\n",
        "A = np.array([[3,2], [1,2]])\n",
        "\n",
        "print(A*x)"
      ],
      "execution_count": null,
      "outputs": [
        {
          "output_type": "stream",
          "text": [
            "[[3 4]\n",
            " [1 4]]\n"
          ],
          "name": "stdout"
        }
      ]
    },
    {
      "cell_type": "markdown",
      "metadata": {
        "id": "qR9LAb6F_uZX"
      },
      "source": [
        "It's still an elementwise multiplication. $A\\mathbf{x}$ in this case is defined to be:\n",
        "\n",
        "$$ \\begin{bmatrix} A_{11}x_1 & A_{12}x_2\\\\ A_{21}x_1 & A_{22} x_2\\end{bmatrix}$$\n",
        "\n",
        "We multiply each column of `A` by the corresponding index in `x`."
      ]
    },
    {
      "cell_type": "markdown",
      "metadata": {
        "id": "UZM_c3-C_uZY"
      },
      "source": [
        "Likewise if we call $A^2$, we get"
      ]
    },
    {
      "cell_type": "code",
      "metadata": {
        "colab": {
          "base_uri": "https://localhost:8080/"
        },
        "id": "k8aouGBW_uZY",
        "outputId": "3785ddfd-c3b5-4dea-8b6f-4ca04b741a61"
      },
      "source": [
        "print(A**2)"
      ],
      "execution_count": null,
      "outputs": [
        {
          "output_type": "stream",
          "text": [
            "[[9 4]\n",
            " [1 4]]\n"
          ],
          "name": "stdout"
        }
      ]
    },
    {
      "cell_type": "markdown",
      "metadata": {
        "id": "VW9E1dn7_uZY"
      },
      "source": [
        "which is \n",
        "$$ \\begin{bmatrix} A_{11}^2 & A_{12}^2\\\\A_{21}^2 & A_{22}^2\\end{bmatrix}.$$\n",
        "We still get elementwise multiplication."
      ]
    },
    {
      "cell_type": "markdown",
      "metadata": {
        "id": "HeCaenb-_uZZ"
      },
      "source": [
        "## Exercise\n",
        "\n",
        "Write a code fragment that adds the arrays:\n",
        "\n",
        "$$A = \\begin{bmatrix} 1 & 2 \\\\ 3 & 4\\end{bmatrix}$$\n",
        "and \n",
        "$$ B = \\begin{bmatrix} 5 & 6\\\\ 7 & 8\\end{bmatrix}.$$"
      ]
    },
    {
      "cell_type": "markdown",
      "metadata": {
        "id": "XM9CsKoj_uZZ"
      },
      "source": [
        "## Other Useful Operations\n",
        "\n",
        "\n",
        "### arange\n",
        "NumPy provides many useful operations to generate and manipulate arrays. \n",
        "\n",
        "For example suppose we want to create an array ranging from 1 to 20. NumPy provides a function `np.arange` that does just that."
      ]
    },
    {
      "cell_type": "code",
      "metadata": {
        "colab": {
          "base_uri": "https://localhost:8080/"
        },
        "id": "45bRrWCn_uZZ",
        "outputId": "fb111539-8657-42c3-cd89-b45b77831dba"
      },
      "source": [
        "a = np.arange(1,21)\n",
        "print(a)"
      ],
      "execution_count": null,
      "outputs": [
        {
          "output_type": "stream",
          "text": [
            "[ 1  2  3  4  5  6  7  8  9 10 11 12 13 14 15 16 17 18 19 20]\n"
          ],
          "name": "stdout"
        }
      ]
    },
    {
      "cell_type": "markdown",
      "metadata": {
        "id": "OFDFomrs_uZa"
      },
      "source": [
        "The arange function works in a similar way to the `range` class we saw earlier. It can take in up to three arguments: a starting value, an end value and a step size. It returns a 1D array that starts at the starting value and adds the step size until it reaches or exceeds the end value. \n"
      ]
    },
    {
      "cell_type": "markdown",
      "metadata": {
        "id": "3q-vtz9d_uZa"
      },
      "source": [
        "Note that unlike the `range` class, the starting and ending values as well as the step size can be floats. "
      ]
    },
    {
      "cell_type": "code",
      "metadata": {
        "colab": {
          "base_uri": "https://localhost:8080/"
        },
        "id": "X-nU1ZuX_uZa",
        "outputId": "dac70255-dd7f-4cc0-8723-58f565a33e5d"
      },
      "source": [
        "a = np.arange(1.1,2.0,0.1)\n",
        "print(a)"
      ],
      "execution_count": null,
      "outputs": [
        {
          "output_type": "stream",
          "text": [
            "[1.1 1.2 1.3 1.4 1.5 1.6 1.7 1.8 1.9]\n"
          ],
          "name": "stdout"
        }
      ]
    },
    {
      "cell_type": "code",
      "metadata": {
        "colab": {
          "base_uri": "https://localhost:8080/"
        },
        "id": "DQe6Sucj_uZa",
        "outputId": "24fbc6c1-0539-4002-9ff4-653f6b94233d"
      },
      "source": [
        "a = np.arange(1,2.2,0.1)\n",
        "print(a)"
      ],
      "execution_count": null,
      "outputs": [
        {
          "output_type": "stream",
          "text": [
            "[1.  1.1 1.2 1.3 1.4 1.5 1.6 1.7 1.8 1.9 2.  2.1 2.2]\n"
          ],
          "name": "stdout"
        }
      ]
    },
    {
      "cell_type": "markdown",
      "metadata": {
        "id": "tPIwjQr1_uZb"
      },
      "source": [
        "You'll notice however that when we use floating point numbers, we may or may not have the ending value as part of our array. This is due to floating point error. "
      ]
    },
    {
      "cell_type": "markdown",
      "metadata": {
        "id": "oTylTs2x_uZb"
      },
      "source": [
        "### linspace\n",
        "\n",
        "This ambiguity in arange can cause problems. Fortunately, NumPy provides a separate function that creates an array of a specified length. The `np.linspace` function takes in a start and end value as well as the number of points. Unless you are dealing with integers, linspace is preferred over arange to generate equally spaced arrays. "
      ]
    },
    {
      "cell_type": "code",
      "metadata": {
        "colab": {
          "base_uri": "https://localhost:8080/"
        },
        "id": "iXMmYIPm_uZb",
        "outputId": "3b704f85-f200-4f4e-c82b-8358d7f170d8"
      },
      "source": [
        "a = np.linspace(0,2.2,5)\n",
        "print(a)"
      ],
      "execution_count": null,
      "outputs": [
        {
          "output_type": "stream",
          "text": [
            "[0.   0.55 1.1  1.65 2.2 ]\n"
          ],
          "name": "stdout"
        }
      ]
    },
    {
      "cell_type": "markdown",
      "metadata": {
        "id": "4PmHV2Qa_uZc"
      },
      "source": [
        "The last parameter in linspace is the number of  desired points in the array. If the start value is greater than the end value, then linspace automatically takes negative step sizes."
      ]
    },
    {
      "cell_type": "code",
      "metadata": {
        "colab": {
          "base_uri": "https://localhost:8080/"
        },
        "id": "y9KnO9dg_uZc",
        "outputId": "0e035b7c-e6f2-4f4e-966a-01e4a02fd395"
      },
      "source": [
        "a = np.linspace(5,1,5)\n",
        "print(a)"
      ],
      "execution_count": null,
      "outputs": [
        {
          "output_type": "stream",
          "text": [
            "[5. 4. 3. 2. 1.]\n"
          ],
          "name": "stdout"
        }
      ]
    },
    {
      "cell_type": "markdown",
      "metadata": {
        "id": "iCVKMq3j_uZc"
      },
      "source": [
        "### reshape\n",
        "\n",
        "Suppose we wanted to create the array:\n",
        "$$ A = \\begin{bmatrix} 1 & 2 & 3\\\\ 4 & 5 & 6\\\\ 7 &8&9\\\\10 & 11& 12\\end{bmatrix}.$$\n",
        "\n",
        "We could create this matrix by hand, but if it was much larger that would be a pain. What if instead we used arange or linspace to create a 1D array with the same data, and then reshaped into an array with 4 rows and 3 columns? \n",
        "\n",
        "NumPy provides the function `np.reshape` that does just that."
      ]
    },
    {
      "cell_type": "code",
      "metadata": {
        "colab": {
          "base_uri": "https://localhost:8080/"
        },
        "id": "OhyOIJia_uZc",
        "outputId": "9ab3dc69-9af4-4eaf-c35f-8304e0b3cc99"
      },
      "source": [
        "a = np.arange(1, 13)\n",
        "A = np.reshape(a, (4, 3))\n",
        "\n",
        "print(A)"
      ],
      "execution_count": null,
      "outputs": [
        {
          "output_type": "stream",
          "text": [
            "[[ 1  2  3]\n",
            " [ 4  5  6]\n",
            " [ 7  8  9]\n",
            " [10 11 12]]\n"
          ],
          "name": "stdout"
        }
      ]
    },
    {
      "cell_type": "markdown",
      "metadata": {
        "id": "zBWajfJY_uZd"
      },
      "source": [
        "Note that the second argument to `np.reshape` is a tuple (r,c) where r is the number of rows and c is the number of columns we want the new array to have. "
      ]
    },
    {
      "cell_type": "markdown",
      "metadata": {
        "id": "-rnhI5l1_uZd"
      },
      "source": [
        "## Exercise\n",
        "\n",
        "Using the linspace and reshape functions, create the array:\n",
        "$$ A = \\begin{bmatrix} 0.1 & 0.2 & 0.3 & 0.4 & 0.5\\\\ 0.6 & 0.7 & 0.8 & 0.9 & 1\\end{bmatrix}.$$"
      ]
    },
    {
      "cell_type": "code",
      "metadata": {
        "id": "BFReyzpam8Qb"
      },
      "source": [
        ""
      ],
      "execution_count": null,
      "outputs": []
    },
    {
      "cell_type": "markdown",
      "metadata": {
        "id": "MgqF1NGrt85d"
      },
      "source": [
        "### zeros\n",
        "\n",
        "Sometimes it can be useful to create an array of zeros to fill in with non-zero values later:\n",
        "\n",
        "$$ A = \\begin{bmatrix} 0 & 0 & 0\\\\ 0 & 0 & 0\\\\ 0 &0&0\\\\0 & 0& 0\\end{bmatrix}.$$\n",
        "\n",
        "We find that we would repeatedly create rows of zeros if we did this by hand. And again, this would be just as painful to do for a larger matrix as stated in the `reshape` example. \n",
        "\n",
        "Again NumPy saves the day with `np.zeros((n,m))`, where n is the number of rows and m is the number of columns of zeros that you want. We can even make 1D arrays of zeros with this function a la `np.zeros(n)`"
      ]
    },
    {
      "cell_type": "code",
      "metadata": {
        "colab": {
          "base_uri": "https://localhost:8080/"
        },
        "id": "fU860-t5t85i",
        "outputId": "95bded2e-8a1b-44e9-842a-0e4049763ace"
      },
      "source": [
        "a = np.zeros(5)\n",
        "A = np.zeros((4, 3))\n",
        "print(a,'\\n')\n",
        "print(A)"
      ],
      "execution_count": null,
      "outputs": [
        {
          "output_type": "stream",
          "text": [
            "[0. 0. 0. 0. 0.] \n",
            "\n",
            "[[0. 0. 0.]\n",
            " [0. 0. 0.]\n",
            " [0. 0. 0.]\n",
            " [0. 0. 0.]]\n"
          ],
          "name": "stdout"
        }
      ]
    },
    {
      "cell_type": "markdown",
      "metadata": {
        "id": "fVig4KHOwD6F"
      },
      "source": [
        "### sum and mean/average\n",
        "\n",
        "We can also easily get the sum and mean/average of an array using `np.sum(array)` and `np.mean(array)`, respectively. If the arrays are 2D or greater, you can specify the `axis` over which the sum or mean is taken. For example with a 2D array, `np.sum(A,axis=0)` would return a sum across the rows, `np.mean(A,axis=1)` would return the mean across the columns.\n",
        "\n",
        "![axis](https://i.stack.imgur.com/Z29Nn.jpg)"
      ]
    },
    {
      "cell_type": "code",
      "metadata": {
        "colab": {
          "background_save": true,
          "base_uri": "https://localhost:8080/"
        },
        "id": "SCKM99w8wy1b",
        "outputId": "ef241e26-b0a7-44a4-ee1a-bc99c741a107"
      },
      "source": [
        "a = np.arange(1, 13)\n",
        "B = np.reshape(a, (4, 3))\n",
        "print(a)\n",
        "\n",
        "print(\"Sum  of a:\", np.sum(a))\n",
        "print(\"Mean of a:\", np.mean(a))\n",
        "\n",
        "print(\"\\n\", B)\n",
        "print(\"Sum  of B:\", np.sum(B))\n",
        "print(\"Mean of B:\", np.mean(B))\n",
        "print(\"\\nSum  across B rows:\", np.sum(B,axis=0))\n",
        "print(\"Mean across B rows:\", np.mean(B,axis=0))\n",
        "print(\"\\nSum  across B columns:\", np.sum(B,axis=1))\n",
        "print(\"Mean across B columns:\", np.mean(B,axis=1))\n",
        "\n"
      ],
      "execution_count": null,
      "outputs": [
        {
          "output_type": "stream",
          "text": [
            "[ 1  2  3  4  5  6  7  8  9 10 11 12]\n",
            "Sum  of a: 78\n",
            "Mean of a: 6.5\n",
            "\n",
            " [[ 1  2  3]\n",
            " [ 4  5  6]\n",
            " [ 7  8  9]\n",
            " [10 11 12]]\n",
            "Sum  of B: 78\n",
            "Mean of B: 6.5\n",
            "\n",
            "Sum  across B rows: [22 26 30]\n",
            "Mean across B rows: [5.5 6.5 7.5]\n",
            "\n",
            "Sum  across B columns: [ 6 15 24 33]\n",
            "Mean across B columns: [ 2.  5.  8. 11.]\n"
          ],
          "name": "stdout"
        }
      ]
    },
    {
      "cell_type": "markdown",
      "metadata": {
        "id": "eCd8FSLAzYyx"
      },
      "source": [
        "### max and min\n",
        "\n",
        "Finding the largest and the smallest values in an array is also very easy with NumPy! One simply needs to use `np.max(Array)` to find the largest value and `np.min(Array)` to find the smallest value.\n",
        "\n",
        "For 2D or greater arrays, you can get the maximum/minimum values for a given axis of the array, e.g. `np.max(B, axis=0)` would get the maximum values across the rows of `B`, `axis=1` would give the maximum values acros the columns."
      ]
    },
    {
      "cell_type": "code",
      "metadata": {
        "colab": {
          "base_uri": "https://localhost:8080/"
        },
        "id": "6cM903ALzYy9",
        "outputId": "c1d27405-97cc-4fbd-ee57-15816d4d15ce"
      },
      "source": [
        "a = np.arange(1, 13)\n",
        "B = np.reshape(a, (4, 3))\n",
        "print(a)\n",
        "print(\"Max of a:\", np.max(a))\n",
        "print(\"Min of a:\", np.min(a), \"\\n\")\n",
        "print(B)\n",
        "print(\"Max of B:\", np.max(B))\n",
        "print(\"Max across B rows:\", np.max(B,axis=0))\n",
        "print(\"Min across B columns:\", np.min(B,axis=1))"
      ],
      "execution_count": 19,
      "outputs": [
        {
          "output_type": "stream",
          "text": [
            "[ 1  2  3  4  5  6  7  8  9 10 11 12]\n",
            "Max of a: 12\n",
            "Min of a: 1 \n",
            "\n",
            "[[ 1  2  3]\n",
            " [ 4  5  6]\n",
            " [ 7  8  9]\n",
            " [10 11 12]]\n",
            "Max of B: 12\n",
            "Max over B rows: [10 11 12]\n",
            "Min over B columns: [ 1  4  7 10]\n"
          ],
          "name": "stdout"
        }
      ]
    },
    {
      "cell_type": "markdown",
      "metadata": {
        "id": "prutUqkr1O1C"
      },
      "source": [
        "### where\n",
        "\n",
        "Suppose we wanted to take all of the values of an array that were larger than 2.5 and make them zero. This is certainly doable by using `for` loops (we'll learn about these later) or simply doing it by hand.\n",
        "\n",
        "However, `np.where()` can make this very easy. For our example, you would use `np.where(B < 2.5, B, 0.0)` which translates to \"for where in B it is less than 2.5, use the corresponding values in B, otherwise set to 0.0\""
      ]
    },
    {
      "cell_type": "code",
      "metadata": {
        "colab": {
          "base_uri": "https://localhost:8080/"
        },
        "id": "j9PWaKjt1O1P",
        "outputId": "9b9bb1d5-4195-4590-ac64-ce0c9aa2bfb3"
      },
      "source": [
        "B = np.reshape(np.arange(1, 13), (4, 3))\n",
        "print(B,\"\\n\")\n",
        "print(np.where(B < 2.5, B, 0.0), \"\\n\")\n",
        "print(np.where(B > 2.5, 0.0, B), \"\\n\")"
      ],
      "execution_count": 18,
      "outputs": [
        {
          "output_type": "stream",
          "text": [
            "[[ 1  2  3]\n",
            " [ 4  5  6]\n",
            " [ 7  8  9]\n",
            " [10 11 12]] \n",
            "\n",
            "[[1. 2. 0.]\n",
            " [0. 0. 0.]\n",
            " [0. 0. 0.]\n",
            " [0. 0. 0.]] \n",
            "\n",
            "[[1. 2. 0.]\n",
            " [0. 0. 0.]\n",
            " [0. 0. 0.]\n",
            " [0. 0. 0.]] \n",
            "\n"
          ],
          "name": "stdout"
        }
      ]
    },
    {
      "cell_type": "markdown",
      "metadata": {
        "id": "GzYF83e94MxA"
      },
      "source": [
        "### stack\n",
        "\n",
        "Finally, we'll go over the `stack` method in NumPy. This function allows us to stack together multiple arrays in a larger, higher dimensional array. Suppose we had three 1D arrays of length 3 each and we wanted to stack them on top of each other to form a single, (3 by 3) 2D array, `np.stack` would provide us the means to do this."
      ]
    },
    {
      "cell_type": "code",
      "metadata": {
        "colab": {
          "base_uri": "https://localhost:8080/"
        },
        "id": "vGmCj1XL4MxM",
        "outputId": "da67c282-ae95-4315-f888-b17ce091aa49"
      },
      "source": [
        "a = np.array([1,1,1])\n",
        "b = np.array([2,2,2])\n",
        "c = np.array([3,3,3])\n",
        "print(\"a = \", a)\n",
        "print(\"b = \", b)\n",
        "print(\"c = \", c)\n",
        "D = np.stack((a,b,c),axis=0)\n",
        "print(\"\\nD = \\n\",D)\n",
        "\n",
        "\n"
      ],
      "execution_count": 17,
      "outputs": [
        {
          "output_type": "stream",
          "text": [
            "a =  [1 1 1]\n",
            "b =  [2 2 2]\n",
            "c =  [3 3 3]\n",
            "\n",
            "D = \n",
            " [[1 1 1]\n",
            " [2 2 2]\n",
            " [3 3 3]]\n"
          ],
          "name": "stdout"
        }
      ]
    },
    {
      "cell_type": "markdown",
      "metadata": {
        "id": "pOzNXwgV6Bpg"
      },
      "source": [
        "## Exercise\n",
        "\n",
        "Try constructing the following 2D array\n",
        "\n",
        "$$ A = \\begin{bmatrix} 1 & 2 & 3\\\\ 4 & 5 & 6\\\\ 7 & 8 & 9\\end{bmatrix}$$\n",
        "\n",
        "HINT: Constructing this array can be done with some combination of `np.arange`, `np.reshape`, and/or `np.stack`"
      ]
    },
    {
      "cell_type": "markdown",
      "metadata": {
        "id": "luoVeyap_uZh"
      },
      "source": [
        "### Mathematical Operations\n",
        "\n",
        "We saw earlier the math module. The math module provides functions like sine, cosine, arc-tangent and so on. These functions only work on numbers. If we pass in a NumPy array we get an error."
      ]
    },
    {
      "cell_type": "code",
      "metadata": {
        "colab": {
          "base_uri": "https://localhost:8080/",
          "height": 197
        },
        "id": "bAczEjGv_uZh",
        "outputId": "a1b6bc1e-4177-43b4-fe42-d0844836e1f6"
      },
      "source": [
        "import math\n",
        "\n",
        "a = np.array([0,1])\n",
        "print(math.sin(a))"
      ],
      "execution_count": null,
      "outputs": [
        {
          "output_type": "error",
          "ename": "TypeError",
          "evalue": "ignored",
          "traceback": [
            "\u001b[0;31m---------------------------------------------------------------------------\u001b[0m",
            "\u001b[0;31mTypeError\u001b[0m                                 Traceback (most recent call last)",
            "\u001b[0;32m<ipython-input-122-f4e7f756b787>\u001b[0m in \u001b[0;36m<module>\u001b[0;34m()\u001b[0m\n\u001b[1;32m      2\u001b[0m \u001b[0;34m\u001b[0m\u001b[0m\n\u001b[1;32m      3\u001b[0m \u001b[0ma\u001b[0m \u001b[0;34m=\u001b[0m \u001b[0mnp\u001b[0m\u001b[0;34m.\u001b[0m\u001b[0marray\u001b[0m\u001b[0;34m(\u001b[0m\u001b[0;34m[\u001b[0m\u001b[0;36m0\u001b[0m\u001b[0;34m,\u001b[0m\u001b[0;36m1\u001b[0m\u001b[0;34m]\u001b[0m\u001b[0;34m)\u001b[0m\u001b[0;34m\u001b[0m\u001b[0;34m\u001b[0m\u001b[0m\n\u001b[0;32m----> 4\u001b[0;31m \u001b[0mprint\u001b[0m\u001b[0;34m(\u001b[0m\u001b[0mmath\u001b[0m\u001b[0;34m.\u001b[0m\u001b[0msin\u001b[0m\u001b[0;34m(\u001b[0m\u001b[0ma\u001b[0m\u001b[0;34m)\u001b[0m\u001b[0;34m)\u001b[0m\u001b[0;34m\u001b[0m\u001b[0;34m\u001b[0m\u001b[0m\n\u001b[0m",
            "\u001b[0;31mTypeError\u001b[0m: only size-1 arrays can be converted to Python scalars"
          ]
        }
      ]
    },
    {
      "cell_type": "markdown",
      "metadata": {
        "id": "Rwbjz6Ci_uZi"
      },
      "source": [
        "NumPy provides its own implementations of many mathematical functions that take in arrays and perform operations on each element."
      ]
    },
    {
      "cell_type": "code",
      "metadata": {
        "colab": {
          "base_uri": "https://localhost:8080/"
        },
        "id": "sIrwhRgZ_uZi",
        "outputId": "cffc5096-fd28-4755-c4a1-23d65d45d590"
      },
      "source": [
        "a = np.array([0,1])\n",
        "print(np.sin(a))"
      ],
      "execution_count": null,
      "outputs": [
        {
          "output_type": "stream",
          "text": [
            "[0.         0.84147098]\n"
          ],
          "name": "stdout"
        }
      ]
    },
    {
      "cell_type": "markdown",
      "metadata": {
        "id": "WhJUWM2r_uZi"
      },
      "source": [
        "The fact that the NumPy and math modules provide functions with the same names demonstrates why it is a bad idea to import everything at once from a module."
      ]
    },
    {
      "cell_type": "markdown",
      "metadata": {
        "id": "LrHpviiV_uZi"
      },
      "source": [
        "## Exercise\n",
        "\n",
        "Evaluate the expression:\n",
        "$ 3a + b,$\n",
        "where $a = [1, 2, 3, 4, 5]$ and $b = [1.1,1.2,1.3,1.4,1.5].$ Use linspace or arange to create $a$ and $b$."
      ]
    },
    {
      "cell_type": "markdown",
      "metadata": {
        "id": "5tZy1CI-_uZj"
      },
      "source": [
        "### Arrays vs. Lists\n",
        "\n",
        "Arrays and lists are similar in many ways. Both represent a collection of objects. In this camp (and beyond) arrays and lists will be the most common data structures you will use. When should you use one over the other? \n",
        "\n",
        "For starters, arrays are mutable, however they do not support methods such as `pop` or `append`. Once initialized the size of an array cannot be easily changed. If your application needs to change the size of a collection, lists are the preferred option. "
      ]
    },
    {
      "cell_type": "markdown",
      "metadata": {
        "id": "sEmXwG4K_uZj"
      },
      "source": [
        "Another difference between arrays and lists is how operators are defined. We saw earlier how we can add two arrays together or multiply them by a number. This behaviour is different from how it is handled with lists."
      ]
    },
    {
      "cell_type": "code",
      "metadata": {
        "colab": {
          "base_uri": "https://localhost:8080/"
        },
        "id": "sL4GbQlB_uZj",
        "outputId": "94a124e0-8ed5-4d16-e68e-b21384e44a69"
      },
      "source": [
        "a_array = np.array([1,2])\n",
        "b_array = np.array([3,4])\n",
        "\n",
        "a_list = [1,2]\n",
        "b_list = [3,4]\n",
        "\n",
        "print(\"a_array + b_array:\", a_array + b_array)\n",
        "print(\"a_list + b_list:  \", a_list + b_list)\n",
        "\n",
        "print(\"2*a_array:\", 2*a_array)\n",
        "print(\"2*a_list: \", 2*a_list)"
      ],
      "execution_count": null,
      "outputs": [
        {
          "output_type": "stream",
          "text": [
            "a_array + b_array: [4 6]\n",
            "a_list + b_list:   [1, 2, 3, 4]\n",
            "2*a_array: [2 4]\n",
            "2*a_list:  [1, 2, 1, 2]\n"
          ],
          "name": "stdout"
        }
      ]
    },
    {
      "cell_type": "markdown",
      "metadata": {
        "id": "EeJDI_oK_uZk"
      },
      "source": [
        "It's possible to convert from a list to an array or vice versa. NumPy arrays provide the method `tolist()` which converts an array to a list."
      ]
    },
    {
      "cell_type": "code",
      "metadata": {
        "colab": {
          "base_uri": "https://localhost:8080/"
        },
        "id": "KChDn-0l_uZk",
        "outputId": "84687e04-95f6-4db5-c09a-07a91cf48ef3"
      },
      "source": [
        "c = a.tolist()\n",
        "type(c)"
      ],
      "execution_count": null,
      "outputs": [
        {
          "output_type": "execute_result",
          "data": {
            "text/plain": [
              "list"
            ]
          },
          "metadata": {
            "tags": []
          },
          "execution_count": 78
        }
      ]
    },
    {
      "cell_type": "markdown",
      "metadata": {
        "id": "cBBszF-c_uZk"
      },
      "source": [
        "NumPy also provides the function `asarray` that takes a list and returns an array."
      ]
    },
    {
      "cell_type": "code",
      "metadata": {
        "colab": {
          "base_uri": "https://localhost:8080/"
        },
        "id": "NT_A9DsW_uZk",
        "outputId": "03792706-22b2-4f7a-f3fd-f00f2bc400b1"
      },
      "source": [
        "d = np.asarray(c)\n",
        "type(d)"
      ],
      "execution_count": null,
      "outputs": [
        {
          "output_type": "execute_result",
          "data": {
            "text/plain": [
              "numpy.ndarray"
            ]
          },
          "metadata": {
            "tags": []
          },
          "execution_count": 79
        }
      ]
    },
    {
      "cell_type": "markdown",
      "metadata": {
        "id": "ofIDk5XNQZSb"
      },
      "source": [
        "# Documentation - NumPy\n",
        "\n",
        "But what if you forget how to properly use a function from NumPy? Or maybe you want to look for other functions that might be of use to you? Well, computer programmers have you covered, with **documentation**. Just like with informational user manuals that come with a new car, microwave, cell phone, etc, Python modules come with their own user manuals! A link the to NumPy's documentation manual can be found here [NumPy docs link](https://numpy.org/doc/stable/user/index.html). At this website, you'll find a list of contents leading to different and helpful resources for using NumPy in Python code, such as their [absolute beginner's guide](https://numpy.org/doc/stable/user/absolute_beginners.html). When in doubt, look at the documentation website!\n",
        "\n",
        "For completeness, the Python `math` module documentation can be found here [math docs](https://docs.python.org/3/library/math.html#) which is a part of the greater [Python documentation website](https://docs.python.org/3/).\n",
        "\n",
        "A word of caution, larger projects like NumPy are well supported, but some projects are not so fortunate. As a result, smaller Python module projects may not have as good documentation as good documentation takes a lot of time and resources to make! However, there are still ways to find out useful information concerning individual modules and their functions. Often times, Google Search will be your friend, particularly any search results that take you to stackoverflow.com, and a useful resource when stuck on a programming problem."
      ]
    }
  ]
}
