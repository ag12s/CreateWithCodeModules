{
  "nbformat": 4,
  "nbformat_minor": 0,
  "metadata": {
    "anaconda-cloud": {},
    "celltoolbar": "Slideshow",
    "kernelspec": {
      "display_name": "Python 3",
      "language": "python",
      "name": "python3"
    },
    "language_info": {
      "codemirror_mode": {
        "name": "ipython",
        "version": 3
      },
      "file_extension": ".py",
      "mimetype": "text/x-python",
      "name": "python",
      "nbconvert_exporter": "python",
      "pygments_lexer": "ipython3",
      "version": "3.8.8"
    },
    "colab": {
      "name": "CwC-Intro2Python-2.3-conditional_statements.ipynb",
      "provenance": [],
      "collapsed_sections": []
    }
  },
  "cells": [
    {
      "cell_type": "markdown",
      "metadata": {
        "id": "6OG5hcY1hy1f"
      },
      "source": [
        "<p style=\"text-align: center;\"><font size=\"8\"><b>Section 2.3: Conditional Statements</b></font><br>\n"
      ]
    },
    {
      "cell_type": "markdown",
      "metadata": {
        "id": "YVqyv63why1f"
      },
      "source": [
        "Another important control structure is the *conditional statement*, more commonly known as an *if statement*. This structure allows us to specify a block of instructions that are to be executed only when a certain value is true. \n",
        "\n",
        "This is an extremely valuable tool as it allows the execution to vary depending on values that are not necessarily known until the program is running."
      ]
    },
    {
      "cell_type": "markdown",
      "metadata": {
        "id": "HUtdjfbRhy1g"
      },
      "source": [
        "As a simple example consider the following code snippet."
      ]
    },
    {
      "cell_type": "code",
      "metadata": {
        "id": "gFyArprshy1g",
        "outputId": "7c0b4587-f1cf-4d5f-d17f-daaee0d61d39"
      },
      "source": [
        "string = \"is this a long string?\"\n",
        "if len(string)>20:\n",
        "    print(\"This is a long string!\")\n"
      ],
      "execution_count": null,
      "outputs": [
        {
          "output_type": "stream",
          "text": [
            "This is a long string!\n"
          ],
          "name": "stdout"
        }
      ]
    },
    {
      "cell_type": "code",
      "metadata": {
        "id": "7IMd2eMhhy1h"
      },
      "source": [
        "string = \"how about this?\"\n",
        "if len(string)>20:\n",
        "    print(\"This is a long string!\")"
      ],
      "execution_count": null,
      "outputs": []
    },
    {
      "cell_type": "markdown",
      "metadata": {
        "id": "jIGxp7CShy1i"
      },
      "source": [
        "Clearly the code only prints \"This is a long string\" if the length of the string is greater than 20."
      ]
    },
    {
      "cell_type": "markdown",
      "metadata": {
        "id": "HZersPq5hy1i"
      },
      "source": [
        "## The Condition\n",
        "\n",
        "The condition (e.g. `len(string) > 20`) can be an arbitrary boolean expression. This may be a single variable of type `bool` or a more complex expression that evaluates to a boolean (actaully any expression can be evaluated to a boolean in Python, but this is generally discouraged as it makes code hard to read)."
      ]
    },
    {
      "cell_type": "code",
      "metadata": {
        "id": "KnEzDJA2hy1j",
        "outputId": "633178f8-87be-4ebc-d6dd-9be97a267fc9"
      },
      "source": [
        "string = \"is this a long string?\"\n",
        "if len(string)>20 and \"s\" in string:\n",
        "    print(\"This is a long string, and it contains the letter s!\")"
      ],
      "execution_count": null,
      "outputs": [
        {
          "output_type": "stream",
          "text": [
            "This is a long string, and it contains the letter s!\n"
          ],
          "name": "stdout"
        }
      ]
    },
    {
      "cell_type": "code",
      "metadata": {
        "id": "orZiNdcNhy1k"
      },
      "source": [
        "string = \"how about this?\"\n",
        "if len(string)>20 and \"s\" in string:\n",
        "    print(\"This is a long string, and it contains the letter s!\")"
      ],
      "execution_count": null,
      "outputs": []
    },
    {
      "cell_type": "markdown",
      "metadata": {
        "id": "GEDPykyUhy1k"
      },
      "source": [
        "In this case the first string is longer than 20 **and** contains the letter s, while the second string also contains the letter s but is still shorter than 20."
      ]
    },
    {
      "cell_type": "markdown",
      "metadata": {
        "id": "lxJiKWpmhy1l"
      },
      "source": [
        "![if statement flow chart](https://github.com/ag12s/CreateWithCodeModules/blob/main/images/if_flowchart.png?raw=true)"
      ]
    },
    {
      "cell_type": "markdown",
      "metadata": {
        "id": "ScnWxjzrhy1l"
      },
      "source": [
        "As with for loops, the body of an if statement can contain any valid Python code. This includes other if statements or for loops. For example we could have a nested if statement."
      ]
    },
    {
      "cell_type": "code",
      "metadata": {
        "id": "fGZnS7Qahy1l"
      },
      "source": [
        "string = \"how about this?\"\n",
        "if len(string)>20:\n",
        "    if \"s\" in string:\n",
        "        print(\"This is a long string, and it contains the letter s!\")"
      ],
      "execution_count": null,
      "outputs": []
    },
    {
      "cell_type": "markdown",
      "metadata": {
        "id": "PMvYr82Fhy1m"
      },
      "source": [
        "This is actually exactly equivalent to an example from earlier."
      ]
    },
    {
      "cell_type": "code",
      "metadata": {
        "collapsed": true,
        "id": "PfbdfVz6hy1m"
      },
      "source": [
        "if len(string)>20 and \"s\" in string:\n",
        "    print(\"This is a long string, and it contains the letter s!\")"
      ],
      "execution_count": null,
      "outputs": []
    },
    {
      "cell_type": "markdown",
      "metadata": {
        "id": "20Mfv_GUhy1m"
      },
      "source": [
        "## Exercise\n",
        "\n",
        "Write a code fragment that prints the number of occurrences of the letter \"t\" in a string __only if__ there are more than 3."
      ]
    },
    {
      "cell_type": "code",
      "metadata": {
        "id": "CZ1cFACxhy1m"
      },
      "source": [
        "s = \"This is a string that contains the letter t\""
      ],
      "execution_count": null,
      "outputs": []
    },
    {
      "cell_type": "markdown",
      "metadata": {
        "id": "5HFnmsA2hy1n"
      },
      "source": [
        "## else\n",
        "\n",
        "We use `if` to specify steps that are executed when a given condition is true. An alternative set of steps can be expressed as an `else` clause, to be executed when the condition is false."
      ]
    },
    {
      "cell_type": "code",
      "metadata": {
        "id": "lQS7z_6Vhy1n",
        "outputId": "7a20b54c-a40c-427a-f8b9-7aaf531b2d6f"
      },
      "source": [
        "string = \"is this a long string?\"\n",
        "if len(string)>20:\n",
        "    print(\"This is a long string!\")\n",
        "else:\n",
        "    print(\"This is not a long string :-(\")"
      ],
      "execution_count": null,
      "outputs": [
        {
          "output_type": "stream",
          "text": [
            "This is a long string!\n"
          ],
          "name": "stdout"
        }
      ]
    },
    {
      "cell_type": "code",
      "metadata": {
        "id": "pwCUeBEThy1n",
        "outputId": "32120ce6-1f2a-43fa-fc3d-00c0b5df66b5"
      },
      "source": [
        "string = \"how about this?\"\n",
        "if len(string)>20:\n",
        "    print(\"This is a long string!\")\n",
        "else:\n",
        "    print(\"This is not a long string :-(\")"
      ],
      "execution_count": null,
      "outputs": [
        {
          "output_type": "stream",
          "text": [
            "This is not a long string :-(\n"
          ],
          "name": "stdout"
        }
      ]
    },
    {
      "cell_type": "markdown",
      "metadata": {
        "id": "_W8vxM-5hy1o"
      },
      "source": [
        "![if else statement flow chart](https://github.com/ag12s/CreateWithCodeModules/blob/main/images/ifelse_flowchart.png?raw=true)"
      ]
    },
    {
      "cell_type": "markdown",
      "metadata": {
        "id": "uzRmNc2bhy1o"
      },
      "source": [
        "## elif\n",
        "\n",
        "Sometimes we may have more than 2 possible outcomes. For example:"
      ]
    },
    {
      "cell_type": "code",
      "metadata": {
        "id": "1aiIWa_chy1o",
        "outputId": "5c89235e-6660-4191-980e-aa6c9b2fe75a"
      },
      "source": [
        "string = \"how about this?\"\n",
        "if len(string)>20:\n",
        "    print(\"This is a long string!\")\n",
        "else:\n",
        "    if (len(string) > 10):\n",
        "        print(\"Sort of...\")\n",
        "    else:\n",
        "        print(\"This is not a long string :-(\")"
      ],
      "execution_count": null,
      "outputs": [
        {
          "output_type": "stream",
          "text": [
            "Sort of...\n"
          ],
          "name": "stdout"
        }
      ]
    },
    {
      "cell_type": "markdown",
      "metadata": {
        "id": "GL558PG_hy1o"
      },
      "source": [
        "Here we first check if the string is longer than 20 characters, if it's not we check if it's longer than 10 characters and if it's not we print \"This is not a long string :-(\". "
      ]
    },
    {
      "cell_type": "markdown",
      "metadata": {
        "id": "TGhFE7uDhy1p"
      },
      "source": [
        "An alternative syntax is to use the `elif` command."
      ]
    },
    {
      "cell_type": "code",
      "metadata": {
        "id": "2m2gg9Obhy1p",
        "outputId": "b5a0d232-3cc9-4955-ab72-f96c7b989be9"
      },
      "source": [
        "string = \"how about this?\"\n",
        "if len(string)>20:\n",
        "    print(\"This is a long string!\")\n",
        "elif (len(string) > 10):\n",
        "    print(\"Sort of...\")\n",
        "else:\n",
        "    print(\"This is not a long string :-(\")"
      ],
      "execution_count": null,
      "outputs": [
        {
          "output_type": "stream",
          "text": [
            "Sort of...\n"
          ],
          "name": "stdout"
        }
      ]
    },
    {
      "cell_type": "markdown",
      "metadata": {
        "id": "MXFh2t2Ghy1p"
      },
      "source": [
        "The advantage of this syntax is that it doens't require us to keep indenting for each new if statement."
      ]
    },
    {
      "cell_type": "markdown",
      "metadata": {
        "id": "G3-D-hGhhy1p"
      },
      "source": [
        "## break\n",
        "\n",
        "The `break` command, when called from inside a loop causes an immediate stop to the entire loop. The current iteration is interrupted and control skips beyond the end of the loop. Typically we call `break` if a condition has been met."
      ]
    },
    {
      "cell_type": "code",
      "metadata": {
        "id": "1WwmywrThy1p",
        "outputId": "7dc1eebb-3c2d-4c5b-e477-d245c1bec608"
      },
      "source": [
        "for i in range(10,0,-1):\n",
        "    if i > 5:\n",
        "        print(i)\n",
        "    else:\n",
        "        break"
      ],
      "execution_count": null,
      "outputs": [
        {
          "output_type": "stream",
          "text": [
            "10\n",
            "9\n",
            "8\n",
            "7\n",
            "6\n"
          ],
          "name": "stdout"
        }
      ]
    },
    {
      "cell_type": "markdown",
      "metadata": {
        "id": "jFUa_j34hy1q"
      },
      "source": [
        "## Finding Prime Numbers\n",
        "\n",
        "A prime number is a number that has exactly 2 factors, itself and 1. For example 5 is a prime number because the only way to factor 5 is as $5\\times 1$. On the other hand 27 is not a prime number because $27=9\\times 3$.\n",
        "\n",
        "One way (definitely *not* the best way) to determine if a number $a$ is prime is to look at all integers from 2 to $a/2$ and see if it is a factor of $a$. If at least one of them is a factor of $a$ than $a$ is not prime, otherwise it is prime."
      ]
    },
    {
      "cell_type": "markdown",
      "metadata": {
        "id": "r4x3UlB7hy1q"
      },
      "source": [
        "To put this into code we will use a for loop to loop from 2 to $a/2$. For each integer $k$ in this range we will check if $a/k$ is an integer. To do this, we will check if mod(a,k)=0 (i.e. the remainder of a/k is 0).\n"
      ]
    },
    {
      "cell_type": "code",
      "metadata": {
        "id": "yTSQDRU3hy1r",
        "outputId": "1fa6141d-f02b-45e0-d1ee-ab0e2b9347c9"
      },
      "source": [
        "a = 325633\n",
        "prime = True\n",
        "\n",
        "for k in range(2,round(a/2)):\n",
        "    if a%k == 0:\n",
        "        prime = False\n",
        "        print(a, \"is not a prime, \", k,\" is a factor\")\n",
        "        break\n",
        "\n",
        "if prime:\n",
        "    print(a, \"is a prime\")\n"
      ],
      "execution_count": null,
      "outputs": [
        {
          "output_type": "stream",
          "text": [
            "325633 is not a prime,  7  is a factor\n"
          ],
          "name": "stdout"
        }
      ]
    },
    {
      "cell_type": "markdown",
      "metadata": {
        "id": "h9I_JTY3oMGZ"
      },
      "source": [
        "Is 991 a prime number? Modify the code above to find out!"
      ]
    },
    {
      "cell_type": "markdown",
      "metadata": {
        "id": "FC2S4LNEhy1s"
      },
      "source": [
        "# List Comprehension\n",
        "\n",
        "At the end of our discussion of for loops we talked about list comprehensions. For example:"
      ]
    },
    {
      "cell_type": "code",
      "metadata": {
        "id": "382D3_xOhy1s",
        "outputId": "da993bf4-95d6-4dbf-bf67-3dc754a34074"
      },
      "source": [
        "numbers = [1, 3, 5, 19]\n",
        "\n",
        "numbers = [n/10 for n in numbers]\n",
        "print(numbers)"
      ],
      "execution_count": null,
      "outputs": [
        {
          "output_type": "stream",
          "text": [
            "[0.1, 0.3, 0.5, 1.9]\n"
          ],
          "name": "stdout"
        }
      ]
    },
    {
      "cell_type": "markdown",
      "metadata": {
        "id": "iYE0yrQphy1s"
      },
      "source": [
        "Recall that this used the syntax\n",
        "\n",
        "     results = [expression for identifier in sequence]"
      ]
    },
    {
      "cell_type": "markdown",
      "metadata": {
        "id": "k-iwAKeKhy1s"
      },
      "source": [
        "Python supports adding an optional condition by employing the syntax\n",
        "\n",
        "     results = [expression for identifier in sequence if condition]\n",
        "\n",
        "This expression is evaluated as:\n",
        "\n",
        "    result = []\n",
        "    for identifier in sequence:\n",
        "        if condition:\n",
        "            result.append(expression)\n",
        "            \n",
        "For example:"
      ]
    },
    {
      "cell_type": "code",
      "metadata": {
        "id": "JCx1F-l0hy1s",
        "outputId": "1b2f1fb4-4318-4fa0-f4b3-75ea4d4b5847"
      },
      "source": [
        "numbers = [1, 3, 5, 19]\n",
        "\n",
        "numbers = [2*n for n in numbers if n < 10]\n",
        "print(numbers)"
      ],
      "execution_count": null,
      "outputs": [
        {
          "output_type": "stream",
          "text": [
            "[2, 6, 10]\n"
          ],
          "name": "stdout"
        }
      ]
    },
    {
      "cell_type": "markdown",
      "metadata": {
        "id": "0RJoJFotoryQ"
      },
      "source": [
        "##Try it out!\n",
        "\n",
        "Write a code that prints half of the values in the numbers array below if the value is greater than or equal to 20."
      ]
    },
    {
      "cell_type": "code",
      "metadata": {
        "id": "AR-A3RIXpBDj"
      },
      "source": [
        "numbers = [52, 18, 24, 30, 20, 19]"
      ],
      "execution_count": 1,
      "outputs": []
    },
    {
      "cell_type": "code",
      "metadata": {
        "id": "09V6RnRnpQDz"
      },
      "source": [
        ""
      ],
      "execution_count": null,
      "outputs": []
    }
  ]
}