{
  "nbformat": 4,
  "nbformat_minor": 0,
  "metadata": {
    "anaconda-cloud": {},
    "celltoolbar": "Slideshow",
    "kernelspec": {
      "display_name": "Python 3",
      "language": "python",
      "name": "python3"
    },
    "language_info": {
      "codemirror_mode": {
        "name": "ipython",
        "version": 3
      },
      "file_extension": ".py",
      "mimetype": "text/x-python",
      "name": "python",
      "nbconvert_exporter": "python",
      "pygments_lexer": "ipython3",
      "version": "3.8.8"
    },
    "colab": {
      "name": "CwC-Intro2Python-3.4-functions.ipynb",
      "provenance": [],
      "collapsed_sections": []
    }
  },
  "cells": [
    {
      "cell_type": "markdown",
      "metadata": {
        "id": "0mYhagYKh1CX"
      },
      "source": [
        "<p style=\"text-align: center;\"><font size=\"8\"><b>Section 3.4: Functions</b></font><br>\n"
      ]
    },
    {
      "cell_type": "markdown",
      "metadata": {
        "id": "nrOmDyfNh1CY"
      },
      "source": [
        "Functions are the most general purpose control structure. We have already seen several functions, for example `abs(x)` returns the absolute value of x. We'll look at creating our own functions."
      ]
    },
    {
      "cell_type": "markdown",
      "metadata": {
        "collapsed": true,
        "id": "4FP3ywz1h1CY"
      },
      "source": [
        "Let's say that we want to convert a temperature in Fahrenheit to Celsius. In assignment 1 you were given the formula\n",
        "\n",
        "$$ C = \\frac{5}{9}(F - 32).$$\n",
        "\n",
        "That is, given a temperature in Fahrenheit $F$ we can compute the temperature in Celsius."
      ]
    },
    {
      "cell_type": "code",
      "metadata": {
        "id": "2mZ3GXSih1CZ",
        "outputId": "f940d80f-7fbf-4e88-87cb-7bb29bdd1a37"
      },
      "source": [
        "F = 88\n",
        "C = 5/9*(F - 32)\n",
        "print(C)"
      ],
      "execution_count": null,
      "outputs": [
        {
          "output_type": "stream",
          "text": [
            "31.111111111111114\n"
          ],
          "name": "stdout"
        }
      ]
    },
    {
      "cell_type": "markdown",
      "metadata": {
        "id": "dN_jNNaGh1CZ"
      },
      "source": [
        "We could also define a function, say `FtoC` that does the same thing:"
      ]
    },
    {
      "cell_type": "code",
      "metadata": {
        "id": "4wIGGWr7h1CZ",
        "outputId": "0c335d32-ddc9-422c-e86a-87201233b0ea"
      },
      "source": [
        "def FtoC(F):\n",
        "    C = 5/9*(F-32)\n",
        "    return C\n",
        "\n",
        "FtoC(88)"
      ],
      "execution_count": null,
      "outputs": [
        {
          "output_type": "execute_result",
          "data": {
            "text/plain": [
              "31.111111111111114"
            ]
          },
          "metadata": {
            "tags": []
          },
          "execution_count": 3
        }
      ]
    },
    {
      "cell_type": "markdown",
      "metadata": {
        "id": "oicQc1-xh1Ca"
      },
      "source": [
        "Functions are declared with the keyword `def` (short for define). It is followed by the name of the function, here `FtoC`. Parentheses enclose a series of parameters that are passed in by the caller (F). If a function does not require any parameters there must still be opening and closing parentheses. Finally an indented body contains the code that is executed when the fucntion is called.\n",
        "\n",
        "\n",
        "    def function_name( parameters) :\n",
        "        body\n",
        "    "
      ]
    },
    {
      "cell_type": "markdown",
      "metadata": {
        "id": "8LxcjY9w7hMR"
      },
      "source": [
        "# Exercise\n",
        "Write a function that converts a temperature in Celsius to Fahrenheight. The formula for converting Celcius to Fahrenheight is $$F = \\frac{9}{5}C + 32. $$\n"
      ]
    },
    {
      "cell_type": "code",
      "metadata": {
        "id": "vl7s7ceo8RGi"
      },
      "source": [
        ""
      ],
      "execution_count": null,
      "outputs": []
    },
    {
      "cell_type": "markdown",
      "metadata": {
        "id": "HTp62Eqph1Ca"
      },
      "source": [
        "## Function name\n",
        "\n",
        "A function name follows the same rules as a variable name. It must only consist of letters, digits and underscores and it cannot start with a digit. It also cannot be a reserved word, for example \"`class`\"."
      ]
    },
    {
      "cell_type": "markdown",
      "metadata": {
        "id": "cElS4Nt0h1Ca"
      },
      "source": [
        "## Parameters\n",
        "\n",
        "We are free to choose the names of the parameters. The name we give a parameter is known as a *formal parameter*; it serves as a placeholder for a piece of information from the caller, known as the *actual parameter*. We cannot assume to know the name of the variable name used by the caller. In fact when we call `FtoC(88)`, the actual parameter has a value of 88, but no name. \n",
        "\n",
        "In general formal parameter names should be chosen in such a way as to suggest their meaning. That's why we chose `F` in the function above; we could also have chosen `far` or `fahrenheit`. \n",
        "\n",
        "Each time our function is called the formal parameter `F` gets assigned the value "
      ]
    },
    {
      "cell_type": "markdown",
      "metadata": {
        "id": "lQ3M5mhWh1Cb"
      },
      "source": [
        "## Body\n",
        "\n",
        "The body of a function can be any valid Python code. This includes loops and if statements. \n",
        "\n",
        "A difference between the body of a function and that of loops and if statements is that any code in the body of a function has **local scope**. This means that variables inside a function do not interact with variables outside the function."
      ]
    },
    {
      "cell_type": "markdown",
      "metadata": {
        "id": "oFZro7-Kh1Cb"
      },
      "source": [
        "Local scope is good because it means that we do not have to worry about what variable names are used by the caller and the caller doesn't have to worry about what variable names are used in the function. \n",
        "\n",
        "An exception to the local scope rule is modules. Modules that are loaded outside the function can still be used inside the function."
      ]
    },
    {
      "cell_type": "code",
      "metadata": {
        "id": "enfbF_yWh1Cb",
        "outputId": "b37dbd1c-fe3d-4359-a5d6-f6036a56f529"
      },
      "source": [
        "C = 12 # we might already have a variable called C\n",
        "\n",
        "def FtoC(F):\n",
        "    # here we create a variable C inside the function\n",
        "    C = 5/9*(F-32)\n",
        "    return C\n",
        "\n",
        "print(\"F=\", FtoC(88))\n",
        "print(\"C=\", C) # notice how the value of C has not changed"
      ],
      "execution_count": null,
      "outputs": [
        {
          "output_type": "stream",
          "text": [
            "F= 31.111111111111114\n",
            "C= 12\n"
          ],
          "name": "stdout"
        }
      ]
    },
    {
      "cell_type": "markdown",
      "metadata": {
        "id": "cisaX_pWh1Cb"
      },
      "source": [
        "## Return values\n",
        "\n",
        "Because of local scope the caller cannot access variables defined inside the body of a function. In order to retrieve any information from a function, the function should have a **return statement**. \n",
        "\n",
        "When a return statement is called, the function ends. Note that this does not mean that a return statement must be the last statement in a function. Sometimes you may want to have a conditional statement that returns different values to the caller depending on some condition. We'll see examples of this later."
      ]
    },
    {
      "cell_type": "markdown",
      "metadata": {
        "id": "qQCWajp_h1Cc"
      },
      "source": [
        "Sometimes you'd like a function to return multiple values. In this case it is customary to return a tuple of values."
      ]
    },
    {
      "cell_type": "markdown",
      "metadata": {
        "id": "OVofnewOh1Cc"
      },
      "source": [
        "## Exercise\n",
        "\n",
        "Write a function `circleArea()` that takes a radius `r` as a parameter and computes the area of a circle according to formula:\n",
        "$$ A = \\pi r^2.$$"
      ]
    },
    {
      "cell_type": "code",
      "metadata": {
        "id": "RQxkr-HB9gAB"
      },
      "source": [
        ""
      ],
      "execution_count": null,
      "outputs": []
    },
    {
      "cell_type": "markdown",
      "metadata": {
        "id": "3q16-JSLh1Cc"
      },
      "source": [
        "## Exercise\n",
        "\n",
        "Write a function `isEven()` that takes an integer `n` as a parameter and returns `True` if the number is even and `False` otherwise. Hint: one way to do this is to check if their is a remainder after dividing the input number by 2."
      ]
    },
    {
      "cell_type": "code",
      "metadata": {
        "id": "TWELI1vS-DxB"
      },
      "source": [
        ""
      ],
      "execution_count": null,
      "outputs": []
    },
    {
      "cell_type": "markdown",
      "metadata": {
        "id": "xNWNBiCjh1Cc"
      },
      "source": [
        "## Exercise\n",
        "\n",
        "Write a function `sphereInformation()` that takes a radius `r` as a parameter and returns the volume *and* the surface area of a sphere. Use the formulas:\n",
        "$$ V = \\frac{4}{3}\\pi r^3, \\qquad A = 4\\pi r^2.$$"
      ]
    },
    {
      "cell_type": "code",
      "metadata": {
        "id": "g5Ph9Tqq-HWZ"
      },
      "source": [
        ""
      ],
      "execution_count": null,
      "outputs": []
    },
    {
      "cell_type": "markdown",
      "metadata": {
        "id": "f7Na6eYph1Cd"
      },
      "source": [
        "## Flow of Control\n",
        "\n",
        "When a function is called, whether a built-in function or one that you defined, control passes directly to the body of the function. The body of a function can call other functions. Once a function finishes, control is passed back to whoever called it.\n",
        "\n"
      ]
    },
    {
      "cell_type": "markdown",
      "metadata": {
        "id": "42S499Ejh1Cd"
      },
      "source": [
        "Before the user calls a function, it must be defined. For example, the following code will not work because we are trying to call the function `fib` before it is defined."
      ]
    },
    {
      "cell_type": "code",
      "metadata": {
        "id": "xEyaXwhCh1Cd",
        "outputId": "0979eb9a-c958-47fa-832d-aaf98c6f3285"
      },
      "source": [
        "print(fib(5))\n",
        "\n",
        "def fib(N):\n",
        "    # create list of Fibonacci numbers, append first two numbers\n",
        "    fib = []\n",
        "    fib.append(0)\n",
        "    fib.append(1)\n",
        "\n",
        "    # loop from 2 to N-1 (giving you N total terms)\n",
        "    for i in range(2,N):\n",
        "        # apply recurrance relation\n",
        "        fib.append(fib[i-1]+fib[i-2])\n",
        "    print(fib)"
      ],
      "execution_count": null,
      "outputs": [
        {
          "output_type": "error",
          "ename": "NameError",
          "evalue": "name 'fib' is not defined",
          "traceback": [
            "\u001b[1;31m---------------------------------------------------------------------------\u001b[0m",
            "\u001b[1;31mNameError\u001b[0m                                 Traceback (most recent call last)",
            "\u001b[1;32m<ipython-input-5-9218c7a8901a>\u001b[0m in \u001b[0;36m<module>\u001b[1;34m()\u001b[0m\n\u001b[1;32m----> 1\u001b[1;33m \u001b[0mprint\u001b[0m\u001b[1;33m(\u001b[0m\u001b[0mfib\u001b[0m\u001b[1;33m(\u001b[0m\u001b[1;36m5\u001b[0m\u001b[1;33m)\u001b[0m\u001b[1;33m)\u001b[0m\u001b[1;33m\u001b[0m\u001b[0m\n\u001b[0m\u001b[0;32m      2\u001b[0m \u001b[1;33m\u001b[0m\u001b[0m\n\u001b[0;32m      3\u001b[0m \u001b[1;32mdef\u001b[0m \u001b[0mfib\u001b[0m\u001b[1;33m(\u001b[0m\u001b[0mN\u001b[0m\u001b[1;33m)\u001b[0m\u001b[1;33m:\u001b[0m\u001b[1;33m\u001b[0m\u001b[0m\n\u001b[0;32m      4\u001b[0m     \u001b[1;31m# create list of Fibonacci numbers, append first two numbers\u001b[0m\u001b[1;33m\u001b[0m\u001b[1;33m\u001b[0m\u001b[0m\n\u001b[0;32m      5\u001b[0m     \u001b[0mfib\u001b[0m \u001b[1;33m=\u001b[0m \u001b[1;33m[\u001b[0m\u001b[1;33m]\u001b[0m\u001b[1;33m\u001b[0m\u001b[0m\n",
            "\u001b[1;31mNameError\u001b[0m: name 'fib' is not defined"
          ]
        }
      ]
    },
    {
      "cell_type": "markdown",
      "metadata": {
        "id": "Y9MpZebWh1Cd"
      },
      "source": [
        "## Optional parameters\n",
        "\n",
        "We've seen some built-in functions that take in optional parameters."
      ]
    },
    {
      "cell_type": "markdown",
      "metadata": {
        "id": "pzcgPhn-h1Ce"
      },
      "source": [
        "For example consider a countdown function."
      ]
    },
    {
      "cell_type": "code",
      "metadata": {
        "id": "g6eYMMrsh1Ce",
        "outputId": "9c6f9b8d-b1a7-4bb0-d723-10521195e77b"
      },
      "source": [
        "def countdown():\n",
        "    for c in range(10,0,-1):\n",
        "        print(c)\n",
        "        \n",
        "    print(\"BLASTOFF\")\n",
        "    \n",
        "countdown()"
      ],
      "execution_count": null,
      "outputs": [
        {
          "output_type": "stream",
          "text": [
            "10\n",
            "9\n",
            "8\n",
            "7\n",
            "6\n",
            "5\n",
            "4\n",
            "3\n",
            "2\n",
            "1\n",
            "BLASTOFF\n"
          ],
          "name": "stdout"
        }
      ]
    },
    {
      "cell_type": "markdown",
      "metadata": {
        "id": "B2lS95n3h1Ce"
      },
      "source": [
        "Suppose we wanted to let the user select the starting value. Most of the time the user would select ten, but it would be nice to let them choose a different number sometimes. The starting value 10 would then be called the **default parameter**."
      ]
    },
    {
      "cell_type": "code",
      "metadata": {
        "id": "JdcDByinh1Ce",
        "outputId": "a5af89d3-d4b2-4515-d942-2d70a32a612e"
      },
      "source": [
        "def countdown(start = 10):\n",
        "    for c in range(start,0,-1):\n",
        "        print(c)\n",
        "        \n",
        "    print(\"BLASTOFF\")\n",
        "    \n",
        "countdown(5)"
      ],
      "execution_count": null,
      "outputs": [
        {
          "output_type": "stream",
          "text": [
            "5\n",
            "4\n",
            "3\n",
            "2\n",
            "1\n",
            "BLASTOFF\n"
          ],
          "name": "stdout"
        }
      ]
    },
    {
      "cell_type": "code",
      "metadata": {
        "id": "bUJHFbBKh1Cf",
        "outputId": "e5dc23fb-a304-4951-d245-5190425588ae"
      },
      "source": [
        "def countdown(start = 10):\n",
        "    for c in range(start,0,-1):\n",
        "        print(c)\n",
        "        \n",
        "    print(\"BLASTOFF\")\n",
        "    \n",
        "countdown()"
      ],
      "execution_count": null,
      "outputs": [
        {
          "output_type": "stream",
          "text": [
            "10\n",
            "9\n",
            "8\n",
            "7\n",
            "6\n",
            "5\n",
            "4\n",
            "3\n",
            "2\n",
            "1\n",
            "BLASTOFF\n"
          ],
          "name": "stdout"
        }
      ]
    },
    {
      "cell_type": "markdown",
      "metadata": {
        "id": "VZTIUBJGh1Cf"
      },
      "source": [
        "We can have multiple optional parameters."
      ]
    },
    {
      "cell_type": "code",
      "metadata": {
        "id": "DEOeezh-h1Cf",
        "outputId": "44f3ccb3-8688-4211-ae79-56c165ccfb09"
      },
      "source": [
        "def countdown(start = 10, message = \"BLASTOFF\"):\n",
        "    for c in range(start,0,-1):\n",
        "        print(c)\n",
        "        \n",
        "    print(message)\n",
        "    \n",
        "countdown(5,\"YIPPIE!\")"
      ],
      "execution_count": null,
      "outputs": [
        {
          "output_type": "stream",
          "text": [
            "5\n",
            "4\n",
            "3\n",
            "2\n",
            "1\n",
            "YIPPIE!\n"
          ],
          "name": "stdout"
        }
      ]
    },
    {
      "cell_type": "markdown",
      "metadata": {
        "id": "WRIefirOh1Cf"
      },
      "source": [
        "The user can specify what parameter to set."
      ]
    },
    {
      "cell_type": "code",
      "metadata": {
        "id": "YjToBExNh1Cf",
        "outputId": "e8e363bb-a884-4215-877b-39af2b0cc1de"
      },
      "source": [
        "countdown(message=\"YIPPIE!\")"
      ],
      "execution_count": null,
      "outputs": [
        {
          "output_type": "stream",
          "text": [
            "10\n",
            "9\n",
            "8\n",
            "7\n",
            "6\n",
            "5\n",
            "4\n",
            "3\n",
            "2\n",
            "1\n",
            "YIPPIE!\n"
          ],
          "name": "stdout"
        }
      ]
    },
    {
      "cell_type": "markdown",
      "metadata": {
        "id": "QQLbCQPQh1Cf"
      },
      "source": [
        "## Exercise\n",
        "\n",
        "Write a function `sumOfSquares()` that computes the sum of the square of the first `n` positive integers, i.e. $$\\sum\\limits_{k=1}^n k^2 = 1^2 + 2^2 + 3^2...$$\n",
        "\n",
        "Make `n=5` the default parameter."
      ]
    },
    {
      "cell_type": "code",
      "metadata": {
        "id": "5agmpWhJ_Vxu"
      },
      "source": [
        "def sumOfSquares(...):\n",
        "  #set the sum to 0 - but do not name it sum!\n",
        "  #use a for or while loop to loop over the values from 1 to n\n",
        "    #square the value and add it to the sum\n",
        "  #return the sum"
      ],
      "execution_count": null,
      "outputs": []
    },
    {
      "cell_type": "markdown",
      "metadata": {
        "id": "GaqXtWIph1Cg"
      },
      "source": [
        "## Exercise\n",
        "\n",
        "Write a function `sumOfPowers()` that computes the sum of the first $n$ positive integers each raised to some power $a$, i.e. $\\sum\\limits_{k=1}^n k^a = 1^a + 2^a + 3^a...$\n",
        "\n",
        "Make `n=5` and `a=1` the default parameters."
      ]
    },
    {
      "cell_type": "code",
      "metadata": {
        "id": "E2wuACV-B2v_"
      },
      "source": [
        ""
      ],
      "execution_count": null,
      "outputs": []
    },
    {
      "cell_type": "markdown",
      "metadata": {
        "id": "y4fwLiiNh1Cg"
      },
      "source": [
        "## Lambda Functions\n",
        "\n",
        "Functions that are only one line can be defined inline using **lambda functions**. For example the function `FtoC` could be defined in single line by:"
      ]
    },
    {
      "cell_type": "code",
      "metadata": {
        "id": "Sy4HXuBRh1Cg",
        "outputId": "fed3d7a9-5533-4bc4-c127-b5a8e404fef0"
      },
      "source": [
        "FtoC = lambda F: 5/9*(F-32)\n",
        "\n",
        "FtoC(88)"
      ],
      "execution_count": null,
      "outputs": [
        {
          "output_type": "execute_result",
          "data": {
            "text/plain": [
              "31.111111111111114"
            ]
          },
          "metadata": {
            "tags": []
          },
          "execution_count": 10
        }
      ]
    },
    {
      "cell_type": "markdown",
      "metadata": {
        "id": "c6P6nzs5h1Cg"
      },
      "source": [
        "Lambda functions only make sense when the function is actually something that can be defined in a single line. They should not contain loops or conditional statements.\n",
        "\n",
        "\n",
        "Lambda functions are useful in scientific computing because they allow us to quickly create simple functions to pass in as arguments to other functions. We'll see an example of this shortly. "
      ]
    },
    {
      "cell_type": "markdown",
      "metadata": {
        "id": "2uIkFpz0h1Cg"
      },
      "source": [
        "## Exercise\n",
        "\n",
        "Write a lambda function that computes $e^{\\sin(x)}$. Hint: you will have to import sin and exp from math."
      ]
    },
    {
      "cell_type": "code",
      "metadata": {
        "id": "_E3wXgYjCYhk"
      },
      "source": [
        ""
      ],
      "execution_count": 1,
      "outputs": []
    },
    {
      "cell_type": "markdown",
      "metadata": {
        "id": "BH8kVdtEWL71"
      },
      "source": [
        "## Recursive Functions\n",
        "\n",
        "There are some problems in mathematics and science where the method involved in solving that problem is by applying a set procedure in the middle of the very same procedure! I know, sounds a bit confusing, doesn't it? A simple example of this is the factorial (!) function in mathematics where a number is multiplied by all of the integers less than it, excluding 0 and negative numbers:\n",
        "\n",
        "- 0! = 1         = 1\n",
        "- 1! = 1         = 1\n",
        "- 2! = 2x1       = 2\n",
        "- 3! = 3x2x1     = 6\n",
        "- 4! = 4x3x2x1   = 24\n",
        "- 5! = 5x4x3x2x1 = 120\n",
        "\n",
        "Take a moment to think about the above examples given in order of 1! through 5!... there seems to be a pattern, in fact, we could rewrite the above list as:\n",
        "\n",
        "- 0! = 1\n",
        "- 1! = 1\n",
        "- 2! = 2x1!\n",
        "- 3! = 3x2!\n",
        "- 4! = 4x3!\n",
        "- 5! = 5x4!\n",
        "\n",
        "That is, for a given integer *N*, it's factorial solution is nothing more than that *N* multiplied by the factorial solution of the integer *N-1*:\n",
        "\n",
        "- N! = N x (N-1)!\n",
        "\n",
        "We can exploit this pattern with recursion, the act of using a procedure within itself. Fortunately, Python supports recursive functions, so we can define our function to call itself as many times as needed to compute the factorial of any given integer."
      ]
    },
    {
      "cell_type": "code",
      "metadata": {
        "colab": {
          "base_uri": "https://localhost:8080/"
        },
        "id": "U1rcQ9nVZDWz",
        "outputId": "97d1a2c9-2a65-4a52-c1e2-ed66959a350e"
      },
      "source": [
        "def factorial_recursive(n):\n",
        "  if n == 0:\n",
        "    return 1\n",
        "  else:\n",
        "    return n * factorial_recursive(n - 1)\n",
        "\n",
        "for n in range(6):\n",
        "  print(factorial_recursive(n))\n",
        "print(\"Voila! We have a recursive factorial function!\")"
      ],
      "execution_count": 2,
      "outputs": [
        {
          "output_type": "stream",
          "text": [
            "1\n",
            "1\n",
            "2\n",
            "6\n",
            "24\n",
            "120\n",
            "Voila! We have a recursive factorial function!\n"
          ],
          "name": "stdout"
        }
      ]
    },
    {
      "cell_type": "code",
      "metadata": {
        "id": "B2yXQM9bDGJj"
      },
      "source": [
        ""
      ],
      "execution_count": 5,
      "outputs": []
    },
    {
      "cell_type": "markdown",
      "metadata": {
        "id": "Rtqtq4ZaaRfO"
      },
      "source": [
        "However, just because we can solve this factorial problem doesn't mean we can't solve it in another way! In fact, there may be situations where the recursive function solution may be slower than a non-recursive solution, such as for- and while-loops. Or, the recursive function may not be as easy to implement. Just keep in mind that many problems have multiple solutions, it'll take time and experience to learn when one solution method will *likely* be better than another."
      ]
    },
    {
      "cell_type": "markdown",
      "metadata": {
        "id": "lALV2tkHnuZl"
      },
      "source": [
        "# Wrapping it all up\n",
        "\n",
        "Remember the image below from the very beginning of camp? It was generated by using two different recursive functions in Python!\n",
        "\n",
        "![recursive](https://github.com/ag12s/CreateWithCodeModules/blob/main/images/recursive_graphics.png?raw=true)"
      ]
    }
  ]
}