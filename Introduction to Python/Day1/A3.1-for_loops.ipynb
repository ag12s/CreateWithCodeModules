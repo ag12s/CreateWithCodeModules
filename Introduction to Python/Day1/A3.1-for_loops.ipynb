{
  "nbformat": 4,
  "nbformat_minor": 0,
  "metadata": {
    "anaconda-cloud": {},
    "celltoolbar": "Slideshow",
    "kernelspec": {
      "display_name": "Python 3",
      "language": "python",
      "name": "python3"
    },
    "language_info": {
      "codemirror_mode": {
        "name": "ipython",
        "version": 3
      },
      "file_extension": ".py",
      "mimetype": "text/x-python",
      "name": "python",
      "nbconvert_exporter": "python",
      "pygments_lexer": "ipython3",
      "version": "3.8.8"
    },
    "colab": {
      "name": "CwC-Intro2Python-2.2-for_loops.ipynb",
      "provenance": []
    }
  },
  "cells": [
    {
      "cell_type": "markdown",
      "metadata": {
        "id": "1o1-z6y_hx-7"
      },
      "source": [
        "<p style=\"text-align: center;\"><font size=\"8\"><b>Section 3.1: For Loops</b></font><br>\n"
      ]
    },
    {
      "cell_type": "markdown",
      "metadata": {
        "id": "waizzUCAhx-7"
      },
      "source": [
        "Now that we know some basic Python commands, we will turn to *control structures*. By default, statements are exectuted in the order in which they are given. Control structures let us specify a different order. \n",
        "\n",
        "Specifically we will look at two of the most common control structures. The first, a *for loop* lets us repeat a sequence of commands. The second, an *if statement* specifies a sequence of commands to be executed only if a condition is true. \n",
        "\n",
        "First, we will look at for loops."
      ]
    },
    {
      "cell_type": "markdown",
      "metadata": {
        "id": "FaW_-nyz1AEP"
      },
      "source": [
        "#For Loops"
      ]
    },
    {
      "cell_type": "markdown",
      "metadata": {
        "collapsed": true,
        "id": "d4hX_2zvhx-9"
      },
      "source": [
        "Often we need to repeat a series of steps for each item of a sequence. Such a repetition is called an *iteration* and can be expressed using a control structure known as a for loop. \n",
        "\n",
        "A for loop always begins with the syntax\n",
        "\n",
        "    for identifier in sequence:\n",
        "\n",
        "This is followed by a block of code we call the *body* of the loop. "
      ]
    },
    {
      "cell_type": "markdown",
      "metadata": {
        "collapsed": true,
        "id": "GuzIn3Ojhx-9"
      },
      "source": [
        "For example, given a list of names, we can print each name on its own line using a for loop."
      ]
    },
    {
      "cell_type": "code",
      "metadata": {
        "id": "PFzjUG5Zhx-9",
        "outputId": "a7d307da-f56c-469e-aeeb-a5193fb7d5a3"
      },
      "source": [
        "guests = [\"Kirk\", \"Spock\", \"Bones\", \"Scotty\", \"Uhura\", \"Sulu\", \"Chekov\"]\n",
        "for person in guests:\n",
        "    print(\"Hi\", person)"
      ],
      "execution_count": null,
      "outputs": [
        {
          "output_type": "stream",
          "text": [
            "Hi Kirk\n",
            "Hi Spock\n",
            "Hi Bones\n",
            "Hi Scotty\n",
            "Hi Uhura\n",
            "Hi Sulu\n",
            "Hi Chekov\n"
          ],
          "name": "stdout"
        }
      ]
    },
    {
      "cell_type": "markdown",
      "metadata": {
        "id": "GNJBFTOPhx--"
      },
      "source": [
        "Here `guests` is the sequence, and `person` is called the identifier or *loop variable*. A sequence can be any object that represents a sequence of elements, for example a list, an array, a range or a tuple. \n",
        "\n",
        "The body itself (in this case the command `print(\"Hi\" person`) specifies the commands to be exectuted each iteration. The body must be indented, although the precise amount of indentation depends on the programmer. It is important to be consistent though, so I highly reccomend using the tab key."
      ]
    },
    {
      "cell_type": "markdown",
      "metadata": {
        "id": "4D7OEwSQhx--"
      },
      "source": [
        "In the loop above the actual flow of control is equivalent to the following series of statements."
      ]
    },
    {
      "cell_type": "code",
      "metadata": {
        "id": "4r1cryOGhx-_",
        "outputId": "68b21493-7f67-43e6-edc4-da8f84d030b5"
      },
      "source": [
        "person = \"Kirk\"\n",
        "print(\"Hi\", person)\n",
        "person = \"Spock\"\n",
        "print(\"Hi\", person)\n",
        "person = \"Bones\"\n",
        "print(\"Hi\", person)\n",
        "person = \"Scotty\"\n",
        "print(\"Hi\", person)\n",
        "person = \"Uhura\"\n",
        "print(\"Hi\", person)\n",
        "person = \"Sulu\"\n",
        "print(\"Hi\", person)\n",
        "person = \"Chekov\"\n",
        "print(\"Hi\", person)"
      ],
      "execution_count": null,
      "outputs": [
        {
          "output_type": "stream",
          "text": [
            "Hi Kirk\n",
            "Hi Spock\n",
            "Hi Bones\n",
            "Hi Scotty\n",
            "Hi Uhura\n",
            "Hi Sulu\n",
            "Hi Chekov\n"
          ],
          "name": "stdout"
        }
      ]
    },
    {
      "cell_type": "markdown",
      "metadata": {
        "id": "-cdqFqJrhx-_"
      },
      "source": [
        "The advantage of the loop syntax is that it is much shorter, requires less typing and is easier to maintain."
      ]
    },
    {
      "cell_type": "markdown",
      "metadata": {
        "id": "uVnIgCqEhx-_"
      },
      "source": [
        "To see how it is easier to maintain, consider the following example. What if, instead of \"Hi\" we wanted to print \"Hello\". Using a loop would require us to change one line of code. "
      ]
    },
    {
      "cell_type": "code",
      "metadata": {
        "id": "rkwOgaYLhx_A",
        "outputId": "36f42e6a-28ad-4c06-cdca-6d9163089347"
      },
      "source": [
        "guests = [\"Kirk\", \"Spock\", \"Bones\", \"Scotty\", \"Uhura\", \"Sulu\", \"Chekov\"]\n",
        "for person in guests:\n",
        "    print(\"Hello\", person)"
      ],
      "execution_count": null,
      "outputs": [
        {
          "output_type": "stream",
          "text": [
            "Hello Kirk\n",
            "Hello Spock\n",
            "Hello Bones\n",
            "Hello Scotty\n",
            "Hello Uhura\n",
            "Hello Sulu\n",
            "Hello Chekov\n"
          ],
          "name": "stdout"
        }
      ]
    },
    {
      "cell_type": "markdown",
      "metadata": {
        "id": "do4XtYT2hx_A"
      },
      "source": [
        "Without loops we would have to change one line per person. This would be tedious if there were say 1000 people in the list."
      ]
    },
    {
      "cell_type": "markdown",
      "metadata": {
        "id": "LkUZr9UN2Zi2"
      },
      "source": [
        "##Try it out!\n",
        "Modify the code to say \\\"Bye\\\" to each person. Instead of copying and pasting the code block above, type it out yourself so you get a feel for it."
      ]
    },
    {
      "cell_type": "code",
      "metadata": {
        "id": "uKQG3Fti2VlX"
      },
      "source": [
        ""
      ],
      "execution_count": null,
      "outputs": []
    },
    {
      "cell_type": "markdown",
      "metadata": {
        "id": "XFS-_s1vhx_A"
      },
      "source": [
        "## Whitespace\n",
        "\n",
        "A few remarks about whitespace are in order. Until now, we haven't paid much attention to whitespace. For example:"
      ]
    },
    {
      "cell_type": "code",
      "metadata": {
        "collapsed": true,
        "id": "CrZ_8B0Ihx_A"
      },
      "source": [
        "a = 1\n",
        "a =        1"
      ],
      "execution_count": null,
      "outputs": []
    },
    {
      "cell_type": "markdown",
      "metadata": {
        "id": "dnBw92lghx_A"
      },
      "source": [
        "are equivalent expressions. "
      ]
    },
    {
      "cell_type": "code",
      "metadata": {
        "id": "y6X2o_NA2Ekh"
      },
      "source": [
        "a = 1\n",
        "print(a)"
      ],
      "execution_count": null,
      "outputs": []
    },
    {
      "cell_type": "code",
      "metadata": {
        "id": "BzRsGLyW2HkO"
      },
      "source": [
        "a =        1\n",
        "print(a)"
      ],
      "execution_count": null,
      "outputs": []
    },
    {
      "cell_type": "markdown",
      "metadata": {
        "id": "aeOFSIT3hx_B"
      },
      "source": [
        "However if we tried to do:"
      ]
    },
    {
      "cell_type": "code",
      "metadata": {
        "id": "-rV3mYMmhx_B",
        "outputId": "25cef188-153e-4efe-c456-f06ca11b49f6"
      },
      "source": [
        "a = 1\n",
        "    a = 1"
      ],
      "execution_count": null,
      "outputs": [
        {
          "output_type": "error",
          "ename": "IndentationError",
          "evalue": "unexpected indent (<ipython-input-14-a26f8c3f6e69>, line 2)",
          "traceback": [
            "\u001b[1;36m  File \u001b[1;32m\"<ipython-input-14-a26f8c3f6e69>\"\u001b[1;36m, line \u001b[1;32m2\u001b[0m\n\u001b[1;33m    a = 1\u001b[0m\n\u001b[1;37m    ^\u001b[0m\n\u001b[1;31mIndentationError\u001b[0m\u001b[1;31m:\u001b[0m unexpected indent\n"
          ]
        }
      ]
    },
    {
      "cell_type": "markdown",
      "metadata": {
        "id": "0ST_VNOphx_B"
      },
      "source": [
        "we get an error. "
      ]
    },
    {
      "cell_type": "markdown",
      "metadata": {
        "id": "ZO_Hpc7Yhx_B"
      },
      "source": [
        "The only whitespace that matters in Python is the indentation (in other words the whitespace at the very left of the statements). Python looks at *blocks* of code. Lines that are part of the same block must have the same indentation level. \n",
        "\n",
        "A for loop (or any other control structure) is its own block. This means that all code inside a for loop must be at the same indentation level. \n",
        "\n",
        "    command outside for loop\n",
        "    for something:\n",
        "        command inside for loop\n",
        "        command inside for loop\n",
        "        command inside for loop\n",
        "    command outside for loop"
      ]
    },
    {
      "cell_type": "markdown",
      "metadata": {
        "id": "Fln43iL2hx_B"
      },
      "source": [
        "## Exercise\n",
        "\n",
        "Given a list of cities write a for loop that prints out the following verse of Jump On It by Sir Mix-A-Lot:\n",
        "\n",
        "\"What's up Dallas, what's up (x2)\n",
        "\n",
        "Dallas jump on it, jump on it, jump on it\n",
        "\n",
        "What's up San Antonio, what's up (x2)\n",
        "\n",
        "San Antonio jump on it, jump on it, jump on it\n",
        "\n",
        "What's up Austin, what's up (x2)\n",
        "\n",
        "Austin jump on it, jump on it, jump on it\n",
        "\n",
        "What's up Houston, what's up (x2)\n",
        "\n",
        "Houston jump on it, jump on it, jump on it\""
      ]
    },
    {
      "cell_type": "code",
      "metadata": {
        "id": "CWNLMYwGhx_C"
      },
      "source": [
        "cities = [\"Dallas\", \"San Antonio\", \"Austin\", \"Houston\"]"
      ],
      "execution_count": null,
      "outputs": []
    },
    {
      "cell_type": "markdown",
      "metadata": {
        "id": "8yuZtw-jhx_C"
      },
      "source": [
        "Let's look at another example. Suppose we want to sum a list of numbers. One way to do this is to initialize a variable `total` to 0 and then loop through the list adding each number to the total."
      ]
    },
    {
      "cell_type": "code",
      "metadata": {
        "id": "SFpevIR7hx_C",
        "outputId": "c661b9fb-d6fc-4d7f-eda7-9960779ed91f"
      },
      "source": [
        "numbers = [1, 6, 8, 1, 5]\n",
        "\n",
        "total = 0\n",
        "for n in numbers:\n",
        "    total = total + n\n",
        "    \n",
        "print(total)"
      ],
      "execution_count": null,
      "outputs": [
        {
          "output_type": "stream",
          "text": [
            "21\n"
          ],
          "name": "stdout"
        }
      ]
    },
    {
      "cell_type": "markdown",
      "metadata": {
        "id": "u84LX5t55_mw"
      },
      "source": [
        "This is the same as"
      ]
    },
    {
      "cell_type": "code",
      "metadata": {
        "id": "WX0EKzlM6CAg",
        "outputId": "87e75784-e983-49fe-9e8f-52a8a28dfd3a",
        "colab": {
          "base_uri": "https://localhost:8080/"
        }
      },
      "source": [
        "total = 0 + 1 + 6 + 8 + 1 + 5\n",
        "total"
      ],
      "execution_count": 1,
      "outputs": [
        {
          "output_type": "execute_result",
          "data": {
            "text/plain": [
              "21"
            ]
          },
          "metadata": {
            "tags": []
          },
          "execution_count": 1
        }
      ]
    },
    {
      "cell_type": "markdown",
      "metadata": {
        "id": "LdvdFLbDhx_C"
      },
      "source": [
        "Instead of typing `total = total + n`, Python supports the equivalent shorthand notation `total += n`."
      ]
    },
    {
      "cell_type": "code",
      "metadata": {
        "id": "x-wIaNS5hx_D",
        "outputId": "792f3105-0811-409a-e9c4-eb96a7adcf0c"
      },
      "source": [
        "numbers = [1, 6, 8, 1, 5]\n",
        "\n",
        "total = 0\n",
        "for n in numbers:\n",
        "    total += n\n",
        "    \n",
        "print(total)"
      ],
      "execution_count": null,
      "outputs": [
        {
          "output_type": "stream",
          "text": [
            "21\n"
          ],
          "name": "stdout"
        }
      ]
    },
    {
      "cell_type": "markdown",
      "metadata": {
        "id": "hMGWpkhkhx_D"
      },
      "source": [
        "Python supports various similar shorthands, such as: -=, \\*=, /=, %=."
      ]
    },
    {
      "cell_type": "markdown",
      "metadata": {
        "id": "4bVu3m8qhx_D"
      },
      "source": [
        "## Exercise\n",
        "\n",
        "To find the product of values in an array, we multiply each of the elements. Find the product of the numbers below. "
      ]
    },
    {
      "cell_type": "code",
      "metadata": {
        "id": "gWdcRnnShx_D"
      },
      "source": [
        "numbers = [1, 6, 8, 1, 5]\n",
        "\n",
        "# for loop to compute the product"
      ],
      "execution_count": null,
      "outputs": []
    },
    {
      "cell_type": "markdown",
      "metadata": {
        "id": "hfv5W0T8hx_D"
      },
      "source": [
        "# Index Based Loops\n",
        "\n",
        "The range object can be thought of as a list of integers. This can be very convenient for iteration. For example, the following code produces a countdown for a rocket launch."
      ]
    },
    {
      "cell_type": "code",
      "metadata": {
        "id": "GgIdZmFuhx_D",
        "outputId": "df0e1ab3-2f31-44f9-872d-a4fd5b8ce063"
      },
      "source": [
        "for count in range(10,0,-1):\n",
        "    print(count)    \n",
        "print(\"BLASTOFF\")"
      ],
      "execution_count": null,
      "outputs": [
        {
          "output_type": "stream",
          "text": [
            "10\n",
            "9\n",
            "8\n",
            "7\n",
            "6\n",
            "5\n",
            "4\n",
            "3\n",
            "2\n",
            "1\n",
            "BLASTOFF\n"
          ],
          "name": "stdout"
        }
      ]
    },
    {
      "cell_type": "markdown",
      "metadata": {
        "id": "CpogkaOyhx_E"
      },
      "source": [
        "Note that the `print(\"BLASTOFF\")` command is in line with the for loop and is thus not part of its body."
      ]
    },
    {
      "cell_type": "markdown",
      "metadata": {
        "id": "7_73l2nEhx_E"
      },
      "source": [
        "We can also uses ranges to serve as a sequence of valid indices of a list. For example, let's say we wanted to number each guest. We could do that using the following code."
      ]
    },
    {
      "cell_type": "code",
      "metadata": {
        "id": "T_ggxW1dhx_E",
        "outputId": "92f2dafd-57e4-4c48-e47e-23cfa19fe571"
      },
      "source": [
        "for i in range(len(guests)):\n",
        "    print(str(i+1)+\".\", guests[i])\n"
      ],
      "execution_count": null,
      "outputs": [
        {
          "output_type": "stream",
          "text": [
            "1. Kirk\n",
            "2. Spock\n",
            "3. Bones\n",
            "4. Scotty\n",
            "5. Uhura\n",
            "6. Sulu\n",
            "7. Chekov\n"
          ],
          "name": "stdout"
        }
      ]
    },
    {
      "cell_type": "markdown",
      "metadata": {
        "id": "bjD28cxMhx_E"
      },
      "source": [
        "The range object is essentially a list starting at 0 and going up to but not including the length of the guest list. In our case it is the list [0,1,2,3,4,5,6]. Since we want our displayed numbers to start at 1 and go up to 7 we have to add 1 to i before we print it."
      ]
    },
    {
      "cell_type": "markdown",
      "metadata": {
        "id": "NI1c5X0Thx_E"
      },
      "source": [
        "Index based looping is very useful for tasks that require an explicit knowledge of the position of an element within a list. Suppose we want to convert all the guest's names to lower case. The command `lower` produces a lower case version of a string."
      ]
    },
    {
      "cell_type": "code",
      "metadata": {
        "id": "S2_oc2GShx_E",
        "outputId": "71b85051-8023-401d-8331-d2c1513b8709"
      },
      "source": [
        "s = \"YELLING\"\n",
        "s.lower()"
      ],
      "execution_count": null,
      "outputs": [
        {
          "output_type": "execute_result",
          "data": {
            "text/plain": [
              "'yelling'"
            ]
          },
          "metadata": {
            "tags": []
          },
          "execution_count": 7
        }
      ]
    },
    {
      "cell_type": "markdown",
      "metadata": {
        "id": "Y8jxnlPXhx_F"
      },
      "source": [
        "It's important to remember that strings are immutable, so `s.lower()` does not change s itself. We can convert s to lower case by assigning `s.lower()` to s."
      ]
    },
    {
      "cell_type": "code",
      "metadata": {
        "id": "iEf9K1Xehx_F",
        "outputId": "b1258102-3da7-4f30-dceb-9e4c5a21625f"
      },
      "source": [
        "s.lower()\n",
        "print(s)\n",
        "s = s.lower()\n",
        "print(s)"
      ],
      "execution_count": null,
      "outputs": [
        {
          "output_type": "stream",
          "text": [
            "YELLING\n",
            "yelling\n"
          ],
          "name": "stdout"
        }
      ]
    },
    {
      "cell_type": "markdown",
      "metadata": {
        "id": "lGpUr4FKhx_F"
      },
      "source": [
        "So let's try this:"
      ]
    },
    {
      "cell_type": "code",
      "metadata": {
        "id": "AjmUyw_ahx_F",
        "outputId": "8a0d47a0-2d8b-4324-9df7-d855c00aae19"
      },
      "source": [
        "for person in guests:\n",
        "    person = person.lower()\n",
        "print(guests)"
      ],
      "execution_count": null,
      "outputs": [
        {
          "output_type": "stream",
          "text": [
            "['Kirk', 'Spock', 'Bones', 'Scotty', 'Uhura', 'Sulu', 'Chekov']\n"
          ],
          "name": "stdout"
        }
      ]
    },
    {
      "cell_type": "markdown",
      "metadata": {
        "id": "hEu-02o4hx_F"
      },
      "source": [
        "This didn't work. Why not? \n",
        "\n",
        "It's because the loop variable `person` is not actually part of the list. What we are doing here would be akin to:\n"
      ]
    },
    {
      "cell_type": "code",
      "metadata": {
        "id": "DqtbjG-shx_F",
        "outputId": "ab557fc6-c8ae-4d32-ff72-aa57b14a4fd5"
      },
      "source": [
        "person = guests[0]\n",
        "person = person.lower()\n",
        "print(person)\n",
        "print(guests)"
      ],
      "execution_count": null,
      "outputs": [
        {
          "output_type": "stream",
          "text": [
            "kirk\n",
            "['Kirk', 'Spock', 'Bones', 'Scotty', 'Uhura', 'Sulu', 'Chekov']\n"
          ],
          "name": "stdout"
        }
      ]
    },
    {
      "cell_type": "markdown",
      "metadata": {
        "id": "mt8vDjYzhx_G"
      },
      "source": [
        "We cannot mutate the original elements of the list, however we can mutate the list itself. We can replace each element of the list with a new value. This requires explicit knowledge of each element's index within the list.\n",
        "\n",
        "Let's try instead:"
      ]
    },
    {
      "cell_type": "code",
      "metadata": {
        "id": "PqKHXvSehx_G",
        "outputId": "e1ef0d1d-d027-4cac-cbb8-d6a3a75a7906"
      },
      "source": [
        "for i in range(len(guests)):\n",
        "    guests[i] = guests[i].lower()\n",
        "print(guests)"
      ],
      "execution_count": null,
      "outputs": [
        {
          "output_type": "stream",
          "text": [
            "['kirk', 'spock', 'bones', 'scotty', 'uhura', 'sulu', 'chekov']\n"
          ],
          "name": "stdout"
        }
      ]
    },
    {
      "cell_type": "markdown",
      "metadata": {
        "id": "ptNmIFW0hx_H"
      },
      "source": [
        "# Nested Loops\n",
        "\n",
        "The body of a loop can contain several statements. It can even include other loops. This technique of using one control structure within the body of another is called *nesting*. "
      ]
    },
    {
      "cell_type": "markdown",
      "metadata": {
        "id": "vPCYRtiQhx_H"
      },
      "source": [
        "Consider a 2D NumPy array. Let's print each number in the array on its own line, along with its row and column."
      ]
    },
    {
      "cell_type": "code",
      "metadata": {
        "id": "30AiCcVGhx_H",
        "outputId": "f49d145f-e3b5-4fd9-a948-82aaac48ba26"
      },
      "source": [
        "import numpy as np\n",
        "A = np.array([[1.5,2.1],[3.1,3.8]])\n",
        "\n",
        "for r in range(A.shape[0]):\n",
        "    for c in range(A.shape[1]):\n",
        "        print(\"row\",r,\"column\",c,\"is\",A[r,c])\n",
        "        "
      ],
      "execution_count": null,
      "outputs": [
        {
          "output_type": "stream",
          "text": [
            "row 0 column 0 is 1.5\n",
            "row 0 column 1 is 2.1\n",
            "row 1 column 0 is 3.1\n",
            "row 1 column 1 is 3.8\n"
          ],
          "name": "stdout"
        }
      ]
    },
    {
      "cell_type": "markdown",
      "metadata": {
        "id": "uI4MPZ3shx_I"
      },
      "source": [
        "The loop over `r` is called the *outer loop*. The body of the outer loop contains an *inner loop* over `c` and inside its body we execute a print command.  \n",
        "\n",
        "If we look at this code sequentially it is equivalent to:"
      ]
    },
    {
      "cell_type": "code",
      "metadata": {
        "id": "9DJKAxiXhx_I",
        "outputId": "6e7cd680-c997-444c-abb3-75abcd0cda1a"
      },
      "source": [
        "r = 0\n",
        "c = 0\n",
        "print(\"row\",r,\"column\",c,\"is\",A[r,c])\n",
        "c = 1\n",
        "print(\"row\",r,\"column\",c,\"is\",A[r,c])\n",
        "r = 1\n",
        "c = 0\n",
        "print(\"row\",r,\"column\",c,\"is\",A[r,c])\n",
        "c = 1\n",
        "print(\"row\",r,\"column\",c,\"is\",A[r,c])"
      ],
      "execution_count": null,
      "outputs": [
        {
          "output_type": "stream",
          "text": [
            "row 0 column 0 is 1.5\n",
            "row 0 column 1 is 2.1\n",
            "row 1 column 0 is 3.1\n",
            "row 1 column 1 is 3.8\n"
          ],
          "name": "stdout"
        }
      ]
    },
    {
      "cell_type": "markdown",
      "metadata": {
        "id": "FlLhef8lhx_I"
      },
      "source": [
        "# List Comprehension\n",
        "\n",
        "We saw earlier how to convert a guest list to lower case:"
      ]
    },
    {
      "cell_type": "code",
      "metadata": {
        "id": "HZ4cjauyhx_I",
        "outputId": "264fe185-e1e5-42e2-908b-ea495b5cb695"
      },
      "source": [
        "guests = [\"Kirk\", \"Spock\", \"Bones\", \"Scotty\", \"Uhura\", \"Sulu\", \"Chekov\"]\n",
        "for i in range(len(guests)):\n",
        "    guests[i] = guests[i].lower()\n",
        "print(guests)"
      ],
      "execution_count": null,
      "outputs": [
        {
          "output_type": "stream",
          "text": [
            "['kirk', 'spock', 'bones', 'scotty', 'uhura', 'sulu', 'chekov']\n"
          ],
          "name": "stdout"
        }
      ]
    },
    {
      "cell_type": "markdown",
      "metadata": {
        "id": "wOqTYzIahx_I"
      },
      "source": [
        "Python supports a simpler syntax to do tasks called *list comprehension*."
      ]
    },
    {
      "cell_type": "markdown",
      "metadata": {
        "id": "MgHcClzuhx_I"
      },
      "source": [
        "An alternative way to convert all the names to lowercase would be to call:"
      ]
    },
    {
      "cell_type": "code",
      "metadata": {
        "id": "zFzuXBuqhx_J",
        "outputId": "5b0f73fd-5626-4d4d-c1af-754a5e230dd1"
      },
      "source": [
        "guests = [\"Kirk\", \"Spock\", \"Bones\", \"Scotty\", \"Uhura\", \"Sulu\", \"Chekov\"]\n",
        "guests = [person.lower() for person in guests]\n",
        "print(guests)"
      ],
      "execution_count": null,
      "outputs": [
        {
          "output_type": "stream",
          "text": [
            "['kirk', 'spock', 'bones', 'scotty', 'uhura', 'sulu', 'chekov']\n"
          ],
          "name": "stdout"
        }
      ]
    },
    {
      "cell_type": "markdown",
      "metadata": {
        "id": "OjufOZ-qhx_J"
      },
      "source": [
        "Using the form:\n",
        "\n",
        "     result = [expression for identifier in sequence]\n",
        "gives us a compact way to modify all the elements in a list.\n",
        "\n",
        "Often times list comprehensions can be a little faster for a computer to complete than the `for` loop structure we first looked at. However, list comprehensions aren't always the best option for repeated sequences with a complex list of operations needed for each cycle of the sequence."
      ]
    },
    {
      "cell_type": "markdown",
      "metadata": {
        "id": "Ww0t1Oj7hx_J"
      },
      "source": [
        "## Exercise\n",
        "\n",
        "Using list comprehension, convert a list of integers into a list of strings."
      ]
    },
    {
      "cell_type": "code",
      "metadata": {
        "id": "di_qiBAGhx_J"
      },
      "source": [
        "A = [5, 6, 8, 10]"
      ],
      "execution_count": null,
      "outputs": []
    }
  ]
}