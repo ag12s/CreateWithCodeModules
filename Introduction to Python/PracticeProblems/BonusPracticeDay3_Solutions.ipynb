{
  "nbformat": 4,
  "nbformat_minor": 0,
  "metadata": {
    "colab": {
      "name": "BonusPracticeDay3.ipynb",
      "provenance": [],
      "authorship_tag": "ABX9TyNpAzKt5+DI563QGqGewGga",
      "include_colab_link": true
    },
    "kernelspec": {
      "name": "python3",
      "display_name": "Python 3"
    },
    "language_info": {
      "name": "python"
    }
  },
  "cells": [
    {
      "cell_type": "markdown",
      "metadata": {
        "id": "view-in-github",
        "colab_type": "text"
      },
      "source": [
        "<a href=\"https://colab.research.google.com/github/ag12s/CreateWithCodeModules/blob/main/Introduction%20to%20Python/PracticeProblems/BonusPracticeDay3_Solutions.ipynb\" target=\"_parent\"><img src=\"https://colab.research.google.com/assets/colab-badge.svg\" alt=\"Open In Colab\"/></a>"
      ]
    },
    {
      "cell_type": "markdown",
      "metadata": {
        "id": "RP7dJBG2z5PP"
      },
      "source": [
        "You will need to import numpy in the block below to answer the following questions.\n"
      ]
    },
    {
      "cell_type": "code",
      "metadata": {
        "id": "Gm3Bc7SqzxGW"
      },
      "source": [
        "import numpy as np"
      ],
      "execution_count": null,
      "outputs": []
    },
    {
      "cell_type": "markdown",
      "metadata": {
        "id": "WHVwc0i10BPh"
      },
      "source": [
        "# 1. NumPy Arrays \n",
        "Write a code fragement that computes the average value of a 2D array. Test it on the array:\n",
        "\n",
        "$$\\begin{bmatrix} 0.1 & 0.8 & 0.8\\\\0.2 & 0.4 & 1.1\\\\ 1.3 & 0.9 & 1.1\\end{bmatrix}$$\n",
        "\n",
        "Hint: use the `sum` function or the `mean` function."
      ]
    },
    {
      "cell_type": "code",
      "metadata": {
        "id": "zZrmENM20FV9",
        "outputId": "45841450-facd-4cb7-8222-75e14a603a7f",
        "colab": {
          "base_uri": "https://localhost:8080/"
        }
      },
      "source": [
        "# code for 1\n",
        "A = np.array([[0.1,0.8,0.8],[0.2,0.4,1.1],[1.3,0.9,1.1]])\n",
        "\n",
        "avg = np.sum(A)/A.size\n",
        "print(avg)"
      ],
      "execution_count": null,
      "outputs": [
        {
          "output_type": "stream",
          "text": [
            "0.7444444444444444\n"
          ],
          "name": "stdout"
        }
      ]
    },
    {
      "cell_type": "markdown",
      "metadata": {
        "id": "Nc5DXu-V4WVh"
      },
      "source": [
        "Alternatively, the `np.average` function does this directly."
      ]
    },
    {
      "cell_type": "code",
      "metadata": {
        "id": "xEM045jJ4ZLr",
        "outputId": "1abd4509-8656-4f8d-cac8-a82b7fd61e5b",
        "colab": {
          "base_uri": "https://localhost:8080/"
        }
      },
      "source": [
        "print(np.average(A))"
      ],
      "execution_count": null,
      "outputs": [
        {
          "output_type": "stream",
          "text": [
            "0.7444444444444444\n"
          ],
          "name": "stdout"
        }
      ]
    },
    {
      "cell_type": "markdown",
      "metadata": {
        "id": "fGegGh6P0R6Y"
      },
      "source": [
        "Write a code fragment that computes the average of each column in the above array. "
      ]
    },
    {
      "cell_type": "code",
      "metadata": {
        "id": "hJezXynb0bwE",
        "outputId": "fc97b35f-f774-4e96-cb43-808d9cf3ec52",
        "colab": {
          "base_uri": "https://localhost:8080/"
        }
      },
      "source": [
        "# code for 1\n",
        "col_avg = np.sum(A, axis=0)/A.shape[0]\n",
        "print(col_avg)"
      ],
      "execution_count": null,
      "outputs": [
        {
          "output_type": "stream",
          "text": [
            "[0.53333333 0.7        1.        ]\n"
          ],
          "name": "stdout"
        }
      ]
    },
    {
      "cell_type": "markdown",
      "metadata": {
        "id": "ky7x73dB0gdc"
      },
      "source": [
        "#2. Indexing and slicing NumPy Arrays\n",
        "Create an $n\\times n$ 2D array that contains 1s along the edges and 0s everywhere else. For example the $n=4$ array looks like:\n",
        "\n",
        "$$ \\begin{bmatrix} 1 & 1 & 1 & 1\\\\ 1 & 0 & 0 & 1\\\\1 & 0 & 0 & 1\\\\1 & 1 & 1& 1\\end{bmatrix} $$\n",
        ".\n",
        "\n",
        "Hint: the command np.zeros((n,n)) creates an $n\\times n$ array of all 0s or the command np.ones((n,n)) creates an $n\\times n$ array of all 1s."
      ]
    },
    {
      "cell_type": "code",
      "metadata": {
        "id": "s2GcoAi10wTD",
        "outputId": "cac160fd-beef-4872-9190-033d024c2643",
        "colab": {
          "base_uri": "https://localhost:8080/"
        }
      },
      "source": [
        "# code for 2\n",
        "n = 10\n",
        "\n",
        "A = np.zeros((n,n))\n",
        "A[0,:] = 1\n",
        "A[:,0] = 1\n",
        "A[:,-1] = 1\n",
        "A[-1,:] = 1\n",
        "\n",
        "print(A)"
      ],
      "execution_count": null,
      "outputs": [
        {
          "output_type": "stream",
          "text": [
            "[[1. 1. 1. 1. 1. 1. 1. 1. 1. 1.]\n",
            " [1. 0. 0. 0. 0. 0. 0. 0. 0. 1.]\n",
            " [1. 0. 0. 0. 0. 0. 0. 0. 0. 1.]\n",
            " [1. 0. 0. 0. 0. 0. 0. 0. 0. 1.]\n",
            " [1. 0. 0. 0. 0. 0. 0. 0. 0. 1.]\n",
            " [1. 0. 0. 0. 0. 0. 0. 0. 0. 1.]\n",
            " [1. 0. 0. 0. 0. 0. 0. 0. 0. 1.]\n",
            " [1. 0. 0. 0. 0. 0. 0. 0. 0. 1.]\n",
            " [1. 0. 0. 0. 0. 0. 0. 0. 0. 1.]\n",
            " [1. 1. 1. 1. 1. 1. 1. 1. 1. 1.]]\n"
          ],
          "name": "stdout"
        }
      ]
    },
    {
      "cell_type": "code",
      "metadata": {
        "id": "xPF0O8Dq4r3L"
      },
      "source": [
        ""
      ],
      "execution_count": null,
      "outputs": []
    }
  ]
}