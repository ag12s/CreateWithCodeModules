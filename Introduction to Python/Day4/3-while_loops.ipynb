{
  "nbformat": 4,
  "nbformat_minor": 0,
  "metadata": {
    "anaconda-cloud": {},
    "celltoolbar": "Slideshow",
    "kernelspec": {
      "display_name": "Python 3",
      "language": "python",
      "name": "python3"
    },
    "language_info": {
      "codemirror_mode": {
        "name": "ipython",
        "version": 3
      },
      "file_extension": ".py",
      "mimetype": "text/x-python",
      "name": "python",
      "nbconvert_exporter": "python",
      "pygments_lexer": "ipython3",
      "version": "3.8.8"
    },
    "colab": {
      "name": "CwC-Intro2Python-3.3-while_loops.ipynb",
      "provenance": [],
      "collapsed_sections": []
    }
  },
  "cells": [
    {
      "cell_type": "markdown",
      "metadata": {
        "id": "Y0zeXh66hzzd"
      },
      "source": [
        "<p style=\"text-align: center;\"><font size=\"8\"><b>While Loops</b></font><br>\n"
      ]
    },
    {
      "cell_type": "markdown",
      "metadata": {
        "id": "IqB5iINchzzd"
      },
      "source": [
        "We've gone over for loops and conditional (if) statements. Now we will learn about *while loops*."
      ]
    },
    {
      "cell_type": "markdown",
      "metadata": {
        "collapsed": true,
        "id": "uTx20KM0hzze"
      },
      "source": [
        "We've seen that for loops allow for repetition by iterating over a well defined sequence of elements. Sometimes we may need to express repetition even though we cannot know the precise number of iterations in advance. To do this we use a *while loop* with the syntax:\n",
        "\n",
        "    while condition:\n",
        "        body"
      ]
    },
    {
      "cell_type": "markdown",
      "metadata": {
        "id": "1ZmMUNnrhzze"
      },
      "source": [
        "As with if statements, the condition can be an arbitarary boolean expression and the body is an indented block of code.\n",
        "\n",
        "![while statement flow chart](https://github.com/ag12s/CreateWithCodeModules/blob/main/images/while_flow.png?raw=true)"
      ]
    },
    {
      "cell_type": "markdown",
      "metadata": {
        "id": "eW3f_AbXhzzf"
      },
      "source": [
        "We previously saw index based for loops "
      ]
    },
    {
      "cell_type": "code",
      "metadata": {
        "id": "JqKQ6prQhzzf",
        "outputId": "dcbb9c9c-e36b-4dc4-ce20-7d5e19afca96"
      },
      "source": [
        "guests = [\"Kirk\", \"Spock\", \"Bones\", \"Scotty\", \"Uhura\", \"Sulu\", \"Chekov\"]\n",
        "\n",
        "for i in range(len(guests)):\n",
        "    print(str(i+1)+\".\", guests[i])"
      ],
      "execution_count": null,
      "outputs": [
        {
          "output_type": "stream",
          "text": [
            "1. Kirk\n",
            "2. Spock\n",
            "3. Bones\n",
            "4. Scotty\n",
            "5. Uhura\n",
            "6. Sulu\n",
            "7. Chekov\n"
          ],
          "name": "stdout"
        }
      ]
    },
    {
      "cell_type": "markdown",
      "metadata": {
        "id": "s1k3daD1hzzf"
      },
      "source": [
        "We can do the exact same thing using while loops."
      ]
    },
    {
      "cell_type": "code",
      "metadata": {
        "id": "Xns5BIMbhzzf",
        "outputId": "28784145-4332-4ad0-b21c-c8692211f1d9"
      },
      "source": [
        "guests = [\"Kirk\", \"Spock\", \"Bones\", \"Scotty\", \"Uhura\", \"Sulu\", \"Chekov\"]\n",
        "\n",
        "i = 0\n",
        "while i < len(guests):\n",
        "    print(str(i + 1) + \".\", guests[i])\n",
        "    i += 1"
      ],
      "execution_count": null,
      "outputs": [
        {
          "output_type": "stream",
          "text": [
            "1. Kirk\n",
            "2. Spock\n",
            "3. Bones\n",
            "4. Scotty\n",
            "5. Uhura\n",
            "6. Sulu\n",
            "7. Chekov\n"
          ],
          "name": "stdout"
        }
      ]
    },
    {
      "cell_type": "markdown",
      "metadata": {
        "id": "arcNESCehzzg"
      },
      "source": [
        "Note that we must initialize a counter `i` *outside* the while loop and manually increment it each iteration."
      ]
    },
    {
      "cell_type": "markdown",
      "metadata": {
        "id": "Jj0VGLwChzzg"
      },
      "source": [
        "## Exercise\n",
        "\n",
        "Consider the following for loop that prints out a countdown."
      ]
    },
    {
      "cell_type": "code",
      "metadata": {
        "id": "eh0EGZzbhzzg",
        "outputId": "0b290822-54fa-4f92-a246-2df70760b73c"
      },
      "source": [
        "for count in range(10,0,-1):\n",
        "    print(count)    \n",
        "print(\"BLASTOFF\")"
      ],
      "execution_count": null,
      "outputs": [
        {
          "output_type": "stream",
          "text": [
            "10\n",
            "9\n",
            "8\n",
            "7\n",
            "6\n",
            "5\n",
            "4\n",
            "3\n",
            "2\n",
            "1\n",
            "BLASTOFF\n"
          ],
          "name": "stdout"
        }
      ]
    },
    {
      "cell_type": "markdown",
      "metadata": {
        "id": "J6zLNmJVhzzg"
      },
      "source": [
        "Write an equivalent expression using a while loop."
      ]
    },
    {
      "cell_type": "code",
      "metadata": {
        "id": "JwRNlZYb1Yxv"
      },
      "source": [
        ""
      ],
      "execution_count": null,
      "outputs": []
    },
    {
      "cell_type": "markdown",
      "metadata": {
        "id": "sqCJy94xhzzh"
      },
      "source": [
        "## Infinite Loops\n",
        "\n",
        "When using for loops the number of iterations is naturally bounded based on the length of the original sequence. When working with a while loop the number of iterations is not explicitly bounded, but determined based on the loop condition. \n",
        "\n",
        "This can lead to a serious problem known as an *infinite loop*. In infinite loops the condition never changes to false, so the loop keeps repeating itself indefinitely. "
      ]
    },
    {
      "cell_type": "markdown",
      "metadata": {
        "id": "NRxad9tqhzzh"
      },
      "source": [
        "Consider this blatant example:\n",
        "\n",
        "    while True:\n",
        "        print(\"Hello\")\n",
        "        \n",
        "The loop condition is never false, so \"Hello\" gets printed over and over again. If you run code and encounter an infinte loop you can exit it by typing control-c."
      ]
    },
    {
      "cell_type": "markdown",
      "metadata": {
        "id": "PQxqgwRQhzzh"
      },
      "source": [
        "To avoid infinite loops often we add a counter to keep track of the number of iterations. If we reach a maximum number of iterations, the loop condition becomes false and the loop terminates."
      ]
    },
    {
      "cell_type": "code",
      "metadata": {
        "id": "X4lhDOKo12TQ"
      },
      "source": [
        "counter = 0\n",
        "while counter < 10:\n",
        "  print(\"Hello\")\n",
        "  counter += 1 # remember this is the same as counter = counter + 1"
      ],
      "execution_count": null,
      "outputs": []
    },
    {
      "cell_type": "markdown",
      "metadata": {
        "id": "8M98_MKohzzj"
      },
      "source": [
        "## Finding the Greatest Common Divisor\n",
        "\n",
        "Suppose we want to find the greatest common divsor of two integers. In other words, given two integers $u$ and $v$, we want to find the largest integer $w$, such that $w$ is a factor of both $u$ and $v$. \n",
        "\n",
        "A na&iuml;ve approach is to start with a guess of the smallest out of $u$ and $v$ and check if it is a factor of both $u$ and $v$. If it is, we are done. If not, decrease our guess by 1 and try again."
      ]
    },
    {
      "cell_type": "code",
      "metadata": {
        "id": "xIG0XPGhhzzj",
        "colab": {
          "base_uri": "https://localhost:8080/"
        },
        "outputId": "44e6ce55-3f92-4983-9469-7df279945bd0"
      },
      "source": [
        "# declare u and v\n",
        "u = 204\n",
        "v = 36\n",
        "\n",
        "# set initial guess\n",
        "w = min(u,v) \n",
        "\n",
        "# start while loop\n",
        "while u%w >0  or v%w > 0:\n",
        "    w = w - 1\n",
        "    \n",
        "print(\"The GCD is\", w)"
      ],
      "execution_count": null,
      "outputs": [
        {
          "output_type": "stream",
          "text": [
            "The GCD is 12\n"
          ],
          "name": "stdout"
        }
      ]
    },
    {
      "cell_type": "markdown",
      "metadata": {
        "id": "b_7nvWPvhzzj"
      },
      "source": [
        "Note that this loop is guaranteed to terminate, since 1 is always a common factor of any two numbers. This is not the most efficient approach. "
      ]
    },
    {
      "cell_type": "markdown",
      "metadata": {
        "id": "0vu8LMd4hzzk"
      },
      "source": [
        "## Exercise\n",
        "\n",
        "Implement Euclid's algorithm for finding the greatest common divisor of two numbers, as shown below:\n",
        "![euclid's algorithm](https://github.com/lukasbystricky/ISC-3313/blob/master/lectures/chapter2/images/gcd2.png?raw=true)"
      ]
    },
    {
      "cell_type": "code",
      "metadata": {
        "id": "PuVNYQw-3zCB"
      },
      "source": [
        "u = 54\n",
        "v = 12\n",
        "\n",
        "#while v is not 0\n",
        "  #find the remainder of u/v (Hint: modulus)\n",
        "  #assign u to v\n",
        "  #assign v to r\n",
        "#print the current value of u - the gcd"
      ],
      "execution_count": null,
      "outputs": []
    }
  ]
}
