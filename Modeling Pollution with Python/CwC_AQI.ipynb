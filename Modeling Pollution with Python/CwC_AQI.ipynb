{
  "nbformat": 4,
  "nbformat_minor": 0,
  "metadata": {
    "colab": {
      "name": "CwC_AQI.ipynb",
      "provenance": [],
      "collapsed_sections": []
    },
    "kernelspec": {
      "name": "python3",
      "display_name": "Python 3"
    },
    "language_info": {
      "name": "python"
    }
  },
  "cells": [
    {
      "cell_type": "markdown",
      "metadata": {
        "id": "0ODDbYYYIhHM"
      },
      "source": [
        "# Plotting Wind Speed vs. AQI"
      ]
    },
    {
      "cell_type": "code",
      "metadata": {
        "id": "4y5e9UwEDPo7"
      },
      "source": [
        "import pandas as pd\n",
        "import matplotlib.pyplot as plt"
      ],
      "execution_count": null,
      "outputs": []
    },
    {
      "cell_type": "code",
      "metadata": {
        "id": "6IMujgx_DhTR"
      },
      "source": [
        "# Load in the wind speed dataset and drop unnecessary columns\n",
        "url_sacramento_butte = 'https://raw.githubusercontent.com/ag12s/CreateWithCodeModules/main/Modeling%20Pollution%20with%20Python/sacramento_historical_weather.csv'\n",
        "df_windspeed = pd.read_csv(url_sacramento_butte)\n",
        "df_windspeed = df_windspeed.drop(['Maximum Temperature','Minimum Temperature','Temperature','Wind Chill','Heat Index','Precipitation','Snow','Snow Depth','Wind Direction','Wind Gust','Visibility','Cloud Cover','Relative Humidity','Conditions'],axis=1)\n",
        "\n",
        "df_windspeed"
      ],
      "execution_count": null,
      "outputs": []
    },
    {
      "cell_type": "code",
      "metadata": {
        "id": "4thT4E9TIAzt"
      },
      "source": [
        "# Convert the 'Date time' column to Pandas DateTime using the pd.to_datetime() method\n"
      ],
      "execution_count": null,
      "outputs": []
    },
    {
      "cell_type": "code",
      "metadata": {
        "id": "eufl4LltIwUd"
      },
      "source": [
        "df_butte_windspeed = df_windspeed[df_windspeed['Name'] == 'County Road G, Butte City, CA 95920, United States'].reset_index(drop=True)\n",
        "df_butte_windspeed.head()"
      ],
      "execution_count": null,
      "outputs": []
    },
    {
      "cell_type": "code",
      "metadata": {
        "id": "WAdEOsRCJ3zf"
      },
      "source": [
        "# Rename the columns so that they are: ['Name','Date','Wind Speed']\n"
      ],
      "execution_count": null,
      "outputs": []
    },
    {
      "cell_type": "code",
      "metadata": {
        "id": "ICow915dJPie"
      },
      "source": [
        "df_sacramento_windspeed = df_windspeed[df_windspeed['Name'] == 'Sacramento, CA, United States'].reset_index(drop=True)\n",
        "df_sacramento_windspeed.head()"
      ],
      "execution_count": null,
      "outputs": []
    },
    {
      "cell_type": "code",
      "metadata": {
        "id": "fXIyUV4LIOuv"
      },
      "source": [
        "# Rename the columns so that they are: ['Name','Date','Wind Speed']\n"
      ],
      "execution_count": null,
      "outputs": []
    },
    {
      "cell_type": "code",
      "metadata": {
        "id": "rhuhopk6EWhm"
      },
      "source": [
        "# Load in the Butte County AQI dataset and drop unnecessary columns\n",
        "url_butte = 'https://raw.githubusercontent.com/ag12s/CreateWithCodeModules/main/Modeling%20Pollution%20with%20Python/ButteCountyAQI.csv'\n",
        "df_butte_aqi = pd.read_csv(url_butte)\n",
        "df_butte_aqi = df_butte_aqi.drop(['Site Name (of Overall AQI)','Site ID (of Overall AQI)','Source (of Overall AQI)','CO','Ozone','NO2','PM10'],axis=1)\n",
        "\n",
        "df_butte_aqi.head()"
      ],
      "execution_count": null,
      "outputs": []
    },
    {
      "cell_type": "code",
      "metadata": {
        "id": "ffqL_3h4IB76"
      },
      "source": [
        "# Convert the 'Date' column to Pandas DateTime using the pd.to_datetime() method\n"
      ],
      "execution_count": null,
      "outputs": []
    },
    {
      "cell_type": "code",
      "metadata": {
        "id": "Hi3iQLy6KA41"
      },
      "source": [
        "# Rename the columns so that they are: ['Date','AQI_Butte','Pollutant_Butte','PM25_Butte']\n"
      ],
      "execution_count": null,
      "outputs": []
    },
    {
      "cell_type": "code",
      "metadata": {
        "id": "NsteUMI4Eani"
      },
      "source": [
        "# Load in the Sacramento County AQI dataset and drop unnecessary columns\n",
        "url_sacramento = 'https://raw.githubusercontent.com/ag12s/CreateWithCodeModules/main/Modeling%20Pollution%20with%20Python/SacramentoAQI.csv'\n",
        "df_sacramento_aqi = pd.read_csv(url_sacramento)\n",
        "df_sacramento_aqi = df_sacramento_aqi.drop(['Site Name (of Overall AQI)','Site ID (of Overall AQI)','Source (of Overall AQI)','CO','Ozone','NO2','SO2','PM10'],axis=1)\n",
        "\n",
        "df_sacramento_aqi.head()"
      ],
      "execution_count": null,
      "outputs": []
    },
    {
      "cell_type": "code",
      "metadata": {
        "id": "S9Ynx85KHSKC"
      },
      "source": [
        "# Convert the 'Date time' column to Pandas DateTime using the pd.to_datetime() method\n"
      ],
      "execution_count": null,
      "outputs": []
    },
    {
      "cell_type": "code",
      "metadata": {
        "id": "2JuOOpBtKWq7"
      },
      "source": [
        "# Rename the columns so that they are: ['Date','AQI_Sacramento','Pollutant_Sacramento','PM25_Sacramento']\n"
      ],
      "execution_count": null,
      "outputs": []
    },
    {
      "cell_type": "markdown",
      "metadata": {
        "id": "BC6mghHMKfFV"
      },
      "source": [
        "We have all the data we want to work with:\n",
        "\n",
        "* Butte County wind speeds are stored in `df_butte_windspeed`\n",
        "* Butte County AQI is stored in `df_butte_aqi`\n",
        "* Sacramento wind speeds are stored in `df_sacramento_windspeed`\n",
        "* Sacramento AQI is stored in `df_sacramento_aqi`\n",
        "\n",
        "Now, we want to merge the Butte County DataFrames into one, and merge the sacramento DataFrames into one."
      ]
    },
    {
      "cell_type": "code",
      "metadata": {
        "id": "C0oI2pT4K6ns"
      },
      "source": [
        "# Fill in this command! We need how = \"inner\" and on = \"Date\"\n",
        "butte = df_butte_windspeed.merge(df_butte_aqi, )"
      ],
      "execution_count": null,
      "outputs": []
    },
    {
      "cell_type": "code",
      "metadata": {
        "id": "3rDxfA1tLP06"
      },
      "source": [
        "# Fill in this command! We need how = \"inner\" and on = \"Date\"\n",
        "sacramento = df_sacramento_windspeed.merge(df_sacramento_aqi, )"
      ],
      "execution_count": null,
      "outputs": []
    },
    {
      "cell_type": "markdown",
      "metadata": {
        "id": "y5DpiIbILjj6"
      },
      "source": [
        "We are all set up! Let's plot our data.\n",
        "\n",
        "We want to plot wind speed on the x-axis and AQI on the y-axis for both Butte County and Sacramento. You all have a lot of experience plotting with Pandas, so I will leave the next cell blank for you to work with:"
      ]
    },
    {
      "cell_type": "code",
      "metadata": {
        "id": "B7Cest3DL43A"
      },
      "source": [
        ""
      ],
      "execution_count": null,
      "outputs": []
    },
    {
      "cell_type": "markdown",
      "metadata": {
        "id": "VFDTYYYfL7WJ"
      },
      "source": [
        "Last step, let's save our notebooks to use again! Go to `File > Save a Copy in Drive`"
      ]
    }
  ]
}