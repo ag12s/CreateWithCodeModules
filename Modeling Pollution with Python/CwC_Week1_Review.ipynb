{
  "nbformat": 4,
  "nbformat_minor": 0,
  "metadata": {
    "colab": {
      "name": "CwC-Week1-Review.ipynb",
      "provenance": [],
      "collapsed_sections": [
        "51sX7knjZ4WN",
        "odA0kpWykdwX",
        "DJ7Xc6MFlEqJ",
        "xfc3Umy7nSXL",
        "ebuQexgco3QM",
        "3sEuYkVepstG",
        "cPT2VEZMNZ7Y",
        "SP8nKNZSNZ52",
        "vKjeGcM4PhAX",
        "rwi5AUmKUPQc",
        "oLPibZiuQi8E",
        "6cRiw6ljUHYv",
        "gLj-RHbe31Pw",
        "9rugtmiA35py",
        "KpWUg74r5IEr",
        "J5V6_7Bz6-4J",
        "PTVAPtIq9q7l",
        "dfIo7vmYAVxc",
        "BpXhRcyaEa9p",
        "h9T1WJUSE_Sj",
        "wV5CnOBnF9Yk",
        "ZQeTDRH-sh1n",
        "x-SMeNJqtWdQ",
        "U9ro1jK3uB8R",
        "u8yITutryFmg",
        "qMBXZYSnySl9",
        "GtiO5NE0yXBT",
        "WcQ9GKPk0WPQ",
        "l9Nb4qe32DWE",
        "iilQX28r3dw0",
        "TbcVUKPb3rLL",
        "SAWFWmqa5urL",
        "pE5MAeGS7gDF",
        "PlM4aOpA8Nna",
        "XCFSh2ct-wTm",
        "m88aR5St_M_3",
        "rtkwcJBJAFGS",
        "ypLpfk0EAkib",
        "Of465aiTB9do",
        "i5C5aFg8K_-2",
        "2HljwrxlOg_e",
        "_gx2StVpQwmb",
        "5v7fhnNEQ13H",
        "GkAEajrkQ39B",
        "FO57xxy-Q9Tj",
        "KRXRd69GRA1s",
        "PHlfFMolRExI",
        "ksPxyKvARIMm",
        "vUZJU1w-RJ_6",
        "CUHTnO5KRT_c",
        "NZGLNZtdRZyv",
        "C7PSmPyHfYJM",
        "OY-7rXc5gg_j",
        "vntp86TXg8m8",
        "_lrx1i1uhiSj",
        "WCDE_Ep9h4pi",
        "Bx6t7tFgiRom",
        "A08gPBpzdC-m",
        "YOMsw460dFSL",
        "l4jFziB5dfdN",
        "faCdxP-Adz7Y",
        "dZAhPQdWeGd6",
        "ycDxYXzueXzB",
        "TGPbyelYfMdb",
        "Csqe_Z3hfqyW",
        "qEuZ-y_khY_E",
        "qT-nX0JZhrxm",
        "96M-I-MNioYc",
        "uI3_h1G3i6qv",
        "PzxSkW1zj0We",
        "l-3c6NMylVKm",
        "BkHX02DYlQpK",
        "KPfAfjMfl3Y_",
        "3xn8uXFTmKOB",
        "2HEeFqAlmlPT",
        "sOmPsm_mnkur",
        "CbDtcHEEqQcv",
        "lPtASfY-qjQz",
        "gPyfSRxmsbZh",
        "aJEwbTaOsh_S",
        "UWtgF4-BtZzN",
        "7inx-uhbtel1",
        "1AApObV1ti1a",
        "WEIAN6DTtqlM",
        "v8-K9-5yttiO",
        "T4BY5ueLqq43",
        "RsB07xaUqy--",
        "vj4sZ--psO2A"
      ]
    },
    "kernelspec": {
      "name": "python3",
      "display_name": "Python 3"
    },
    "language_info": {
      "name": "python"
    }
  },
  "cells": [
    {
      "cell_type": "markdown",
      "metadata": {
        "id": "51sX7knjZ4WN"
      },
      "source": [
        "# Week 1 Review\n",
        "\n",
        "This notebook contains a review of most topics covered in Week 1 of Create with Code. We will go through a portion of them together based on the \"escape room\" activity you just completed (yay!), but this notebook will be available to you so that you can go over whatever material you want on your own, as well."
      ]
    },
    {
      "cell_type": "markdown",
      "metadata": {
        "id": "odA0kpWykdwX"
      },
      "source": [
        "# Computational Thinking"
      ]
    },
    {
      "cell_type": "markdown",
      "metadata": {
        "id": "xnXEHJB6mL4n"
      },
      "source": [
        "Computational thinking refers to the thought processes involved in expressing solutions as computational steps, or **algorithms**, that can be carried out by a computer.\n",
        "\n",
        "* Computers take instructions **literally**, so we need to be thorough and **exact**\n",
        "* Computers lack the ability to read between the lines\n",
        "* When we are not literal enough, we have to adjust our logic so that the computer does what we want -- this is called *debugging*"
      ]
    },
    {
      "cell_type": "markdown",
      "metadata": {
        "id": "DJ7Xc6MFlEqJ"
      },
      "source": [
        "# Terminal Commands"
      ]
    },
    {
      "cell_type": "markdown",
      "metadata": {
        "id": "rA17-oN0mPBR"
      },
      "source": [
        "The terminal/command prompt has many commands. The most important one for us will be the `ls` command (`!ls` in the code cell).\n",
        "\n",
        "|Command     |Linux/Mac | Windows|\n",
        "|------------|----------|--------|\n",
        "|Display current directory| `pwd` | `cd`|\n",
        "|Change directory| `cd path`| `cd path`|\n",
        "|List contents of directory| `ls`| `dir`|\n",
        "|Copy a file/directory| `cp`| `copy`|\n",
        "|Move a file/directory| `mv` | `move`|\n",
        "|Rename a file/directory| `mv`| `ren`|\n",
        "|Delete a file/directory| `rm` | `del`|"
      ]
    },
    {
      "cell_type": "markdown",
      "metadata": {
        "id": "xfc3Umy7nSXL"
      },
      "source": [
        "# Kernels"
      ]
    },
    {
      "cell_type": "markdown",
      "metadata": {
        "id": "fRxH0y01nVTJ"
      },
      "source": [
        "You can think of a *kernel* as a seperate Python session. We can assign a variable in one cell and then access it in a seperate cell. The cells are a nice way to divide our code up visually, but everything is connected underneath.\n",
        "\n",
        "If we delete a cell where a value is assigned to a variable, that value will still be valid until the variable is reassigned or the kernel is reset."
      ]
    },
    {
      "cell_type": "markdown",
      "metadata": {
        "id": "R3DG6Qf2nrBZ"
      },
      "source": [
        "To restart the kernel:\n",
        "\n",
        "1.   Select the \"Runtime\" option\n",
        "2.   Select \"Restart Runtime\""
      ]
    },
    {
      "cell_type": "markdown",
      "metadata": {
        "id": "ebuQexgco3QM"
      },
      "source": [
        "# Markdown"
      ]
    },
    {
      "cell_type": "markdown",
      "metadata": {
        "id": "aogLQKVQo-su"
      },
      "source": [
        "*Markdown* is a writing format that makes it easy to type formatted **text**. Cells in Colab can be used for code or to write text in markdown, allowing us to write notes that explain what we are doing.\n",
        "\n",
        "To create a markdown cell, click on the `+ Text` option in the header."
      ]
    },
    {
      "cell_type": "markdown",
      "metadata": {
        "id": "OtO8mgGMRxng"
      },
      "source": [
        "There are several typeseting options in markdown:\n",
        "\n",
        "*   For italic text, wrap the text in \\* : `*this will be italic*`\n",
        "\n",
        "*   For bold wrap the text in \\*\\* : `** this will be bold **`. \n",
        "\n",
        "*   You can create a list using \\* : `* item 1`\n",
        "                                `* item 2`"
      ]
    },
    {
      "cell_type": "markdown",
      "metadata": {
        "id": "3sEuYkVepstG"
      },
      "source": [
        "# Data and Types"
      ]
    },
    {
      "cell_type": "markdown",
      "metadata": {
        "id": "LwJ3DizJvqbn"
      },
      "source": [
        "* Information is represented on computers as a collection of binary digits (0 or 1) known as **bits**\n",
        "* For example, a collection of 8 bits (known as a byte) can represent $2^8 = 256$ different values\n",
        "* Most of the data being used by a computer processor is stored in RAM, and modern laptops have around 4-8 GB (32 - 64 billion bits) of RAM\n",
        "\n",
        "Instead of dealing with bits and bytes directly, we create *abstractions* of our data. \n",
        "\n",
        "In Python, we can find out what type a variable is by using the `type` command. For example:"
      ]
    },
    {
      "cell_type": "code",
      "metadata": {
        "id": "B69lnOJNv7bJ"
      },
      "source": [
        "a = 5\n",
        "type(a)"
      ],
      "execution_count": null,
      "outputs": []
    },
    {
      "cell_type": "code",
      "metadata": {
        "id": "CQ4W6KKZx7Nu"
      },
      "source": [
        "a = 2.0\n",
        "type(a)"
      ],
      "execution_count": null,
      "outputs": []
    },
    {
      "cell_type": "code",
      "metadata": {
        "id": "-1J1kAfyyBx0"
      },
      "source": [
        "a = \"Word.\"\n",
        "type(a)"
      ],
      "execution_count": null,
      "outputs": []
    },
    {
      "cell_type": "markdown",
      "metadata": {
        "id": "-jdfxuztL8zJ"
      },
      "source": [
        "The types `int`, `float` and `str` are examples of *primative*, or built-in, data types."
      ]
    },
    {
      "cell_type": "markdown",
      "metadata": {
        "id": "cPT2VEZMNZ7Y"
      },
      "source": [
        "# Algorithms"
      ]
    },
    {
      "cell_type": "markdown",
      "metadata": {
        "id": "PyxiXPlxRKz1"
      },
      "source": [
        "An algorithm is a **set of instructions** necessary to complete a task. In order to tell a computer to do something, we must break it down into simpler tasks. This is where designing an algorithm comes into play.\n",
        "\n",
        "*   An algorithm is **not necessarily unique** -- there may be several ways to accomplish the same task (like driving to school or making a pb&j)\n",
        "*   Some algorithms may be much better than others in terms of **efficiency** -- this can be the difference between code taking an hour to run or taking 10 seconds to run\n",
        "\n",
        "Designing and implementing algorithms is the key part of scientific computing (and programming in general)."
      ]
    },
    {
      "cell_type": "markdown",
      "metadata": {
        "id": "SP8nKNZSNZ52"
      },
      "source": [
        "# High Level Programming Languages, Compilers, and Interpreters"
      ]
    },
    {
      "cell_type": "markdown",
      "metadata": {
        "id": "TjWVy6HsPTFQ"
      },
      "source": [
        "Python is a **high level programming language**. What does this mean?\n",
        "\n",
        "Any software that runs on a computer is executed by that computer's central processing unit (CPU). The language that CPUs use is called *machine code*. Machine code supports only the **most basic types and operations**. This is called a *low level* programming language. Low level programming is very difficult and time consuming to do.\n",
        "\n",
        "When programming in a high level language, we create one or more text files called *source code*. Python script is an example of source code. In order for source code to be executed, it must be translated into equivalent low level machine code. The two most common ways to do this are through *compilers* or *interpreters*.\n",
        "\n",
        "A **compiler** takes the entire source code and translates it into a low level program known as an exectutable. \n",
        "\n",
        "An **interpreter** proceeds line by line, translating one line, executing it and then moving to the next line. Python is an interpreted language.\n",
        "\n",
        "Many other high level programming languages exist. For example:\n",
        "\n",
        "* Java\n",
        "* C/C++\n",
        "* C#\n",
        "* Matlab\n",
        "* Fortran\n",
        "\n",
        "Each language has its own **syntax** and semantics, however the core ideas of programming in high level languages do not change."
      ]
    },
    {
      "cell_type": "markdown",
      "metadata": {
        "id": "vKjeGcM4PhAX"
      },
      "source": [
        "# Object Oriented Programming, Objects, and Classes"
      ]
    },
    {
      "cell_type": "markdown",
      "metadata": {
        "id": "7_NDirh4Rr8y"
      },
      "source": [
        "Python is an **object oriented programming language**. We can think of the concept of OOP as being based upon modeling data and operations as paired (rather than seperate) elements."
      ]
    },
    {
      "cell_type": "markdown",
      "metadata": {
        "id": "hw2_59xXPn_m"
      },
      "source": [
        "A *class* represents a **type of data** that supports certain operations. An *object* is a particular *instance* of a class. For example, you might create a class called `DigitalPicture`. If you have a picture of yourself in Venice, you might call this object `VenicePic`. `VenicePic` is an object of type `DigitalPicture`."
      ]
    },
    {
      "cell_type": "markdown",
      "metadata": {
        "id": "0gxfBSTKQPnw"
      },
      "source": [
        "Internally, each *instance* is represented by one or more pieces of data called *attributes* (also called *data members*, *fields*, or *instance variables*). Each object of the same type has the same attributes, but they may have different values. \n",
        "\n",
        "For example, a digital picture might have an attribute called `height`, but not all pictures have the same height. "
      ]
    },
    {
      "cell_type": "markdown",
      "metadata": {
        "id": "XZADwKnTQifX"
      },
      "source": [
        "**Operations supported by an object** are known as *methods*. The methods supported by an object are the **primary way of interacting with that object**. Collectively, attributes and methods of an instance are called its *members*. \n",
        "\n",
        "To visualize this, we can use diagrams known as Unified Modeling Language (UML) diagrams. Here is an example of a UML diagram for the `DigitalPicture` class:\n",
        "\n",
        "![uml](https://github.com/ag12s/CreateWithCodeModules/blob/main/images/picture_uml.png?raw=true)\n",
        " "
      ]
    },
    {
      "cell_type": "markdown",
      "metadata": {
        "id": "rwi5AUmKUPQc"
      },
      "source": [
        "# Comments"
      ]
    },
    {
      "cell_type": "markdown",
      "metadata": {
        "id": "Kkz1FodVUUTw"
      },
      "source": [
        "In almost every programming language, the programmer can leave **comments**. Comments have **no effect on the code output**, but can provide information that may **assist** themselves or anyone else reading their code. \n",
        "\n",
        "Comments are incredibly important. Whether you are dealing with long or short programs, it can be very difficult to figure out what is going on without them. \n"
      ]
    },
    {
      "cell_type": "markdown",
      "metadata": {
        "id": "4Hi_YjYVUqO9"
      },
      "source": [
        "In Python, comments are denoted by the symbol `#`. When it is used in a line of code, the rest of the line is considered a comment and is **ignored by the Python interpreter**.\n",
        "\n",
        "There are two common styles. The first is to have a comment on a line by itself to explain what is about to come:"
      ]
    },
    {
      "cell_type": "code",
      "metadata": {
        "id": "calKcddLU0l8"
      },
      "source": [
        "# This is a comment!\n",
        "a = \"This is code!\""
      ],
      "execution_count": null,
      "outputs": []
    },
    {
      "cell_type": "markdown",
      "metadata": {
        "id": "4Qla0al3VtMv"
      },
      "source": [
        "The second is the *inline* a comment to the right of an existing command:"
      ]
    },
    {
      "cell_type": "code",
      "metadata": {
        "id": "Cxd9BdppVthq"
      },
      "source": [
        "a = \"This is code!\" # This is a comment!"
      ],
      "execution_count": null,
      "outputs": []
    },
    {
      "cell_type": "markdown",
      "metadata": {
        "id": "oLPibZiuQi8E"
      },
      "source": [
        "# The List Class"
      ]
    },
    {
      "cell_type": "markdown",
      "metadata": {
        "id": "g4zyOuXrSDKk"
      },
      "source": [
        "The list class is a built-in Python class. Lists store items and are frequently used in Python.\n",
        "\n",
        "To create an empty list:"
      ]
    },
    {
      "cell_type": "code",
      "metadata": {
        "id": "BCrd3uqeSRwA"
      },
      "source": [
        "newList = list()"
      ],
      "execution_count": null,
      "outputs": []
    },
    {
      "cell_type": "markdown",
      "metadata": {
        "id": "2u8-QqFBSX2O"
      },
      "source": [
        "This command demonstrates several key principles. \n",
        "\n",
        "*   `list()` creates a **new instance of the list class** by calling its *constructor*\n",
        "*   The **constructor** is responsible for **allocating memory for the initial state** of the object\n",
        "*   The parentheses following the word `list` indicate that this is an **action** (in this case, creating an empty list)   \n",
        "\n"
      ]
    },
    {
      "cell_type": "markdown",
      "metadata": {
        "id": "aapoIv4rTY4B"
      },
      "source": [
        "The word `newList` is an *identifier*. We can choose almost anything as an identifier, but good programming practices suggest that we choose something **meaningful** and **clear**.\n",
        "\n",
        "There are a few **rules** to remember when choosing identifiers:\n",
        "* identifiers must consist of letters, digits or underscore characters\n",
        "* identifiers cannot begin with a digit\n",
        "* certain reserve words, (e.g. class, for, if) have other meanings in Python and cannot be used as identifiers\n",
        "* identifiers are all case sensitive (newList is not the same as NewList)\n"
      ]
    },
    {
      "cell_type": "markdown",
      "metadata": {
        "id": "gKIIK0-xTx0I"
      },
      "source": [
        "The entire command `newList = list()` is an **assignment statement**. We are assigning the identifier on the left side of the `=` operator with the object on the right side."
      ]
    },
    {
      "cell_type": "markdown",
      "metadata": {
        "id": "EeZ9FbftT7oO"
      },
      "source": [
        "`newList` is an object of type `list`. We can see this by using the `type` command:"
      ]
    },
    {
      "cell_type": "code",
      "metadata": {
        "id": "oIqhgKAzSUVE"
      },
      "source": [
        "type(newList)"
      ],
      "execution_count": null,
      "outputs": []
    },
    {
      "cell_type": "markdown",
      "metadata": {
        "id": "6cRiw6ljUHYv"
      },
      "source": [
        "### Methods"
      ]
    },
    {
      "cell_type": "markdown",
      "metadata": {
        "id": "gLj-RHbe31Pw"
      },
      "source": [
        "#### Append"
      ]
    },
    {
      "cell_type": "markdown",
      "metadata": {
        "id": "hGah3_BU1QlR"
      },
      "source": [
        "We can **add an item** to an existing list with `append()`.\n",
        "\n",
        "The general syntax for calling a method belonging to an object is as follows:\n",
        "**object**.**method**(**parameters**)\n",
        "\n",
        "For example: `newList.append('item1')`\n",
        "\n",
        "The leftmost identifier tells the method to append the object that it acts on. The word after the dot identifies the method to be used and the word inside the parentheses is called a *parameter*."
      ]
    },
    {
      "cell_type": "code",
      "metadata": {
        "id": "UwnVcb4M19GH"
      },
      "source": [
        "newList.append('item1')\n",
        "newList"
      ],
      "execution_count": null,
      "outputs": []
    },
    {
      "cell_type": "markdown",
      "metadata": {
        "id": "EG35oBDd2kOt"
      },
      "source": [
        "Two possible sources of error:\n",
        "\n",
        "\n",
        "1.   Forgetting to put quotations around a non-variable entry\n",
        "2.   Putting fewer or more than one entry to be appended at a time\n",
        "\n"
      ]
    },
    {
      "cell_type": "code",
      "metadata": {
        "id": "ox5v2Ih52JMx"
      },
      "source": [
        "# This will not work because item1 is not a variable we have\n",
        "newList.append(item1)"
      ],
      "execution_count": null,
      "outputs": []
    },
    {
      "cell_type": "code",
      "metadata": {
        "id": "brm5bO5h29vf"
      },
      "source": [
        "# This will not work because we are not passing in anything to append\n",
        "newList.append()"
      ],
      "execution_count": null,
      "outputs": []
    },
    {
      "cell_type": "markdown",
      "metadata": {
        "id": "jGb7wrwK3Y68"
      },
      "source": [
        "The `append` method is an example of a *mutator*. Mutators change the internal state of an object. We can continue to add items to the list:"
      ]
    },
    {
      "cell_type": "code",
      "metadata": {
        "id": "NcfXTjp43JV2"
      },
      "source": [
        "newList.append('item2')\n",
        "newList.append('item3')\n",
        "\n",
        "newList"
      ],
      "execution_count": null,
      "outputs": []
    },
    {
      "cell_type": "markdown",
      "metadata": {
        "id": "9rugtmiA35py"
      },
      "source": [
        "#### Insert"
      ]
    },
    {
      "cell_type": "markdown",
      "metadata": {
        "id": "pd5M51SD370c"
      },
      "source": [
        "Another method associated with lists is the `insert()` method. Sometimes, the order of a list is important and we don't simply want to add items to the end of the list. \n",
        "\n",
        "Suppose we're trying to compile a list of the largest cities the US. We could start by creating an empty list as we did with the grocery list, or we could start with an already populated (but in our case incomplete) list:"
      ]
    },
    {
      "cell_type": "code",
      "metadata": {
        "id": "dRqDQnw34eGj"
      },
      "source": [
        "largest_cities = [\"New York\", \"Chicago\", \"Seattle\"]"
      ],
      "execution_count": null,
      "outputs": []
    },
    {
      "cell_type": "markdown",
      "metadata": {
        "id": "mRV56eI84i58"
      },
      "source": [
        "This is an alternative way to construct a list. To **construct an empty list**, it would suffice to call `largest_cities = []`."
      ]
    },
    {
      "cell_type": "markdown",
      "metadata": {
        "id": "4xBULwoN4zUX"
      },
      "source": [
        "As before, we can append cities to the end:"
      ]
    },
    {
      "cell_type": "code",
      "metadata": {
        "id": "DTBCydtX4ed1"
      },
      "source": [
        "largest_cities.append(\"Tallahassee\")\n",
        "largest_cities"
      ],
      "execution_count": null,
      "outputs": []
    },
    {
      "cell_type": "markdown",
      "metadata": {
        "id": "jsy9ufMn440H"
      },
      "source": [
        "You'll notice that we're missing Los Angeles in our list. If we append it to end, our list would be out of order. Instead we can insert it just behind New York, using the `insert` method:"
      ]
    },
    {
      "cell_type": "code",
      "metadata": {
        "id": "xnoM4T4B4ynD"
      },
      "source": [
        "largest_cities.insert(1,\"Los Angeles\")\n",
        "largest_cities"
      ],
      "execution_count": null,
      "outputs": []
    },
    {
      "cell_type": "markdown",
      "metadata": {
        "id": "_2rk-kpw49cY"
      },
      "source": [
        "The number 1 indicates the **position** where we want to insert \"Los Angeles\". **Python begins indexing at 0**, so the first item in the list is numbered 0, the second is numbered 1, and so on. "
      ]
    },
    {
      "cell_type": "code",
      "metadata": {
        "id": "-GOhe5d747i_"
      },
      "source": [
        "largest_cities.insert(3, \"Boston\")\n",
        "largest_cities"
      ],
      "execution_count": null,
      "outputs": []
    },
    {
      "cell_type": "markdown",
      "metadata": {
        "id": "KpWUg74r5IEr"
      },
      "source": [
        "#### Remove"
      ]
    },
    {
      "cell_type": "markdown",
      "metadata": {
        "id": "SHtEDUS-5Obe"
      },
      "source": [
        "Another example of a mutator is the  `remove()` method. Returning to our first list `newList`, let's remove *item2* from the list:"
      ]
    },
    {
      "cell_type": "code",
      "metadata": {
        "id": "bPyVILEK5I7A"
      },
      "source": [
        "newList.remove('item2')\n",
        "newList"
      ],
      "execution_count": null,
      "outputs": []
    },
    {
      "cell_type": "markdown",
      "metadata": {
        "id": "wrG08F8C5JoJ"
      },
      "source": [
        "There are two things to keep in mind with `remove`:\n",
        "\n",
        "\n",
        "1.   If you have multiples of an item in a list, it will only remove the first one\n",
        "2.   If you try to remove an item that is not in the list, you will get a `ValueError`\n",
        "\n"
      ]
    },
    {
      "cell_type": "markdown",
      "metadata": {
        "id": "J5V6_7Bz6-4J"
      },
      "source": [
        "#### Return Values: Count, Index, and Pop"
      ]
    },
    {
      "cell_type": "markdown",
      "metadata": {
        "id": "u_h6qfL97FBH"
      },
      "source": [
        "None of the methods discussed so far (`append`, `insert`, `remove`) provides a **return value**. They all execute an action and then return control back to the interpreter. Some methods that return a value are `count`, `index`, and `pop`."
      ]
    },
    {
      "cell_type": "markdown",
      "metadata": {
        "id": "kFUZMZVU7Whf"
      },
      "source": [
        "The `count` method returns the **number of times an item occurs** in the list:"
      ]
    },
    {
      "cell_type": "code",
      "metadata": {
        "id": "SumC9aGI5nUL"
      },
      "source": [
        "newList.count('item1')"
      ],
      "execution_count": null,
      "outputs": []
    },
    {
      "cell_type": "markdown",
      "metadata": {
        "id": "JKhBEYTa7hf3"
      },
      "source": [
        "Unlike the `remove` method, if we ask for the count of an object that isn't included in the list, we do not get an error."
      ]
    },
    {
      "cell_type": "code",
      "metadata": {
        "id": "HaLss2TN7alz"
      },
      "source": [
        "newList.count('item2')"
      ],
      "execution_count": null,
      "outputs": []
    },
    {
      "cell_type": "markdown",
      "metadata": {
        "id": "sara3-757pnI"
      },
      "source": [
        "When we're working interactively we may want to just display the return value. If we wish to save this information for later use, however, we can do so by using the **assignment operator**:"
      ]
    },
    {
      "cell_type": "code",
      "metadata": {
        "id": "A3p7_3Dn7mcE"
      },
      "source": [
        "numItem1 = newList.count('item1')\n",
        "numItem1"
      ],
      "execution_count": null,
      "outputs": []
    },
    {
      "cell_type": "markdown",
      "metadata": {
        "id": "ZRJm38km7-ab"
      },
      "source": [
        "Note that if we later add more of *item1* to the list, the value of numItem1 does not change:"
      ]
    },
    {
      "cell_type": "code",
      "metadata": {
        "id": "C5oMhIJ27zRG"
      },
      "source": [
        "newList.append('item1')\n",
        "newList.append('item1')\n",
        "newList"
      ],
      "execution_count": null,
      "outputs": []
    },
    {
      "cell_type": "code",
      "metadata": {
        "id": "-mkBoGNK8IYj"
      },
      "source": [
        "numItem1"
      ],
      "execution_count": null,
      "outputs": []
    },
    {
      "cell_type": "markdown",
      "metadata": {
        "id": "3kMG1T3x8KKQ"
      },
      "source": [
        "But, we can rerun the `count` method to update this value:"
      ]
    },
    {
      "cell_type": "code",
      "metadata": {
        "id": "LKXlozjn8JE0"
      },
      "source": [
        "numItem1 = newList.count('item1')\n",
        "numItem1"
      ],
      "execution_count": null,
      "outputs": []
    },
    {
      "cell_type": "markdown",
      "metadata": {
        "id": "3eXfwyCC8TVz"
      },
      "source": [
        "The `index` method returns the **first location of an object** in a list:"
      ]
    },
    {
      "cell_type": "code",
      "metadata": {
        "id": "WKFX733g8Qwc"
      },
      "source": [
        "newList"
      ],
      "execution_count": null,
      "outputs": []
    },
    {
      "cell_type": "code",
      "metadata": {
        "id": "iSiWDItm8-A1"
      },
      "source": [
        "newList.index('item1')"
      ],
      "execution_count": null,
      "outputs": []
    },
    {
      "cell_type": "markdown",
      "metadata": {
        "id": "TEHhyZ6h9DNR"
      },
      "source": [
        "The `index` method returns an error if the object is not in the list:"
      ]
    },
    {
      "cell_type": "code",
      "metadata": {
        "id": "M7jlmsS39BPh"
      },
      "source": [
        "newList.index('item2')"
      ],
      "execution_count": null,
      "outputs": []
    },
    {
      "cell_type": "markdown",
      "metadata": {
        "id": "AhWucc_q9M4M"
      },
      "source": [
        "The `pop` method is a **mutator that also returns a value**:"
      ]
    },
    {
      "cell_type": "code",
      "metadata": {
        "id": "NazfQFqt9Gtr"
      },
      "source": [
        "newList"
      ],
      "execution_count": null,
      "outputs": []
    },
    {
      "cell_type": "code",
      "metadata": {
        "id": "Lq08ls629TF7"
      },
      "source": [
        "newList.pop()"
      ],
      "execution_count": null,
      "outputs": []
    },
    {
      "cell_type": "code",
      "metadata": {
        "id": "XY7wAJfd9UEE"
      },
      "source": [
        "newList"
      ],
      "execution_count": null,
      "outputs": []
    },
    {
      "cell_type": "markdown",
      "metadata": {
        "id": "fCGVsILm9W6u"
      },
      "source": [
        "The `pop()` method **removes the last object from the list** and **returns it** to the caller. \n",
        "\n",
        "`pop` can also take an **index as a parameter**. Then, `pop` removes the object at that index and returns that object to the caller."
      ]
    },
    {
      "cell_type": "code",
      "metadata": {
        "id": "u2T0BU2J9U09"
      },
      "source": [
        "newList.pop(0)"
      ],
      "execution_count": null,
      "outputs": []
    },
    {
      "cell_type": "code",
      "metadata": {
        "id": "lNrCoX8-9gDd"
      },
      "source": [
        "newList"
      ],
      "execution_count": null,
      "outputs": []
    },
    {
      "cell_type": "markdown",
      "metadata": {
        "id": "PTVAPtIq9q7l"
      },
      "source": [
        "### Indexing"
      ]
    },
    {
      "cell_type": "markdown",
      "metadata": {
        "id": "omTeOIgY9sij"
      },
      "source": [
        "To **return a certain entry** from our list, we can pass its index through brackets: `listname[index]`"
      ]
    },
    {
      "cell_type": "code",
      "metadata": {
        "id": "ZOiDV9rE9gpW"
      },
      "source": [
        "largest_cities"
      ],
      "execution_count": null,
      "outputs": []
    },
    {
      "cell_type": "code",
      "metadata": {
        "id": "cZTPsy_d_G-2"
      },
      "source": [
        "largest_cities[0]"
      ],
      "execution_count": null,
      "outputs": []
    },
    {
      "cell_type": "code",
      "metadata": {
        "id": "i95CQ3wE_ISE"
      },
      "source": [
        "largest_cities[3]"
      ],
      "execution_count": null,
      "outputs": []
    },
    {
      "cell_type": "markdown",
      "metadata": {
        "id": "7c3D4LOo_N2k"
      },
      "source": [
        "List indexing can be used to **replace existing items**. Let's say we want to replace \"Chicago\" with \"Jacksonville\":"
      ]
    },
    {
      "cell_type": "code",
      "metadata": {
        "id": "yo43aNsK_JiZ"
      },
      "source": [
        "largest_cities[2] = 'Jacksonville'\n",
        "largest_cities"
      ],
      "execution_count": null,
      "outputs": []
    },
    {
      "cell_type": "markdown",
      "metadata": {
        "id": "tu0p5qAU_ZhL"
      },
      "source": [
        "Python also supports **negative indices**, which is interpreted as a backward motion. Thus, the index -1 denotes the last item on the list, -2 the second to last, and so on."
      ]
    },
    {
      "cell_type": "code",
      "metadata": {
        "id": "IRSryP67_W7U"
      },
      "source": [
        "largest_cities[-1]"
      ],
      "execution_count": null,
      "outputs": []
    },
    {
      "cell_type": "code",
      "metadata": {
        "id": "r6mxTtTm_yz2"
      },
      "source": [
        "largest_cities[-2]"
      ],
      "execution_count": null,
      "outputs": []
    },
    {
      "cell_type": "markdown",
      "metadata": {
        "id": "Nlv1hELR_4v4"
      },
      "source": [
        "Lists also support *slicing*, i.e. **extracting a sublist**. \n",
        "\n",
        "Rather than a single index, a slice is defined by a pair of indices separated by a colon. The slice starts at the first of the two indices and continues up to *but not including* the seocnd index. For example:"
      ]
    },
    {
      "cell_type": "code",
      "metadata": {
        "id": "4HD4hx6K_0i2"
      },
      "source": [
        "largest_cities[2:5]"
      ],
      "execution_count": null,
      "outputs": []
    },
    {
      "cell_type": "markdown",
      "metadata": {
        "id": "0Bu-JfK9ACEi"
      },
      "source": [
        "Slicing can also support **step sizes** by inputting a third argument in the slice syntax. For example, with a step size of $k$, the slice begins at the first index, takes each $k$-th item in the list and continues so long as it does not reach or pass the second index."
      ]
    },
    {
      "cell_type": "code",
      "metadata": {
        "id": "Jsfz893t_-qK"
      },
      "source": [
        "largest_cities[::2]"
      ],
      "execution_count": null,
      "outputs": []
    },
    {
      "cell_type": "markdown",
      "metadata": {
        "id": "dfIo7vmYAVxc"
      },
      "source": [
        "# Strings"
      ]
    },
    {
      "cell_type": "markdown",
      "metadata": {
        "id": "euyh28JTBexP"
      },
      "source": [
        "*Immutable* objects **cannot be modified** after they are created, but can be implemented **more efficiently** than mutable objects. The `str` class (\"string\") is an example of an immutable object.\n",
        "\n",
        "The string class is designed to store a sequence of characters and supports many methods that make sense only when dealing with characters."
      ]
    },
    {
      "cell_type": "code",
      "metadata": {
        "id": "fNlVBQn_AZfo"
      },
      "source": [
        "a = \"this is a string\"\n",
        "type(a)"
      ],
      "execution_count": null,
      "outputs": []
    },
    {
      "cell_type": "code",
      "metadata": {
        "id": "eMY4U_DLB1Lt"
      },
      "source": [
        "a.capitalize()"
      ],
      "execution_count": null,
      "outputs": []
    },
    {
      "cell_type": "markdown",
      "metadata": {
        "id": "TIAgiyPfB42k"
      },
      "source": [
        "Because strings are immutable, calling `a.capitalize()` **returns a new string** but does not change `a`."
      ]
    },
    {
      "cell_type": "code",
      "metadata": {
        "id": "fQ8CiH4nB2kT"
      },
      "source": [
        "a"
      ],
      "execution_count": null,
      "outputs": []
    },
    {
      "cell_type": "markdown",
      "metadata": {
        "id": "1SWCxTLWCCd1"
      },
      "source": [
        "To initialize strings, we can use either **single quotes** or **double quotes**:"
      ]
    },
    {
      "cell_type": "code",
      "metadata": {
        "id": "fwHD2pPrB-DZ"
      },
      "source": [
        "a = 'this is a string'\n",
        "a"
      ],
      "execution_count": null,
      "outputs": []
    },
    {
      "cell_type": "code",
      "metadata": {
        "id": "rehqAmlICKfS"
      },
      "source": [
        "b = \"this is a string\"\n",
        "b"
      ],
      "execution_count": null,
      "outputs": []
    },
    {
      "cell_type": "markdown",
      "metadata": {
        "id": "e-ku_DCYCQRL"
      },
      "source": [
        "Strings cannot span multiple lines, but we can introduce **new lines** using the symbol `\\n`:"
      ]
    },
    {
      "cell_type": "code",
      "metadata": {
        "id": "LvDTFvjtCM3k"
      },
      "source": [
        "a =\"this is a string\\non multiple lines\"\n",
        "print(a)"
      ],
      "execution_count": null,
      "outputs": []
    },
    {
      "cell_type": "markdown",
      "metadata": {
        "id": "zIgWhguGCXmy"
      },
      "source": [
        "The **backslash** character is called an *escape character*. Escape characters allow us to **specify a character that cannot otherwise be expressed** naturally. For example, if we wish to include a quote in a string, we can use `\\\"`. "
      ]
    },
    {
      "cell_type": "code",
      "metadata": {
        "id": "0jtVnU76CVjW"
      },
      "source": [
        "a = \"this is a \\\"quote\\\" \"\n",
        "print(a)"
      ],
      "execution_count": null,
      "outputs": []
    },
    {
      "cell_type": "markdown",
      "metadata": {
        "id": "21ZEeZy0DGug"
      },
      "source": [
        "Strings use **zero-indexing**, just like lists. They also support many of the same **accessors**."
      ]
    },
    {
      "cell_type": "code",
      "metadata": {
        "id": "uBGbvwtLCjyG"
      },
      "source": [
        "a = \"this is a string\"\n",
        "len(a)"
      ],
      "execution_count": null,
      "outputs": []
    },
    {
      "cell_type": "code",
      "metadata": {
        "id": "xSwqN_PWDNo3"
      },
      "source": [
        "a[1]"
      ],
      "execution_count": null,
      "outputs": []
    },
    {
      "cell_type": "markdown",
      "metadata": {
        "id": "-7ovGpFHDRq_"
      },
      "source": [
        "However, because strings are **immutable**, we cannot do something like:"
      ]
    },
    {
      "cell_type": "code",
      "metadata": {
        "id": "0PHyIEryDPfh"
      },
      "source": [
        "a[2] = \"a\""
      ],
      "execution_count": null,
      "outputs": []
    },
    {
      "cell_type": "markdown",
      "metadata": {
        "id": "_fD5-5XUDYtd"
      },
      "source": [
        "Like lists, strings support **slicing**."
      ]
    },
    {
      "cell_type": "code",
      "metadata": {
        "id": "ue3UYaDYDWI6"
      },
      "source": [
        "alphabet = \"abcdefghijklmnopqrstuvwxyz\"\n",
        "alphabet[4:10]"
      ],
      "execution_count": null,
      "outputs": []
    },
    {
      "cell_type": "markdown",
      "metadata": {
        "id": "kQtvNeBmDfVP"
      },
      "source": [
        "To get all values until the **end of a string**, we leave the second entry blank:"
      ]
    },
    {
      "cell_type": "code",
      "metadata": {
        "id": "r2QpI6ZUDcN4"
      },
      "source": [
        "alphabet[15:]"
      ],
      "execution_count": null,
      "outputs": []
    },
    {
      "cell_type": "markdown",
      "metadata": {
        "id": "VQlMOjrRDntH"
      },
      "source": [
        "The same can be done from the **beginning of a string**:"
      ]
    },
    {
      "cell_type": "code",
      "metadata": {
        "id": "j9y4DPN3Dmcl"
      },
      "source": [
        "alphabet[:15]"
      ],
      "execution_count": null,
      "outputs": []
    },
    {
      "cell_type": "markdown",
      "metadata": {
        "id": "ai0Yy4SMDuVA"
      },
      "source": [
        "As with lists, string slicing can also support **step sizes** by inputting a third argument in the slice syntax. For example, with a step size of $k$, the slice begins at the first index, takes each $k$-th character, and continues so long as it does not reach or pass the second index (this also works for lists).\n",
        "\n",
        "In short, the syntax is: `string[start:end:step size]`"
      ]
    },
    {
      "cell_type": "code",
      "metadata": {
        "id": "U_8GlerpDr8d"
      },
      "source": [
        "alphabet[9:20:3]"
      ],
      "execution_count": null,
      "outputs": []
    },
    {
      "cell_type": "markdown",
      "metadata": {
        "id": "d4ZzXvzuD5RZ"
      },
      "source": [
        "The step size can also be **negative**."
      ]
    },
    {
      "cell_type": "code",
      "metadata": {
        "id": "zQfDnfGVD3KC"
      },
      "source": [
        "alphabet[17:5:-3]"
      ],
      "execution_count": null,
      "outputs": []
    },
    {
      "cell_type": "markdown",
      "metadata": {
        "id": "LjWj1V1BD9zj"
      },
      "source": [
        "Taking a step size of `-1` **reverses** the string."
      ]
    },
    {
      "cell_type": "code",
      "metadata": {
        "id": "mVuKJh_AD8EN"
      },
      "source": [
        "alphabet[::-1]"
      ],
      "execution_count": null,
      "outputs": []
    },
    {
      "cell_type": "markdown",
      "metadata": {
        "id": "BpXhRcyaEa9p"
      },
      "source": [
        "### Overloading"
      ]
    },
    {
      "cell_type": "markdown",
      "metadata": {
        "id": "cf78wgLzErEU"
      },
      "source": [
        "The `+` and `*` operators are **overloaded** for strings."
      ]
    },
    {
      "cell_type": "code",
      "metadata": {
        "id": "oDpHz5XzEBe0"
      },
      "source": [
        "a = \"This\"\n",
        "a = a + \" is a string\"\n",
        "print(a)"
      ],
      "execution_count": null,
      "outputs": []
    },
    {
      "cell_type": "code",
      "metadata": {
        "id": "zW3m9awqE6dp"
      },
      "source": [
        "print(a*3)"
      ],
      "execution_count": null,
      "outputs": []
    },
    {
      "cell_type": "markdown",
      "metadata": {
        "id": "h9T1WJUSE_Sj"
      },
      "source": [
        "### Summary of String Methods"
      ]
    },
    {
      "cell_type": "markdown",
      "metadata": {
        "id": "2JYIReMRFSTt"
      },
      "source": [
        "![string information](https://github.com/lukasbystricky/ISC-3313/blob/master/lectures/chapter2/images/string_information1.png?raw=true)"
      ]
    },
    {
      "cell_type": "markdown",
      "metadata": {
        "id": "u7RdOyIUFVjx"
      },
      "source": [
        "![string information](https://github.com/lukasbystricky/ISC-3313/blob/master/lectures/chapter2/images/string_information2.png?raw=true)"
      ]
    },
    {
      "cell_type": "markdown",
      "metadata": {
        "id": "rVZUcJGdFZpV"
      },
      "source": [
        "![new string](https://github.com/lukasbystricky/ISC-3313/blob/master/lectures/chapter2/images/string_new1.png?raw=true)"
      ]
    },
    {
      "cell_type": "markdown",
      "metadata": {
        "id": "eHel4a0EFZjC"
      },
      "source": [
        "![new string](https://github.com/lukasbystricky/ISC-3313/blob/master/lectures/chapter2/images/string_new2.png?raw=true)"
      ]
    },
    {
      "cell_type": "markdown",
      "metadata": {
        "id": "8cGNHGrCFZbD"
      },
      "source": [
        "![string conversion](https://github.com/lukasbystricky/ISC-3313/blob/master/lectures/chapter2/images/string_convert.png?raw=true)"
      ]
    },
    {
      "cell_type": "markdown",
      "metadata": {
        "id": "wV5CnOBnF9Yk"
      },
      "source": [
        "# Numeric Data and Booleans"
      ]
    },
    {
      "cell_type": "markdown",
      "metadata": {
        "id": "H67YmtETF_yn"
      },
      "source": [
        "To create very large or very small floating point numbers, we can use the `e` character to indicate **scientific notation**. For example:\n",
        "\n",
        "    2e15\n",
        "This is is equivalent to $2\\times 10^{15}$. Note that even though $2\\times 10^{15}$ is **actually an integer**, Python **stores it as a float**."
      ]
    },
    {
      "cell_type": "code",
      "metadata": {
        "id": "5qKuQVt7F9FV"
      },
      "source": [
        "a = 2e15\n",
        "type(a)"
      ],
      "execution_count": null,
      "outputs": []
    },
    {
      "cell_type": "markdown",
      "metadata": {
        "id": "NJ7Nn7Pmp9zJ"
      },
      "source": [
        "Almost all numbers **cannot be stored with perfect precision** in digital form. \n",
        "\n",
        "For example, $\\sqrt{2}$ and $\\pi$ are both *irrational numbers* that require infinite digits to be represented exactly. Instead of doing this, we store irrational numbers as decimal numbers with a finite number of digits. \n",
        "\n",
        "This **floating-point representation** is standard in almost every programming language. Typically, this is done with around 16 digits of accuracy.\n"
      ]
    },
    {
      "cell_type": "markdown",
      "metadata": {
        "id": "7FgIP1WyrEoz"
      },
      "source": [
        "This is an important concept to understand, and can sometimes lead to **unexpected behavior**, even for numbers which should be perfectly represented with 16 digits."
      ]
    },
    {
      "cell_type": "code",
      "metadata": {
        "id": "VuiQ_2_Op5MG"
      },
      "source": [
        "a = 0.1\n",
        "b = 0.2\n",
        "print(a + b)"
      ],
      "execution_count": null,
      "outputs": []
    },
    {
      "cell_type": "code",
      "metadata": {
        "id": "V2OecBa7q3oz"
      },
      "source": [
        "print(a + b - 0.3)"
      ],
      "execution_count": null,
      "outputs": []
    },
    {
      "cell_type": "markdown",
      "metadata": {
        "id": "133hf41RsH9G"
      },
      "source": [
        "This is an example of *floating point error*. In scientific computing, it is important to remember that **no numbers are ever represented perfectly** and **small errors like this can occur**. If you are not careful, this can lead to serious problems down the road."
      ]
    },
    {
      "cell_type": "markdown",
      "metadata": {
        "id": "ZQeTDRH-sh1n"
      },
      "source": [
        "### Numeric Operations"
      ]
    },
    {
      "cell_type": "markdown",
      "metadata": {
        "id": "gEf0hxx1smJd"
      },
      "source": [
        "When adding an `int` to another `int`, the result is an `int`. When adding a `float` to a `float` or an `int`, the result is a `float`. The same applies to subtraction or multiplication."
      ]
    },
    {
      "cell_type": "code",
      "metadata": {
        "id": "pwwT_0Dmq6da"
      },
      "source": [
        "a = 5\n",
        "b = 6.0\n",
        "type(a + a)"
      ],
      "execution_count": null,
      "outputs": []
    },
    {
      "cell_type": "code",
      "metadata": {
        "id": "uIQq5sUbsy3s"
      },
      "source": [
        "type(a + b)"
      ],
      "execution_count": null,
      "outputs": []
    },
    {
      "cell_type": "markdown",
      "metadata": {
        "id": "CTxAj-2-s3la"
      },
      "source": [
        "Division depends on what version of Python you are using. Python 3 does **true division**, meaning the result is probably exactly as you'd expect (we are using Python 3)."
      ]
    },
    {
      "cell_type": "code",
      "metadata": {
        "id": "KXuPv8zps0Qe"
      },
      "source": [
        "a = 5\n",
        "b = 4\n",
        "a/b"
      ],
      "execution_count": null,
      "outputs": []
    },
    {
      "cell_type": "markdown",
      "metadata": {
        "id": "nLyiKWVdtE0z"
      },
      "source": [
        "To do **powers** of numbers, Python employs the syntax \"\\*\\*\"."
      ]
    },
    {
      "cell_type": "code",
      "metadata": {
        "id": "yPT1TrqttBMR"
      },
      "source": [
        "2**4"
      ],
      "execution_count": null,
      "outputs": []
    },
    {
      "cell_type": "code",
      "metadata": {
        "id": "7NvDXb1stIbg"
      },
      "source": [
        "8**0.5 # Square root of 8"
      ],
      "execution_count": null,
      "outputs": []
    },
    {
      "cell_type": "markdown",
      "metadata": {
        "id": "8AH7Wxo8tNIy"
      },
      "source": [
        "Python also supports the *modulus* operator (**mod** for short) with the symbol \"%\". This returns the **remainder** after division."
      ]
    },
    {
      "cell_type": "code",
      "metadata": {
        "id": "hvUyaoeOtK4J"
      },
      "source": [
        "a = 5\n",
        "b = 3\n",
        "a%b"
      ],
      "execution_count": null,
      "outputs": []
    },
    {
      "cell_type": "markdown",
      "metadata": {
        "id": "x-SMeNJqtWdQ"
      },
      "source": [
        "### Type Conversions"
      ]
    },
    {
      "cell_type": "markdown",
      "metadata": {
        "id": "JYk75lEWtY3-"
      },
      "source": [
        "Converting one type to another is called *casting*. For example:"
      ]
    },
    {
      "cell_type": "code",
      "metadata": {
        "id": "p5TXlBpRtSv7"
      },
      "source": [
        "a = 4.9\n",
        "print(int(a))"
      ],
      "execution_count": null,
      "outputs": []
    },
    {
      "cell_type": "markdown",
      "metadata": {
        "id": "zjQgCpbXtlu3"
      },
      "source": [
        "When casting a `float` to an `int` Python **truncates the decimal** part. To convert a `float` to the **nearest integer**, there is a function called `round`."
      ]
    },
    {
      "cell_type": "code",
      "metadata": {
        "id": "7k0aP31DthAI"
      },
      "source": [
        "b = round(a)\n",
        "print(b)\n",
        "type(b)"
      ],
      "execution_count": null,
      "outputs": []
    },
    {
      "cell_type": "markdown",
      "metadata": {
        "id": "FIhRYq_5twdV"
      },
      "source": [
        "`int` and `float` can also be cast to and from **strings** (`str`):"
      ]
    },
    {
      "cell_type": "code",
      "metadata": {
        "id": "YQ_MSdyjtsVO"
      },
      "source": [
        "a = \"3.5\"\n",
        "b = float(a)\n",
        "print(b)\n",
        "type(b)"
      ],
      "execution_count": null,
      "outputs": []
    },
    {
      "cell_type": "code",
      "metadata": {
        "id": "O1L34wBIt9Mi"
      },
      "source": [
        "b = str(b)\n",
        "print(b)\n",
        "type(b)"
      ],
      "execution_count": null,
      "outputs": []
    },
    {
      "cell_type": "markdown",
      "metadata": {
        "id": "U9ro1jK3uB8R"
      },
      "source": [
        "### Boolean Expressions"
      ]
    },
    {
      "cell_type": "markdown",
      "metadata": {
        "id": "_CoBWNcjuDnc"
      },
      "source": [
        "A boolean is a value that is either `true` or `false`. Python has a built-in type, `bool`, for handling booleans. \n",
        "\n",
        "Several functions return booleans (e.g. the `in` function for lists)."
      ]
    },
    {
      "cell_type": "code",
      "metadata": {
        "id": "U7jssnCEt_vC"
      },
      "source": [
        "groceries = []\n",
        "groceries.append(\"bread\")\n",
        "\n",
        "a = \"bread\" in groceries\n",
        "a"
      ],
      "execution_count": null,
      "outputs": []
    },
    {
      "cell_type": "code",
      "metadata": {
        "id": "PBLavp58uVY6"
      },
      "source": [
        "type(a)"
      ],
      "execution_count": null,
      "outputs": []
    },
    {
      "cell_type": "markdown",
      "metadata": {
        "id": "i7F6rJLZuZCf"
      },
      "source": [
        "We can also **generate booleans** using the **greater than** or **less than** operators:"
      ]
    },
    {
      "cell_type": "code",
      "metadata": {
        "id": "Nl5EapALuWrT"
      },
      "source": [
        "a = 6\n",
        "a > 5"
      ],
      "execution_count": null,
      "outputs": []
    },
    {
      "cell_type": "code",
      "metadata": {
        "id": "ygp-OD2wus-i"
      },
      "source": [
        "a <= 4"
      ],
      "execution_count": null,
      "outputs": []
    },
    {
      "cell_type": "code",
      "metadata": {
        "id": "4R8PgDzEuuUN"
      },
      "source": [
        "len(\"bacon\") > 3"
      ],
      "execution_count": null,
      "outputs": []
    },
    {
      "cell_type": "markdown",
      "metadata": {
        "id": "AlkW1iaXux5n"
      },
      "source": [
        "To test for **exact equality**, we can use the `==` operator."
      ]
    },
    {
      "cell_type": "code",
      "metadata": {
        "id": "1QhcoY00uvvT"
      },
      "source": [
        "a = 3\n",
        "a == 3"
      ],
      "execution_count": null,
      "outputs": []
    },
    {
      "cell_type": "markdown",
      "metadata": {
        "id": "EFfGpwcQwM5s"
      },
      "source": [
        "This operator should be avoided with floating point numbers. Let's compute $\\sqrt{2}$:"
      ]
    },
    {
      "cell_type": "code",
      "metadata": {
        "id": "POtaY49wu1A9"
      },
      "source": [
        "a = 2**0.5 #square root of 2"
      ],
      "execution_count": null,
      "outputs": []
    },
    {
      "cell_type": "markdown",
      "metadata": {
        "id": "PCRq-CoDwWvk"
      },
      "source": [
        "We know that $\\sqrt{2}^2 = 2$, right?"
      ]
    },
    {
      "cell_type": "code",
      "metadata": {
        "id": "Tk5diQnbwT2Y"
      },
      "source": [
        "print(a**2 == 2)"
      ],
      "execution_count": null,
      "outputs": []
    },
    {
      "cell_type": "markdown",
      "metadata": {
        "id": "4IAXeLXuwjSk"
      },
      "source": [
        "What happened here? \n",
        "\n",
        "Since we're dealing with floating point numbers, $\\sqrt{2}$ is **not represented exactly**. We're only storing 16 digits of this irrational number. So when you square it, you're not getting exactly 2, but rather some number that is **very close** to 2."
      ]
    },
    {
      "cell_type": "code",
      "metadata": {
        "id": "hneu-sjIwawv"
      },
      "source": [
        "print(a**2)"
      ],
      "execution_count": null,
      "outputs": []
    },
    {
      "cell_type": "markdown",
      "metadata": {
        "id": "M-755aE0wt7S"
      },
      "source": [
        "To test for equality in cases like this (any computation involving floating point numbers) it's necessary to see if the two numbers are \"close enough\", or within some very small **tolerance** of each other. "
      ]
    },
    {
      "cell_type": "code",
      "metadata": {
        "id": "Qlshl-pSwrdZ"
      },
      "source": [
        "tol = 1e-15\n",
        "print(abs(a**2 - 2) < tol)"
      ],
      "execution_count": null,
      "outputs": []
    },
    {
      "cell_type": "markdown",
      "metadata": {
        "id": "l57jZ1Llw4FC"
      },
      "source": [
        "Here we've set the tolerance to $1\\times 10^{-15}$. We then check that $|a^2 - 2|$ is less than this tolerance. "
      ]
    },
    {
      "cell_type": "markdown",
      "metadata": {
        "id": "4kWbjTuHw-T8"
      },
      "source": [
        "There are three **logical operators** that can be **used with booleans**.\n",
        "\n",
        "1) **`not`** - this returns the opposite of the boolean value"
      ]
    },
    {
      "cell_type": "code",
      "metadata": {
        "id": "HiCAeAiOw0hQ"
      },
      "source": [
        "not len(\"bacon\") > 3"
      ],
      "execution_count": null,
      "outputs": []
    },
    {
      "cell_type": "markdown",
      "metadata": {
        "id": "qSVc6rNhxHB-"
      },
      "source": [
        "2) **`and`** - this operator takes two booleans and returns `true` if they are both true, or `false` otherwise"
      ]
    },
    {
      "cell_type": "code",
      "metadata": {
        "id": "YI8ALxBtxEVH"
      },
      "source": [
        "len(\"bacon\") > 3 and 5 > 1"
      ],
      "execution_count": null,
      "outputs": []
    },
    {
      "cell_type": "code",
      "metadata": {
        "id": "4sR7zWi9xNyA"
      },
      "source": [
        "len(\"bacon\") > 3 and 1 > 5"
      ],
      "execution_count": null,
      "outputs": []
    },
    {
      "cell_type": "markdown",
      "metadata": {
        "id": "oKpSNQT-xSVd"
      },
      "source": [
        "3) **`or`** - this operator takes two booleans and returns `true` if at least one them is `true`"
      ]
    },
    {
      "cell_type": "code",
      "metadata": {
        "id": "6LTPmEy9xPq1"
      },
      "source": [
        "len(\"bacon\") > 3 or 1 > 5"
      ],
      "execution_count": null,
      "outputs": []
    },
    {
      "cell_type": "markdown",
      "metadata": {
        "id": "Odg0_ALgxYR6"
      },
      "source": [
        "Note that this is considered an *inclusive or*, meaning that if both booleans are `true` it returns `true`. Occasionally, we may want an *exclusive or*, where we want to know if exactly one of the booleans is `true`. This can be acheived by using the syntax `x != y`."
      ]
    },
    {
      "cell_type": "code",
      "metadata": {
        "id": "JHh03MC9xVhr"
      },
      "source": [
        "a = len(\"bacon\") > 3 \n",
        "b = 5 > 1 \n",
        "a != b"
      ],
      "execution_count": null,
      "outputs": []
    },
    {
      "cell_type": "markdown",
      "metadata": {
        "id": "OtxXumfHxnyQ"
      },
      "source": [
        "Consider a **compound boolean expression**:"
      ]
    },
    {
      "cell_type": "code",
      "metadata": {
        "id": "4njHcHvkxjp5"
      },
      "source": [
        "x = 5\n",
        "3 < x and x < 8"
      ],
      "execution_count": null,
      "outputs": []
    },
    {
      "cell_type": "markdown",
      "metadata": {
        "id": "2mZ4gVamxx8K"
      },
      "source": [
        "When the same value (in this case `x`) appears as an operand of the two booleans, these expression can be **chained** as follows:"
      ]
    },
    {
      "cell_type": "code",
      "metadata": {
        "id": "TRZkXejXxvYt"
      },
      "source": [
        "3 < x < 8"
      ],
      "execution_count": null,
      "outputs": []
    },
    {
      "cell_type": "markdown",
      "metadata": {
        "id": "2x3omI2Gx5zq"
      },
      "source": [
        "This is a convenient syntax and can often be easier to read."
      ]
    },
    {
      "cell_type": "markdown",
      "metadata": {
        "id": "e9_2Z3hyx5qS"
      },
      "source": [
        "Understanding the relationship between **not**, **and**, and **or** is extremely important. Here they are summarized in a truth table:\n",
        "\n",
        "![truth table](https://github.com/ag12s/CreateWithCodeModules/blob/main/images/truth_table.png?raw=true)"
      ]
    },
    {
      "cell_type": "markdown",
      "metadata": {
        "id": "u8yITutryFmg"
      },
      "source": [
        "### Numeric and Boolean Operations Summary"
      ]
    },
    {
      "cell_type": "markdown",
      "metadata": {
        "id": "8jLY5ZtWyHrC"
      },
      "source": [
        "![numeric operations](https://github.com/lukasbystricky/ISC-3313/blob/master/lectures/chapter2/images/numeric_operators1.png?raw=true)"
      ]
    },
    {
      "cell_type": "markdown",
      "metadata": {
        "id": "KY0wRC8vyM6S"
      },
      "source": [
        "![numeric operators](https://github.com/lukasbystricky/ISC-3313/blob/master/lectures/chapter2/images/numeric_operators2.png?raw=true)"
      ]
    },
    {
      "cell_type": "markdown",
      "metadata": {
        "id": "qMBXZYSnySl9"
      },
      "source": [
        "# Data Structures"
      ]
    },
    {
      "cell_type": "markdown",
      "metadata": {
        "id": "GtiO5NE0yXBT"
      },
      "source": [
        "### The Range Class"
      ]
    },
    {
      "cell_type": "markdown",
      "metadata": {
        "id": "yrTXikrOzH4d"
      },
      "source": [
        "Often, we will need a **sequence of integers**. Python has a built-in type called `range` to help construct such sequences. There are 3 different ways to construct one.  \n",
        "\n",
        "In Python 2, `range` is a function that returns a `list`. In Python 3, `range` is its own type, but you can **convert it to a `list`** if you like by passing it as an argument to the `list` constructor."
      ]
    },
    {
      "cell_type": "markdown",
      "metadata": {
        "id": "a4nGYL6gzooT"
      },
      "source": [
        "`range(stop)` constructs a **sequence of integers starting at 0** and going up to, but **not including**, the integer represented by `stop`."
      ]
    },
    {
      "cell_type": "code",
      "metadata": {
        "id": "QK6QTD85x2hL"
      },
      "source": [
        "range(5)"
      ],
      "execution_count": null,
      "outputs": []
    },
    {
      "cell_type": "code",
      "metadata": {
        "id": "EpMSMQYczy3h"
      },
      "source": [
        "list(range(5))"
      ],
      "execution_count": null,
      "outputs": []
    },
    {
      "cell_type": "markdown",
      "metadata": {
        "id": "0zlaG6hnz7bT"
      },
      "source": [
        "`range(start, stop)` constructs a sequence of integers **starting at `start`** and going up to but not including `stop`."
      ]
    },
    {
      "cell_type": "code",
      "metadata": {
        "id": "U19h8piQz1bk"
      },
      "source": [
        "range(5,8)"
      ],
      "execution_count": null,
      "outputs": []
    },
    {
      "cell_type": "code",
      "metadata": {
        "id": "fB-Nxs_a0DCg"
      },
      "source": [
        "list(range(5,8))"
      ],
      "execution_count": null,
      "outputs": []
    },
    {
      "cell_type": "markdown",
      "metadata": {
        "id": "JghYVPKY0F-_"
      },
      "source": [
        "`range(start, stop, step)` constructs a sequence of integers starting at `start` and **advancing by `step`** so long as it does not reach or pass `stop`"
      ]
    },
    {
      "cell_type": "code",
      "metadata": {
        "id": "uoEa1DaZ0DzR"
      },
      "source": [
        "range(5,10,2)"
      ],
      "execution_count": null,
      "outputs": []
    },
    {
      "cell_type": "code",
      "metadata": {
        "id": "W5RNcwPq0M1D"
      },
      "source": [
        "list(range(5,10,2))"
      ],
      "execution_count": null,
      "outputs": []
    },
    {
      "cell_type": "markdown",
      "metadata": {
        "id": "7ZQRRE5_0Ppx"
      },
      "source": [
        "Note that `step` can be **negative**:"
      ]
    },
    {
      "cell_type": "code",
      "metadata": {
        "id": "vxgfFG2Y0NYy"
      },
      "source": [
        "list(range(10,5,-1))"
      ],
      "execution_count": null,
      "outputs": []
    },
    {
      "cell_type": "markdown",
      "metadata": {
        "id": "WcQ9GKPk0WPQ"
      },
      "source": [
        "### Tuples"
      ]
    },
    {
      "cell_type": "markdown",
      "metadata": {
        "id": "PuoKRZNf0XVV"
      },
      "source": [
        "A *tuple* is used to represent an **immutable sequence of objects**. Immutable objects can be stored more efficiently than mutable objects, but they are more limited.\n",
        "\n",
        "The primary purpose of a tuple is to **encapsulate multiple pieces of information into a single object**. For example, it is common to represent colors by 3 separate values that describe the intesity of red, green, and blue. We could store all this information separately, but a better way is to store this information in a single tuple."
      ]
    },
    {
      "cell_type": "code",
      "metadata": {
        "id": "8ghf15hR0TrM"
      },
      "source": [
        "skyBlue = tuple((136, 207, 236))\n",
        "type(skyBlue)"
      ],
      "execution_count": null,
      "outputs": []
    },
    {
      "cell_type": "markdown",
      "metadata": {
        "id": "qnttvYCO1eib"
      },
      "source": [
        "As with lists, we can **construct a tuple** without using the **tuple constructor**:"
      ]
    },
    {
      "cell_type": "code",
      "metadata": {
        "id": "AHvKZlzp1bzZ"
      },
      "source": [
        "skyBlue = (136, 207, 236)"
      ],
      "execution_count": null,
      "outputs": []
    },
    {
      "cell_type": "markdown",
      "metadata": {
        "id": "Fc8In5jx1n6f"
      },
      "source": [
        "Tuples **support all of the nonmutating behaviors of lists**, with the **exception** of `count` and `index`, and they *do* support indexing."
      ]
    },
    {
      "cell_type": "markdown",
      "metadata": {
        "id": "wlYy5e6L1vtZ"
      },
      "source": [
        "Tuples can be **concatenated** with the \"+\" operator:"
      ]
    },
    {
      "cell_type": "code",
      "metadata": {
        "id": "8DMuIOru1kgd"
      },
      "source": [
        "tuple_1 = (\"hello\", \"hi\")\n",
        "tuple_2 = (0, 255, 0)\n",
        "\n",
        "print(tuple_1 + tuple_2)"
      ],
      "execution_count": null,
      "outputs": []
    },
    {
      "cell_type": "markdown",
      "metadata": {
        "id": "z5CHc7Wl12Es"
      },
      "source": [
        "Tuples can also be **converted to a list** by passing them in to the `list` constructor:"
      ]
    },
    {
      "cell_type": "code",
      "metadata": {
        "id": "lSnuS9D91z9Z"
      },
      "source": [
        "tuple_list = list(tuple_2)\n",
        "print(tuple_list)"
      ],
      "execution_count": null,
      "outputs": []
    },
    {
      "cell_type": "markdown",
      "metadata": {
        "id": "6c-4HFII18LX"
      },
      "source": [
        "Lists can be **converted to tuples** using the `tuple` constructor:"
      ]
    },
    {
      "cell_type": "code",
      "metadata": {
        "id": "t7dzxkg116j9"
      },
      "source": [
        "print(tuple(tuple_list))"
      ],
      "execution_count": null,
      "outputs": []
    },
    {
      "cell_type": "markdown",
      "metadata": {
        "id": "l9Nb4qe32DWE"
      },
      "source": [
        "### Dictionaries"
      ]
    },
    {
      "cell_type": "markdown",
      "metadata": {
        "id": "FubOyhcr2Ezm"
      },
      "source": [
        "Dictionaries represent a **mapping** from a set of objects known as *keys* to associated objects known as *values*. For example, we may want to store the latitude and longitude of a collection of cities.\n",
        "\n",
        "- Auckland: (-36.52, 174.45)\n",
        "- Berlin: (52.30, 13.25)\n",
        "- Cairo: (30.20, 31.21)\n",
        "- Havanna: (23.80, -82.23)\n",
        "- New York: (40.47, -73.58)\n",
        "\n",
        "Dictionaries provide a convenient way to store this information. Here, the name of the city acts as the **key** and a tuple representing the latitude and longitude is the **corresponding value**."
      ]
    },
    {
      "cell_type": "markdown",
      "metadata": {
        "id": "3FoQVkUc2ZrK"
      },
      "source": [
        "As with lists and tuples, there are two ways to initialize a dictionary. The first is to use the standard **constuctor syntax**:"
      ]
    },
    {
      "cell_type": "code",
      "metadata": {
        "id": "9KACWdwp2BD1"
      },
      "source": [
        "latLong = dict()\n",
        "type(latLong)"
      ],
      "execution_count": null,
      "outputs": []
    },
    {
      "cell_type": "markdown",
      "metadata": {
        "id": "ovPjApvh2fn1"
      },
      "source": [
        "This results in a new dictionary object that initially contains zero entries.\n",
        "\n",
        "We can add key-value pairs to our dictionary using an **assignment syntax**:"
      ]
    },
    {
      "cell_type": "code",
      "metadata": {
        "id": "9TQloQ4Q2dew"
      },
      "source": [
        "latLong[\"Auckland\"] = (-36.52,174.45)\n",
        "latLong[\"Berlin\"] = (52.30, 13.25)\n",
        "latLong[\"Cairo\"] = (30.20, 31.21)\n",
        "latLong[\"Havanna\"] = (23.80,-82.23)\n",
        "latLong[\"New York\"] = (40.47,-73.58)\n",
        "\n",
        "print(latLong)"
      ],
      "execution_count": null,
      "outputs": []
    },
    {
      "cell_type": "markdown",
      "metadata": {
        "id": "pDpCJIZQ2sGV"
      },
      "source": [
        "Once we've added items to the dictionary, we can **retrieve** them:"
      ]
    },
    {
      "cell_type": "code",
      "metadata": {
        "id": "4j83NduR2pkt"
      },
      "source": [
        "latLong[\"Havanna\"]"
      ],
      "execution_count": null,
      "outputs": []
    },
    {
      "cell_type": "markdown",
      "metadata": {
        "id": "lzJ8bVLz2xYI"
      },
      "source": [
        "If we ask for a key that is not in the dictionary, we get an error:"
      ]
    },
    {
      "cell_type": "code",
      "metadata": {
        "id": "cK6W65u12vbH"
      },
      "source": [
        "latLong[\"Tallahassee\"]"
      ],
      "execution_count": null,
      "outputs": []
    },
    {
      "cell_type": "markdown",
      "metadata": {
        "id": "mlHrstzj23wv"
      },
      "source": [
        "Another way to initialize and populate a dictionary is through the **literal form**. The literal form uses **curly braces**, in contrast to the square braces [ ... ] used by lists or the round braces ( ... ) used by tuples."
      ]
    },
    {
      "cell_type": "code",
      "metadata": {
        "id": "4eNn6QMi21hE"
      },
      "source": [
        "latLong = {\"Auckland\":(-36.52,174.45),\"Havanna\":(23.8,-82.23),\"Berlin\":(52.3,13.25),\\\n",
        "               \"New York\":(40.47,-73.58),\"Cairo\":(30.2,31.21)}\n",
        "print(latLong)"
      ],
      "execution_count": null,
      "outputs": []
    },
    {
      "cell_type": "markdown",
      "metadata": {
        "id": "3klRBmTy3Ary"
      },
      "source": [
        "The **keys** in a dictionary **must be unique**. If we attempt to add a **duplicate** key, it **updates the value already stored** for that key."
      ]
    },
    {
      "cell_type": "code",
      "metadata": {
        "id": "sgzzKdIA28th"
      },
      "source": [
        "latLong[\"New York\"] = (23.7,-82.23)\n",
        "print(latLong)"
      ],
      "execution_count": null,
      "outputs": []
    },
    {
      "cell_type": "markdown",
      "metadata": {
        "id": "CKz5dm9h3J3G"
      },
      "source": [
        "Keys must be **immutable**. So, for example, `int`, `str`, or `tuple` would be accpetable keys, but `list` would not.\n",
        "\n",
        "**Values**, on the other hand, can be of **any type** (mutable or immutable) and can be **repeated** as often as you like."
      ]
    },
    {
      "cell_type": "markdown",
      "metadata": {
        "id": "iilQX28r3dw0"
      },
      "source": [
        "### Data Structure Command Summary"
      ]
    },
    {
      "cell_type": "markdown",
      "metadata": {
        "id": "KdVRALDp3hfB"
      },
      "source": [
        "![dictionary methods](https://github.com/lukasbystricky/ISC-3313/blob/master/lectures/chapter2/images/dictionary.png?raw=true)"
      ]
    },
    {
      "cell_type": "markdown",
      "metadata": {
        "id": "TbcVUKPb3rLL"
      },
      "source": [
        "# Functions"
      ]
    },
    {
      "cell_type": "markdown",
      "metadata": {
        "id": "7br5N2Su3uRy"
      },
      "source": [
        "Pure functions exist as methods that can be **called outside the context of a particular class**. For example, we've already seen the `abs` and `len` functions. Remember that we call `abs(a)`, not `a.abs()`. Python provides many built-in functions.\n",
        "\n",
        "![functions](https://github.com/lukasbystricky/ISC-3313/blob/master/lectures/chapter2/images/functions.png?raw=true)"
      ]
    },
    {
      "cell_type": "code",
      "metadata": {
        "id": "nBDt5I3g3HmS"
      },
      "source": [
        "pow(2,3)"
      ],
      "execution_count": null,
      "outputs": []
    },
    {
      "cell_type": "code",
      "metadata": {
        "id": "wVRbACb75nlC"
      },
      "source": [
        "min(-2,-2.4,9.0)"
      ],
      "execution_count": null,
      "outputs": []
    },
    {
      "cell_type": "code",
      "metadata": {
        "id": "toClvRTt5osP"
      },
      "source": [
        "ord(\"a\")"
      ],
      "execution_count": null,
      "outputs": []
    },
    {
      "cell_type": "markdown",
      "metadata": {
        "id": "SAWFWmqa5urL"
      },
      "source": [
        "### Print Function"
      ]
    },
    {
      "cell_type": "markdown",
      "metadata": {
        "id": "0kWthhnL5wwG"
      },
      "source": [
        "After performing a computation, we may need to see the result. In an interactive or notebook session, we can simply type the name of the variable to see what it is:"
      ]
    },
    {
      "cell_type": "code",
      "metadata": {
        "id": "kAY-L8Ho5rDY"
      },
      "source": [
        "a = 1\n",
        "a"
      ],
      "execution_count": null,
      "outputs": []
    },
    {
      "cell_type": "markdown",
      "metadata": {
        "id": "2YdBUQfq5-In"
      },
      "source": [
        "When **executing scripts**, however, we can no longer do this. Instead, we use the `print` command (in fact, we've already used this several times). The `print` function is used to **print information to the console**:"
      ]
    },
    {
      "cell_type": "code",
      "metadata": {
        "id": "3sKB7iTh_uZC"
      },
      "source": [
        "print(a)\n",
        "print(\"a\")"
      ],
      "execution_count": null,
      "outputs": []
    },
    {
      "cell_type": "markdown",
      "metadata": {
        "id": "t1L-x5Kr6Rd3"
      },
      "source": [
        "Note that the Python 2 syntax, `print a` (no parentheses), does not work in Python 3. The syntax above (**with parentheses**) works in both Python 2 and Python 3.\n"
      ]
    },
    {
      "cell_type": "markdown",
      "metadata": {
        "id": "j81AvcJx6dLI"
      },
      "source": [
        "Of course, `print` can be used to display more useful information. For example, suppose we have a variable called `t` that represents some length of time in seconds. We can use `print` to display not only `t`, but also the accompanying units by calling `print` with **multiple arguments**."
      ]
    },
    {
      "cell_type": "code",
      "metadata": {
        "id": "dESFAP6I57Kp"
      },
      "source": [
        "t = 5.6\n",
        "print(t, \"s\")"
      ],
      "execution_count": null,
      "outputs": []
    },
    {
      "cell_type": "markdown",
      "metadata": {
        "id": "Cz7aNK0m6xID"
      },
      "source": [
        "The `print` function **automatically inserts a space** between the two arguments. If we wish the avoid this, we can combine the two arguments into one:"
      ]
    },
    {
      "cell_type": "code",
      "metadata": {
        "id": "hGUw4_rt6ul0"
      },
      "source": [
        "print(str(t) + \"s\")"
      ],
      "execution_count": null,
      "outputs": []
    },
    {
      "cell_type": "markdown",
      "metadata": {
        "id": "-3YNECOA68yD"
      },
      "source": [
        "Note that we have to **convert `t` to a string** before \"adding\" (the correct term is *concatenating*) it to `s`."
      ]
    },
    {
      "cell_type": "code",
      "metadata": {
        "id": "XLG40yuq62-z"
      },
      "source": [
        "print(t+\"s\")"
      ],
      "execution_count": null,
      "outputs": []
    },
    {
      "cell_type": "markdown",
      "metadata": {
        "id": "GGznLyo87PT0"
      },
      "source": [
        "The previous command is illegal because we are attempting to add a `float` to a `str`."
      ]
    },
    {
      "cell_type": "markdown",
      "metadata": {
        "id": "USQnI7rC7TMX"
      },
      "source": [
        "Another option is to use **f-string formatting**:"
      ]
    },
    {
      "cell_type": "code",
      "metadata": {
        "id": "Vrh6k3Hx7NR-"
      },
      "source": [
        "print(f\"{t}s\")"
      ],
      "execution_count": null,
      "outputs": []
    },
    {
      "cell_type": "markdown",
      "metadata": {
        "id": "pE5MAeGS7gDF"
      },
      "source": [
        "# Modules"
      ]
    },
    {
      "cell_type": "markdown",
      "metadata": {
        "id": "5uVK-KEH7hU8"
      },
      "source": [
        "There are hundreds of other useful functions and classes that have been developed for Python which are not automatically loaded, but instead placed into **specialized libraries** called *modules* that can be **individually loaded as needed**.\n",
        "\n",
        "If you installed Python using Anaconda, you will already have many modules installed."
      ]
    },
    {
      "cell_type": "markdown",
      "metadata": {
        "id": "PlM4aOpA8Nna"
      },
      "source": [
        "### Math Module"
      ]
    },
    {
      "cell_type": "markdown",
      "metadata": {
        "id": "xtjSndi18d3K"
      },
      "source": [
        "The math module provides functions to do **mathematical operations** beyond addition, multiplication, exponentiation, etc. For example, suppose we want to take the cosine of a number. This is **not built-in to Python**, but a function called `cos` in the **math library** does this."
      ]
    },
    {
      "cell_type": "markdown",
      "metadata": {
        "id": "owvfAe6583wu"
      },
      "source": [
        "To use the `cos` function, we must import it from the math module. There are three possible ways to do this. Whichever method you use should be done **at the beginning of your code** (this is not necessarily required, but it is the most common placement -- at the very least, you have to do this *before* you use the function):\n",
        "\n",
        "1) Import the entire module"
      ]
    },
    {
      "cell_type": "code",
      "metadata": {
        "id": "Nf6Yf0qs7ZHU"
      },
      "source": [
        "import math"
      ],
      "execution_count": null,
      "outputs": []
    },
    {
      "cell_type": "markdown",
      "metadata": {
        "id": "32M6NXxk9MZa"
      },
      "source": [
        "At this point, we still cannot use the `cos` command directly. We must tell Python exactly **where the function is coming from** using a *qualified name*."
      ]
    },
    {
      "cell_type": "code",
      "metadata": {
        "id": "-zPdy7gR9Jp0"
      },
      "source": [
        "cos(2)"
      ],
      "execution_count": null,
      "outputs": []
    },
    {
      "cell_type": "code",
      "metadata": {
        "id": "cS3lVMQ49U1i"
      },
      "source": [
        "math.cos(2)"
      ],
      "execution_count": null,
      "outputs": []
    },
    {
      "cell_type": "markdown",
      "metadata": {
        "id": "vALciBFK9b1K"
      },
      "source": [
        "2) Specifically importing `cos` from the math library"
      ]
    },
    {
      "cell_type": "code",
      "metadata": {
        "id": "dtyXBvkK9WXd"
      },
      "source": [
        "from math import cos\n",
        "cos(2)"
      ],
      "execution_count": null,
      "outputs": []
    },
    {
      "cell_type": "markdown",
      "metadata": {
        "id": "9qUs0wdK9hlB"
      },
      "source": [
        "3) Import everything in the module by using the \\* wildcard"
      ]
    },
    {
      "cell_type": "code",
      "metadata": {
        "id": "sFp0W54x9fm7"
      },
      "source": [
        "from math import *\n",
        "cos(2)"
      ],
      "execution_count": null,
      "outputs": []
    },
    {
      "cell_type": "code",
      "metadata": {
        "id": "5JV07Wjy9p1I"
      },
      "source": [
        "sqrt(2)"
      ],
      "execution_count": null,
      "outputs": []
    },
    {
      "cell_type": "markdown",
      "metadata": {
        "id": "crowh8TA9kFu"
      },
      "source": [
        "This last option can be attractive, but is generally **discouraged** because different modules may use the same name for different functions. This method of importing imports not only the `cos` function, but all functions from the math library (e.g. `sqrt` and `tan`)."
      ]
    },
    {
      "cell_type": "markdown",
      "metadata": {
        "id": "XCFSh2ct-wTm"
      },
      "source": [
        "### Expressions"
      ]
    },
    {
      "cell_type": "markdown",
      "metadata": {
        "id": "wHbpu8u8-xqX"
      },
      "source": [
        "It is quite common to **perform several operations** as part of **a single expression**."
      ]
    },
    {
      "cell_type": "code",
      "metadata": {
        "id": "BkFcoBy29z-N"
      },
      "source": [
        "a = 18 + 5.5 + 1\n",
        "a"
      ],
      "execution_count": null,
      "outputs": []
    },
    {
      "cell_type": "markdown",
      "metadata": {
        "id": "LmdWAMX--8j-"
      },
      "source": [
        "Behind the scenes, Python adds 18 and 5.5 to get 23.5, it then adds 1 to get 24.5. In this case, the order of the two operations does not matter. In more complicated expressions, the **order can be important**."
      ]
    },
    {
      "cell_type": "code",
      "metadata": {
        "id": "oykl_ILh-7Il"
      },
      "source": [
        "a = 18*9**2/4\n",
        "a"
      ],
      "execution_count": null,
      "outputs": []
    },
    {
      "cell_type": "code",
      "metadata": {
        "id": "999YyH9L_GwU"
      },
      "source": [
        "a = 9/4**2*18\n",
        "a"
      ],
      "execution_count": null,
      "outputs": []
    },
    {
      "cell_type": "markdown",
      "metadata": {
        "id": "m88aR5St_M_3"
      },
      "source": [
        "#### Precedence"
      ]
    },
    {
      "cell_type": "markdown",
      "metadata": {
        "id": "ox2c80eV_ObE"
      },
      "source": [
        "When there are two or more operations as part of an expression, we must figure out some way to **determine which operation is performed first**. We say that an operation performed first is given *precedence* over the others."
      ]
    },
    {
      "cell_type": "markdown",
      "metadata": {
        "id": "XY8p_i5G_X3d"
      },
      "source": [
        "Mathematical expressions in Python follow **standard algebraic conventions**:\n",
        "\n",
        "1. Brackets\n",
        "2. Exponents\n",
        "3. Division/Multiplication\n",
        "4. Addition/Subtraction\n",
        "\n",
        "In the expression `1 + 2 * 3`, the multiplication is done first, followed by the addition. "
      ]
    },
    {
      "cell_type": "markdown",
      "metadata": {
        "id": "MfHIg80E_jTf"
      },
      "source": [
        "In Python, as in algebra, we can **use brackets to prioritize an operation**."
      ]
    },
    {
      "cell_type": "code",
      "metadata": {
        "id": "eKJWk6QZ_IPS"
      },
      "source": [
        "1+2*3"
      ],
      "execution_count": null,
      "outputs": []
    },
    {
      "cell_type": "code",
      "metadata": {
        "id": "t2LfeJTy_paA"
      },
      "source": [
        "(1+2)*3"
      ],
      "execution_count": null,
      "outputs": []
    },
    {
      "cell_type": "markdown",
      "metadata": {
        "id": "R5Wys-gU_tNj"
      },
      "source": [
        "Most operations with **equal precedence** are **evaluated left to right**, again to mimic standard algebraic rules.  \n",
        "\n",
        "One **exception** is **exponents** which are **evaluated right to left**, which again is how we typically think of exponents.\n",
        "\n",
        "$4^{3^2} = 4^9$"
      ]
    },
    {
      "cell_type": "code",
      "metadata": {
        "id": "dsWkj9nQ_rHs"
      },
      "source": [
        "4**3**2"
      ],
      "execution_count": null,
      "outputs": []
    },
    {
      "cell_type": "code",
      "metadata": {
        "id": "wM38a63j_2Qr"
      },
      "source": [
        "4**(3**2)"
      ],
      "execution_count": null,
      "outputs": []
    },
    {
      "cell_type": "code",
      "metadata": {
        "id": "mtrSlNat_3dm"
      },
      "source": [
        "(4**3)**2"
      ],
      "execution_count": null,
      "outputs": []
    },
    {
      "cell_type": "markdown",
      "metadata": {
        "id": "iWO0e7Tk_63i"
      },
      "source": [
        "Precedence rules are **enforced for all data types**. "
      ]
    },
    {
      "cell_type": "code",
      "metadata": {
        "id": "pNuChpxi_43h"
      },
      "source": [
        "\"a\"*3+\"b\""
      ],
      "execution_count": null,
      "outputs": []
    },
    {
      "cell_type": "markdown",
      "metadata": {
        "id": "rtkwcJBJAFGS"
      },
      "source": [
        "### Calling Functions Within Expressions"
      ]
    },
    {
      "cell_type": "markdown",
      "metadata": {
        "id": "WTRzH776AJ5P"
      },
      "source": [
        "**Function calls** have **high precedence**. When multiple function calls are used in the same expression, they are typically **evaluated from left to right**."
      ]
    },
    {
      "cell_type": "code",
      "metadata": {
        "id": "FMobufQEABfs"
      },
      "source": [
        "person = \"George Washington\"\n",
        "person.split()[1]"
      ],
      "execution_count": null,
      "outputs": []
    },
    {
      "cell_type": "markdown",
      "metadata": {
        "id": "ToaD_64BAUgB"
      },
      "source": [
        "More complicated expressions are evaluated by **first resolving commands inside parentheses**."
      ]
    },
    {
      "cell_type": "code",
      "metadata": {
        "id": "Z7sDzLPoASFa"
      },
      "source": [
        "groceries = [\"cereal\", \"milk\", \"apple\"]\n",
        "groceries.insert(groceries.index(\"milk\") + 1, \"eggs\")\n",
        "groceries"
      ],
      "execution_count": null,
      "outputs": []
    },
    {
      "cell_type": "markdown",
      "metadata": {
        "id": "sqjD1ESlAaOE"
      },
      "source": [
        "Here, we first evaluated `groceries.index(\"milk\")`, then added 1 to it to find the index where we wish to insert \"eggs\"."
      ]
    },
    {
      "cell_type": "markdown",
      "metadata": {
        "id": "ypLpfk0EAkib"
      },
      "source": [
        "# NumPy"
      ]
    },
    {
      "cell_type": "markdown",
      "metadata": {
        "id": "vKaZnatJAlrz"
      },
      "source": [
        "The `NumPy` module (http://www.numpy.org/) is an almost indispensible module for scientific computing. It provides objects such as arrays and matrices as well as functions spanning linear algebra, fourier transforms, and statistics among numerous other things. \n",
        "\n",
        "To start, we must import NumPy. To reduce the amount of typing for ourselves later, we will rename the module `np` when we import it. Using `np` as shorthand for NumPy is a standard convention in Python programming."
      ]
    },
    {
      "cell_type": "code",
      "metadata": {
        "id": "8IhzlneVAXm6"
      },
      "source": [
        "import numpy as np"
      ],
      "execution_count": null,
      "outputs": []
    },
    {
      "cell_type": "markdown",
      "metadata": {
        "id": "Of465aiTB9do"
      },
      "source": [
        "### Arrays"
      ]
    },
    {
      "cell_type": "markdown",
      "metadata": {
        "id": "Lz5Q8GwQB-ow"
      },
      "source": [
        "One important class that NumPy provides is the `array` class. An **array** is **similar to a `list`** in that it is a **collection of objects**.\n",
        "\n",
        "NumPy arrays can be **initialized** in a similar way to lists. Below, we pass a list to the np.array() function to create our array object."
      ]
    },
    {
      "cell_type": "code",
      "metadata": {
        "id": "m36f6-wTB4qu"
      },
      "source": [
        "a = np.array([1,2.0,3.2])\n",
        "print(a)\n",
        "type(a)"
      ],
      "execution_count": null,
      "outputs": []
    },
    {
      "cell_type": "markdown",
      "metadata": {
        "id": "H2f5Ix6XDAJ5"
      },
      "source": [
        "You'll notice the type of `a` is `numpy.ndarray`. NumPy arrays can be **multidimensional**. You can think of a 1D array as a kind of **list** (but not a Python list) and a 2D array as a kind of **grid** or **table** of values. Higher dimensional arrays are certainly possible, you can think of a 3D array as a **stack of grids**. \n",
        "\n",
        "![np array](https://github.com/lukasbystricky/ISC-3313/blob/master/lectures/chapter2/images/np_array.jpg?raw=true)\n",
        "(Image credit: Dalesha Hemrajani)\n"
      ]
    },
    {
      "cell_type": "markdown",
      "metadata": {
        "id": "oc6vvsCMDJjZ"
      },
      "source": [
        "The attribute `ndim` stores the **number of dimensions** in the array."
      ]
    },
    {
      "cell_type": "code",
      "metadata": {
        "id": "qIwy0w4wC8U3"
      },
      "source": [
        "a.ndim"
      ],
      "execution_count": null,
      "outputs": []
    },
    {
      "cell_type": "markdown",
      "metadata": {
        "id": "lIuHmo6uDPaG"
      },
      "source": [
        "Multidimensional arrays can be initialized as an **array of arrays**."
      ]
    },
    {
      "cell_type": "code",
      "metadata": {
        "id": "lt_lC10lDNIa"
      },
      "source": [
        "b = np.array([[1, 2, 3.0], [1.2,2.2,2]])\n",
        "print(b)"
      ],
      "execution_count": null,
      "outputs": []
    },
    {
      "cell_type": "code",
      "metadata": {
        "id": "nnEkeIOgDTdA"
      },
      "source": [
        "print(b.ndim)"
      ],
      "execution_count": null,
      "outputs": []
    },
    {
      "cell_type": "markdown",
      "metadata": {
        "id": "hVbdUcqLDxtP"
      },
      "source": [
        "The `shape` property tells us **how many rows and columns** are in our array, while the `size` property tells us the **total number of elements** in the array."
      ]
    },
    {
      "cell_type": "code",
      "metadata": {
        "id": "O6ENVXaODUza"
      },
      "source": [
        "print(b.shape)\n",
        "print(b.size)"
      ],
      "execution_count": null,
      "outputs": []
    },
    {
      "cell_type": "markdown",
      "metadata": {
        "id": "Cm3Ia2buEjMB"
      },
      "source": [
        "`b.shape` is the tuple (2,3), meaning that `b` has 2 rows and 3 columns."
      ]
    },
    {
      "cell_type": "markdown",
      "metadata": {
        "id": "-tFKGQ8cEpz3"
      },
      "source": [
        "We could **initialize an array** as an **array of arrays** of **different sizes**. "
      ]
    },
    {
      "cell_type": "code",
      "metadata": {
        "id": "uPCqSWmmD3LC"
      },
      "source": [
        "c = np.array([[1,2],[3,4,5,6]])"
      ],
      "execution_count": null,
      "outputs": []
    },
    {
      "cell_type": "markdown",
      "metadata": {
        "id": "_8QDNvM5EyrV"
      },
      "source": [
        "This is perfectly valid. What is the dimension, size, and shape of `c`?"
      ]
    },
    {
      "cell_type": "code",
      "metadata": {
        "id": "_tPx_TdWEvKv"
      },
      "source": [
        "print(c.ndim)\n",
        "print(c.shape)\n",
        "print(c.size)\n",
        "print(c)"
      ],
      "execution_count": null,
      "outputs": []
    },
    {
      "cell_type": "markdown",
      "metadata": {
        "id": "653pushRKyQo"
      },
      "source": [
        "The way we are initializing `c`, it looks like we are trying to make a multidimensional array with the first row being [1,2] and the second row being [3,4,5,6]. Since the lengths of these two rows are unequal, we cannot make a grid out of them. \n",
        "\n",
        "Python can recognize this and instead of making an array of dimension 2, it creates an **array of dimension 1**. Instead of having 6 elements, it only has 2. **Each of the elements is a Python list**."
      ]
    },
    {
      "cell_type": "markdown",
      "metadata": {
        "id": "i5C5aFg8K_-2"
      },
      "source": [
        "#### Indexing"
      ]
    },
    {
      "cell_type": "markdown",
      "metadata": {
        "id": "B0qrYlm-M003"
      },
      "source": [
        "Like lists and strings, arrays are **0 indexed**, meaning the **first entry in an array is at index 0**. \n",
        "\n",
        "Two-dimensional arrays have rows and columns. The entry at index [0,0] (first row, first column) is located at the upper left hand corner of the array. \n",
        "\n",
        "![row map](https://github.com/lukasbystricky/ISC-3313/blob/master/lectures/chapter2/images/row_column.gif?raw=true)"
      ]
    },
    {
      "cell_type": "markdown",
      "metadata": {
        "id": "3pr7kFZXM88n"
      },
      "source": [
        "Like lists and strings, arrays support **indexing** and **slicing**."
      ]
    },
    {
      "cell_type": "code",
      "metadata": {
        "id": "awVpOjAZKvF-"
      },
      "source": [
        "a = np.array([1,2.0,3.2])\n",
        "a[0] # first entry in a "
      ],
      "execution_count": null,
      "outputs": []
    },
    {
      "cell_type": "code",
      "metadata": {
        "id": "C3p1jarnNEWh"
      },
      "source": [
        "b = np.array([[1, 2, 3.0], [1.2,2.2,2]])\n",
        "b[1] # second entry in b, each entry is a row"
      ],
      "execution_count": null,
      "outputs": []
    },
    {
      "cell_type": "markdown",
      "metadata": {
        "id": "7EVEsGCDNH3e"
      },
      "source": [
        "When we have a multidimensional array (or an array of arrays of equal or unequal length) we can **access the element at row i and column j** using the syntax:"
      ]
    },
    {
      "cell_type": "code",
      "metadata": {
        "id": "_lzY1jWpNF0N"
      },
      "source": [
        "b[1][0] # first element in the second row of b"
      ],
      "execution_count": null,
      "outputs": []
    },
    {
      "cell_type": "markdown",
      "metadata": {
        "id": "TM-ydCoFOBN4"
      },
      "source": [
        "Or, the equivalent syntax:"
      ]
    },
    {
      "cell_type": "code",
      "metadata": {
        "id": "VDTH5IstNMmA"
      },
      "source": [
        "b[1,0]"
      ],
      "execution_count": null,
      "outputs": []
    },
    {
      "cell_type": "markdown",
      "metadata": {
        "id": "zCo_BiQeOJAm"
      },
      "source": [
        "Note that **arrays are mutable**. For example, we can **modify** an element of `b`:"
      ]
    },
    {
      "cell_type": "code",
      "metadata": {
        "id": "ec4qSTwcODxR"
      },
      "source": [
        "b[0][0] = 8\n",
        "print(b)"
      ],
      "execution_count": null,
      "outputs": []
    },
    {
      "cell_type": "markdown",
      "metadata": {
        "id": "u2oDcFVZOPlf"
      },
      "source": [
        "**Slicing** is done in exactly the same way:"
      ]
    },
    {
      "cell_type": "code",
      "metadata": {
        "id": "7JLsPi1yONdP"
      },
      "source": [
        "a = np.array([[1,2,3],[4,5,6],[7,8,9],[10,11,12]])\n",
        "print(a)"
      ],
      "execution_count": null,
      "outputs": []
    },
    {
      "cell_type": "code",
      "metadata": {
        "id": "xctL6yBgOS9U"
      },
      "source": [
        "print(a[0,0:2]) # first 2 entries of row 0"
      ],
      "execution_count": null,
      "outputs": []
    },
    {
      "cell_type": "code",
      "metadata": {
        "id": "BoJ1PqVIOULv"
      },
      "source": [
        "print(a[0:2,1:3]) # first 2 rows and columns 2 and 3"
      ],
      "execution_count": null,
      "outputs": []
    },
    {
      "cell_type": "markdown",
      "metadata": {
        "id": "FLshC1YIOXSo"
      },
      "source": [
        "The **colon operator** by itself means the **entire row or column**:"
      ]
    },
    {
      "cell_type": "code",
      "metadata": {
        "id": "m3FcXyc-OVbb"
      },
      "source": [
        "print(a[:,1]) # entire second column"
      ],
      "execution_count": null,
      "outputs": []
    },
    {
      "cell_type": "markdown",
      "metadata": {
        "id": "2HljwrxlOg_e"
      },
      "source": [
        "#### Operations"
      ]
    },
    {
      "cell_type": "markdown",
      "metadata": {
        "id": "-O_DUfLYOiqJ"
      },
      "source": [
        "Arrays support several familiar operators. For example, you can **multiply** or **divide** them by a number:"
      ]
    },
    {
      "cell_type": "code",
      "metadata": {
        "id": "1kCok2Lg_uZU"
      },
      "source": [
        "a = np.array([1,2])\n",
        "print(2*a)\n",
        "print(a/2)"
      ],
      "execution_count": null,
      "outputs": []
    },
    {
      "cell_type": "markdown",
      "metadata": {
        "id": "dwROBwomO3d6"
      },
      "source": [
        "You can also **add** a number to them. \n",
        "\n",
        "It should be made clear, when you add/subtract/multiply/divide/exponentiate/etc. an array by a **single number** (known as a **scalar**) the operation is applied to **every** element of the array."
      ]
    },
    {
      "cell_type": "code",
      "metadata": {
        "id": "yq1UrFPzOb6Z"
      },
      "source": [
        "a = np.array([1,2])\n",
        "print(a + 1)"
      ],
      "execution_count": null,
      "outputs": []
    },
    {
      "cell_type": "markdown",
      "metadata": {
        "id": "IdS2Hm3_PH-Z"
      },
      "source": [
        "You can even **add** two **arrays together**, so long as they are the **same size**."
      ]
    },
    {
      "cell_type": "code",
      "metadata": {
        "id": "xvt1cwRwO95s"
      },
      "source": [
        "b = np.array([3,4])\n",
        "print(a + b)"
      ],
      "execution_count": null,
      "outputs": []
    },
    {
      "cell_type": "markdown",
      "metadata": {
        "id": "nfiLEMMIPNMy"
      },
      "source": [
        "Suppose we want to **multiply two NumPy arrays**, $a = [a_1,a_2,a_3]$ and $b = [b_1,b_2,b_3]$. How does NumPy do it?"
      ]
    },
    {
      "cell_type": "code",
      "metadata": {
        "id": "Sjf8UnpiPKOt"
      },
      "source": [
        "a = np.array([1,2,3])\n",
        "b = np.array([3,4,5])\n",
        "\n",
        "print(a*b)"
      ],
      "execution_count": null,
      "outputs": []
    },
    {
      "cell_type": "markdown",
      "metadata": {
        "id": "BjqdgwgyPT6v"
      },
      "source": [
        "NumPy does what is called *element-wise multiplication*. In other words, `a*b` is equal to $[a_1 b_1, a_2 b_2, a_3 b_3]$."
      ]
    },
    {
      "cell_type": "markdown",
      "metadata": {
        "id": "c3KxEo2mPX6B"
      },
      "source": [
        "Now suppose $A$ is a 2D array and $x$ is a 1D array. What is `A*x` in Python? "
      ]
    },
    {
      "cell_type": "code",
      "metadata": {
        "id": "qQga004cPRhi"
      },
      "source": [
        "x = np.array([1,2])\n",
        "A = np.array([[3,2], [1,2]])\n",
        "\n",
        "print(A*x)"
      ],
      "execution_count": null,
      "outputs": []
    },
    {
      "cell_type": "markdown",
      "metadata": {
        "id": "AvSUEOuBPcM0"
      },
      "source": [
        "It's still an **element-wise multiplication**. $A\\mathbf{x}$ is defined to be:\n",
        "\n",
        "$$ \\begin{bmatrix} A_{11}x_1 & A_{12}x_2\\\\ A_{21}x_1 & A_{22} x_2\\end{bmatrix}$$\n",
        "\n",
        "We multiply each column of `A` by the **corresponding index** in `x`."
      ]
    },
    {
      "cell_type": "markdown",
      "metadata": {
        "id": "SwxRQ-trPlgn"
      },
      "source": [
        "Likewise, if we call $A^2$, we get:"
      ]
    },
    {
      "cell_type": "code",
      "metadata": {
        "id": "5hwpBNsiPaSI"
      },
      "source": [
        "print(A**2)"
      ],
      "execution_count": null,
      "outputs": []
    },
    {
      "cell_type": "markdown",
      "metadata": {
        "id": "LrpQBCRvPqyt"
      },
      "source": [
        "which is \n",
        "$$ \\begin{bmatrix} A_{11}^2 & A_{12}^2\\\\A_{21}^2 & A_{22}^2\\end{bmatrix}.$$\n",
        "We still get element-wise multiplication."
      ]
    },
    {
      "cell_type": "markdown",
      "metadata": {
        "id": "_gx2StVpQwmb"
      },
      "source": [
        "##### Arange"
      ]
    },
    {
      "cell_type": "markdown",
      "metadata": {
        "id": "57DzpbT1QyYP"
      },
      "source": [
        "NumPy provides many useful operations to **generate and manipulate arrays**. \n",
        "\n",
        "For example, suppose we want to create an array ranging from 1 to 20. NumPy provides a function `np.arange` that does just that."
      ]
    },
    {
      "cell_type": "code",
      "metadata": {
        "id": "OzIr5b3GZR2V"
      },
      "source": [
        "a = np.arange(1,21)\n",
        "print(a)"
      ],
      "execution_count": null,
      "outputs": []
    },
    {
      "cell_type": "markdown",
      "metadata": {
        "id": "JDq8PNT3ZVCl"
      },
      "source": [
        "The arange function works in a similar way to the `range` class we saw earlier. It can take in up to three arguments: a **starting value**, an **end value**, and a **step size**. It **returns a 1D array** that starts at the starting value and adds the step size until it reaches or exceeds the end value.\n",
        "\n",
        "Unlike the `range` class, the starting, ending, and step values can be **floats**.\n"
      ]
    },
    {
      "cell_type": "code",
      "metadata": {
        "id": "4TgLHYfaZRzH"
      },
      "source": [
        "a = np.arange(1.1,2.0,0.1)\n",
        "print(a)"
      ],
      "execution_count": null,
      "outputs": []
    },
    {
      "cell_type": "code",
      "metadata": {
        "id": "xoH07wFHZRvF"
      },
      "source": [
        "a = np.arange(1,2.2,0.1)\n",
        "print(a)"
      ],
      "execution_count": null,
      "outputs": []
    },
    {
      "cell_type": "markdown",
      "metadata": {
        "id": "hXvMONw6Zuob"
      },
      "source": [
        "You'll notice that when we use floating point numbers, we **may or may not have the ending value as part of our array**. This is due to **floating point error**."
      ]
    },
    {
      "cell_type": "markdown",
      "metadata": {
        "id": "5v7fhnNEQ13H"
      },
      "source": [
        "##### Linspace"
      ]
    },
    {
      "cell_type": "markdown",
      "metadata": {
        "id": "OFOkSBF4Q3d6"
      },
      "source": [
        "The ambiguity in `arange` can cause problems. Fortunately, NumPy provides a separate function that **creates an array of a specified length**. The `np.linspace` function takes in a start value, end value, and **number of points**. Unless you are dealing with integers, `linspace` is preferred over `arange` to generate equally spaced arrays."
      ]
    },
    {
      "cell_type": "code",
      "metadata": {
        "id": "n-68MMLeZ5eH"
      },
      "source": [
        "a = np.linspace(0,2.2,5)\n",
        "print(a)"
      ],
      "execution_count": null,
      "outputs": []
    },
    {
      "cell_type": "markdown",
      "metadata": {
        "id": "PfciCvioaJxq"
      },
      "source": [
        "The last parameter in `linspace` is the number of desired points in the array. If the **start value** is **greater than** the **end value**, then `linspace` automatically takes **negative step sizes**."
      ]
    },
    {
      "cell_type": "code",
      "metadata": {
        "id": "VW5ART_PZ5ZO"
      },
      "source": [
        "a = np.linspace(5,1,5)\n",
        "print(a)"
      ],
      "execution_count": null,
      "outputs": []
    },
    {
      "cell_type": "markdown",
      "metadata": {
        "id": "GkAEajrkQ39B"
      },
      "source": [
        "##### Reshape"
      ]
    },
    {
      "cell_type": "markdown",
      "metadata": {
        "id": "rL7ZfE-yQ5S0"
      },
      "source": [
        "Suppose we wanted to create the array:\n",
        "$$ A = \\begin{bmatrix} 1 & 2 & 3\\\\ 4 & 5 & 6\\\\ 7 &8&9\\\\10 & 11& 12\\end{bmatrix}$$\n",
        "\n",
        "What if we use `arange` or `linspace` to create a 1D array with the same data, and then **reshape** into an array with 4 rows and 3 columns? \n",
        "\n",
        "NumPy provides the function `np.reshape` that does just that."
      ]
    },
    {
      "cell_type": "code",
      "metadata": {
        "id": "ftyeV_I7aW4h"
      },
      "source": [
        "a = np.arange(1, 13)\n",
        "A = np.reshape(a, (4, 3))\n",
        "\n",
        "print(A)"
      ],
      "execution_count": null,
      "outputs": []
    },
    {
      "cell_type": "markdown",
      "metadata": {
        "id": "hh77IHrMasRj"
      },
      "source": [
        "Note that the second argument to `np.reshape` is a tuple (r,c) where r is the number of rows and c is the number of columns we want the new array to have. "
      ]
    },
    {
      "cell_type": "markdown",
      "metadata": {
        "id": "FO57xxy-Q9Tj"
      },
      "source": [
        "##### Zeros"
      ]
    },
    {
      "cell_type": "markdown",
      "metadata": {
        "id": "ZsWK5eQnQ-5N"
      },
      "source": [
        "It can be useful to create an **array of zeros** to fill in with non-zero values later:\n",
        "\n",
        "$$ A = \\begin{bmatrix} 0 & 0 & 0\\\\ 0 & 0 & 0\\\\ 0 &0&0\\\\0 & 0& 0\\end{bmatrix}$$\n",
        "\n",
        "Again, NumPy saves the day with `np.zeros((n,m))`, where `n` is the number of rows and `m` is the number of columns of zeros that you want. We can even make 1D arrays of zeros with this function by doing `np.zeros(n)`."
      ]
    },
    {
      "cell_type": "code",
      "metadata": {
        "id": "e1ERTe6GbLmL"
      },
      "source": [
        "a = np.zeros(5)\n",
        "A = np.zeros((4, 3))\n",
        "print(a,'\\n')\n",
        "print(A)"
      ],
      "execution_count": null,
      "outputs": []
    },
    {
      "cell_type": "markdown",
      "metadata": {
        "id": "KRXRd69GRA1s"
      },
      "source": [
        "##### Sum and Mean/Average"
      ]
    },
    {
      "cell_type": "markdown",
      "metadata": {
        "id": "WXDkdvbaRDPI"
      },
      "source": [
        "We can get the **sum** and **mean**/average of an array using `np.sum(array)` and `np.mean(array)`, respectively. If the arrays are 2D or greater, you can **specify the `axis` over which the sum or mean is taken**. For example with a 2D array, `np.sum(A,axis=0)` would return a sum across the rows, `np.mean(A,axis=1)` would return the mean across the columns.\n",
        "\n",
        "![axis](https://i.stack.imgur.com/Z29Nn.jpg)"
      ]
    },
    {
      "cell_type": "code",
      "metadata": {
        "id": "Zqyq4kD1biPc"
      },
      "source": [
        "a = np.arange(1, 13)\n",
        "B = np.reshape(a, (4, 3))\n",
        "print(a)\n",
        "\n",
        "print(\"Sum  of a:\", np.sum(a))\n",
        "print(\"Mean of a:\", np.mean(a))\n",
        "\n",
        "print(\"\\n\", B)\n",
        "print(\"Sum  of B:\", np.sum(B))\n",
        "print(\"Mean of B:\", np.mean(B))\n",
        "print(\"\\nSum  across B rows:\", np.sum(B,axis=0))\n",
        "print(\"Mean across B rows:\", np.mean(B,axis=0))\n",
        "print(\"\\nSum  across B columns:\", np.sum(B,axis=1))\n",
        "print(\"Mean across B columns:\", np.mean(B,axis=1))"
      ],
      "execution_count": null,
      "outputs": []
    },
    {
      "cell_type": "markdown",
      "metadata": {
        "id": "PHlfFMolRExI"
      },
      "source": [
        "##### Max and Min"
      ]
    },
    {
      "cell_type": "markdown",
      "metadata": {
        "id": "2vT5C3aTRGvV"
      },
      "source": [
        "Finding the **largest** and the **smallest values** in an array is also very easy with NumPy! One simply needs to use `np.max(Array)` to find the largest value and `np.min(Array)` to find the smallest value.\n",
        "\n",
        "For 2D or greater arrays, you can get the maximum/minimum values for a given **axis** of the array, e.g. `np.max(B, axis=0)` would get the maximum values across the rows of `B`, `axis=1` would give the maximum values across the columns."
      ]
    },
    {
      "cell_type": "code",
      "metadata": {
        "id": "VxctXDYRbnDM"
      },
      "source": [
        "a = np.arange(1, 13)\n",
        "B = np.reshape(a, (4, 3))\n",
        "print(a)\n",
        "print(\"Max of a:\", np.max(a))\n",
        "print(\"Min of a:\", np.min(a), \"\\n\")\n",
        "print(B)\n",
        "print(\"Max of B:\", np.max(B))\n",
        "print(\"Max across B rows:\", np.max(B,axis=0))\n",
        "print(\"Min across B columns:\", np.min(B,axis=1))"
      ],
      "execution_count": null,
      "outputs": []
    },
    {
      "cell_type": "markdown",
      "metadata": {
        "id": "ksPxyKvARIMm"
      },
      "source": [
        "##### Where"
      ]
    },
    {
      "cell_type": "markdown",
      "metadata": {
        "id": "AdhmEohjRJiy"
      },
      "source": [
        "Suppose we want to take all values of an array that are larger than 2.5 and make them zero. This is doable using `for` loops (we'll learn about these later) or simply doing it by hand.\n",
        "\n",
        "However, `np.where()` can make this very easy. For our example, you would use `np.where(B < 2.5, B, 0.0)`. This translates to \"for where in B it is less than 2.5, use the corresponding values in B, otherwise set to 0.0\""
      ]
    },
    {
      "cell_type": "code",
      "metadata": {
        "id": "KzRUa0XIbnvP"
      },
      "source": [
        "B = np.reshape(np.arange(1, 13), (4, 3))\n",
        "print(B,\"\\n\")\n",
        "print(np.where(B < 2.5, B, 0.0), \"\\n\")\n",
        "print(np.where(B > 2.5, 0.0, B), \"\\n\")"
      ],
      "execution_count": null,
      "outputs": []
    },
    {
      "cell_type": "markdown",
      "metadata": {
        "id": "vUZJU1w-RJ_6"
      },
      "source": [
        "##### Stack"
      ]
    },
    {
      "cell_type": "markdown",
      "metadata": {
        "id": "mETiP4LxRLRx"
      },
      "source": [
        "The `stack` method in NumPy allows us to **stack together multiple arrays** in a **larger**, **higher dimensional array**. Suppose we had three 1D arrays of length 3 each and we wanted to stack them on top of each other to form a single, (3 by 3) 2D array, `np.stack` would provide us the means to do this."
      ]
    },
    {
      "cell_type": "code",
      "metadata": {
        "id": "DxYyKTagdjgd"
      },
      "source": [
        "a = np.array([1,1,1])\n",
        "b = np.array([2,2,2])\n",
        "c = np.array([3,3,3])\n",
        "print(\"a = \", a)\n",
        "print(\"b = \", b)\n",
        "print(\"c = \", c)\n",
        "D = np.stack((a,b,c),axis=0)\n",
        "print(\"\\nD = \\n\",D)"
      ],
      "execution_count": null,
      "outputs": []
    },
    {
      "cell_type": "markdown",
      "metadata": {
        "id": "CUHTnO5KRT_c"
      },
      "source": [
        "#### Mathematical Operations"
      ]
    },
    {
      "cell_type": "markdown",
      "metadata": {
        "id": "gf3MOYKRRWhz"
      },
      "source": [
        "The `math` module only works on numbers -- if we pass in a NumPy array, we will get an error.\n",
        "\n",
        "NumPy provides its own implementations of many mathematical functions that take in arrays and perform operations on each element."
      ]
    },
    {
      "cell_type": "code",
      "metadata": {
        "id": "n0RwZOJVdtVz"
      },
      "source": [
        "a = np.array([0,1])\n",
        "print(np.sin(a))"
      ],
      "execution_count": null,
      "outputs": []
    },
    {
      "cell_type": "markdown",
      "metadata": {
        "id": "_qpSjaCfd_jd"
      },
      "source": [
        "The fact that the NumPy and `math` modules provide functions with the same names demonstrates why it is a **bad idea to import everything at once from a module**."
      ]
    },
    {
      "cell_type": "markdown",
      "metadata": {
        "id": "NZGLNZtdRZyv"
      },
      "source": [
        "#### Arrays vs. Lists"
      ]
    },
    {
      "cell_type": "markdown",
      "metadata": {
        "id": "aJstM8GdRblb"
      },
      "source": [
        "Arrays and lists are **similar** in many ways. Both represent a **collection of objects**. When should you use one over the other? \n",
        "\n",
        "Arrays are **mutable**, but they do not support methods such as `pop` or `append`. Once initialized, the **size of an array cannot be easily changed**. If your application needs to **change the size** of a collection, **lists** are the preferred option.\n",
        "\n",
        "Another difference between arrays and lists is **how operators are defined**. We saw earlier how we can add two arrays together or multiply them by a number. This behaviour is different from how it is handled with lists:"
      ]
    },
    {
      "cell_type": "code",
      "metadata": {
        "id": "1MVtHWXtPoNS"
      },
      "source": [
        "a_array = np.array([1,2])\n",
        "b_array = np.array([3,4])\n",
        "\n",
        "a_list = [1,2]\n",
        "b_list = [3,4]\n",
        "\n",
        "print(\"a_array + b_array:\", a_array + b_array)\n",
        "print(\"a_list + b_list:  \", a_list + b_list)\n",
        "\n",
        "print(\"2*a_array:\", 2*a_array)\n",
        "print(\"2*a_list: \", 2*a_list)"
      ],
      "execution_count": null,
      "outputs": []
    },
    {
      "cell_type": "markdown",
      "metadata": {
        "id": "O4pYSzU5ehY9"
      },
      "source": [
        "It is possible to **convert** from a list to an array or vice versa. NumPy arrays provide the method `tolist()` which converts an array to a list."
      ]
    },
    {
      "cell_type": "code",
      "metadata": {
        "id": "3CNW_YHeefJS"
      },
      "source": [
        "c = a.tolist()\n",
        "type(c)"
      ],
      "execution_count": null,
      "outputs": []
    },
    {
      "cell_type": "markdown",
      "metadata": {
        "id": "PD1HPENeen_1"
      },
      "source": [
        "NumPy also provides the function `asarray`, which takes a list and returns an array."
      ]
    },
    {
      "cell_type": "code",
      "metadata": {
        "id": "tc7_C4u8emLN"
      },
      "source": [
        "d = np.asarray(c)\n",
        "type(d)"
      ],
      "execution_count": null,
      "outputs": []
    },
    {
      "cell_type": "markdown",
      "metadata": {
        "id": "C7PSmPyHfYJM"
      },
      "source": [
        "# For Loops"
      ]
    },
    {
      "cell_type": "markdown",
      "metadata": {
        "id": "IyZu7NI7fZXf"
      },
      "source": [
        "We often need to **repeat a series of steps** for **each item of a sequence**. Such a repetition is called an *iteration* and can be expressed using a **control structure** known as a **for loop**. \n",
        "\n",
        "A for loop always begins with the following syntax:\n",
        "\n",
        "    for identifier in sequence:\n",
        "\n",
        "This is **followed by a block of code** we call the *body* of the loop. "
      ]
    },
    {
      "cell_type": "markdown",
      "metadata": {
        "id": "nxrSuWFrf-jX"
      },
      "source": [
        "For example, given a list of names, we can print each name on its own line using a for loop:"
      ]
    },
    {
      "cell_type": "code",
      "metadata": {
        "id": "tbw-zhbcf--H"
      },
      "source": [
        "guests = [\"Kirk\", \"Spock\", \"Bones\", \"Scotty\", \"Uhura\", \"Sulu\", \"Chekov\"]\n",
        "for person in guests:\n",
        "    print(\"Hi\", person)"
      ],
      "execution_count": null,
      "outputs": []
    },
    {
      "cell_type": "markdown",
      "metadata": {
        "id": "nfnz5oJ3gLxL"
      },
      "source": [
        "`guests` is the **sequence**, and `person` is called the **identifier** or *loop variable*. A sequence can be any object that represents a sequence of elements, e.g. a list, an array, a range, or a tuple. \n",
        "\n",
        "The body itself (in this case, the command `print(\"Hi\" person`) specifies the commands to be exectuted each iteration. The **body must be indented**, although the precise amount of indentation depends on the programmer. It is important to be **consistent** though, so we highly recommend using the **tab key**."
      ]
    },
    {
      "cell_type": "markdown",
      "metadata": {
        "id": "OY-7rXc5gg_j"
      },
      "source": [
        "#### Whitespace"
      ]
    },
    {
      "cell_type": "code",
      "metadata": {
        "id": "k8dET-1QgJhI"
      },
      "source": [
        "a = 1\n",
        "a =        1"
      ],
      "execution_count": null,
      "outputs": []
    },
    {
      "cell_type": "markdown",
      "metadata": {
        "id": "IUC-8kepglvG"
      },
      "source": [
        "The two statements above are equivalent expressions."
      ]
    },
    {
      "cell_type": "code",
      "metadata": {
        "id": "iBHGjdO-gk_2"
      },
      "source": [
        "a = 1\n",
        "print(a)"
      ],
      "execution_count": null,
      "outputs": []
    },
    {
      "cell_type": "code",
      "metadata": {
        "id": "MVZLP3qxgr2G"
      },
      "source": [
        "a =        1\n",
        "print(a)"
      ],
      "execution_count": null,
      "outputs": []
    },
    {
      "cell_type": "markdown",
      "metadata": {
        "id": "xAqz1nUfgvXk"
      },
      "source": [
        "However, if we tried to do:"
      ]
    },
    {
      "cell_type": "code",
      "metadata": {
        "id": "yiIo3jObgtFI"
      },
      "source": [
        "a = 1\n",
        "    a = 1"
      ],
      "execution_count": null,
      "outputs": []
    },
    {
      "cell_type": "markdown",
      "metadata": {
        "id": "h5aLEFG7gzpw"
      },
      "source": [
        "we get an error. "
      ]
    },
    {
      "cell_type": "markdown",
      "metadata": {
        "id": "SqwVNImTg2Fs"
      },
      "source": [
        "The only whitespace that matters in Python is the **indentation** (in other words the whitespace at the **very left of the statements**). Python looks at *blocks* of code. **Lines that are part of the same block must have the same indentation level**. \n",
        "\n",
        "A for loop (or any other control structure) is its own block. This means that all code inside a for loop must be at the same indentation level. \n",
        "\n",
        "    command outside for loop\n",
        "    for something:\n",
        "        command inside for loop\n",
        "        command inside for loop\n",
        "        command inside for loop\n",
        "    command outside for loop"
      ]
    },
    {
      "cell_type": "markdown",
      "metadata": {
        "id": "vntp86TXg8m8"
      },
      "source": [
        "#### Index-Based Loops"
      ]
    },
    {
      "cell_type": "markdown",
      "metadata": {
        "id": "PwbslZMxg-lB"
      },
      "source": [
        "The `range` object can be thought of as a **list of integers**. This can be very convenient for iteration. For example, the following code produces a countdown for a rocket launch:"
      ]
    },
    {
      "cell_type": "code",
      "metadata": {
        "id": "DyGdYJjGgxZD"
      },
      "source": [
        "for count in range(10,0,-1):\n",
        "    print(count)    \n",
        "print(\"BLASTOFF\")"
      ],
      "execution_count": null,
      "outputs": []
    },
    {
      "cell_type": "markdown",
      "metadata": {
        "id": "Re7-W-5chIep"
      },
      "source": [
        "We can also uses `range` to serve as a **sequence of valid indices of a list**. For example, let's say we wanted to number each guest. We could do that using the following code:"
      ]
    },
    {
      "cell_type": "code",
      "metadata": {
        "id": "tb7llxFdhFOo"
      },
      "source": [
        "for i in range(len(guests)):\n",
        "    print(str(i+1)+\".\", guests[i])"
      ],
      "execution_count": null,
      "outputs": []
    },
    {
      "cell_type": "markdown",
      "metadata": {
        "id": "9l-siW43hRGI"
      },
      "source": [
        "The `range` object is essentially a list starting at 0 and going up to, but not including, the length of the guest list. In our case, it is the list [0,1,2,3,4,5,6]. Since we want our displayed numbers to start at 1 and go up to 7 we have to add 1 to i before we print it."
      ]
    },
    {
      "cell_type": "markdown",
      "metadata": {
        "id": "ykmlkAW-hZNF"
      },
      "source": [
        "**Index-based looping** is very useful for tasks that require an **explicit knowledge of the position of an element within a list**."
      ]
    },
    {
      "cell_type": "markdown",
      "metadata": {
        "id": "_lrx1i1uhiSj"
      },
      "source": [
        "#### Nested Loops"
      ]
    },
    {
      "cell_type": "markdown",
      "metadata": {
        "id": "-YFUo8iXhm8b"
      },
      "source": [
        "The body of a loop can contain several statements. It can even **include other loops**. This technique of using one control structure within the body of another is called *nesting*."
      ]
    },
    {
      "cell_type": "markdown",
      "metadata": {
        "id": "cHbs-ZOuhsPK"
      },
      "source": [
        "Consider a 2D NumPy array. Let's print each number in the array on its own line, along with its row and column:"
      ]
    },
    {
      "cell_type": "code",
      "metadata": {
        "id": "9G4JSB1HhOvy"
      },
      "source": [
        "import numpy as np\n",
        "A = np.array([[1.5,2.1],[3.1,3.8]])\n",
        "\n",
        "for r in range(A.shape[0]):\n",
        "    for c in range(A.shape[1]):\n",
        "        print(\"row\",r,\"column\",c,\"is\",A[r,c])"
      ],
      "execution_count": null,
      "outputs": []
    },
    {
      "cell_type": "markdown",
      "metadata": {
        "id": "KbuJkG_thyEd"
      },
      "source": [
        "The loop over `r` is called the *outer loop*. The body of the outer loop contains an *inner loop* over `c`, and inside its body we execute a print command.  \n",
        "\n",
        "If we look at this code sequentially it is equivalent to:"
      ]
    },
    {
      "cell_type": "code",
      "metadata": {
        "id": "bMKA8g-OhvX_"
      },
      "source": [
        "r = 0\n",
        "c = 0\n",
        "print(\"row\",r,\"column\",c,\"is\",A[r,c])\n",
        "c = 1\n",
        "print(\"row\",r,\"column\",c,\"is\",A[r,c])\n",
        "r = 1\n",
        "c = 0\n",
        "print(\"row\",r,\"column\",c,\"is\",A[r,c])\n",
        "c = 1\n",
        "print(\"row\",r,\"column\",c,\"is\",A[r,c])"
      ],
      "execution_count": null,
      "outputs": []
    },
    {
      "cell_type": "markdown",
      "metadata": {
        "id": "WCDE_Ep9h4pi"
      },
      "source": [
        "#### List Comprehension"
      ]
    },
    {
      "cell_type": "markdown",
      "metadata": {
        "id": "JQ91zSsMh_68"
      },
      "source": [
        "Python supports a syntax to do tasks called *list comprehension* using the form:\n",
        "\n",
        "     result = [expression for identifier in sequence]\n",
        "gives us a compact way to modify all the elements in a list.\n",
        "\n",
        "List comprehensions can be a little faster for a computer to complete than the `for` loop structure we first looked at. However, list comprehensions aren't always the best option for repeated sequences with a complex list of operations needed for each cycle of the sequence."
      ]
    },
    {
      "cell_type": "code",
      "metadata": {
        "id": "tbHDmX9bh3Ta"
      },
      "source": [
        "guests = [\"Kirk\", \"Spock\", \"Bones\", \"Scotty\", \"Uhura\", \"Sulu\", \"Chekov\"]\n",
        "guests = [person.lower() for person in guests]\n",
        "print(guests)"
      ],
      "execution_count": null,
      "outputs": []
    },
    {
      "cell_type": "markdown",
      "metadata": {
        "id": "Bx6t7tFgiRom"
      },
      "source": [
        "# Conditional Statements"
      ]
    },
    {
      "cell_type": "markdown",
      "metadata": {
        "id": "A08gPBpzdC-m"
      },
      "source": [
        "#### If"
      ]
    },
    {
      "cell_type": "markdown",
      "metadata": {
        "id": "_JAnYiR_iTlb"
      },
      "source": [
        "An important control structure is the *conditional statement*, more commonly known as an *if statement*. This structure allows us to specify a block of instructions that are to be executed **only when a certain value is true**. \n",
        "\n",
        "This is an extremely valuable tool, as it allows the execution to vary depending on values that are not necessarily known until the program is running."
      ]
    },
    {
      "cell_type": "markdown",
      "metadata": {
        "id": "pEUfEg4acVc6"
      },
      "source": [
        "The condition can be an arbitrary **boolean expression**. This may be a single variable of type `bool` or a more complex expression that evaluates to a boolean (actaully any expression can be evaluated to a boolean in Python, but this is generally discouraged as it makes code hard to read)."
      ]
    },
    {
      "cell_type": "code",
      "metadata": {
        "id": "KnEzDJA2hy1j"
      },
      "source": [
        "string = \"is this a long string?\"\n",
        "if len(string)>20 and \"s\" in string:\n",
        "    print(\"This is a long string, and it contains the letter s!\")"
      ],
      "execution_count": null,
      "outputs": []
    },
    {
      "cell_type": "code",
      "metadata": {
        "id": "orZiNdcNhy1k"
      },
      "source": [
        "string = \"how about this?\"\n",
        "if len(string)>20 and \"s\" in string:\n",
        "    print(\"This is a long string, and it contains the letter s!\")"
      ],
      "execution_count": null,
      "outputs": []
    },
    {
      "cell_type": "markdown",
      "metadata": {
        "id": "lM8sdpIJcqlZ"
      },
      "source": [
        "In this case, the first string is longer than 20 **and** contains the letter s, while the second string also contains the letter s but is still shorter than 20."
      ]
    },
    {
      "cell_type": "markdown",
      "metadata": {
        "id": "McyFNGfccxM1"
      },
      "source": [
        "![if statement flow chart](https://github.com/ag12s/CreateWithCodeModules/blob/main/images/if_flowchart.png?raw=true)"
      ]
    },
    {
      "cell_type": "markdown",
      "metadata": {
        "id": "H2oDeY1bc1Cc"
      },
      "source": [
        "As with for loops, the **body** of an if statement can **contain any valid Python code**. This includes other if statements or for loops. For example, we could have a **nested if statement**:"
      ]
    },
    {
      "cell_type": "code",
      "metadata": {
        "id": "o6NwudhsiDqj"
      },
      "source": [
        "string = \"how about this?\"\n",
        "if len(string)>20:\n",
        "    if \"s\" in string:\n",
        "        print(\"This is a long string, and it contains the letter s!\")"
      ],
      "execution_count": null,
      "outputs": []
    },
    {
      "cell_type": "markdown",
      "metadata": {
        "id": "YOMsw460dFSL"
      },
      "source": [
        "#### Else"
      ]
    },
    {
      "cell_type": "markdown",
      "metadata": {
        "id": "fYakXkhNdHiu"
      },
      "source": [
        "We use `if` to specify steps that are executed when a given condition is true. An **alternative set of steps** can be expressed as an `else` clause, to be **executed when the condition is false**."
      ]
    },
    {
      "cell_type": "code",
      "metadata": {
        "id": "a5C3GnTPc9i3"
      },
      "source": [
        "string = \"how about this?\"\n",
        "if len(string)>20:\n",
        "    print(\"This is a long string!\")\n",
        "else:\n",
        "    print(\"This is not a long string :-(\")"
      ],
      "execution_count": null,
      "outputs": []
    },
    {
      "cell_type": "markdown",
      "metadata": {
        "id": "AEZ0ohWSdSb0"
      },
      "source": [
        "![if else statement flow chart](https://github.com/ag12s/CreateWithCodeModules/blob/main/images/ifelse_flowchart.png?raw=true)"
      ]
    },
    {
      "cell_type": "markdown",
      "metadata": {
        "id": "l4jFziB5dfdN"
      },
      "source": [
        "#### Elif"
      ]
    },
    {
      "cell_type": "markdown",
      "metadata": {
        "id": "n56dK1WVdin-"
      },
      "source": [
        "Sometimes, we may have **more than 2 possible outcomes**. For example:"
      ]
    },
    {
      "cell_type": "code",
      "metadata": {
        "id": "AHXHzhRcdQFS"
      },
      "source": [
        "string = \"how about this?\"\n",
        "if len(string)>20:\n",
        "    print(\"This is a long string!\")\n",
        "else:\n",
        "    if (len(string) > 10):\n",
        "        print(\"Sort of...\")\n",
        "    else:\n",
        "        print(\"This is not a long string :-(\")"
      ],
      "execution_count": null,
      "outputs": []
    },
    {
      "cell_type": "markdown",
      "metadata": {
        "id": "K7VK7FChdrUW"
      },
      "source": [
        "Here we first check if the string is longer than 20 characters, if it's not we check if it's longer than 10 characters and if it's not we print \"This is not a long string :-(\". \n",
        "\n",
        "An alternative syntax is to use the `elif` command:"
      ]
    },
    {
      "cell_type": "code",
      "metadata": {
        "id": "JK-B3N7ddmwb"
      },
      "source": [
        "string = \"how about this?\"\n",
        "if len(string)>20:\n",
        "    print(\"This is a long string!\")\n",
        "elif (len(string) > 10):\n",
        "    print(\"Sort of...\")\n",
        "else:\n",
        "    print(\"This is not a long string :-(\")"
      ],
      "execution_count": null,
      "outputs": []
    },
    {
      "cell_type": "markdown",
      "metadata": {
        "id": "pwtERv_edxpa"
      },
      "source": [
        "The advantage of this syntax is that it doens't require us to keep indenting for each new if statement."
      ]
    },
    {
      "cell_type": "markdown",
      "metadata": {
        "id": "faCdxP-Adz7Y"
      },
      "source": [
        "#### Break"
      ]
    },
    {
      "cell_type": "markdown",
      "metadata": {
        "id": "jf99sx3xd3H-"
      },
      "source": [
        "The `break` command, when **called from inside a loop**, causes an **immediate stop** to the entire loop. The current iteration is interrupted and control skips beyond the end of the loop. Typically, we call `break` if a condition has been met."
      ]
    },
    {
      "cell_type": "code",
      "metadata": {
        "id": "3irNgjlNdviC"
      },
      "source": [
        "for i in range(10,0,-1):\n",
        "    if i > 5:\n",
        "        print(i)\n",
        "    else:\n",
        "        break"
      ],
      "execution_count": null,
      "outputs": []
    },
    {
      "cell_type": "markdown",
      "metadata": {
        "id": "dZAhPQdWeGd6"
      },
      "source": [
        "#### List Comprehension"
      ]
    },
    {
      "cell_type": "markdown",
      "metadata": {
        "id": "GMjx8DIleM9o"
      },
      "source": [
        "Recall that this used the syntax:\n",
        "\n",
        "     results = [expression for identifier in sequence]"
      ]
    },
    {
      "cell_type": "markdown",
      "metadata": {
        "id": "vcEK4_94ePv_"
      },
      "source": [
        "Python supports adding an **optional condition** by employing the syntax:\n",
        "\n",
        "     results = [expression for identifier in sequence if condition]\n",
        "\n",
        "This expression is evaluated as:\n",
        "\n",
        "    result = []\n",
        "    for identifier in sequence:\n",
        "        if condition:\n",
        "            result.append(expression)\n",
        "            \n",
        "For example:"
      ]
    },
    {
      "cell_type": "code",
      "metadata": {
        "id": "4hVaS7_ReB6l"
      },
      "source": [
        "numbers = [1, 3, 5, 19]\n",
        "\n",
        "numbers = [2*n for n in numbers if n < 10]\n",
        "print(numbers)"
      ],
      "execution_count": null,
      "outputs": []
    },
    {
      "cell_type": "markdown",
      "metadata": {
        "id": "ycDxYXzueXzB"
      },
      "source": [
        "# While Loops"
      ]
    },
    {
      "cell_type": "markdown",
      "metadata": {
        "id": "DS2eMIMceZBO"
      },
      "source": [
        "We may need to express **repetition** even though we **cannot know the precise number of iterations in advance**. To do this we use a *while loop* with the syntax:\n",
        "\n",
        "    while condition:\n",
        "        body"
      ]
    },
    {
      "cell_type": "markdown",
      "metadata": {
        "id": "iiV3SFfIejPy"
      },
      "source": [
        "As with if statements, the **condition** can be an **arbitarary boolean expression** and the **body** is an **indented block of code**.\n",
        "\n",
        "![while statement flow chart](https://github.com/ag12s/CreateWithCodeModules/blob/main/images/while_flow.png?raw=true)"
      ]
    },
    {
      "cell_type": "markdown",
      "metadata": {
        "id": "ni18GMdFeqfo"
      },
      "source": [
        "We can make **index-based while loops** by employing a **counter**:"
      ]
    },
    {
      "cell_type": "code",
      "metadata": {
        "id": "UPiFVlEXeV0P"
      },
      "source": [
        "guests = [\"Kirk\", \"Spock\", \"Bones\", \"Scotty\", \"Uhura\", \"Sulu\", \"Chekov\"]\n",
        "\n",
        "i = 0\n",
        "while i < len(guests):\n",
        "    print(str(i + 1) + \".\", guests[i])\n",
        "    i += 1"
      ],
      "execution_count": null,
      "outputs": []
    },
    {
      "cell_type": "markdown",
      "metadata": {
        "id": "-nqv1i99e0nD"
      },
      "source": [
        "Note that we must initialize the counter, `i`, *outside* the while loop and manually **increment** it each **iteration**."
      ]
    },
    {
      "cell_type": "markdown",
      "metadata": {
        "id": "TGPbyelYfMdb"
      },
      "source": [
        "#### Infinite Loops"
      ]
    },
    {
      "cell_type": "markdown",
      "metadata": {
        "id": "MGw9lGOVfQ6J"
      },
      "source": [
        "When working with a while loop, the **number of iterations is not explicitly bounded**, but determined based on the **loop condition**. \n",
        "\n",
        "This can lead to a serious problem known as an *infinite loop*. In infinite loops the **condition never changes to false**, so the loop keeps repeating itself **indefinitely**."
      ]
    },
    {
      "cell_type": "markdown",
      "metadata": {
        "id": "BXMzrGH2fcBI"
      },
      "source": [
        "If you run code and encounter an infinte loop you can exit it by typing control-c."
      ]
    },
    {
      "cell_type": "markdown",
      "metadata": {
        "id": "bZcpYiohfepn"
      },
      "source": [
        "To avoid infinite loops, often we add a **counter** to keep track of the** number of iterations**. If we reach a **maximum number of iterations**, the loop **condition becomes false** and the loop **terminates**."
      ]
    },
    {
      "cell_type": "code",
      "metadata": {
        "id": "Bc-guWkVeri1"
      },
      "source": [
        "counter = 0\n",
        "while counter < 10:\n",
        "  print(\"Hello\")\n",
        "  counter += 1 # Remember that this is the same as counter = counter + 1"
      ],
      "execution_count": null,
      "outputs": []
    },
    {
      "cell_type": "markdown",
      "metadata": {
        "id": "Csqe_Z3hfqyW"
      },
      "source": [
        "# Making Functions"
      ]
    },
    {
      "cell_type": "markdown",
      "metadata": {
        "id": "cxE72Q8bf1kC"
      },
      "source": [
        "Functions are the most general purpose **control structure**. Functions are **declared** with the **keyword `def`** (short for define). It is followed by the **name** of the function. **Parentheses** enclose a series of **parameters** that are **passed in by the caller**. If a function does not require any parameters, there must still be **opening and closing parentheses**. Finally an **indented body** contains the code that is executed when the fucntion is called.\n",
        "\n",
        "\n",
        "    def function_name( parameters) :\n",
        "        body\n",
        "    "
      ]
    },
    {
      "cell_type": "markdown",
      "metadata": {
        "id": "Js5NvAfzgNaM"
      },
      "source": [
        "A **function name** follows the **same rules as a variable name**. It must only consist of **letters**, **digits**, and **underscores**, and it **cannot start with a digit**. It also **cannot be a reserved word**, for example \"`class`\"."
      ]
    },
    {
      "cell_type": "markdown",
      "metadata": {
        "id": "_OBAhnZagbtd"
      },
      "source": [
        "We are free to choose the **names of the parameters**. The name we give a parameter is known as a *formal parameter*; it serves as a **placeholder for a piece of information from the caller**, known as the *actual parameter*. We cannot assume to know the name of the variable name used by the caller. In general, formal parameter names should be chosen in such a way as to suggest their meaning."
      ]
    },
    {
      "cell_type": "markdown",
      "metadata": {
        "id": "sNn-KLXOgtTI"
      },
      "source": [
        "The **body** of a **function** can be **any valid Python code**. This includes loops and if statements. \n",
        "\n",
        "A difference between the body of a function and that of loops and if statements is that any code in the body of a function has **local scope**. This means that **variables inside a function do not interact with variables outside the function**."
      ]
    },
    {
      "cell_type": "markdown",
      "metadata": {
        "id": "P1LMiWyLg3he"
      },
      "source": [
        "**Local scope** is good because it means that we do not have to worry about what variable names are used by the caller and the caller doesn't have to worry about what variable names are used in the function. \n",
        "\n",
        "An **exception** to the local scope rule is **modules**. Modules that are loaded outside the function can still be used inside the function."
      ]
    },
    {
      "cell_type": "markdown",
      "metadata": {
        "id": "1L7Nlmheg-Ya"
      },
      "source": [
        "Because of local scope, the **caller cannot access variables defined inside the body of a function**. In order to retrieve any information from a function, the function should have a **return statement**. \n",
        "\n",
        "When a return statement is called, the function **ends**. Note that this does not mean that a return statement must be the last statement in a function. Sometimes you may want to have a conditional statement that returns different values to the caller depending on some condition.\n",
        "\n",
        "Sometimes, you may like for a function to **return multiple values**. In this case, it is customary to **return a tuple** of values."
      ]
    },
    {
      "cell_type": "markdown",
      "metadata": {
        "id": "qEuZ-y_khY_E"
      },
      "source": [
        "#### Flow of Control"
      ]
    },
    {
      "cell_type": "markdown",
      "metadata": {
        "id": "ydSzyeLbhcLQ"
      },
      "source": [
        "When a function is called, whether it be a built-in function or one that you defined, control passes directly to the body of the function. The **body** of a function **can call other functions**. Once a function finishes, control is passed back to whoever called it.\n",
        "\n",
        "**Before** the user calls a function, it must be **defined**. For example, the following code will not work because we are trying to call the function `fib` before it is defined:"
      ]
    },
    {
      "cell_type": "code",
      "metadata": {
        "id": "M_HF2ouNfnpu"
      },
      "source": [
        "print(fib(5))\n",
        "\n",
        "def fib(N):\n",
        "    # create list of Fibonacci numbers, append first two numbers\n",
        "    fib = []\n",
        "    fib.append(0)\n",
        "    fib.append(1)\n",
        "\n",
        "    # loop from 2 to N-1 (giving you N total terms)\n",
        "    for i in range(2,N):\n",
        "        # apply recurrance relation\n",
        "        fib.append(fib[i-1]+fib[i-2])\n",
        "    print(fib)"
      ],
      "execution_count": null,
      "outputs": []
    },
    {
      "cell_type": "markdown",
      "metadata": {
        "id": "qT-nX0JZhrxm"
      },
      "source": [
        "#### Optional Parameters"
      ]
    },
    {
      "cell_type": "markdown",
      "metadata": {
        "id": "nB1TxT3YhxOM"
      },
      "source": [
        "We've seen some built-in functions that take in **optional parameters**. For example, consider the countdown function:"
      ]
    },
    {
      "cell_type": "code",
      "metadata": {
        "id": "hJcn8lVwho-n"
      },
      "source": [
        "def countdown():\n",
        "    for c in range(10,0,-1):\n",
        "        print(c)\n",
        "        \n",
        "    print(\"BLASTOFF\")\n",
        "    \n",
        "countdown()"
      ],
      "execution_count": null,
      "outputs": []
    },
    {
      "cell_type": "markdown",
      "metadata": {
        "id": "ZanMJfeoh6XQ"
      },
      "source": [
        "Suppose we wanted to **let the user select the starting value**. The starting value of 10 would then be called the **default parameter**."
      ]
    },
    {
      "cell_type": "code",
      "metadata": {
        "id": "E4CukQVXh4ZG"
      },
      "source": [
        "def countdown(start = 10):\n",
        "    for c in range(start,0,-1):\n",
        "        print(c)\n",
        "        \n",
        "    print(\"BLASTOFF\")\n",
        "    \n",
        "countdown(5)"
      ],
      "execution_count": null,
      "outputs": []
    },
    {
      "cell_type": "code",
      "metadata": {
        "id": "XXZ5ofHwiCYM"
      },
      "source": [
        "def countdown(start = 10):\n",
        "    for c in range(start,0,-1):\n",
        "        print(c)\n",
        "        \n",
        "    print(\"BLASTOFF\")\n",
        "    \n",
        "countdown()"
      ],
      "execution_count": null,
      "outputs": []
    },
    {
      "cell_type": "markdown",
      "metadata": {
        "id": "KusGBy7wiG4M"
      },
      "source": [
        "We can have **multiple optional parameters**:"
      ]
    },
    {
      "cell_type": "code",
      "metadata": {
        "id": "kaOwJa4OiEDO"
      },
      "source": [
        "def countdown(start = 10, message = \"BLASTOFF\"):\n",
        "    for c in range(start,0,-1):\n",
        "        print(c)\n",
        "        \n",
        "    print(message)\n",
        "    \n",
        "countdown(5,\"YIPPIE!\")"
      ],
      "execution_count": null,
      "outputs": []
    },
    {
      "cell_type": "markdown",
      "metadata": {
        "id": "Lghey8pSiPGa"
      },
      "source": [
        "The user can specify which parameter(s) to set:"
      ]
    },
    {
      "cell_type": "code",
      "metadata": {
        "id": "nQxqIGjKiKEd"
      },
      "source": [
        "countdown(message=\"YIPPIE!\")"
      ],
      "execution_count": null,
      "outputs": []
    },
    {
      "cell_type": "markdown",
      "metadata": {
        "id": "96M-I-MNioYc"
      },
      "source": [
        "#### Lamda Functions"
      ]
    },
    {
      "cell_type": "markdown",
      "metadata": {
        "id": "rI_d3SJeitID"
      },
      "source": [
        "Functions that are only **one line** can be **defined inline** using **lambda functions**. Lambda functions only make sense when the function is actually something that can be defined in a single line. They **should not contain loops or conditional statements**."
      ]
    },
    {
      "cell_type": "markdown",
      "metadata": {
        "id": "uI3_h1G3i6qv"
      },
      "source": [
        "#### Recursive Functions"
      ]
    },
    {
      "cell_type": "markdown",
      "metadata": {
        "id": "Dv5uA3u2i-XZ"
      },
      "source": [
        "There are some problems in mathematics and science where the method involved in solving that problem is done by **applying a set procedure in the middle of the very same procedure**! I know, sounds a bit confusing, doesn't it? A simple example of this is the factorial (!) function in mathematics where a number is multiplied by all of the integers less than it, excluding 0 and negative numbers:\n",
        "\n",
        "- 0! = 1         = 1\n",
        "- 1! = 1         = 1\n",
        "- 2! = 2x1       = 2\n",
        "- 3! = 3x2x1     = 6\n",
        "- 4! = 4x3x2x1   = 24\n",
        "- 5! = 5x4x3x2x1 = 120\n",
        "\n",
        "Take a moment to think about the above examples given in order of 1! through 5!... there seems to be a pattern, in fact, we could rewrite the above list as:\n",
        "\n",
        "- 0! = 1\n",
        "- 1! = 1\n",
        "- 2! = 2x1!\n",
        "- 3! = 3x2!\n",
        "- 4! = 4x3!\n",
        "- 5! = 5x4!\n",
        "\n",
        "That is, for a given integer *N*, it's factorial solution is nothing more than that *N* multiplied by the factorial solution of the integer *N-1*:\n",
        "\n",
        "- N! = N x (N-1)!\n",
        "\n",
        "We can exploit this pattern with **recursion**, the act of **using a procedure within itself**. Fortunately, Python supports recursive functions, so we can define our function to call itself as many times as needed to compute the factorial of any given integer."
      ]
    },
    {
      "cell_type": "code",
      "metadata": {
        "id": "PuAIBD5iikps"
      },
      "source": [
        "def factorial_recursive(n):\n",
        "  if n == 0:\n",
        "    return 1\n",
        "  else:\n",
        "    return n * factorial_recursive(n - 1)\n",
        "\n",
        "for n in range(6):\n",
        "  print(factorial_recursive(n))\n",
        "print(\"Voila! We have a recursive factorial function!\")"
      ],
      "execution_count": null,
      "outputs": []
    },
    {
      "cell_type": "markdown",
      "metadata": {
        "id": "PzxSkW1zj0We"
      },
      "source": [
        "# Plotting"
      ]
    },
    {
      "cell_type": "markdown",
      "metadata": {
        "id": "eTuaxizRj_RH"
      },
      "source": [
        "To display plots in the notebook, we include the following directive at the top of the notebook (before the plots):"
      ]
    },
    {
      "cell_type": "code",
      "metadata": {
        "id": "7urm7zpijSo8"
      },
      "source": [
        "%matplotlib inline"
      ],
      "execution_count": null,
      "outputs": []
    },
    {
      "cell_type": "markdown",
      "metadata": {
        "id": "cyuMc-IQkG8f"
      },
      "source": [
        "We will import `matplotlib.pylot` module. To avoid lots of typing later on, we will call this module `plt`:"
      ]
    },
    {
      "cell_type": "code",
      "metadata": {
        "id": "gOs9T_A6kBoH"
      },
      "source": [
        "import matplotlib.pyplot as plt"
      ],
      "execution_count": null,
      "outputs": []
    },
    {
      "cell_type": "markdown",
      "metadata": {
        "id": "l-3c6NMylVKm"
      },
      "source": [
        "#### Plotting Basics"
      ]
    },
    {
      "cell_type": "markdown",
      "metadata": {
        "id": "fdg3hltTkLnP"
      },
      "source": [
        "The `plt.plot` command **creates a plot**:"
      ]
    },
    {
      "cell_type": "code",
      "metadata": {
        "id": "W6kdwKYUkJ3K"
      },
      "source": [
        "plt.plot([1,2,4,3])\n",
        "plt.show() "
      ],
      "execution_count": null,
      "outputs": []
    },
    {
      "cell_type": "markdown",
      "metadata": {
        "id": "2ANdwLnAkRdW"
      },
      "source": [
        "You'll note that the x-axis ranges from 0 to 3 while the y axis ranges from 1 to 4. If you provide a **single list** or **array** to the `plot` command, `matlplotlib` assumes it is a sequence of y values and automatically generates the x values for you. The default x values start at 0 (the leading index for Python arrays) and has the same length as y. Therefore in this example x gets the values [0,1,2,3]. The plot above connects the points (0,1), (1,2), (1,4) and (1,3)."
      ]
    },
    {
      "cell_type": "markdown",
      "metadata": {
        "id": "_JH4bLZGkds-"
      },
      "source": [
        "The plot command can take in an **arbitrary number of arguments**. For example, if you have a specific set of x values, you can input a list (or array) of x value in addition to the y values:"
      ]
    },
    {
      "cell_type": "code",
      "metadata": {
        "id": "4vNsMndrkPe0"
      },
      "source": [
        "plt.plot([1,2,8,9], [1,2,4,3])\n",
        "plt.show()"
      ],
      "execution_count": null,
      "outputs": []
    },
    {
      "cell_type": "markdown",
      "metadata": {
        "id": "zLGd3p2lkmBX"
      },
      "source": [
        "After the data, an **optional argument** to the plot command is a **string** which indicates the **color and type** of the plot.\n",
        "\n",
        "The color is specified by one of the following characters:\n",
        "* 'b' - blue (default)\n",
        "* 'r' - red\n",
        "* 'g' - green\n",
        "* 'c' - cyan\n",
        "* 'y' - yellow\n",
        "* 'm' - magenta\n",
        "* 'k' - black\n",
        "* 'w' - white\n",
        "\n",
        "To plot the individual data points, you can specify one of the following characters:\n",
        "* 'o' - points plotted as circles\n",
        "* 's' - points plotted as squares\n",
        "* '^' - points plotted as triangles\n",
        "* '.' - points plotted as dots\n",
        "\n",
        "The line style can can be one given as one of:\n",
        "* '-'  - continuous line (default)\n",
        "* '--' - dashed line\n",
        "* ':'  - dotted line"
      ]
    },
    {
      "cell_type": "code",
      "metadata": {
        "id": "8QvDEGdNkicv"
      },
      "source": [
        "plt.plot([1,2,8,9], [1,2,4,3], \"ro\")\n",
        "plt.show()"
      ],
      "execution_count": null,
      "outputs": []
    },
    {
      "cell_type": "markdown",
      "metadata": {
        "id": "ITZvmPfxkzbq"
      },
      "source": [
        "You may want to make the plots look better or easier to understand. For starters, the last plot had some data points on the edges of the plot. There is a command called `xlim` that takes in a list of 2 numbers: a **lower bound** for x and an **upper bound** for x, and sets the x axis to these values. The command `ylim` does the same thing for the y axis."
      ]
    },
    {
      "cell_type": "code",
      "metadata": {
        "id": "essnmxnwkxOt"
      },
      "source": [
        "plt.plot([1,2,8,9], [1,2,4,3], \"g^--\")\n",
        "plt.ylim([0,5])\n",
        "plt.show()"
      ],
      "execution_count": null,
      "outputs": []
    },
    {
      "cell_type": "markdown",
      "metadata": {
        "id": "O4ApqX_elBkm"
      },
      "source": [
        "All good plots should also have **axis labels**. The commands `xlabel` and `ylabel` do just that. The `title` command provides a **title**."
      ]
    },
    {
      "cell_type": "code",
      "metadata": {
        "id": "tpl92BhZk_ff"
      },
      "source": [
        "plt.plot([1,2,8,9], [1,2,4,3], \"-ro\")\n",
        "plt.xlim([0,10])\n",
        "plt.ylim([0,5])\n",
        "plt.xlabel(\"x values\")\n",
        "plt.ylabel(\"y values\")\n",
        "plt.title(\"A simple plot\")\n",
        "plt.show()"
      ],
      "execution_count": null,
      "outputs": []
    },
    {
      "cell_type": "markdown",
      "metadata": {
        "id": "ATeZaGw1lGs6"
      },
      "source": [
        "Plots can also have **legends**. The command `plt.legend()` creates one. In Python, there are two ways to populate them:\n",
        "\n",
        "1. Pass an argument `label` to the plot command\n",
        "2. Add a list of names directly to the `legend` command"
      ]
    },
    {
      "cell_type": "code",
      "metadata": {
        "id": "fZdujdFVlEwd"
      },
      "source": [
        "plt.plot([1,2,8,9], [1,2,4,3], \"-ro\", label=\"red line with circles\")\n",
        "plt.xlim([0,10])\n",
        "plt.ylim([0,5])\n",
        "plt.xlabel(\"x values\")\n",
        "plt.ylabel(\"y values\")\n",
        "plt.title(\"A simple plot\")\n",
        "plt.legend()\n",
        "plt.show()"
      ],
      "execution_count": null,
      "outputs": []
    },
    {
      "cell_type": "code",
      "metadata": {
        "id": "lGP8fz5WlJ8q"
      },
      "source": [
        "plt.plot([1,2,8,9], [1,2,4,3], \"-g^\")\n",
        "plt.xlim([0,10])\n",
        "plt.ylim([0,5])\n",
        "plt.xlabel(\"x values\")\n",
        "plt.ylabel(\"y values\")\n",
        "plt.title(\"A simple plot\")\n",
        "plt.legend([\"green line with triangles\"]) # This command takes in a list of names\n",
        "plt.show()"
      ],
      "execution_count": null,
      "outputs": []
    },
    {
      "cell_type": "markdown",
      "metadata": {
        "id": "BkHX02DYlQpK"
      },
      "source": [
        "#### Plotting Functions"
      ]
    },
    {
      "cell_type": "markdown",
      "metadata": {
        "id": "qWVlFQFGlabu"
      },
      "source": [
        "Say we wish to plot the function $y(t) = t^2e^{-t^2}$ for $0 \\leq t\\leq 3$. To do this, we will **generate a number of equally spaced coordinates** in $t$. Then we can **evaluate** $y(t)$ at each of those points. We will use the `linspace` command from the NumPy module."
      ]
    },
    {
      "cell_type": "code",
      "metadata": {
        "id": "u9X176qWlMpy"
      },
      "source": [
        "import numpy as np # Import the NumPy module\n",
        "\n",
        "N = 20\n",
        "\n",
        "# Create N equally spaced points on the interval [0,3]\n",
        "t = np.linspace(0,3,N)\n",
        "print(t)"
      ],
      "execution_count": null,
      "outputs": []
    },
    {
      "cell_type": "markdown",
      "metadata": {
        "id": "BHtaafeplmxa"
      },
      "source": [
        "To evaluate the function $y(t)$ at all these points, we can plug this array into $y$."
      ]
    },
    {
      "cell_type": "code",
      "metadata": {
        "id": "uIVw5woNljus"
      },
      "source": [
        "y = t**2*np.exp(-t**2)\n",
        "print(y)"
      ],
      "execution_count": null,
      "outputs": []
    },
    {
      "cell_type": "markdown",
      "metadata": {
        "id": "8uTFr0aglqRW"
      },
      "source": [
        "To plot $y$ vs $t$ we simply call `plot`:"
      ]
    },
    {
      "cell_type": "code",
      "metadata": {
        "id": "8BI0zAIaloQE"
      },
      "source": [
        "plt.plot(t,y)\n",
        "plt.xlabel(\"t\")\n",
        "plt.ylabel(\"y(t)\")\n",
        "plt.show()"
      ],
      "execution_count": null,
      "outputs": []
    },
    {
      "cell_type": "markdown",
      "metadata": {
        "id": "gqpZN1m7lwHQ"
      },
      "source": [
        "Alternatively, we don't have to create `y` at all. The **function equation can be evaluated directly in the argument list** of the `plot` command:"
      ]
    },
    {
      "cell_type": "code",
      "metadata": {
        "id": "z1bAs40wlrnO"
      },
      "source": [
        "plt.plot(t, t**2*np.exp(-t**2))\n",
        "plt.xlabel(\"t\")\n",
        "plt.ylabel(\"y(t)\")\n",
        "plt.show()"
      ],
      "execution_count": null,
      "outputs": []
    },
    {
      "cell_type": "markdown",
      "metadata": {
        "id": "KPfAfjMfl3Y_"
      },
      "source": [
        "#### Multiple Plots in the Same Figure"
      ]
    },
    {
      "cell_type": "markdown",
      "metadata": {
        "id": "o_5xUWF7l8t-"
      },
      "source": [
        "Oftentimes, we will want **multiple plots** on the **same figure**. This can be done by calling successive plot commands. It should be noted that one can generate plots without specifying a color and matplotlib will choose from a default color sequence."
      ]
    },
    {
      "cell_type": "code",
      "metadata": {
        "id": "NO6d8we7l1Rs"
      },
      "source": [
        "plt.plot(t, t**2*np.exp(-t**2), 'm-')\n",
        "plt.plot([1,2,8,9], [0.1,0.2,0.4,0.3], \"g^--\")\n",
        "plt.xlabel(\"t\")\n",
        "plt.ylabel(\"y(t)\")\n",
        "plt.legend([\"function\",\"points\"])\n",
        "plt.show()"
      ],
      "execution_count": null,
      "outputs": []
    },
    {
      "cell_type": "markdown",
      "metadata": {
        "id": "3xn8uXFTmKOB"
      },
      "source": [
        "#### Scatter Plots"
      ]
    },
    {
      "cell_type": "code",
      "metadata": {
        "id": "lqRDhGPJmFD1"
      },
      "source": [
        "x = np.random.random(100)\n",
        "y = np.random.random(100)\n",
        "plt.scatter(x, y**2*np.exp(-y**2))\n",
        "\n",
        "plt.xlabel(\"t\")\n",
        "plt.ylabel(\"y(t)\")\n",
        "plt.title(\"A basic scatter plot of random data\")\n",
        "plt.show()"
      ],
      "execution_count": null,
      "outputs": []
    },
    {
      "cell_type": "markdown",
      "metadata": {
        "id": "rjzWEs14mTv9"
      },
      "source": [
        "Some **optional parameters** for `scatter` include `c = an array of values` which will **color-code the indivdual scatter points based on the values given to `c`**, or the parameter `alpha = some number` that controls the **transparency** of the scatter points. Additional useful parameters include `s = some number` for the **size** of the scatter points and `marker = some string character` for changing the **style** of scatter point used.\n",
        "\n",
        "The `scatter` point styles include:\n",
        "* 'o' - points plotted as circles\n",
        "* 's' - points plotted as squares\n",
        "* '^' - points plotted as triangles\n",
        "* '.' - points plotted as dots\n",
        "\n",
        "There are also a wide variety of other symbols that can be chosen.\n"
      ]
    },
    {
      "cell_type": "code",
      "metadata": {
        "id": "PW-cKlxBmR0w"
      },
      "source": [
        "x = np.random.random(250)\n",
        "y = np.random.random(250)\n",
        "z = x**2 * np.exp(-y**2)\n",
        "plt.scatter(y, z, color='r', marker='+')\n",
        "plt.scatter(x, z, c=z, s=100.0, alpha=0.25)\n",
        "\n",
        "plt.xlabel(\"t\")\n",
        "plt.ylabel(\"y(t)\")\n",
        "plt.title(\"Transparent colorful points on top of red crosses\")\n",
        "plt.show()"
      ],
      "execution_count": null,
      "outputs": []
    },
    {
      "cell_type": "markdown",
      "metadata": {
        "id": "2HEeFqAlmlPT"
      },
      "source": [
        "#### Subplots"
      ]
    },
    {
      "cell_type": "markdown",
      "metadata": {
        "id": "A-eYj6VPnVyn"
      },
      "source": [
        "Sometimes, we wish to have **multiple individual plots in a single figure**. The `subplot` command lets us create a figure with $r$ rows and $c$ columns of plots.\n",
        "\n",
        "Calling `plt.subplot(r,c,p)` creates a figure (if it doesn't already exist) containing a tiling of $r$ rows of plots and $c$ columns. Any plotting commands you call will be placed in entry $p$. The plots are numbered from 1 to $r\\times c$, starting in the top left and proceeding left to right and then top to bottom.\n",
        "\n",
        "To switch to another plot, call `plt.subplot` again with the new position. "
      ]
    },
    {
      "cell_type": "code",
      "metadata": {
        "id": "so0mUyXami5v"
      },
      "source": [
        "plt.subplot(2,1,1)\n",
        "plt.plot(t, t**2*np.exp(-t**2))\n",
        "plt.title(\"Top plot\")\n",
        "plt.xlabel(\"t\")\n",
        "plt.ylabel(\"y(t)\")\n",
        "\n",
        "plt.subplot(2,1,2)\n",
        "plt.plot([1,2,8,9], [1,2,4,3], \"-ro\")\n",
        "plt.axis([0, 10, 0, 5])\n",
        "plt.xlabel(\"x values\")\n",
        "plt.ylabel(\"y values\")\n",
        "plt.title(\"Bottom plot\")\n",
        "\n",
        "# should add this to get correct spacing between subplots\n",
        "plt.tight_layout()"
      ],
      "execution_count": null,
      "outputs": []
    },
    {
      "cell_type": "markdown",
      "metadata": {
        "id": "sOmPsm_mnkur"
      },
      "source": [
        "#### Skimage, Imread, and Imshow"
      ]
    },
    {
      "cell_type": "markdown",
      "metadata": {
        "id": "z4djJWRtno-G"
      },
      "source": [
        "Skimage is a **library** which that contains **image processing** applications. We will use the `io` functions from it here to read images from a url: "
      ]
    },
    {
      "cell_type": "code",
      "metadata": {
        "id": "kgSeO3RRngc7"
      },
      "source": [
        "from skimage import io"
      ],
      "execution_count": null,
      "outputs": []
    },
    {
      "cell_type": "markdown",
      "metadata": {
        "id": "UJJJrEeHnvU5"
      },
      "source": [
        "When one looks at an image, one is essentially looking at a **table of values organized in rows and columns**. These values describe how the pixels of the image should look. For black and white images, these numbers merely represent the intensity of brightness of each pixel, giving darker and brighter regions with shades of grey in between. For color images, there will be a set of 4 numbers for each pixel: one for brightness and 3 for the values of red, green, and blue (RGB) colors that are mixed together to create the specific color of that pixel. \n",
        "\n",
        "We can use a nifty function called `imread` from `io` in Skimage to **obtain the table of values for an image** with `io.imread(string name to image location)`. In the code example below, we read in the data that represents the image we pointed the function to. The size of the resulting `tuplet object corresponds to the (height, width, number of channels). If the number of channels is three, our image has RGB values."
      ]
    },
    {
      "cell_type": "code",
      "metadata": {
        "id": "qOOuNjdantSF"
      },
      "source": [
        "image = io.imread(\"https://github.com/ag12s/CreateWithCodeModules/blob/main/images/binary.jpg?raw=True\")\n",
        "print(image.shape)"
      ],
      "execution_count": null,
      "outputs": []
    },
    {
      "cell_type": "markdown",
      "metadata": {
        "id": "A2-iPfRJoJ1h"
      },
      "source": [
        "We now have the image data from `imread`, but what about **re-visualizing the image**? We can use the `imshow` command from `plt` for that exact purpose!\n",
        "\n",
        "The easiest thing to do is simply `plt.imshow(table of data)` to reveal the image whose data we previously read with `plt.imread()`:"
      ]
    },
    {
      "cell_type": "code",
      "metadata": {
        "id": "WCBd2O5SoHk-"
      },
      "source": [
        "plt.imshow(image)\n",
        "plt.show()"
      ],
      "execution_count": null,
      "outputs": []
    },
    {
      "cell_type": "markdown",
      "metadata": {
        "id": "CbDtcHEEqQcv"
      },
      "source": [
        "# Pandas"
      ]
    },
    {
      "cell_type": "markdown",
      "metadata": {
        "id": "EReJPEeVqY0r"
      },
      "source": [
        "Let's learn about a Python package called **Pandas**!\n",
        "\n",
        "To make sure we have it installed, first run a *pip* command:"
      ]
    },
    {
      "cell_type": "code",
      "metadata": {
        "id": "rWnOAfQpoO95"
      },
      "source": [
        "!pip install pandas"
      ],
      "execution_count": null,
      "outputs": []
    },
    {
      "cell_type": "markdown",
      "metadata": {
        "id": "m4Y-emA1qcgx"
      },
      "source": [
        "Then, we import the Pandas package (and NumPy, since we will use that, too):"
      ]
    },
    {
      "cell_type": "code",
      "metadata": {
        "id": "uQ7OIn4hqacV"
      },
      "source": [
        "import pandas as pd\n",
        "import numpy as np"
      ],
      "execution_count": null,
      "outputs": []
    },
    {
      "cell_type": "markdown",
      "metadata": {
        "id": "xAXabBm3qgrz"
      },
      "source": [
        "We import Pandas with the nickname \"*pd*\" because we may have to type the package name frequently while using it. Typing *pd* is just shorter than typing *pandas* every time, so this is something most users do."
      ]
    },
    {
      "cell_type": "markdown",
      "metadata": {
        "id": "lPtASfY-qjQz"
      },
      "source": [
        "#### Creating DataFrames"
      ]
    },
    {
      "cell_type": "markdown",
      "metadata": {
        "id": "pnLDBz9bq59_"
      },
      "source": [
        "Let's create a **DataFrame**! To do that, we will first create arrays with some sample data about Marvel Cinematic Universe characters."
      ]
    },
    {
      "cell_type": "code",
      "metadata": {
        "id": "qGvOJ-ja2Baa"
      },
      "source": [
        "# Create an array with the names of characters\n",
        "data1 = np.array(['Spider-Man','Loki','Hulk','Black Widow','Thor','Nick Fury','Iron Man'])\n",
        "\n",
        "# Create an array with the number of MCU movies each character appears in\n",
        "data2 = np.array([6,6,8,8,8,10,11])\n",
        "\n",
        "# Create an array with the year each character first appeared in a MCU movie\n",
        "data3 = np.array([2016,2011,2003,2010,2011,2008,2008])\n",
        "\n",
        "# Create an array with their planet of origin\n",
        "data4 = np.array(['Earth','Jotunheim','Earth','Earth','Asgard','Earth','Earth'])"
      ],
      "execution_count": null,
      "outputs": []
    },
    {
      "cell_type": "code",
      "metadata": {
        "id": "E5cOa0Pc2Y5e"
      },
      "source": [
        "# Combine the arrays into a DataFrame and assign category names\n",
        "mcu_data = {'Name': data1, 'Movies': data2, 'Year': data3, 'Origin': data4}\n",
        "df = pd.DataFrame(data = mcu_data)\n",
        "df"
      ],
      "execution_count": null,
      "outputs": []
    },
    {
      "cell_type": "markdown",
      "metadata": {
        "id": "gPyfSRxmsbZh"
      },
      "source": [
        "#### Displaying DataFrames"
      ]
    },
    {
      "cell_type": "markdown",
      "metadata": {
        "id": "Qq1WCpe02ehk"
      },
      "source": [
        "Typing *df* uses Pandas' default print function. We can also write *print(df)*, but this will look different."
      ]
    },
    {
      "cell_type": "code",
      "metadata": {
        "id": "puxAXpv_2bWC"
      },
      "source": [
        "print(df)"
      ],
      "execution_count": null,
      "outputs": []
    },
    {
      "cell_type": "markdown",
      "metadata": {
        "id": "rhz9uqpu2iI2"
      },
      "source": [
        "To **preview** our DataFrame without outputting the entire thing, we use the command *head()*. This is very useful when we have a large DataFrame!"
      ]
    },
    {
      "cell_type": "code",
      "metadata": {
        "id": "TVcVFYFD2gXX"
      },
      "source": [
        "# Print the first 5 rows of the DataFrame\n",
        "df.head()"
      ],
      "execution_count": null,
      "outputs": []
    },
    {
      "cell_type": "markdown",
      "metadata": {
        "id": "L19bVWQ_219A"
      },
      "source": [
        "To refer to a specific **column** in the DataFrame, we type the DataFrame's variable name and the column name:"
      ]
    },
    {
      "cell_type": "code",
      "metadata": {
        "id": "zf1tSBHb23nf"
      },
      "source": [
        "df['Name']"
      ],
      "execution_count": null,
      "outputs": []
    },
    {
      "cell_type": "code",
      "metadata": {
        "id": "AN60iUgf2_XJ"
      },
      "source": [
        "# There is a difference between single and double brackets!\n",
        "df[['Origin']]"
      ],
      "execution_count": null,
      "outputs": []
    },
    {
      "cell_type": "markdown",
      "metadata": {
        "id": "pGxETqpu3KUm"
      },
      "source": [
        "We can also reference **multiple columns** at once:"
      ]
    },
    {
      "cell_type": "code",
      "metadata": {
        "id": "_0Jo1v3s3AY2"
      },
      "source": [
        "df[['Name','Movies']]"
      ],
      "execution_count": null,
      "outputs": []
    },
    {
      "cell_type": "markdown",
      "metadata": {
        "id": "-46NgHIF3PJm"
      },
      "source": [
        "If the column name is only one word, we can also do the following:"
      ]
    },
    {
      "cell_type": "code",
      "metadata": {
        "id": "xmZXxN_O3MIk"
      },
      "source": [
        "df.Name"
      ],
      "execution_count": null,
      "outputs": []
    },
    {
      "cell_type": "markdown",
      "metadata": {
        "id": "vA4bB9C03TZw"
      },
      "source": [
        "The above code returns a Series. If we would rather have a NumPy array, we can do:"
      ]
    },
    {
      "cell_type": "code",
      "metadata": {
        "id": "2iMNTMoE3RYO"
      },
      "source": [
        "df.Name.values"
      ],
      "execution_count": null,
      "outputs": []
    },
    {
      "cell_type": "markdown",
      "metadata": {
        "id": "D3ftbtZd37fH"
      },
      "source": [
        "To get all the column names, do *df.columns*. This also allows us to **set or change** the **column names**."
      ]
    },
    {
      "cell_type": "code",
      "metadata": {
        "id": "-LL2ykVJ3719"
      },
      "source": [
        "df.columns"
      ],
      "execution_count": null,
      "outputs": []
    },
    {
      "cell_type": "markdown",
      "metadata": {
        "id": "_5cVE-uo4ETk"
      },
      "source": [
        "And if we want to know the **data type** of each column, do:"
      ]
    },
    {
      "cell_type": "code",
      "metadata": {
        "id": "nC8fchJH4BMB"
      },
      "source": [
        "df.dtypes"
      ],
      "execution_count": null,
      "outputs": []
    },
    {
      "cell_type": "markdown",
      "metadata": {
        "id": "aJEwbTaOsh_S"
      },
      "source": [
        "#### Editing and Manipulating DataFrames"
      ]
    },
    {
      "cell_type": "code",
      "metadata": {
        "id": "-0ai8VSe39PX"
      },
      "source": [
        "# Example changing the column names\n",
        "df.columns = ['First','second','3rd','fourth']\n",
        "df.head()"
      ],
      "execution_count": null,
      "outputs": []
    },
    {
      "cell_type": "code",
      "metadata": {
        "id": "H24P94Pt3_Y5"
      },
      "source": [
        "# Changing the names back to how they were\n",
        "df.columns = ['Name','Movies','Year','Origin']\n",
        "df.head()"
      ],
      "execution_count": null,
      "outputs": []
    },
    {
      "cell_type": "markdown",
      "metadata": {
        "id": "ajvW3OF1rP0d"
      },
      "source": [
        "We can get **statistics** from our DataFrame such as the average, minimum, and maximum:"
      ]
    },
    {
      "cell_type": "code",
      "metadata": {
        "id": "M3-XMg6C4F61"
      },
      "source": [
        "print('Average of numeric columns:\\n', df.mean(), '\\n')\n",
        "print('Largest number of movies:', df['Movies'].max(), '\\n')\n",
        "print('Earliest year:', df['Year'].min(), '\\n')"
      ],
      "execution_count": null,
      "outputs": []
    },
    {
      "cell_type": "markdown",
      "metadata": {
        "id": "yj24F8GN4goR"
      },
      "source": [
        "We can also **add data** to our DataFrame after it has already been created:"
      ]
    },
    {
      "cell_type": "code",
      "metadata": {
        "id": "rZvmXkOg4Vxm"
      },
      "source": [
        "# Create a new variable to hold the information we want to add\n",
        "new_mcu = {'Name': 'Captain America', 'Movies': 11, 'Year': 2011, 'Origin': 'Earth'}\n",
        "\n",
        "# Add the information to our DataFrame\n",
        "df = df.append(new_mcu, ignore_index = True)\n",
        "\n",
        "# Print the new DataFrame\n",
        "df"
      ],
      "execution_count": null,
      "outputs": []
    },
    {
      "cell_type": "markdown",
      "metadata": {
        "id": "J4wcV7gL4kNh"
      },
      "source": [
        "And we can **delete** rows or columns of data:"
      ]
    },
    {
      "cell_type": "code",
      "metadata": {
        "id": "N0CTpi9D4ibk"
      },
      "source": [
        "# Delete a row\n",
        "df.drop(4)"
      ],
      "execution_count": null,
      "outputs": []
    },
    {
      "cell_type": "code",
      "metadata": {
        "id": "qxLaztFi4ly2"
      },
      "source": [
        "# Delete a column\n",
        "df.drop('Origin', axis = 1)"
      ],
      "execution_count": null,
      "outputs": []
    },
    {
      "cell_type": "markdown",
      "metadata": {
        "id": "qkctSed-5mc9"
      },
      "source": [
        "We can also **fill in missing data**! For example:"
      ]
    },
    {
      "cell_type": "code",
      "metadata": {
        "id": "SovfONte5i4T"
      },
      "source": [
        "# Adding incomplete data to the DataFrame\n",
        "new_mcu = {'Name': 'Happy Hogan', 'Year': 2008, 'Origin': 'Earth'}\n",
        "\n",
        "# Add the information to our DataFrame\n",
        "df = df.append(new_mcu, ignore_index = True)\n",
        "\n",
        "# Print the new DataFrame\n",
        "df"
      ],
      "execution_count": null,
      "outputs": []
    },
    {
      "cell_type": "code",
      "metadata": {
        "id": "GJm31g7l5oT9"
      },
      "source": [
        "# Let's use fillna() to replace NaN values with the average (mean) of the other values in the column\n",
        "movies_mean = df['Movies'].mean()\n",
        "\n",
        "df.fillna(value = movies_mean)"
      ],
      "execution_count": null,
      "outputs": []
    },
    {
      "cell_type": "markdown",
      "metadata": {
        "id": "l2robZ_V5u9r"
      },
      "source": [
        "Or, we can **delete rows** with **incomplete data**:"
      ]
    },
    {
      "cell_type": "code",
      "metadata": {
        "id": "PUYvNh8j5r0O"
      },
      "source": [
        "df = df.dropna()\n",
        "\n",
        "df"
      ],
      "execution_count": null,
      "outputs": []
    },
    {
      "cell_type": "markdown",
      "metadata": {
        "id": "1He_tUdI5y48"
      },
      "source": [
        "What if we want to get rid of **duplicate data**? Let's try an example!"
      ]
    },
    {
      "cell_type": "code",
      "metadata": {
        "id": "AwnymwGP5uAL"
      },
      "source": [
        "# Let's add a Loki duplicate:\n",
        "new_mcu = {'Name': 'Loki', 'Movies': 6, 'Year': 2011, 'Origin': 'Jotunheim'}\n",
        "\n",
        "# Add the information to our DataFrame\n",
        "df = df.append(new_mcu, ignore_index = True)\n",
        "\n",
        "df"
      ],
      "execution_count": null,
      "outputs": []
    },
    {
      "cell_type": "code",
      "metadata": {
        "id": "epU417Rd50nb"
      },
      "source": [
        "# Right now, we can check how many unique names we have using nunique():\n",
        "df['Name'].nunique()"
      ],
      "execution_count": null,
      "outputs": []
    },
    {
      "cell_type": "code",
      "metadata": {
        "id": "14fxrX_p53ID"
      },
      "source": [
        "# Now, let's drop the duplicate data (prune the variant?!)\n",
        "df = df.drop_duplicates()\n",
        "\n",
        "df"
      ],
      "execution_count": null,
      "outputs": []
    },
    {
      "cell_type": "markdown",
      "metadata": {
        "id": "HOUbfG4T57W4"
      },
      "source": [
        "Dropping duplicates is a useful tool when, for example, you accidentally append a new row to your DataFrame twice. This way, you do not need to recreate the DataFrame or specify what row you want to drop (using *df.drop()*)."
      ]
    },
    {
      "cell_type": "markdown",
      "metadata": {
        "id": "UWtgF4-BtZzN"
      },
      "source": [
        "#### Filtering Data"
      ]
    },
    {
      "cell_type": "markdown",
      "metadata": {
        "id": "bF7NVywP6mPP"
      },
      "source": [
        "We can **filter** our DataFrame by specific values or attributes. For example, let's filter out all the characters from Earth:"
      ]
    },
    {
      "cell_type": "code",
      "metadata": {
        "id": "-nQ11fRf6qx1"
      },
      "source": [
        "df.loc[df['Origin'] == 'Earth']"
      ],
      "execution_count": null,
      "outputs": []
    },
    {
      "cell_type": "markdown",
      "metadata": {
        "id": "9kO4wSsk6sxD"
      },
      "source": [
        "Or all character information with first movies after 2009:"
      ]
    },
    {
      "cell_type": "code",
      "metadata": {
        "id": "yK5VFk856qqz"
      },
      "source": [
        "# Get all first movies more recent than 2009\n",
        "df.loc[df['Year'] > 2009]"
      ],
      "execution_count": null,
      "outputs": []
    },
    {
      "cell_type": "markdown",
      "metadata": {
        "id": "LiTM8vEy6weX"
      },
      "source": [
        "We can also do this without the loc function:"
      ]
    },
    {
      "cell_type": "code",
      "metadata": {
        "id": "nuoAUdLT6qh3"
      },
      "source": [
        "df[df['Year'] > 2009]"
      ],
      "execution_count": null,
      "outputs": []
    },
    {
      "cell_type": "markdown",
      "metadata": {
        "id": "3ER8IVyX610F"
      },
      "source": [
        "There is also a function called *iloc* that does the same thing as *loc*, but using indices! We can use this to make the last exercise a bit easier:"
      ]
    },
    {
      "cell_type": "code",
      "metadata": {
        "id": "WvCorfpw6VZw"
      },
      "source": [
        "df.append(df.iloc[[0]])"
      ],
      "execution_count": null,
      "outputs": []
    },
    {
      "cell_type": "markdown",
      "metadata": {
        "id": "CYOYuPit7EC8"
      },
      "source": [
        "To get the **number** of characters whose first movie was after 2009 rather than the list of them (shown in the last cell), get the *shape* of the output:"
      ]
    },
    {
      "cell_type": "code",
      "metadata": {
        "id": "S07_-JPk6qVi"
      },
      "source": [
        "df[df['Year'] > 2009].shape[0]"
      ],
      "execution_count": null,
      "outputs": []
    },
    {
      "cell_type": "markdown",
      "metadata": {
        "id": "A0QYMiDG7HxM"
      },
      "source": [
        "And we can have **multiple conditions**! Let's find entries for characters that have first movies before 2010 and no more than 8 movie appearances:"
      ]
    },
    {
      "cell_type": "code",
      "metadata": {
        "id": "ygWdZ1PF7GEz"
      },
      "source": [
        "df[( df.Year < 2010 ) & (df.Movies <= 8 )]"
      ],
      "execution_count": null,
      "outputs": []
    },
    {
      "cell_type": "markdown",
      "metadata": {
        "id": "7inx-uhbtel1"
      },
      "source": [
        "#### Sorting Values and Indices"
      ]
    },
    {
      "cell_type": "markdown",
      "metadata": {
        "id": "6ReLnmgB7Lq4"
      },
      "source": [
        "Maybe we want to **sort** the values somehow. Let's try sorting by year:"
      ]
    },
    {
      "cell_type": "code",
      "metadata": {
        "id": "-GI-M1un7J_a"
      },
      "source": [
        "df = df.sort_values(by = ['Year'])\n",
        "\n",
        "df"
      ],
      "execution_count": null,
      "outputs": []
    },
    {
      "cell_type": "markdown",
      "metadata": {
        "id": "aMv0Zh0p7PMD"
      },
      "source": [
        "Notice in the DataFrame above that the indices are now **out of order**. To fix this, we can **reset** the **index values**:"
      ]
    },
    {
      "cell_type": "code",
      "metadata": {
        "id": "iBg7oYnE7NRE"
      },
      "source": [
        "df = df.reset_index(drop=True)\n",
        "\n",
        "df"
      ],
      "execution_count": null,
      "outputs": []
    },
    {
      "cell_type": "markdown",
      "metadata": {
        "id": "1AApObV1ti1a"
      },
      "source": [
        "#### Combining/Adding Information to DataFrames"
      ]
    },
    {
      "cell_type": "markdown",
      "metadata": {
        "id": "58LQ5pAJ7pY5"
      },
      "source": [
        "We can also **combine** DataFrames in a couple different ways. Below, let's try:\n",
        "\n",
        "1.   **Concatenating** two DataFrames\n",
        "2.   **Merging** two DataFrames"
      ]
    },
    {
      "cell_type": "code",
      "metadata": {
        "id": "6-ujQpej7ppi"
      },
      "source": [
        "# To concatenate DataFrames, we need to have at least two DataFrames. Let's make a second MCU DataFrame!\n",
        "\n",
        "data1 = np.array(['Falcon','Winter Soldier','Pepper Potts'])\n",
        "data2 = np.array([6,8,7])\n",
        "data3 = np.array([2014,2011,2008])\n",
        "data4 = np.array(['Earth','Earth','Earth'])\n",
        "\n",
        "mcu_data = {'Name': data1, 'Movies': data2, 'Year': data3, 'Origin': data4}\n",
        "df2 = pd.DataFrame(data = mcu_data)\n",
        "df2"
      ],
      "execution_count": null,
      "outputs": []
    },
    {
      "cell_type": "code",
      "metadata": {
        "id": "EAw261dR7rF2"
      },
      "source": [
        "# Now, we use concat() to combine the two DataFrames (df and df2)\n",
        "df = pd.concat([df, df2]).reset_index()\n",
        "df"
      ],
      "execution_count": null,
      "outputs": []
    },
    {
      "cell_type": "code",
      "metadata": {
        "id": "_LkZDIra7s92"
      },
      "source": [
        "# What if we have new information to add to our DataFrame for existing characters? Let's make some sample information!\n",
        "\n",
        "# Create an array with the names of characters\n",
        "data1 = np.array(['Spider-Man','Loki','Hulk','Black Widow','Thor','Nick Fury','Iron Man','Falcon','Winter Soldier','Pepper Potts'])\n",
        "\n",
        "# Create an array with whether the character has super strength\n",
        "data2 = np.array([True,True,True,False,True,False,False,False,True,False])\n",
        "\n",
        "mcu_data = {'Name': data1, 'Super Strength': data2}\n",
        "df3 = pd.DataFrame(data = mcu_data)\n",
        "df3"
      ],
      "execution_count": null,
      "outputs": []
    },
    {
      "cell_type": "code",
      "metadata": {
        "id": "mx7OahFP7vCn"
      },
      "source": [
        "# Use merge() to add the above data to the correct rows\n",
        "df = pd.merge(df,df3,how = 'inner', on = 'Name')\n",
        "df = df.drop(['index'],axis=1)\n",
        "df"
      ],
      "execution_count": null,
      "outputs": []
    },
    {
      "cell_type": "markdown",
      "metadata": {
        "id": "f5TDiCxq70IL"
      },
      "source": [
        "We can also **add a column** to the DataFrame by giving it a **name**!"
      ]
    },
    {
      "cell_type": "code",
      "metadata": {
        "id": "svbXEhLi7w4Z"
      },
      "source": [
        "df['Cool Character'] = True\n",
        "\n",
        "df"
      ],
      "execution_count": null,
      "outputs": []
    },
    {
      "cell_type": "markdown",
      "metadata": {
        "id": "WEIAN6DTtqlM"
      },
      "source": [
        "#### Math with DataFrame Data"
      ]
    },
    {
      "cell_type": "markdown",
      "metadata": {
        "id": "uHPiiibR907h"
      },
      "source": [
        "We can also do **math** with data stored in columns! Let's find the number of years since each character's first movie:"
      ]
    },
    {
      "cell_type": "code",
      "metadata": {
        "id": "eY2ARZ8N911E"
      },
      "source": [
        "# The number of years since each character's first movie will be the current year minus the movie year\n",
        "df['Years Since First Movie'] = 2021 - df['Year']\n",
        "df"
      ],
      "execution_count": null,
      "outputs": []
    },
    {
      "cell_type": "code",
      "metadata": {
        "id": "ZgU6CDAf93Ko"
      },
      "source": [
        "# We can also do math between two or more columns. Let's try finding the average number of movies per year for each character since their first movie until now:\n",
        "df['Average Per Year'] = df['Movies'] / df['Years Since First Movie']\n",
        "df"
      ],
      "execution_count": null,
      "outputs": []
    },
    {
      "cell_type": "markdown",
      "metadata": {
        "id": "v8-K9-5yttiO"
      },
      "source": [
        "#### Iterating Over DataFrames"
      ]
    },
    {
      "cell_type": "markdown",
      "metadata": {
        "id": "8Furdxok98SP"
      },
      "source": [
        "Lastly, let's go over how to **iterate** (or loop) through the rows in your DataFrame using iterrows():"
      ]
    },
    {
      "cell_type": "code",
      "metadata": {
        "id": "bMrmpjC594tm"
      },
      "source": [
        "for index, row in df.iterrows():\n",
        "  print (row['Name'], '-->', row['Origin'])"
      ],
      "execution_count": null,
      "outputs": []
    },
    {
      "cell_type": "markdown",
      "metadata": {
        "id": "T4BY5ueLqq43"
      },
      "source": [
        "#### Plotting with DataFrames"
      ]
    },
    {
      "cell_type": "markdown",
      "metadata": {
        "id": "7hRMKoA9rv5R"
      },
      "source": [
        "To **plot** the values in our DataFrame:"
      ]
    },
    {
      "cell_type": "code",
      "metadata": {
        "id": "9rNrUbIG-k1H"
      },
      "source": [
        "df.plot(kind = 'scatter', x = 'Year', y = 'Movies', title = 'First Appearance vs. Total Number of Appearances', color = 'b')"
      ],
      "execution_count": null,
      "outputs": []
    },
    {
      "cell_type": "markdown",
      "metadata": {
        "id": "yvC07EW6-qgi"
      },
      "source": [
        "If we want to **color-code** the plot by planet of origin, we can split our DataFrame into **groups**. However, this will mean plotting with **Matplotlib**'s PyPlot instead of Pandas, so we must import this package:"
      ]
    },
    {
      "cell_type": "code",
      "metadata": {
        "id": "IFFd50Gf-mHW"
      },
      "source": [
        "import matplotlib.pyplot as plt\n",
        "\n",
        "# Pandas combines parts of Matplotlib and NumPy, so using Matplotlib directly gives us some more options"
      ],
      "execution_count": null,
      "outputs": []
    },
    {
      "cell_type": "code",
      "metadata": {
        "id": "LkZLM60X-sHp"
      },
      "source": [
        "# Group the DataFrame by planet of origin\n",
        "groups = df.groupby(\"Origin\")\n",
        "\n",
        "# Plot each group on the same figure\n",
        "for name, group in groups:\n",
        "      plt.plot(group['Year'], group['Movies'], marker=\"o\", linestyle=\"\", label = name, alpha = 0.5)\n",
        "\n",
        "# Show the legend and axis titles\n",
        "plt.legend()\n",
        "plt.ylabel('Movies')\n",
        "plt.xlabel('Year')"
      ],
      "execution_count": null,
      "outputs": []
    },
    {
      "cell_type": "markdown",
      "metadata": {
        "id": "RsB07xaUqy--"
      },
      "source": [
        "#### Saving and Loading DataFrames"
      ]
    },
    {
      "cell_type": "markdown",
      "metadata": {
        "id": "mYxGbcCQsIJy"
      },
      "source": [
        "We can also use Pandas to **save our dataframe** to a CSV file, and **load it** back in from that later!"
      ]
    },
    {
      "cell_type": "code",
      "metadata": {
        "id": "kpVvoT3m_cy9"
      },
      "source": [
        "# Write data to a CSV file\n",
        "df.to_csv('mcu_data.csv', index = False)"
      ],
      "execution_count": null,
      "outputs": []
    },
    {
      "cell_type": "code",
      "metadata": {
        "id": "_WYkP2gK_eEd"
      },
      "source": [
        "# Check what's in current directory\n",
        "! ls"
      ],
      "execution_count": null,
      "outputs": []
    },
    {
      "cell_type": "code",
      "metadata": {
        "id": "hox1o6J6_fEN"
      },
      "source": [
        "# Read data from a CSV file\n",
        "mcu_df = pd.read_csv('mcu_data.csv')\n",
        "\n",
        "mcu_df"
      ],
      "execution_count": null,
      "outputs": []
    },
    {
      "cell_type": "markdown",
      "metadata": {
        "id": "vj4sZ--psO2A"
      },
      "source": [
        "#### Pandas Closing Remarks"
      ]
    },
    {
      "cell_type": "markdown",
      "metadata": {
        "id": "Q-MloJVusR8A"
      },
      "source": [
        "Lastly, know that there are a ton of Pandas functions you can use! Very few people know all of them or know how to use them off the top of their heads -- most people will need to look it up. I use Pandas frequently, and I am constantly looking up which function to use or certain ways to use it! To do this, I reference the documentation, found [here](https://pandas.pydata.org/pandas-docs/stable/reference/frame.html).\n",
        "\n",
        "The list on the left has every function you might need. If you are not clear on how to use a function to fit your needs, don't be afraid to look it up! Sometimes, you will have to get creative depending on the complexity of what you are working on. Chances are someone else has posted the solution you need!"
      ]
    }
  ]
}