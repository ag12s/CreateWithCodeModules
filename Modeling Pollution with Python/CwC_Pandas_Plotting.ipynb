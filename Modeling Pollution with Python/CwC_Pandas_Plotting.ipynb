{
  "nbformat": 4,
  "nbformat_minor": 0,
  "metadata": {
    "colab": {
      "name": "CwC_Pandas_Plotting",
      "provenance": [],
      "collapsed_sections": []
    },
    "kernelspec": {
      "name": "python3",
      "display_name": "Python 3"
    },
    "language_info": {
      "name": "python"
    }
  },
  "cells": [
    {
      "cell_type": "markdown",
      "metadata": {
        "id": "qsQgBUVBwmiX"
      },
      "source": [
        "# Working with Pandas and Plotting"
      ]
    },
    {
      "cell_type": "markdown",
      "metadata": {
        "id": "asxVhBRmwrgI"
      },
      "source": [
        "To get started, let's import the Pandas module:"
      ]
    },
    {
      "cell_type": "code",
      "metadata": {
        "id": "w2z9Zb0Iwh_Z"
      },
      "source": [
        "import pandas as pd"
      ],
      "execution_count": 1,
      "outputs": []
    },
    {
      "cell_type": "markdown",
      "metadata": {
        "id": "NorNEjPYwwMH"
      },
      "source": [
        "We are going to read data from a CSV file stored in GitHub (code repository resource). To read it in with Pandas, we run the cell below."
      ]
    },
    {
      "cell_type": "code",
      "metadata": {
        "id": "S0esmZ4hwvDb"
      },
      "source": [
        "url = 'https://raw.githubusercontent.com/ag12s/CreateWithCodeModules/main/Modeling%20Pollution%20with%20Python/spotify.csv'\n",
        "\n",
        "spotify_info = pd.read_csv(url)"
      ],
      "execution_count": 2,
      "outputs": []
    },
    {
      "cell_type": "markdown",
      "metadata": {
        "id": "pYxqxGKDyMQM"
      },
      "source": [
        "This notebook contains the number of times certain songs were played on given dates."
      ]
    },
    {
      "cell_type": "code",
      "metadata": {
        "colab": {
          "base_uri": "https://localhost:8080/",
          "height": 417
        },
        "id": "r5BXFJX-xD5d",
        "outputId": "5d16deca-73cc-4aae-9ac7-433953c1a208"
      },
      "source": [
        "spotify_info"
      ],
      "execution_count": 3,
      "outputs": [
        {
          "output_type": "execute_result",
          "data": {
            "text/html": [
              "<div>\n",
              "<style scoped>\n",
              "    .dataframe tbody tr th:only-of-type {\n",
              "        vertical-align: middle;\n",
              "    }\n",
              "\n",
              "    .dataframe tbody tr th {\n",
              "        vertical-align: top;\n",
              "    }\n",
              "\n",
              "    .dataframe thead th {\n",
              "        text-align: right;\n",
              "    }\n",
              "</style>\n",
              "<table border=\"1\" class=\"dataframe\">\n",
              "  <thead>\n",
              "    <tr style=\"text-align: right;\">\n",
              "      <th></th>\n",
              "      <th>Date</th>\n",
              "      <th>Shape of You</th>\n",
              "      <th>Despacito</th>\n",
              "      <th>Something Just Like This</th>\n",
              "      <th>HUMBLE.</th>\n",
              "      <th>Unforgettable</th>\n",
              "    </tr>\n",
              "  </thead>\n",
              "  <tbody>\n",
              "    <tr>\n",
              "      <th>0</th>\n",
              "      <td>2017-01-06</td>\n",
              "      <td>12287078</td>\n",
              "      <td>NaN</td>\n",
              "      <td>NaN</td>\n",
              "      <td>NaN</td>\n",
              "      <td>NaN</td>\n",
              "    </tr>\n",
              "    <tr>\n",
              "      <th>1</th>\n",
              "      <td>2017-01-07</td>\n",
              "      <td>13190270</td>\n",
              "      <td>NaN</td>\n",
              "      <td>NaN</td>\n",
              "      <td>NaN</td>\n",
              "      <td>NaN</td>\n",
              "    </tr>\n",
              "    <tr>\n",
              "      <th>2</th>\n",
              "      <td>2017-01-08</td>\n",
              "      <td>13099919</td>\n",
              "      <td>NaN</td>\n",
              "      <td>NaN</td>\n",
              "      <td>NaN</td>\n",
              "      <td>NaN</td>\n",
              "    </tr>\n",
              "    <tr>\n",
              "      <th>3</th>\n",
              "      <td>2017-01-09</td>\n",
              "      <td>14506351</td>\n",
              "      <td>NaN</td>\n",
              "      <td>NaN</td>\n",
              "      <td>NaN</td>\n",
              "      <td>NaN</td>\n",
              "    </tr>\n",
              "    <tr>\n",
              "      <th>4</th>\n",
              "      <td>2017-01-10</td>\n",
              "      <td>14275628</td>\n",
              "      <td>NaN</td>\n",
              "      <td>NaN</td>\n",
              "      <td>NaN</td>\n",
              "      <td>NaN</td>\n",
              "    </tr>\n",
              "    <tr>\n",
              "      <th>...</th>\n",
              "      <td>...</td>\n",
              "      <td>...</td>\n",
              "      <td>...</td>\n",
              "      <td>...</td>\n",
              "      <td>...</td>\n",
              "      <td>...</td>\n",
              "    </tr>\n",
              "    <tr>\n",
              "      <th>361</th>\n",
              "      <td>2018-01-05</td>\n",
              "      <td>4492978</td>\n",
              "      <td>3450315.0</td>\n",
              "      <td>2408365.0</td>\n",
              "      <td>2685857.0</td>\n",
              "      <td>2869783.0</td>\n",
              "    </tr>\n",
              "    <tr>\n",
              "      <th>362</th>\n",
              "      <td>2018-01-06</td>\n",
              "      <td>4416476</td>\n",
              "      <td>3394284.0</td>\n",
              "      <td>2188035.0</td>\n",
              "      <td>2559044.0</td>\n",
              "      <td>2743748.0</td>\n",
              "    </tr>\n",
              "    <tr>\n",
              "      <th>363</th>\n",
              "      <td>2018-01-07</td>\n",
              "      <td>4009104</td>\n",
              "      <td>3020789.0</td>\n",
              "      <td>1908129.0</td>\n",
              "      <td>2350985.0</td>\n",
              "      <td>2441045.0</td>\n",
              "    </tr>\n",
              "    <tr>\n",
              "      <th>364</th>\n",
              "      <td>2018-01-08</td>\n",
              "      <td>4135505</td>\n",
              "      <td>2755266.0</td>\n",
              "      <td>2023251.0</td>\n",
              "      <td>2523265.0</td>\n",
              "      <td>2622693.0</td>\n",
              "    </tr>\n",
              "    <tr>\n",
              "      <th>365</th>\n",
              "      <td>2018-01-09</td>\n",
              "      <td>4168506</td>\n",
              "      <td>2791601.0</td>\n",
              "      <td>2058016.0</td>\n",
              "      <td>2727678.0</td>\n",
              "      <td>2627334.0</td>\n",
              "    </tr>\n",
              "  </tbody>\n",
              "</table>\n",
              "<p>366 rows × 6 columns</p>\n",
              "</div>"
            ],
            "text/plain": [
              "           Date  Shape of You  ...    HUMBLE.  Unforgettable\n",
              "0    2017-01-06      12287078  ...        NaN            NaN\n",
              "1    2017-01-07      13190270  ...        NaN            NaN\n",
              "2    2017-01-08      13099919  ...        NaN            NaN\n",
              "3    2017-01-09      14506351  ...        NaN            NaN\n",
              "4    2017-01-10      14275628  ...        NaN            NaN\n",
              "..          ...           ...  ...        ...            ...\n",
              "361  2018-01-05       4492978  ...  2685857.0      2869783.0\n",
              "362  2018-01-06       4416476  ...  2559044.0      2743748.0\n",
              "363  2018-01-07       4009104  ...  2350985.0      2441045.0\n",
              "364  2018-01-08       4135505  ...  2523265.0      2622693.0\n",
              "365  2018-01-09       4168506  ...  2727678.0      2627334.0\n",
              "\n",
              "[366 rows x 6 columns]"
            ]
          },
          "metadata": {
            "tags": []
          },
          "execution_count": 3
        }
      ]
    },
    {
      "cell_type": "markdown",
      "metadata": {
        "id": "y71np46Jyt_2"
      },
      "source": [
        "You'll notice that not every song was played each day! We can use one of the Pandas methods we learned last week, like `dropna()` to get red of rows that do not have data for each song. Or, we can use something like `fillna()` to replace the missing data with the number 0."
      ]
    },
    {
      "cell_type": "markdown",
      "metadata": {
        "id": "WJ2aVv6GzEDY"
      },
      "source": [
        "Let's see what data type each column has:"
      ]
    },
    {
      "cell_type": "code",
      "metadata": {
        "colab": {
          "base_uri": "https://localhost:8080/"
        },
        "id": "fuT7-ShyxEgs",
        "outputId": "3964c7c4-a2c0-4053-8e52-552219fc3560"
      },
      "source": [
        "spotify_info.dtypes"
      ],
      "execution_count": 7,
      "outputs": [
        {
          "output_type": "execute_result",
          "data": {
            "text/plain": [
              "Date                         object\n",
              "Shape of You                  int64\n",
              "Despacito                   float64\n",
              "Something Just Like This    float64\n",
              "HUMBLE.                     float64\n",
              "Unforgettable               float64\n",
              "dtype: object"
            ]
          },
          "metadata": {
            "tags": []
          },
          "execution_count": 7
        }
      ]
    },
    {
      "cell_type": "markdown",
      "metadata": {
        "id": "NTNRU5h3zGc6"
      },
      "source": [
        "The 'Date' column is stored as an object. Pandas actually has a data type called *DateTime*, and we can convert this column to that type. To do that, we pass the column to the function `pd.to_datetime`:"
      ]
    },
    {
      "cell_type": "code",
      "metadata": {
        "colab": {
          "base_uri": "https://localhost:8080/",
          "height": 203
        },
        "id": "IunrOxVJy1MJ",
        "outputId": "c2b8a4f1-68d7-4de7-f2d1-e8b0ea645283"
      },
      "source": [
        "spotify_info['Date'] = pd.to_datetime(spotify_info['Date'])\n",
        "\n",
        "spotify_info.head()"
      ],
      "execution_count": 8,
      "outputs": [
        {
          "output_type": "execute_result",
          "data": {
            "text/html": [
              "<div>\n",
              "<style scoped>\n",
              "    .dataframe tbody tr th:only-of-type {\n",
              "        vertical-align: middle;\n",
              "    }\n",
              "\n",
              "    .dataframe tbody tr th {\n",
              "        vertical-align: top;\n",
              "    }\n",
              "\n",
              "    .dataframe thead th {\n",
              "        text-align: right;\n",
              "    }\n",
              "</style>\n",
              "<table border=\"1\" class=\"dataframe\">\n",
              "  <thead>\n",
              "    <tr style=\"text-align: right;\">\n",
              "      <th></th>\n",
              "      <th>Date</th>\n",
              "      <th>Shape of You</th>\n",
              "      <th>Despacito</th>\n",
              "      <th>Something Just Like This</th>\n",
              "      <th>HUMBLE.</th>\n",
              "      <th>Unforgettable</th>\n",
              "    </tr>\n",
              "  </thead>\n",
              "  <tbody>\n",
              "    <tr>\n",
              "      <th>0</th>\n",
              "      <td>2017-01-06</td>\n",
              "      <td>12287078</td>\n",
              "      <td>NaN</td>\n",
              "      <td>NaN</td>\n",
              "      <td>NaN</td>\n",
              "      <td>NaN</td>\n",
              "    </tr>\n",
              "    <tr>\n",
              "      <th>1</th>\n",
              "      <td>2017-01-07</td>\n",
              "      <td>13190270</td>\n",
              "      <td>NaN</td>\n",
              "      <td>NaN</td>\n",
              "      <td>NaN</td>\n",
              "      <td>NaN</td>\n",
              "    </tr>\n",
              "    <tr>\n",
              "      <th>2</th>\n",
              "      <td>2017-01-08</td>\n",
              "      <td>13099919</td>\n",
              "      <td>NaN</td>\n",
              "      <td>NaN</td>\n",
              "      <td>NaN</td>\n",
              "      <td>NaN</td>\n",
              "    </tr>\n",
              "    <tr>\n",
              "      <th>3</th>\n",
              "      <td>2017-01-09</td>\n",
              "      <td>14506351</td>\n",
              "      <td>NaN</td>\n",
              "      <td>NaN</td>\n",
              "      <td>NaN</td>\n",
              "      <td>NaN</td>\n",
              "    </tr>\n",
              "    <tr>\n",
              "      <th>4</th>\n",
              "      <td>2017-01-10</td>\n",
              "      <td>14275628</td>\n",
              "      <td>NaN</td>\n",
              "      <td>NaN</td>\n",
              "      <td>NaN</td>\n",
              "      <td>NaN</td>\n",
              "    </tr>\n",
              "  </tbody>\n",
              "</table>\n",
              "</div>"
            ],
            "text/plain": [
              "        Date  Shape of You  ...  HUMBLE.  Unforgettable\n",
              "0 2017-01-06      12287078  ...      NaN            NaN\n",
              "1 2017-01-07      13190270  ...      NaN            NaN\n",
              "2 2017-01-08      13099919  ...      NaN            NaN\n",
              "3 2017-01-09      14506351  ...      NaN            NaN\n",
              "4 2017-01-10      14275628  ...      NaN            NaN\n",
              "\n",
              "[5 rows x 6 columns]"
            ]
          },
          "metadata": {
            "tags": []
          },
          "execution_count": 8
        }
      ]
    },
    {
      "cell_type": "markdown",
      "metadata": {
        "id": "niUTfbopzmH9"
      },
      "source": [
        "Now, if we check our data types, we will see the 'DateTime' type for the first column:"
      ]
    },
    {
      "cell_type": "code",
      "metadata": {
        "colab": {
          "base_uri": "https://localhost:8080/"
        },
        "id": "wkDY9tQsziTm",
        "outputId": "32d3b5f3-9a1f-4e45-bce1-e45e3c2c4b21"
      },
      "source": [
        "spotify_info.dtypes"
      ],
      "execution_count": 9,
      "outputs": [
        {
          "output_type": "execute_result",
          "data": {
            "text/plain": [
              "Date                        datetime64[ns]\n",
              "Shape of You                         int64\n",
              "Despacito                          float64\n",
              "Something Just Like This           float64\n",
              "HUMBLE.                            float64\n",
              "Unforgettable                      float64\n",
              "dtype: object"
            ]
          },
          "metadata": {
            "tags": []
          },
          "execution_count": 9
        }
      ]
    },
    {
      "cell_type": "markdown",
      "metadata": {
        "id": "RDncynh_0JwQ"
      },
      "source": [
        "This was an important thing to do because it allows us to actually use the dates listed; we can **sort** them in any given order, **group** by periods of time (weeks, months, years, etc.), or **slice** the DataFrame according to specific dates."
      ]
    },
    {
      "cell_type": "markdown",
      "metadata": {
        "id": "eGKtA-qz1glR"
      },
      "source": [
        "To get the minimum and maximum values of this data, we can use Panda's `min()` and `max()` functions. We may be particularly interested in the start and end dates of the 'Date' column:"
      ]
    },
    {
      "cell_type": "code",
      "metadata": {
        "colab": {
          "base_uri": "https://localhost:8080/"
        },
        "id": "ys582H_pzkxT",
        "outputId": "aa7d15fb-1ce2-47cf-a17a-1b883518649b"
      },
      "source": [
        "spotify_info.min()"
      ],
      "execution_count": 13,
      "outputs": [
        {
          "output_type": "execute_result",
          "data": {
            "text/plain": [
              "Date                        2017-01-06 00:00:00\n",
              "Shape of You                            3497682\n",
              "Despacito                                275178\n",
              "Something Just Like This                 215591\n",
              "HUMBLE.                             1.63849e+06\n",
              "Unforgettable                            308838\n",
              "dtype: object"
            ]
          },
          "metadata": {
            "tags": []
          },
          "execution_count": 13
        }
      ]
    },
    {
      "cell_type": "code",
      "metadata": {
        "colab": {
          "base_uri": "https://localhost:8080/"
        },
        "id": "zkK0q8tj1KsB",
        "outputId": "a43156bb-3108-4426-9da5-1aeea7e66b6a"
      },
      "source": [
        "spotify_info.max()"
      ],
      "execution_count": 11,
      "outputs": [
        {
          "output_type": "execute_result",
          "data": {
            "text/plain": [
              "Date                        2018-01-09 00:00:00\n",
              "Shape of You                           19764745\n",
              "Despacito                           2.32182e+07\n",
              "Something Just Like This            9.73693e+06\n",
              "HUMBLE.                              1.3145e+07\n",
              "Unforgettable                       7.48316e+06\n",
              "dtype: object"
            ]
          },
          "metadata": {
            "tags": []
          },
          "execution_count": 11
        }
      ]
    },
    {
      "cell_type": "markdown",
      "metadata": {
        "id": "goPbrkup2s6w"
      },
      "source": [
        "### Exercise 1\n",
        "\n",
        "We want to look at data for days when all 5 songs were played. Use `dropna()` to update `spotify_info` to only hold rows without `NaN` entries.\n",
        "\n",
        "Then, use `sort_values()` to make sure the 'Date' column is in chronological order.\n",
        "\n",
        "Lastly, ensure our indices are in ascending numeric order with `reset_index()`."
      ]
    },
    {
      "cell_type": "code",
      "metadata": {
        "id": "bMlGiUvn2x2O"
      },
      "source": [
        "# 1. Use dropna()\n"
      ],
      "execution_count": null,
      "outputs": []
    },
    {
      "cell_type": "code",
      "metadata": {
        "id": "qCk9olWm3j5Z"
      },
      "source": [
        "# 2. Use sort_values()\n"
      ],
      "execution_count": null,
      "outputs": []
    },
    {
      "cell_type": "code",
      "metadata": {
        "id": "oB2p_Y0L3xba"
      },
      "source": [
        "# 3. Use reset_index()\n"
      ],
      "execution_count": null,
      "outputs": []
    },
    {
      "cell_type": "markdown",
      "metadata": {
        "id": "ZyuOATKz3IIb"
      },
      "source": [
        "### Exercise 2\n",
        "\n",
        "Let's visualize our data! Plot the number of times each song was played per day.\n",
        "\n",
        "We want the Date on the x-axis and the number of songs on the y-axis. Make a separate line for each song, but all in the same plot."
      ]
    },
    {
      "cell_type": "code",
      "metadata": {
        "id": "9eb2x5aB4dx6"
      },
      "source": [
        "# Plot the DataFrame contents here!\n"
      ],
      "execution_count": null,
      "outputs": []
    },
    {
      "cell_type": "markdown",
      "metadata": {
        "id": "aOnYTH5B4hMg"
      },
      "source": [
        "### Exercise 3\n",
        "\n",
        "Let's get some experience working with a different axis of the DataFrame. In the last exercise, we could use the default `axis=0` direction. Now, let's look across the rows with `axis=1`!\n",
        "\n",
        "Plot the average number of times a song was played (for all songs, combined) for each day.\n",
        "\n",
        "Keep in mind -- there are several ways you can go about this!"
      ]
    },
    {
      "cell_type": "code",
      "metadata": {
        "id": "_kU8rxAR5FPx"
      },
      "source": [
        "# Plot the average number of song plays per day here!\n"
      ],
      "execution_count": null,
      "outputs": []
    }
  ]
}