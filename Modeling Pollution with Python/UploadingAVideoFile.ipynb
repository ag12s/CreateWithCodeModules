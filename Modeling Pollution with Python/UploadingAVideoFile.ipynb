{
  "nbformat": 4,
  "nbformat_minor": 0,
  "metadata": {
    "colab": {
      "name": "UploadingAVideoFile.ipynb",
      "provenance": [],
      "authorship_tag": "ABX9TyPumxStbBQ+zr/I8SxVIkO1",
      "include_colab_link": true
    },
    "kernelspec": {
      "name": "python3",
      "display_name": "Python 3"
    },
    "language_info": {
      "name": "python"
    }
  },
  "cells": [
    {
      "cell_type": "markdown",
      "metadata": {
        "id": "view-in-github",
        "colab_type": "text"
      },
      "source": [
        "<a href=\"https://colab.research.google.com/github/ag12s/CreateWithCodeModules/blob/main/Modeling%20Pollution%20with%20Python/UploadingAVideoFile.ipynb\" target=\"_parent\"><img src=\"https://colab.research.google.com/assets/colab-badge.svg\" alt=\"Open In Colab\"/></a>"
      ]
    },
    {
      "cell_type": "markdown",
      "metadata": {
        "id": "M5a8VTZAUXdv"
      },
      "source": [
        "# Install the `pyvideoreader` package\n",
        "\n",
        "This package contains `videoreader`. From `videoreader` we will import `VideoReader` for us to read in video data "
      ]
    },
    {
      "cell_type": "code",
      "metadata": {
        "id": "ceQKnmxQ2n4C"
      },
      "source": [
        "#Install the required package for reading in video data\n",
        "!pip install pyvideoreader"
      ],
      "execution_count": 4,
      "outputs": []
    },
    {
      "cell_type": "markdown",
      "metadata": {
        "id": "EW4wrti4VJRl"
      },
      "source": [
        "# Import the other packages we will use\n",
        "\n",
        "\n",
        "*   numpy\n",
        "*   matplotlib.pyplot\n",
        "*   files - for uploading files to your colab workspace\n",
        "*   VideoReader - reads in data from video frames\n",
        "*   plotly.express - We will use this for interactive, inline figures\n",
        "*   cv2 - We will use this to save frame data to image files\n",
        "\n"
      ]
    },
    {
      "cell_type": "code",
      "metadata": {
        "id": "YiJY85Ag-NzD"
      },
      "source": [
        "import numpy as np\n",
        "import matplotlib.pyplot as plt\n",
        "from google.colab import files\n",
        "from videoreader import VideoReader\n",
        "import plotly.express as px\n",
        "import cv2"
      ],
      "execution_count": 6,
      "outputs": []
    },
    {
      "cell_type": "markdown",
      "metadata": {
        "id": "d8r0HTniXOTG"
      },
      "source": [
        "# Upload a video file from your computer to your colab workspace\n",
        "\n",
        "NOTE: if you restart the kernel, the video will still be in your workspace. You can skip this cell once you have already uploaded the video or press `cancel`. If you close this tab, you will have to upload the video again."
      ]
    },
    {
      "cell_type": "code",
      "metadata": {
        "id": "juRXxyZg2n4F"
      },
      "source": [
        "# This command allows you to upload a file from your computer to the cloud where this notebook exists\n",
        "files.upload()"
      ],
      "execution_count": 7,
      "outputs": []
    },
    {
      "cell_type": "markdown",
      "metadata": {
        "id": "o6I7W5Pn2n4F"
      },
      "source": [
        "#Read in video file using pyVideoReader. \n",
        "When we print the `video_file` it will return the\n",
        "*   video_file_name,\n",
        "*   number of frames,\n",
        "*   size of the frames,\n",
        "*   frame rate."
      ]
    },
    {
      "cell_type": "code",
      "metadata": {
        "id": "welbmbMLXEFe"
      },
      "source": [
        "#We use VideoReader to read in frames from our video. \n",
        "#INSERT THE NAME OF THE VIDEO YOU ARE UPLOADING BEFORE UPLOADING FILE...otherwise, it will complain. \n",
        "videoName = '1Bldg_0p1mpers_short.mp4'\n",
        "video_file = VideoReader(videoName)\n",
        "\n",
        "print(video_file)  # prints video_file_name, number of frames, frame rate and frame size"
      ],
      "execution_count": 8,
      "outputs": []
    },
    {
      "cell_type": "markdown",
      "metadata": {
        "id": "3KTl6WUx2n4H"
      },
      "source": [
        "# Loop through frames of video and save frames to image files."
      ]
    },
    {
      "cell_type": "code",
      "metadata": {
        "id": "axR01UP02n4I"
      },
      "source": [
        "file_count = 0\n",
        "start = 1\n",
        "end = 10 #How many frames do you want to work with?\n",
        "\n",
        "frame_count = 0\n",
        "cap2 = cv2.VideoCapture(videoName)\n",
        "# While the video file is open, we iterate through the video, extract the frames, and save them to a JPEG image file. \n",
        "while (cap2.isOpened()):\n",
        "    if frame_count >= start and frame_count < (end+1):\n",
        "        success,image = cap2.read()\n",
        "        if success == False:\n",
        "            break\n",
        "        cv2.imwrite('Frame_'+str(frame_count)+'.jpg', image) # save frame as JPEG file      \n",
        "        print('Read a new frame: ', success)\n",
        "    frame_count += 1\n",
        "    if frame_count == (end+1): #close video file once frames have been retrieved\n",
        "        cap2.release() "
      ],
      "execution_count": 9,
      "outputs": []
    },
    {
      "cell_type": "markdown",
      "metadata": {
        "id": "M5y7QDPpJGIe"
      },
      "source": [
        "# Now we are going to vidualize one frame and decide what section we want to analyze"
      ]
    },
    {
      "cell_type": "code",
      "metadata": {
        "id": "-V2o0eLa2n4I"
      },
      "source": [
        "img_rgb = plt.imread('Frame_1.jpg')\n",
        "fig = px.imshow(img_rgb)\n",
        "fig.show()"
      ],
      "execution_count": 10,
      "outputs": []
    },
    {
      "cell_type": "markdown",
      "metadata": {
        "id": "AnDx10zqakMS"
      },
      "source": [
        "# Try it yourself using a different video. Play with the frames, get a feel for this code. We will be using it all week so ask questions if you have them!"
      ]
    }
  ]
}