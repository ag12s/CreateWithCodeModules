{
  "nbformat": 4,
  "nbformat_minor": 0,
  "metadata": {
    "colab": {
      "name": "ExtraPractice.ipynb",
      "provenance": [],
      "collapsed_sections": [],
      "authorship_tag": "ABX9TyONElZvhNhVDCWXrxkCOlWY",
      "include_colab_link": true
    },
    "kernelspec": {
      "name": "python3",
      "display_name": "Python 3"
    },
    "language_info": {
      "name": "python"
    }
  },
  "cells": [
    {
      "cell_type": "markdown",
      "metadata": {
        "id": "view-in-github",
        "colab_type": "text"
      },
      "source": [
        "<a href=\"https://colab.research.google.com/github/ag12s/CreateWithCodeModules/blob/main/ExtraPractice.ipynb\" target=\"_parent\"><img src=\"https://colab.research.google.com/assets/colab-badge.svg\" alt=\"Open In Colab\"/></a>"
      ]
    },
    {
      "cell_type": "markdown",
      "metadata": {
        "id": "v_yG6RadQoow"
      },
      "source": [
        "# Here is some extra practice for Day 1!"
      ]
    },
    {
      "cell_type": "markdown",
      "metadata": {
        "id": "j4E1GDz2VmeM"
      },
      "source": [
        "# 1. Converting Fahrenheit to Celcius\n",
        "\n",
        "The formula to convert Fahrenheit to Celcius is given by\n",
        "\\begin{equation}\n",
        "  C = \\frac{5}{9}(F - 32)\n",
        "\\end{equation}\n",
        "Write a code snippet to calculate the temperature in Celcius.\n"
      ]
    },
    {
      "cell_type": "code",
      "metadata": {
        "id": "01R4XnAPcyx5"
      },
      "source": [
        "F = 88\n",
        "C = ..."
      ],
      "execution_count": null,
      "outputs": []
    },
    {
      "cell_type": "markdown",
      "metadata": {
        "id": "oPyoQyGpe2S-"
      },
      "source": [
        "What variable type is C?"
      ]
    },
    {
      "cell_type": "code",
      "metadata": {
        "id": "hHv95rb8e6mZ"
      },
      "source": [
        ""
      ],
      "execution_count": null,
      "outputs": []
    },
    {
      "cell_type": "markdown",
      "metadata": {
        "id": "0KvRWZenc2Ov"
      },
      "source": [
        "# 2. String manipulations, indexing\n",
        "\n",
        "DNA can be modeled as a string of characters using the alphabet: A, C, G, and T. One form of DNA mutation occurs when a substring of the DNA is reversed during the replication process. Usually, such a reversal occurs between what are termed inverted pairs. For example, if the pattern TGAA is later followed by the inverted pattern AAGT, it is possible that the slice of DNA delimited by those patterns could be inverted and reattached, since the bonds at each end will be locally the same.\n",
        "\n",
        "An example is shown here\n",
        "\n",
        "![DNA](https://github.com/lukasbystricky/ISC-3313/blob/master/assignments/images/dna_inversion.png?raw=true)\n",
        "\n",
        "Design a program that works as follows. Given an original DNA string as well as the particular pattern that is inverted, locate the leftmost occurrence of that pattern, and the next subsequent occurrence of the inverted pattern. Print the mutated DNA, with the segment between the inverted pair reversed. Test your code on the example above.\n",
        "\n",
        "This problem is not trivial, but can be done using only string manipulation. Please ask if you need any hints. :-)"
      ]
    },
    {
      "cell_type": "code",
      "metadata": {
        "id": "3EZHigBpehr_"
      },
      "source": [
        "dna = \"TGAACATTAAGT\"\n",
        "pattern = \"TGAA\"\n",
        "\n",
        "# invert pattern\n",
        "# HINT: use slicing with negative step size\n",
        "pattern_inv = ...\n",
        "\n",
        "# find end index of first occurence of pattern\n",
        "# HINT: find the index in DNA sequence where pattern starts, then add the length of the pattern\n",
        "index1 = ...\n",
        "\n",
        "# find beginning of first occurence of inverted pattern\n",
        "# HINT: find \n",
        "index2 = ...\n",
        "\n",
        "# concatenate everything together\n",
        "# HINT: mutated DNA will look like:\n",
        "# (dna from 0 up to index1 - 1) + (reverse dna from index1 to index2 - 1) + (dna from index2 to the end)\n",
        "dna_mut = ...\n",
        "\n",
        "# print results\n",
        "print(dna)\n",
        "print(dna_mut)"
      ],
      "execution_count": null,
      "outputs": []
    },
    {
      "cell_type": "markdown",
      "metadata": {
        "id": "CbTwtSDEfO_3"
      },
      "source": [
        "# 3. Explain\n",
        "\n",
        "How is a `list` different than a `string`?"
      ]
    },
    {
      "cell_type": "code",
      "metadata": {
        "id": "bdZ5bD6xfeDn"
      },
      "source": [
        ""
      ],
      "execution_count": null,
      "outputs": []
    },
    {
      "cell_type": "markdown",
      "metadata": {
        "id": "5prz6cIqfqcU"
      },
      "source": [
        "Will this code segment give you a type error? Why or why not?\n",
        "\n",
        "`a = 'I love to program!`\n",
        "\n",
        "`a[0] = U`"
      ]
    },
    {
      "cell_type": "markdown",
      "metadata": {
        "id": "SVfylE5RggWc"
      },
      "source": [
        "Test your prediction in the space below"
      ]
    },
    {
      "cell_type": "code",
      "metadata": {
        "id": "-y-1ez5ZfvX-"
      },
      "source": [
        ""
      ],
      "execution_count": null,
      "outputs": []
    }
  ]
}