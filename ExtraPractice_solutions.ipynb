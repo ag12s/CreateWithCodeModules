{
  "nbformat": 4,
  "nbformat_minor": 0,
  "metadata": {
    "colab": {
      "name": "ExtraPractice.ipynb",
      "provenance": [],
      "collapsed_sections": [],
      "include_colab_link": true
    },
    "kernelspec": {
      "name": "python3",
      "display_name": "Python 3"
    },
    "language_info": {
      "name": "python"
    }
  },
  "cells": [
    {
      "cell_type": "markdown",
      "metadata": {
        "id": "view-in-github",
        "colab_type": "text"
      },
      "source": [
        "<a href=\"https://colab.research.google.com/github/ag12s/CreateWithCodeModules/blob/main/ExtraPractice_solutions.ipynb\" target=\"_parent\"><img src=\"https://colab.research.google.com/assets/colab-badge.svg\" alt=\"Open In Colab\"/></a>"
      ]
    },
    {
      "cell_type": "markdown",
      "metadata": {
        "id": "v_yG6RadQoow"
      },
      "source": [
        "# Here is some extra practice for Day 1!"
      ]
    },
    {
      "cell_type": "markdown",
      "metadata": {
        "id": "j4E1GDz2VmeM"
      },
      "source": [
        "# 1. Converting Fahrenheit to Celsius\n",
        "\n",
        "The formula to convert Fahrenheit to Celsius is given by\n",
        "\\begin{equation}\n",
        "  C = \\frac{5}{9}(F - 32)\n",
        "\\end{equation}\n",
        "Write a code snippet to calculate the temperature in Celsius.\n"
      ]
    },
    {
      "cell_type": "code",
      "metadata": {
        "id": "01R4XnAPcyx5",
        "outputId": "58212348-ba3b-4dbd-b808-0a5f60f1c57b",
        "colab": {
          "base_uri": "https://localhost:8080/"
        }
      },
      "source": [
        "F = 88\n",
        "C = (5/9)*(F - 32)\n",
        "print(C)"
      ],
      "execution_count": 1,
      "outputs": [
        {
          "output_type": "stream",
          "text": [
            "31.111111111111114\n"
          ],
          "name": "stdout"
        }
      ]
    },
    {
      "cell_type": "markdown",
      "metadata": {
        "id": "oPyoQyGpe2S-"
      },
      "source": [
        "What variable type is C?"
      ]
    },
    {
      "cell_type": "code",
      "metadata": {
        "id": "hHv95rb8e6mZ",
        "outputId": "ebfe1423-ef69-4b88-c0a1-e9ed46a988e5",
        "colab": {
          "base_uri": "https://localhost:8080/"
        }
      },
      "source": [
        "type(C)"
      ],
      "execution_count": 2,
      "outputs": [
        {
          "output_type": "execute_result",
          "data": {
            "text/plain": [
              "float"
            ]
          },
          "metadata": {
            "tags": []
          },
          "execution_count": 2
        }
      ]
    },
    {
      "cell_type": "markdown",
      "metadata": {
        "id": "0KvRWZenc2Ov"
      },
      "source": [
        "# 2. String manipulations, indexing\n",
        "\n",
        "DNA can be modeled as a string of characters using the alphabet: A, C, G, and T. One form of DNA mutation occurs when a substring of the DNA is reversed during the replication process. Usually, such a reversal occurs between what are termed inverted pairs. For example, if the pattern TGAA is later followed by the inverted pattern AAGT, it is possible that the slice of DNA delimited by those patterns could be inverted and reattached, since the bonds at each end will be locally the same.\n",
        "\n",
        "An example is shown here\n",
        "\n",
        "![DNA](https://github.com/lukasbystricky/ISC-3313/blob/master/assignments/images/dna_inversion.png?raw=true)\n",
        "\n",
        "Design a program that works as follows. Given an original DNA string as well as the particular pattern that is inverted, locate the leftmost occurrence of that pattern, and the next subsequent occurrence of the inverted pattern. Print the mutated DNA, with the segment between the inverted pair reversed. Test your code on the example above.\n",
        "\n",
        "This problem is not trivial, but can be done using only string manipulation. Please ask if you need any hints. :-)"
      ]
    },
    {
      "cell_type": "code",
      "metadata": {
        "id": "3EZHigBpehr_",
        "outputId": "c672a68d-5591-4fcf-c17d-e24b101f4e32",
        "colab": {
          "base_uri": "https://localhost:8080/"
        }
      },
      "source": [
        "dna = \"TGAACATTAAGT\"\n",
        "pattern = \"TGAA\"\n",
        "\n",
        "# invert pattern\n",
        "# HINT: use slicing with negative step size\n",
        "pattern_inv = pattern[::-1]\n",
        "\n",
        "# find end index of first occurence of pattern\n",
        "# HINT: find the index in DNA sequence where pattern starts, then add the length of the pattern\n",
        "index1 = dna.find(pattern) + len(pattern)\n",
        "\n",
        "# find beginning of first occurence of inverted pattern\n",
        "# HINT: find \n",
        "index2 = dna.find(pattern_inv)\n",
        "\n",
        "# concatenate everything together\n",
        "# HINT: mutated DNA will look like:\n",
        "# (dna from 0 up to index1 - 1) + (reverse dna from index1 to index2 - 1) + (dna from index2 to the end)\n",
        "dna_mut = dna[:index1] + dna[index2-1:index1-1:-1] + dna[index2:]\n",
        "\n",
        "# print results\n",
        "print(dna)\n",
        "print(dna_mut)"
      ],
      "execution_count": 3,
      "outputs": [
        {
          "output_type": "stream",
          "text": [
            "TGAACATTAAGT\n",
            "TGAATTACAAGT\n"
          ],
          "name": "stdout"
        }
      ]
    },
    {
      "cell_type": "markdown",
      "metadata": {
        "id": "CbTwtSDEfO_3"
      },
      "source": [
        "# 3. Explain\n",
        "\n",
        "How is a `list` different than a `string`?"
      ]
    },
    {
      "cell_type": "markdown",
      "metadata": {
        "id": "l2WO9v-Y777F"
      },
      "source": [
        "The main difference is that lists are mutable while strings are immutable, meaning we cannot update a string. Additionally, strings only consist of characters while lists may contain any data type. "
      ]
    },
    {
      "cell_type": "markdown",
      "metadata": {
        "id": "5prz6cIqfqcU"
      },
      "source": [
        "Will this code segment give you a type error? Why or why not?\n",
        "\n",
        "`a = 'I love to program!'`\n",
        "\n",
        "`a[0] = 'U'`"
      ]
    },
    {
      "cell_type": "markdown",
      "metadata": {
        "id": "7Vz5SVED-Mpa"
      },
      "source": [
        "Yes! a is a string and strings are immutable. Therefore, we cannot change the first index."
      ]
    },
    {
      "cell_type": "markdown",
      "metadata": {
        "id": "SVfylE5RggWc"
      },
      "source": [
        "Test your prediction in the space below"
      ]
    },
    {
      "cell_type": "code",
      "metadata": {
        "id": "-y-1ez5ZfvX-",
        "outputId": "70478191-1e01-4242-ba5d-2b61c7f62a6c",
        "colab": {
          "base_uri": "https://localhost:8080/",
          "height": 178
        }
      },
      "source": [
        "a = 'I love to program!'\n",
        "a[0] = 'U'"
      ],
      "execution_count": 4,
      "outputs": [
        {
          "output_type": "error",
          "ename": "TypeError",
          "evalue": "ignored",
          "traceback": [
            "\u001b[0;31m---------------------------------------------------------------------------\u001b[0m",
            "\u001b[0;31mTypeError\u001b[0m                                 Traceback (most recent call last)",
            "\u001b[0;32m<ipython-input-4-c9cb86e13801>\u001b[0m in \u001b[0;36m<module>\u001b[0;34m()\u001b[0m\n\u001b[1;32m      1\u001b[0m \u001b[0ma\u001b[0m \u001b[0;34m=\u001b[0m \u001b[0;34m'I love to program!'\u001b[0m\u001b[0;34m\u001b[0m\u001b[0;34m\u001b[0m\u001b[0m\n\u001b[0;32m----> 2\u001b[0;31m \u001b[0ma\u001b[0m\u001b[0;34m[\u001b[0m\u001b[0;36m0\u001b[0m\u001b[0;34m]\u001b[0m \u001b[0;34m=\u001b[0m \u001b[0;34m'U'\u001b[0m\u001b[0;34m\u001b[0m\u001b[0;34m\u001b[0m\u001b[0m\n\u001b[0m",
            "\u001b[0;31mTypeError\u001b[0m: 'str' object does not support item assignment"
          ]
        }
      ]
    }
  ]
}