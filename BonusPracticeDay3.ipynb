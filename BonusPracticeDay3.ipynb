{
  "nbformat": 4,
  "nbformat_minor": 0,
  "metadata": {
    "colab": {
      "name": "BonusPracticeDay3.ipynb",
      "provenance": [],
      "authorship_tag": "ABX9TyOFYTFTHZs1K003KHShJVnY",
      "include_colab_link": true
    },
    "kernelspec": {
      "name": "python3",
      "display_name": "Python 3"
    },
    "language_info": {
      "name": "python"
    }
  },
  "cells": [
    {
      "cell_type": "markdown",
      "metadata": {
        "id": "view-in-github",
        "colab_type": "text"
      },
      "source": [
        "<a href=\"https://colab.research.google.com/github/ag12s/CreateWithCodeModules/blob/main/BonusPracticeDay3.ipynb\" target=\"_parent\"><img src=\"https://colab.research.google.com/assets/colab-badge.svg\" alt=\"Open In Colab\"/></a>"
      ]
    },
    {
      "cell_type": "markdown",
      "metadata": {
        "id": "RP7dJBG2z5PP"
      },
      "source": [
        "You will need to import numpy in the block below to answer the following questions.\n"
      ]
    },
    {
      "cell_type": "code",
      "metadata": {
        "id": "Gm3Bc7SqzxGW"
      },
      "source": [
        ""
      ],
      "execution_count": null,
      "outputs": []
    },
    {
      "cell_type": "markdown",
      "metadata": {
        "id": "WHVwc0i10BPh"
      },
      "source": [
        "# 1. NumPy Arrays \n",
        "Write a code fragement that computes the average value of a 2D array. Test it on the array:\n",
        "\n",
        "$$\\begin{bmatrix} 0.1 & 0.8 & 0.8\\\\0.2 & 0.4 & 1.1\\\\ 1.3 & 0.9 & 1.1\\end{bmatrix}$$\n",
        "\n",
        "Hint: use the `sum` function or the `mean` function."
      ]
    },
    {
      "cell_type": "code",
      "metadata": {
        "id": "zZrmENM20FV9"
      },
      "source": [
        "# code for 1\n",
        "\n",
        "A = ...\n",
        "\n",
        "avg = ...\n",
        "print(avg)"
      ],
      "execution_count": null,
      "outputs": []
    },
    {
      "cell_type": "markdown",
      "metadata": {
        "id": "fGegGh6P0R6Y"
      },
      "source": [
        "Write a code fragment that computes the average of each column in the above array. "
      ]
    },
    {
      "cell_type": "code",
      "metadata": {
        "id": "hJezXynb0bwE"
      },
      "source": [
        "# code for 1\n",
        "\n",
        "col_avg = ...\n",
        "\n",
        "print(col_avg)\n"
      ],
      "execution_count": null,
      "outputs": []
    },
    {
      "cell_type": "markdown",
      "metadata": {
        "id": "ky7x73dB0gdc"
      },
      "source": [
        "#2. Indexing and slicing NumPy Arrays\n",
        "Create an $n\\times n$ 2D array that contains 1s along the edges and 0s everywhere else. For example the $n=4$ array looks like:\n",
        "\n",
        "$$ \\begin{bmatrix} 1 & 1 & 1 & 1\\\\ 1 & 0 & 0 & 1\\\\1 & 0 & 0 & 1\\\\1 & 1 & 1& 1\\end{bmatrix} $$\n",
        ".\n",
        "\n",
        "Hint: the command np.zeros((n,n)) creates an $n\\times n$ array of all 0s or the command np.ones((n,n)) creates an $n\\times n$ array of all 1s."
      ]
    },
    {
      "cell_type": "code",
      "metadata": {
        "id": "s2GcoAi10wTD"
      },
      "source": [
        "# code for 2\n",
        "\n",
        "n = 10\n",
        "\n",
        "A = np.zeros((n,n))\n",
        "....\n",
        "\n",
        "print(A)"
      ],
      "execution_count": null,
      "outputs": []
    }
  ]
}